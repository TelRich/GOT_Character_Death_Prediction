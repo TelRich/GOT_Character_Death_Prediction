{
 "cells": [
  {
   "cell_type": "markdown",
   "metadata": {},
   "source": [
    "### Importing modules"
   ]
  },
  {
   "cell_type": "code",
   "execution_count": 2,
   "metadata": {},
   "outputs": [],
   "source": [
    "import pandas as pd\n",
    "import numpy as np\n",
    "import plotly.express as px\n",
    "import matplotlib.pyplot as plt\n",
    "import seaborn as sb\n",
    "\n",
    "from sklearn.linear_model import LinearRegression, LogisticRegression\n",
    "from sklearn.neighbors import KNeighborsRegressor\n",
    "\n",
    "from sklearn.metrics import mean_absolute_error, mean_squared_error, r2_score\n",
    "\n",
    "pd.set_option('display.max_columns', 50)"
   ]
  },
  {
   "cell_type": "markdown",
   "metadata": {},
   "source": [
    "### Loading Data"
   ]
  },
  {
   "cell_type": "code",
   "execution_count": 3,
   "metadata": {},
   "outputs": [],
   "source": [
    "battles = pd.read_csv('battles.csv')\n",
    "char_deaths = pd.read_csv('character-deaths.csv')\n",
    "char_pred = pd.read_csv('character-predictions.csv')"
   ]
  },
  {
   "attachments": {},
   "cell_type": "markdown",
   "metadata": {},
   "source": [
    "## Data Exploration and Wrangling"
   ]
  },
  {
   "cell_type": "markdown",
   "metadata": {},
   "source": [
    "### Battles Exploration"
   ]
  },
  {
   "cell_type": "code",
   "execution_count": 4,
   "metadata": {},
   "outputs": [
    {
     "data": {
      "text/html": [
       "<div>\n",
       "<style scoped>\n",
       "    .dataframe tbody tr th:only-of-type {\n",
       "        vertical-align: middle;\n",
       "    }\n",
       "\n",
       "    .dataframe tbody tr th {\n",
       "        vertical-align: top;\n",
       "    }\n",
       "\n",
       "    .dataframe thead th {\n",
       "        text-align: right;\n",
       "    }\n",
       "</style>\n",
       "<table border=\"1\" class=\"dataframe\">\n",
       "  <thead>\n",
       "    <tr style=\"text-align: right;\">\n",
       "      <th></th>\n",
       "      <th>name</th>\n",
       "      <th>year</th>\n",
       "      <th>battle_number</th>\n",
       "      <th>attacker_king</th>\n",
       "      <th>defender_king</th>\n",
       "      <th>attacker_1</th>\n",
       "      <th>attacker_2</th>\n",
       "      <th>attacker_3</th>\n",
       "      <th>attacker_4</th>\n",
       "      <th>defender_1</th>\n",
       "      <th>defender_2</th>\n",
       "      <th>defender_3</th>\n",
       "      <th>defender_4</th>\n",
       "      <th>attacker_outcome</th>\n",
       "      <th>battle_type</th>\n",
       "      <th>major_death</th>\n",
       "      <th>major_capture</th>\n",
       "      <th>attacker_size</th>\n",
       "      <th>defender_size</th>\n",
       "      <th>attacker_commander</th>\n",
       "      <th>defender_commander</th>\n",
       "      <th>summer</th>\n",
       "      <th>location</th>\n",
       "      <th>region</th>\n",
       "      <th>note</th>\n",
       "    </tr>\n",
       "  </thead>\n",
       "  <tbody>\n",
       "    <tr>\n",
       "      <th>0</th>\n",
       "      <td>Battle of the Golden Tooth</td>\n",
       "      <td>298</td>\n",
       "      <td>1</td>\n",
       "      <td>Joffrey/Tommen Baratheon</td>\n",
       "      <td>Robb Stark</td>\n",
       "      <td>Lannister</td>\n",
       "      <td>NaN</td>\n",
       "      <td>NaN</td>\n",
       "      <td>NaN</td>\n",
       "      <td>Tully</td>\n",
       "      <td>NaN</td>\n",
       "      <td>NaN</td>\n",
       "      <td>NaN</td>\n",
       "      <td>win</td>\n",
       "      <td>pitched battle</td>\n",
       "      <td>1.0</td>\n",
       "      <td>0.0</td>\n",
       "      <td>15000.0</td>\n",
       "      <td>4000.0</td>\n",
       "      <td>Jaime Lannister</td>\n",
       "      <td>Clement Piper, Vance</td>\n",
       "      <td>1.0</td>\n",
       "      <td>Golden Tooth</td>\n",
       "      <td>The Westerlands</td>\n",
       "      <td>NaN</td>\n",
       "    </tr>\n",
       "    <tr>\n",
       "      <th>1</th>\n",
       "      <td>Battle at the Mummer's Ford</td>\n",
       "      <td>298</td>\n",
       "      <td>2</td>\n",
       "      <td>Joffrey/Tommen Baratheon</td>\n",
       "      <td>Robb Stark</td>\n",
       "      <td>Lannister</td>\n",
       "      <td>NaN</td>\n",
       "      <td>NaN</td>\n",
       "      <td>NaN</td>\n",
       "      <td>Baratheon</td>\n",
       "      <td>NaN</td>\n",
       "      <td>NaN</td>\n",
       "      <td>NaN</td>\n",
       "      <td>win</td>\n",
       "      <td>ambush</td>\n",
       "      <td>1.0</td>\n",
       "      <td>0.0</td>\n",
       "      <td>NaN</td>\n",
       "      <td>120.0</td>\n",
       "      <td>Gregor Clegane</td>\n",
       "      <td>Beric Dondarrion</td>\n",
       "      <td>1.0</td>\n",
       "      <td>Mummer's Ford</td>\n",
       "      <td>The Riverlands</td>\n",
       "      <td>NaN</td>\n",
       "    </tr>\n",
       "    <tr>\n",
       "      <th>2</th>\n",
       "      <td>Battle of Riverrun</td>\n",
       "      <td>298</td>\n",
       "      <td>3</td>\n",
       "      <td>Joffrey/Tommen Baratheon</td>\n",
       "      <td>Robb Stark</td>\n",
       "      <td>Lannister</td>\n",
       "      <td>NaN</td>\n",
       "      <td>NaN</td>\n",
       "      <td>NaN</td>\n",
       "      <td>Tully</td>\n",
       "      <td>NaN</td>\n",
       "      <td>NaN</td>\n",
       "      <td>NaN</td>\n",
       "      <td>win</td>\n",
       "      <td>pitched battle</td>\n",
       "      <td>0.0</td>\n",
       "      <td>1.0</td>\n",
       "      <td>15000.0</td>\n",
       "      <td>10000.0</td>\n",
       "      <td>Jaime Lannister, Andros Brax</td>\n",
       "      <td>Edmure Tully, Tytos Blackwood</td>\n",
       "      <td>1.0</td>\n",
       "      <td>Riverrun</td>\n",
       "      <td>The Riverlands</td>\n",
       "      <td>NaN</td>\n",
       "    </tr>\n",
       "    <tr>\n",
       "      <th>3</th>\n",
       "      <td>Battle of the Green Fork</td>\n",
       "      <td>298</td>\n",
       "      <td>4</td>\n",
       "      <td>Robb Stark</td>\n",
       "      <td>Joffrey/Tommen Baratheon</td>\n",
       "      <td>Stark</td>\n",
       "      <td>NaN</td>\n",
       "      <td>NaN</td>\n",
       "      <td>NaN</td>\n",
       "      <td>Lannister</td>\n",
       "      <td>NaN</td>\n",
       "      <td>NaN</td>\n",
       "      <td>NaN</td>\n",
       "      <td>loss</td>\n",
       "      <td>pitched battle</td>\n",
       "      <td>1.0</td>\n",
       "      <td>1.0</td>\n",
       "      <td>18000.0</td>\n",
       "      <td>20000.0</td>\n",
       "      <td>Roose Bolton, Wylis Manderly, Medger Cerwyn, H...</td>\n",
       "      <td>Tywin Lannister, Gregor Clegane, Kevan Lannist...</td>\n",
       "      <td>1.0</td>\n",
       "      <td>Green Fork</td>\n",
       "      <td>The Riverlands</td>\n",
       "      <td>NaN</td>\n",
       "    </tr>\n",
       "    <tr>\n",
       "      <th>4</th>\n",
       "      <td>Battle of the Whispering Wood</td>\n",
       "      <td>298</td>\n",
       "      <td>5</td>\n",
       "      <td>Robb Stark</td>\n",
       "      <td>Joffrey/Tommen Baratheon</td>\n",
       "      <td>Stark</td>\n",
       "      <td>Tully</td>\n",
       "      <td>NaN</td>\n",
       "      <td>NaN</td>\n",
       "      <td>Lannister</td>\n",
       "      <td>NaN</td>\n",
       "      <td>NaN</td>\n",
       "      <td>NaN</td>\n",
       "      <td>win</td>\n",
       "      <td>ambush</td>\n",
       "      <td>1.0</td>\n",
       "      <td>1.0</td>\n",
       "      <td>1875.0</td>\n",
       "      <td>6000.0</td>\n",
       "      <td>Robb Stark, Brynden Tully</td>\n",
       "      <td>Jaime Lannister</td>\n",
       "      <td>1.0</td>\n",
       "      <td>Whispering Wood</td>\n",
       "      <td>The Riverlands</td>\n",
       "      <td>NaN</td>\n",
       "    </tr>\n",
       "  </tbody>\n",
       "</table>\n",
       "</div>"
      ],
      "text/plain": [
       "                            name  year  battle_number  \\\n",
       "0     Battle of the Golden Tooth   298              1   \n",
       "1    Battle at the Mummer's Ford   298              2   \n",
       "2             Battle of Riverrun   298              3   \n",
       "3       Battle of the Green Fork   298              4   \n",
       "4  Battle of the Whispering Wood   298              5   \n",
       "\n",
       "              attacker_king             defender_king attacker_1 attacker_2  \\\n",
       "0  Joffrey/Tommen Baratheon                Robb Stark  Lannister        NaN   \n",
       "1  Joffrey/Tommen Baratheon                Robb Stark  Lannister        NaN   \n",
       "2  Joffrey/Tommen Baratheon                Robb Stark  Lannister        NaN   \n",
       "3                Robb Stark  Joffrey/Tommen Baratheon      Stark        NaN   \n",
       "4                Robb Stark  Joffrey/Tommen Baratheon      Stark      Tully   \n",
       "\n",
       "  attacker_3 attacker_4 defender_1 defender_2  defender_3  defender_4  \\\n",
       "0        NaN        NaN      Tully        NaN         NaN         NaN   \n",
       "1        NaN        NaN  Baratheon        NaN         NaN         NaN   \n",
       "2        NaN        NaN      Tully        NaN         NaN         NaN   \n",
       "3        NaN        NaN  Lannister        NaN         NaN         NaN   \n",
       "4        NaN        NaN  Lannister        NaN         NaN         NaN   \n",
       "\n",
       "  attacker_outcome     battle_type  major_death  major_capture  attacker_size  \\\n",
       "0              win  pitched battle          1.0            0.0        15000.0   \n",
       "1              win          ambush          1.0            0.0            NaN   \n",
       "2              win  pitched battle          0.0            1.0        15000.0   \n",
       "3             loss  pitched battle          1.0            1.0        18000.0   \n",
       "4              win          ambush          1.0            1.0         1875.0   \n",
       "\n",
       "   defender_size                                 attacker_commander  \\\n",
       "0         4000.0                                    Jaime Lannister   \n",
       "1          120.0                                     Gregor Clegane   \n",
       "2        10000.0                       Jaime Lannister, Andros Brax   \n",
       "3        20000.0  Roose Bolton, Wylis Manderly, Medger Cerwyn, H...   \n",
       "4         6000.0                          Robb Stark, Brynden Tully   \n",
       "\n",
       "                                  defender_commander  summer         location  \\\n",
       "0                               Clement Piper, Vance     1.0     Golden Tooth   \n",
       "1                                   Beric Dondarrion     1.0    Mummer's Ford   \n",
       "2                      Edmure Tully, Tytos Blackwood     1.0         Riverrun   \n",
       "3  Tywin Lannister, Gregor Clegane, Kevan Lannist...     1.0       Green Fork   \n",
       "4                                    Jaime Lannister     1.0  Whispering Wood   \n",
       "\n",
       "            region note  \n",
       "0  The Westerlands  NaN  \n",
       "1   The Riverlands  NaN  \n",
       "2   The Riverlands  NaN  \n",
       "3   The Riverlands  NaN  \n",
       "4   The Riverlands  NaN  "
      ]
     },
     "execution_count": 4,
     "metadata": {},
     "output_type": "execute_result"
    }
   ],
   "source": [
    "# Battle Preview\n",
    "battles.head()"
   ]
  },
  {
   "cell_type": "code",
   "execution_count": 5,
   "metadata": {},
   "outputs": [
    {
     "name": "stdout",
     "output_type": "stream",
     "text": [
      "<class 'pandas.core.frame.DataFrame'>\n",
      "RangeIndex: 38 entries, 0 to 37\n",
      "Data columns (total 25 columns):\n",
      " #   Column              Non-Null Count  Dtype  \n",
      "---  ------              --------------  -----  \n",
      " 0   name                38 non-null     object \n",
      " 1   year                38 non-null     int64  \n",
      " 2   battle_number       38 non-null     int64  \n",
      " 3   attacker_king       36 non-null     object \n",
      " 4   defender_king       35 non-null     object \n",
      " 5   attacker_1          38 non-null     object \n",
      " 6   attacker_2          10 non-null     object \n",
      " 7   attacker_3          3 non-null      object \n",
      " 8   attacker_4          2 non-null      object \n",
      " 9   defender_1          37 non-null     object \n",
      " 10  defender_2          2 non-null      object \n",
      " 11  defender_3          0 non-null      float64\n",
      " 12  defender_4          0 non-null      float64\n",
      " 13  attacker_outcome    37 non-null     object \n",
      " 14  battle_type         37 non-null     object \n",
      " 15  major_death         37 non-null     float64\n",
      " 16  major_capture       37 non-null     float64\n",
      " 17  attacker_size       24 non-null     float64\n",
      " 18  defender_size       19 non-null     float64\n",
      " 19  attacker_commander  37 non-null     object \n",
      " 20  defender_commander  28 non-null     object \n",
      " 21  summer              37 non-null     float64\n",
      " 22  location            37 non-null     object \n",
      " 23  region              38 non-null     object \n",
      " 24  note                5 non-null      object \n",
      "dtypes: float64(7), int64(2), object(16)\n",
      "memory usage: 7.5+ KB\n"
     ]
    }
   ],
   "source": [
    "# Battle info\n",
    "battles.info()"
   ]
  },
  {
   "cell_type": "markdown",
   "metadata": {},
   "source": [
    "We have a lot of missing values, let's look at the percentage for each columns."
   ]
  },
  {
   "cell_type": "code",
   "execution_count": 6,
   "metadata": {},
   "outputs": [
    {
     "name": "stdout",
     "output_type": "stream",
     "text": [
      "name: 0.0\n",
      "year: 0.0\n",
      "battle_number: 0.0\n",
      "attacker_king: 5.263157894736842\n",
      "defender_king: 7.894736842105263\n",
      "attacker_1: 0.0\n",
      "attacker_2: 73.68421052631578\n",
      "attacker_3: 92.10526315789474\n",
      "attacker_4: 94.73684210526315\n",
      "defender_1: 2.631578947368421\n",
      "defender_2: 94.73684210526315\n",
      "defender_3: 100.0\n",
      "defender_4: 100.0\n",
      "attacker_outcome: 2.631578947368421\n",
      "battle_type: 2.631578947368421\n",
      "major_death: 2.631578947368421\n",
      "major_capture: 2.631578947368421\n",
      "attacker_size: 36.84210526315789\n",
      "defender_size: 50.0\n",
      "attacker_commander: 2.631578947368421\n",
      "defender_commander: 26.31578947368421\n",
      "summer: 2.631578947368421\n",
      "location: 2.631578947368421\n",
      "region: 0.0\n",
      "note: 86.8421052631579\n"
     ]
    }
   ],
   "source": [
    "for col in battles.columns:\n",
    "    # missing = battles.shape[0] - battles[col].isna().sum()\n",
    "    percent = (battles[col].isna().sum()/battles.shape[0]) * 100\n",
    "    print(f'{col}: {percent}')"
   ]
  },
  {
   "cell_type": "markdown",
   "metadata": {},
   "source": [
    "Let's look at unique attacker king and defender king, then look at the unique commander on both end."
   ]
  },
  {
   "cell_type": "code",
   "execution_count": 7,
   "metadata": {},
   "outputs": [
    {
     "name": "stdout",
     "output_type": "stream",
     "text": [
      "['Joffrey/Tommen Baratheon' 'Robb Stark' 'Balon/Euron Greyjoy'\n",
      " 'Stannis Baratheon' nan]\n",
      "['Robb Stark' 'Joffrey/Tommen Baratheon' 'Balon/Euron Greyjoy'\n",
      " 'Renly Baratheon' nan 'Mance Rayder' 'Stannis Baratheon']\n",
      "['Lannister' 'Stark' 'Greyjoy' 'Bolton' 'Baratheon' 'Darry'\n",
      " 'Brotherhood without Banners' 'Frey' 'Free folk' 'Brave Companions'\n",
      " 'Bracken']\n",
      "['Tully' 'Baratheon' 'Lannister' 'Darry' 'Stark' 'Greyjoy'\n",
      " 'Brave Companions' 'Mallister' \"Night's Watch\" nan 'Tyrell' 'Blackwood'\n",
      " 'Bolton']\n"
     ]
    }
   ],
   "source": [
    "print(battles.attacker_king.unique())\n",
    "print(battles.defender_king.unique())\n",
    "print(battles.attacker_1.unique())\n",
    "print(battles.defender_1.unique())"
   ]
  },
  {
   "attachments": {},
   "cell_type": "markdown",
   "metadata": {},
   "source": [
    "Let's see the count of each attacker king and defender king"
   ]
  },
  {
   "cell_type": "code",
   "execution_count": 8,
   "metadata": {},
   "outputs": [
    {
     "data": {
      "text/plain": [
       "<AxesSubplot:>"
      ]
     },
     "execution_count": 8,
     "metadata": {},
     "output_type": "execute_result"
    },
    {
     "data": {
      "image/png": "[encoded data removed]",
      "text/plain": [
       "<Figure size 640x480 with 1 Axes>"
      ]
     },
     "metadata": {},
     "output_type": "display_data"
    }
   ],
   "source": [
    "att_kg = battles['attacker_king'].value_counts(ascending=True)\n",
    "att_kg.plot(kind='barh')"
   ]
  },
  {
   "cell_type": "code",
   "execution_count": 9,
   "metadata": {},
   "outputs": [
    {
     "data": {
      "text/plain": [
       "<AxesSubplot:>"
      ]
     },
     "execution_count": 9,
     "metadata": {},
     "output_type": "execute_result"
    },
    {
     "data": {
      "image/png": "[encoded data removed]",
      "text/plain": [
       "<Figure size 640x480 with 1 Axes>"
      ]
     },
     "metadata": {},
     "output_type": "display_data"
    }
   ],
   "source": [
    "att_kg = battles['defender_king'].value_counts(ascending=True)\n",
    "att_kg.plot(kind='barh')"
   ]
  },
  {
   "attachments": {},
   "cell_type": "markdown",
   "metadata": {},
   "source": [
    "Let's see how many times did each commander start an attack and how many times did each defend an attack using attacker 1 and defender 1 respectively"
   ]
  },
  {
   "cell_type": "code",
   "execution_count": 10,
   "metadata": {},
   "outputs": [
    {
     "data": {
      "text/plain": [
       "<AxesSubplot:>"
      ]
     },
     "execution_count": 10,
     "metadata": {},
     "output_type": "execute_result"
    },
    {
     "data": {
      "image/png": "[encoded data removed]",
      "text/plain": [
       "<Figure size 640x480 with 1 Axes>"
      ]
     },
     "metadata": {},
     "output_type": "display_data"
    }
   ],
   "source": [
    "battles['attacker_1'].value_counts(ascending=True).plot(kind='barh')"
   ]
  },
  {
   "cell_type": "code",
   "execution_count": 11,
   "metadata": {},
   "outputs": [
    {
     "data": {
      "text/plain": [
       "<AxesSubplot:>"
      ]
     },
     "execution_count": 11,
     "metadata": {},
     "output_type": "execute_result"
    },
    {
     "data": {
      "image/png": "[encoded data removed]",
      "text/plain": [
       "<Figure size 640x480 with 1 Axes>"
      ]
     },
     "metadata": {},
     "output_type": "display_data"
    }
   ],
   "source": [
    "battles['defender_1'].value_counts(ascending=True).plot(kind='barh')"
   ]
  },
  {
   "attachments": {},
   "cell_type": "markdown",
   "metadata": {},
   "source": [
    "Let's see the frequency of battle outcome"
   ]
  },
  {
   "cell_type": "code",
   "execution_count": 12,
   "metadata": {},
   "outputs": [
    {
     "data": {
      "text/plain": [
       "<AxesSubplot:>"
      ]
     },
     "execution_count": 12,
     "metadata": {},
     "output_type": "execute_result"
    },
    {
     "data": {
      "image/png": "[encoded data removed]",
      "text/plain": [
       "<Figure size 640x480 with 1 Axes>"
      ]
     },
     "metadata": {},
     "output_type": "display_data"
    }
   ],
   "source": [
    "battles['attacker_outcome'].value_counts().plot(kind='bar')"
   ]
  },
  {
   "attachments": {},
   "cell_type": "markdown",
   "metadata": {},
   "source": [
    "How many battles was won during summer?"
   ]
  },
  {
   "cell_type": "code",
   "execution_count": 13,
   "metadata": {},
   "outputs": [
    {
     "data": {
      "text/plain": [
       "<AxesSubplot:>"
      ]
     },
     "execution_count": 13,
     "metadata": {},
     "output_type": "execute_result"
    },
    {
     "data": {
      "image/png": "[encoded data removed]",
      "text/plain": [
       "<Figure size 640x480 with 1 Axes>"
      ]
     },
     "metadata": {},
     "output_type": "display_data"
    }
   ],
   "source": [
    "battles['summer'].value_counts().plot(kind='bar')"
   ]
  },
  {
   "attachments": {},
   "cell_type": "markdown",
   "metadata": {},
   "source": [
    "Which type of battle is mostly fought?"
   ]
  },
  {
   "cell_type": "code",
   "execution_count": 14,
   "metadata": {},
   "outputs": [
    {
     "data": {
      "text/plain": [
       "<AxesSubplot:>"
      ]
     },
     "execution_count": 14,
     "metadata": {},
     "output_type": "execute_result"
    },
    {
     "data": {
      "image/png": "[encoded data removed]",
      "text/plain": [
       "<Figure size 640x480 with 1 Axes>"
      ]
     },
     "metadata": {},
     "output_type": "display_data"
    }
   ],
   "source": [
    "battles['battle_type'].value_counts(ascending=True).plot(kind='barh')"
   ]
  },
  {
   "attachments": {},
   "cell_type": "markdown",
   "metadata": {},
   "source": [
    "Let's see the distribution of regions in battles."
   ]
  },
  {
   "cell_type": "code",
   "execution_count": 15,
   "metadata": {},
   "outputs": [
    {
     "data": {
      "text/plain": [
       "<AxesSubplot:>"
      ]
     },
     "execution_count": 15,
     "metadata": {},
     "output_type": "execute_result"
    },
    {
     "data": {
      "image/png": "[encoded data removed]",
      "text/plain": [
       "<Figure size 640x480 with 1 Axes>"
      ]
     },
     "metadata": {},
     "output_type": "display_data"
    }
   ],
   "source": [
    "battles['region'].value_counts(ascending=True).plot(kind='barh')"
   ]
  },
  {
   "attachments": {},
   "cell_type": "markdown",
   "metadata": {},
   "source": [
    "Relationship between attacker size and defender size"
   ]
  },
  {
   "cell_type": "code",
   "execution_count": 16,
   "metadata": {},
   "outputs": [
    {
     "data": {
      "text/plain": [
       "<matplotlib.collections.PathCollection at 0x2339be960e0>"
      ]
     },
     "execution_count": 16,
     "metadata": {},
     "output_type": "execute_result"
    },
    {
     "data": {
      "image/png": "[encoded data removed]",
      "text/plain": [
       "<Figure size 640x480 with 1 Axes>"
      ]
     },
     "metadata": {},
     "output_type": "display_data"
    }
   ],
   "source": [
    "plt.scatter(battles.attacker_size, battles.defender_size)"
   ]
  },
  {
   "attachments": {},
   "cell_type": "markdown",
   "metadata": {},
   "source": [
    "### Characters Death Exploration"
   ]
  },
  {
   "cell_type": "code",
   "execution_count": 17,
   "metadata": {},
   "outputs": [
    {
     "data": {
      "text/html": [
       "<div>\n",
       "<style scoped>\n",
       "    .dataframe tbody tr th:only-of-type {\n",
       "        vertical-align: middle;\n",
       "    }\n",
       "\n",
       "    .dataframe tbody tr th {\n",
       "        vertical-align: top;\n",
       "    }\n",
       "\n",
       "    .dataframe thead th {\n",
       "        text-align: right;\n",
       "    }\n",
       "</style>\n",
       "<table border=\"1\" class=\"dataframe\">\n",
       "  <thead>\n",
       "    <tr style=\"text-align: right;\">\n",
       "      <th></th>\n",
       "      <th>Name</th>\n",
       "      <th>Allegiances</th>\n",
       "      <th>Death Year</th>\n",
       "      <th>Book of Death</th>\n",
       "      <th>Death Chapter</th>\n",
       "      <th>Book Intro Chapter</th>\n",
       "      <th>Gender</th>\n",
       "      <th>Nobility</th>\n",
       "      <th>GoT</th>\n",
       "      <th>CoK</th>\n",
       "      <th>SoS</th>\n",
       "      <th>FfC</th>\n",
       "      <th>DwD</th>\n",
       "    </tr>\n",
       "  </thead>\n",
       "  <tbody>\n",
       "    <tr>\n",
       "      <th>0</th>\n",
       "      <td>Addam Marbrand</td>\n",
       "      <td>Lannister</td>\n",
       "      <td>NaN</td>\n",
       "      <td>NaN</td>\n",
       "      <td>NaN</td>\n",
       "      <td>56.0</td>\n",
       "      <td>1</td>\n",
       "      <td>1</td>\n",
       "      <td>1</td>\n",
       "      <td>1</td>\n",
       "      <td>1</td>\n",
       "      <td>1</td>\n",
       "      <td>0</td>\n",
       "    </tr>\n",
       "    <tr>\n",
       "      <th>1</th>\n",
       "      <td>Aegon Frey (Jinglebell)</td>\n",
       "      <td>None</td>\n",
       "      <td>299.0</td>\n",
       "      <td>3.0</td>\n",
       "      <td>51.0</td>\n",
       "      <td>49.0</td>\n",
       "      <td>1</td>\n",
       "      <td>1</td>\n",
       "      <td>0</td>\n",
       "      <td>0</td>\n",
       "      <td>1</td>\n",
       "      <td>0</td>\n",
       "      <td>0</td>\n",
       "    </tr>\n",
       "    <tr>\n",
       "      <th>2</th>\n",
       "      <td>Aegon Targaryen</td>\n",
       "      <td>House Targaryen</td>\n",
       "      <td>NaN</td>\n",
       "      <td>NaN</td>\n",
       "      <td>NaN</td>\n",
       "      <td>5.0</td>\n",
       "      <td>1</td>\n",
       "      <td>1</td>\n",
       "      <td>0</td>\n",
       "      <td>0</td>\n",
       "      <td>0</td>\n",
       "      <td>0</td>\n",
       "      <td>1</td>\n",
       "    </tr>\n",
       "  </tbody>\n",
       "</table>\n",
       "</div>"
      ],
      "text/plain": [
       "                      Name      Allegiances  Death Year  Book of Death  \\\n",
       "0           Addam Marbrand        Lannister         NaN            NaN   \n",
       "1  Aegon Frey (Jinglebell)             None       299.0            3.0   \n",
       "2          Aegon Targaryen  House Targaryen         NaN            NaN   \n",
       "\n",
       "   Death Chapter  Book Intro Chapter  Gender  Nobility  GoT  CoK  SoS  FfC  \\\n",
       "0            NaN                56.0       1         1    1    1    1    1   \n",
       "1           51.0                49.0       1         1    0    0    1    0   \n",
       "2            NaN                 5.0       1         1    0    0    0    0   \n",
       "\n",
       "   DwD  \n",
       "0    0  \n",
       "1    0  \n",
       "2    1  "
      ]
     },
     "execution_count": 17,
     "metadata": {},
     "output_type": "execute_result"
    }
   ],
   "source": [
    "char_deaths.head(3)"
   ]
  },
  {
   "cell_type": "code",
   "execution_count": 18,
   "metadata": {},
   "outputs": [
    {
     "name": "stdout",
     "output_type": "stream",
     "text": [
      "<class 'pandas.core.frame.DataFrame'>\n",
      "RangeIndex: 917 entries, 0 to 916\n",
      "Data columns (total 13 columns):\n",
      " #   Column              Non-Null Count  Dtype  \n",
      "---  ------              --------------  -----  \n",
      " 0   Name                917 non-null    object \n",
      " 1   Allegiances         917 non-null    object \n",
      " 2   Death Year          305 non-null    float64\n",
      " 3   Book of Death       307 non-null    float64\n",
      " 4   Death Chapter       299 non-null    float64\n",
      " 5   Book Intro Chapter  905 non-null    float64\n",
      " 6   Gender              917 non-null    int64  \n",
      " 7   Nobility            917 non-null    int64  \n",
      " 8   GoT                 917 non-null    int64  \n",
      " 9   CoK                 917 non-null    int64  \n",
      " 10  SoS                 917 non-null    int64  \n",
      " 11  FfC                 917 non-null    int64  \n",
      " 12  DwD                 917 non-null    int64  \n",
      "dtypes: float64(4), int64(7), object(2)\n",
      "memory usage: 93.3+ KB\n"
     ]
    }
   ],
   "source": [
    "char_deaths.info()"
   ]
  },
  {
   "attachments": {},
   "cell_type": "markdown",
   "metadata": {},
   "source": [
    "House of Allegiance frequency"
   ]
  },
  {
   "cell_type": "code",
   "execution_count": 19,
   "metadata": {},
   "outputs": [
    {
     "data": {
      "text/plain": [
       "<AxesSubplot:>"
      ]
     },
     "execution_count": 19,
     "metadata": {},
     "output_type": "execute_result"
    },
    {
     "data": {
      "image/png": "[encoded data removed]",
      "text/plain": [
       "<Figure size 640x480 with 1 Axes>"
      ]
     },
     "metadata": {},
     "output_type": "display_data"
    }
   ],
   "source": [
    "char_deaths.Allegiances.value_counts(ascending=True).plot(kind='barh')"
   ]
  },
  {
   "attachments": {},
   "cell_type": "markdown",
   "metadata": {},
   "source": [
    "Dead count based on gender"
   ]
  },
  {
   "cell_type": "code",
   "execution_count": 20,
   "metadata": {},
   "outputs": [
    {
     "data": {
      "text/plain": [
       "<AxesSubplot:>"
      ]
     },
     "execution_count": 20,
     "metadata": {},
     "output_type": "execute_result"
    },
    {
     "data": {
      "image/png": "[encoded data removed]",
      "text/plain": [
       "<Figure size 640x480 with 1 Axes>"
      ]
     },
     "metadata": {},
     "output_type": "display_data"
    }
   ],
   "source": [
    "char_deaths.Gender.value_counts().plot(kind='bar')"
   ]
  },
  {
   "attachments": {},
   "cell_type": "markdown",
   "metadata": {},
   "source": [
    "### Characters Exploration"
   ]
  },
  {
   "cell_type": "code",
   "execution_count": 21,
   "metadata": {},
   "outputs": [
    {
     "name": "stdout",
     "output_type": "stream",
     "text": [
      "<class 'pandas.core.frame.DataFrame'>\n",
      "RangeIndex: 1946 entries, 0 to 1945\n",
      "Data columns (total 33 columns):\n",
      " #   Column             Non-Null Count  Dtype  \n",
      "---  ------             --------------  -----  \n",
      " 0   S.No               1946 non-null   int64  \n",
      " 1   actual             1946 non-null   int64  \n",
      " 2   pred               1946 non-null   int64  \n",
      " 3   alive              1946 non-null   float64\n",
      " 4   plod               1946 non-null   float64\n",
      " 5   name               1946 non-null   object \n",
      " 6   title              938 non-null    object \n",
      " 7   male               1946 non-null   int64  \n",
      " 8   culture            677 non-null    object \n",
      " 9   dateOfBirth        433 non-null    float64\n",
      " 10  DateoFdeath        444 non-null    float64\n",
      " 11  mother             21 non-null     object \n",
      " 12  father             26 non-null     object \n",
      " 13  heir               23 non-null     object \n",
      " 14  house              1519 non-null   object \n",
      " 15  spouse             276 non-null    object \n",
      " 16  book1              1946 non-null   int64  \n",
      " 17  book2              1946 non-null   int64  \n",
      " 18  book3              1946 non-null   int64  \n",
      " 19  book4              1946 non-null   int64  \n",
      " 20  book5              1946 non-null   int64  \n",
      " 21  isAliveMother      21 non-null     float64\n",
      " 22  isAliveFather      26 non-null     float64\n",
      " 23  isAliveHeir        23 non-null     float64\n",
      " 24  isAliveSpouse      276 non-null    float64\n",
      " 25  isMarried          1946 non-null   int64  \n",
      " 26  isNoble            1946 non-null   int64  \n",
      " 27  age                433 non-null    float64\n",
      " 28  numDeadRelations   1946 non-null   int64  \n",
      " 29  boolDeadRelations  1946 non-null   int64  \n",
      " 30  isPopular          1946 non-null   int64  \n",
      " 31  popularity         1946 non-null   float64\n",
      " 32  isAlive            1946 non-null   int64  \n",
      "dtypes: float64(10), int64(15), object(8)\n",
      "memory usage: 501.8+ KB\n"
     ]
    }
   ],
   "source": [
    "char_pred.info()"
   ]
  },
  {
   "cell_type": "code",
   "execution_count": 22,
   "metadata": {},
   "outputs": [
    {
     "data": {
      "text/html": [
       "<div>\n",
       "<style scoped>\n",
       "    .dataframe tbody tr th:only-of-type {\n",
       "        vertical-align: middle;\n",
       "    }\n",
       "\n",
       "    .dataframe tbody tr th {\n",
       "        vertical-align: top;\n",
       "    }\n",
       "\n",
       "    .dataframe thead th {\n",
       "        text-align: right;\n",
       "    }\n",
       "</style>\n",
       "<table border=\"1\" class=\"dataframe\">\n",
       "  <thead>\n",
       "    <tr style=\"text-align: right;\">\n",
       "      <th></th>\n",
       "      <th>S.No</th>\n",
       "      <th>actual</th>\n",
       "      <th>pred</th>\n",
       "      <th>alive</th>\n",
       "      <th>plod</th>\n",
       "      <th>male</th>\n",
       "      <th>dateOfBirth</th>\n",
       "      <th>DateoFdeath</th>\n",
       "      <th>book1</th>\n",
       "      <th>book2</th>\n",
       "      <th>book3</th>\n",
       "      <th>book4</th>\n",
       "      <th>book5</th>\n",
       "      <th>isAliveMother</th>\n",
       "      <th>isAliveFather</th>\n",
       "      <th>isAliveHeir</th>\n",
       "      <th>isAliveSpouse</th>\n",
       "      <th>isMarried</th>\n",
       "      <th>isNoble</th>\n",
       "      <th>age</th>\n",
       "      <th>numDeadRelations</th>\n",
       "      <th>boolDeadRelations</th>\n",
       "      <th>isPopular</th>\n",
       "      <th>popularity</th>\n",
       "      <th>isAlive</th>\n",
       "    </tr>\n",
       "  </thead>\n",
       "  <tbody>\n",
       "    <tr>\n",
       "      <th>count</th>\n",
       "      <td>1946.000000</td>\n",
       "      <td>1946.000000</td>\n",
       "      <td>1946.000000</td>\n",
       "      <td>1946.000000</td>\n",
       "      <td>1946.000000</td>\n",
       "      <td>1946.000000</td>\n",
       "      <td>433.000000</td>\n",
       "      <td>444.000000</td>\n",
       "      <td>1946.000000</td>\n",
       "      <td>1946.000000</td>\n",
       "      <td>1946.000000</td>\n",
       "      <td>1946.000000</td>\n",
       "      <td>1946.000000</td>\n",
       "      <td>21.000000</td>\n",
       "      <td>26.000000</td>\n",
       "      <td>23.000000</td>\n",
       "      <td>276.000000</td>\n",
       "      <td>1946.000000</td>\n",
       "      <td>1946.000000</td>\n",
       "      <td>433.000000</td>\n",
       "      <td>1946.000000</td>\n",
       "      <td>1946.000000</td>\n",
       "      <td>1946.000000</td>\n",
       "      <td>1946.000000</td>\n",
       "      <td>1946.000000</td>\n",
       "    </tr>\n",
       "    <tr>\n",
       "      <th>mean</th>\n",
       "      <td>973.500000</td>\n",
       "      <td>0.745632</td>\n",
       "      <td>0.687050</td>\n",
       "      <td>0.634470</td>\n",
       "      <td>0.365530</td>\n",
       "      <td>0.619219</td>\n",
       "      <td>1577.364896</td>\n",
       "      <td>2950.193694</td>\n",
       "      <td>0.198356</td>\n",
       "      <td>0.374615</td>\n",
       "      <td>0.480473</td>\n",
       "      <td>0.591984</td>\n",
       "      <td>0.395170</td>\n",
       "      <td>0.714286</td>\n",
       "      <td>0.192308</td>\n",
       "      <td>0.652174</td>\n",
       "      <td>0.778986</td>\n",
       "      <td>0.141829</td>\n",
       "      <td>0.460946</td>\n",
       "      <td>-1293.563510</td>\n",
       "      <td>0.305755</td>\n",
       "      <td>0.074512</td>\n",
       "      <td>0.059096</td>\n",
       "      <td>0.089584</td>\n",
       "      <td>0.745632</td>\n",
       "    </tr>\n",
       "    <tr>\n",
       "      <th>std</th>\n",
       "      <td>561.906131</td>\n",
       "      <td>0.435617</td>\n",
       "      <td>0.463813</td>\n",
       "      <td>0.312637</td>\n",
       "      <td>0.312637</td>\n",
       "      <td>0.485704</td>\n",
       "      <td>19565.414460</td>\n",
       "      <td>28192.245529</td>\n",
       "      <td>0.398864</td>\n",
       "      <td>0.484148</td>\n",
       "      <td>0.499747</td>\n",
       "      <td>0.491593</td>\n",
       "      <td>0.489013</td>\n",
       "      <td>0.462910</td>\n",
       "      <td>0.401918</td>\n",
       "      <td>0.486985</td>\n",
       "      <td>0.415684</td>\n",
       "      <td>0.348965</td>\n",
       "      <td>0.498601</td>\n",
       "      <td>19564.340993</td>\n",
       "      <td>1.383910</td>\n",
       "      <td>0.262669</td>\n",
       "      <td>0.235864</td>\n",
       "      <td>0.160568</td>\n",
       "      <td>0.435617</td>\n",
       "    </tr>\n",
       "    <tr>\n",
       "      <th>min</th>\n",
       "      <td>1.000000</td>\n",
       "      <td>0.000000</td>\n",
       "      <td>0.000000</td>\n",
       "      <td>0.000000</td>\n",
       "      <td>0.000000</td>\n",
       "      <td>0.000000</td>\n",
       "      <td>-28.000000</td>\n",
       "      <td>0.000000</td>\n",
       "      <td>0.000000</td>\n",
       "      <td>0.000000</td>\n",
       "      <td>0.000000</td>\n",
       "      <td>0.000000</td>\n",
       "      <td>0.000000</td>\n",
       "      <td>0.000000</td>\n",
       "      <td>0.000000</td>\n",
       "      <td>0.000000</td>\n",
       "      <td>0.000000</td>\n",
       "      <td>0.000000</td>\n",
       "      <td>0.000000</td>\n",
       "      <td>-298001.000000</td>\n",
       "      <td>0.000000</td>\n",
       "      <td>0.000000</td>\n",
       "      <td>0.000000</td>\n",
       "      <td>0.000000</td>\n",
       "      <td>0.000000</td>\n",
       "    </tr>\n",
       "    <tr>\n",
       "      <th>25%</th>\n",
       "      <td>487.250000</td>\n",
       "      <td>0.000000</td>\n",
       "      <td>0.000000</td>\n",
       "      <td>0.391250</td>\n",
       "      <td>0.101000</td>\n",
       "      <td>0.000000</td>\n",
       "      <td>240.000000</td>\n",
       "      <td>282.000000</td>\n",
       "      <td>0.000000</td>\n",
       "      <td>0.000000</td>\n",
       "      <td>0.000000</td>\n",
       "      <td>0.000000</td>\n",
       "      <td>0.000000</td>\n",
       "      <td>0.000000</td>\n",
       "      <td>0.000000</td>\n",
       "      <td>0.000000</td>\n",
       "      <td>1.000000</td>\n",
       "      <td>0.000000</td>\n",
       "      <td>0.000000</td>\n",
       "      <td>18.000000</td>\n",
       "      <td>0.000000</td>\n",
       "      <td>0.000000</td>\n",
       "      <td>0.000000</td>\n",
       "      <td>0.013378</td>\n",
       "      <td>0.000000</td>\n",
       "    </tr>\n",
       "    <tr>\n",
       "      <th>50%</th>\n",
       "      <td>973.500000</td>\n",
       "      <td>1.000000</td>\n",
       "      <td>1.000000</td>\n",
       "      <td>0.735500</td>\n",
       "      <td>0.264500</td>\n",
       "      <td>1.000000</td>\n",
       "      <td>268.000000</td>\n",
       "      <td>299.000000</td>\n",
       "      <td>0.000000</td>\n",
       "      <td>0.000000</td>\n",
       "      <td>0.000000</td>\n",
       "      <td>1.000000</td>\n",
       "      <td>0.000000</td>\n",
       "      <td>1.000000</td>\n",
       "      <td>0.000000</td>\n",
       "      <td>1.000000</td>\n",
       "      <td>1.000000</td>\n",
       "      <td>0.000000</td>\n",
       "      <td>0.000000</td>\n",
       "      <td>27.000000</td>\n",
       "      <td>0.000000</td>\n",
       "      <td>0.000000</td>\n",
       "      <td>0.000000</td>\n",
       "      <td>0.033445</td>\n",
       "      <td>1.000000</td>\n",
       "    </tr>\n",
       "    <tr>\n",
       "      <th>75%</th>\n",
       "      <td>1459.750000</td>\n",
       "      <td>1.000000</td>\n",
       "      <td>1.000000</td>\n",
       "      <td>0.899000</td>\n",
       "      <td>0.608750</td>\n",
       "      <td>1.000000</td>\n",
       "      <td>285.000000</td>\n",
       "      <td>299.000000</td>\n",
       "      <td>0.000000</td>\n",
       "      <td>1.000000</td>\n",
       "      <td>1.000000</td>\n",
       "      <td>1.000000</td>\n",
       "      <td>1.000000</td>\n",
       "      <td>1.000000</td>\n",
       "      <td>0.000000</td>\n",
       "      <td>1.000000</td>\n",
       "      <td>1.000000</td>\n",
       "      <td>0.000000</td>\n",
       "      <td>1.000000</td>\n",
       "      <td>50.000000</td>\n",
       "      <td>0.000000</td>\n",
       "      <td>0.000000</td>\n",
       "      <td>0.000000</td>\n",
       "      <td>0.086957</td>\n",
       "      <td>1.000000</td>\n",
       "    </tr>\n",
       "    <tr>\n",
       "      <th>max</th>\n",
       "      <td>1946.000000</td>\n",
       "      <td>1.000000</td>\n",
       "      <td>1.000000</td>\n",
       "      <td>1.000000</td>\n",
       "      <td>1.000000</td>\n",
       "      <td>1.000000</td>\n",
       "      <td>298299.000000</td>\n",
       "      <td>298299.000000</td>\n",
       "      <td>1.000000</td>\n",
       "      <td>1.000000</td>\n",
       "      <td>1.000000</td>\n",
       "      <td>1.000000</td>\n",
       "      <td>1.000000</td>\n",
       "      <td>1.000000</td>\n",
       "      <td>1.000000</td>\n",
       "      <td>1.000000</td>\n",
       "      <td>1.000000</td>\n",
       "      <td>1.000000</td>\n",
       "      <td>1.000000</td>\n",
       "      <td>100.000000</td>\n",
       "      <td>15.000000</td>\n",
       "      <td>1.000000</td>\n",
       "      <td>1.000000</td>\n",
       "      <td>1.000000</td>\n",
       "      <td>1.000000</td>\n",
       "    </tr>\n",
       "  </tbody>\n",
       "</table>\n",
       "</div>"
      ],
      "text/plain": [
       "              S.No       actual         pred        alive         plod  \\\n",
       "count  1946.000000  1946.000000  1946.000000  1946.000000  1946.000000   \n",
       "mean    973.500000     0.745632     0.687050     0.634470     0.365530   \n",
       "std     561.906131     0.435617     0.463813     0.312637     0.312637   \n",
       "min       1.000000     0.000000     0.000000     0.000000     0.000000   \n",
       "25%     487.250000     0.000000     0.000000     0.391250     0.101000   \n",
       "50%     973.500000     1.000000     1.000000     0.735500     0.264500   \n",
       "75%    1459.750000     1.000000     1.000000     0.899000     0.608750   \n",
       "max    1946.000000     1.000000     1.000000     1.000000     1.000000   \n",
       "\n",
       "              male    dateOfBirth    DateoFdeath        book1        book2  \\\n",
       "count  1946.000000     433.000000     444.000000  1946.000000  1946.000000   \n",
       "mean      0.619219    1577.364896    2950.193694     0.198356     0.374615   \n",
       "std       0.485704   19565.414460   28192.245529     0.398864     0.484148   \n",
       "min       0.000000     -28.000000       0.000000     0.000000     0.000000   \n",
       "25%       0.000000     240.000000     282.000000     0.000000     0.000000   \n",
       "50%       1.000000     268.000000     299.000000     0.000000     0.000000   \n",
       "75%       1.000000     285.000000     299.000000     0.000000     1.000000   \n",
       "max       1.000000  298299.000000  298299.000000     1.000000     1.000000   \n",
       "\n",
       "             book3        book4        book5  isAliveMother  isAliveFather  \\\n",
       "count  1946.000000  1946.000000  1946.000000      21.000000      26.000000   \n",
       "mean      0.480473     0.591984     0.395170       0.714286       0.192308   \n",
       "std       0.499747     0.491593     0.489013       0.462910       0.401918   \n",
       "min       0.000000     0.000000     0.000000       0.000000       0.000000   \n",
       "25%       0.000000     0.000000     0.000000       0.000000       0.000000   \n",
       "50%       0.000000     1.000000     0.000000       1.000000       0.000000   \n",
       "75%       1.000000     1.000000     1.000000       1.000000       0.000000   \n",
       "max       1.000000     1.000000     1.000000       1.000000       1.000000   \n",
       "\n",
       "       isAliveHeir  isAliveSpouse    isMarried      isNoble            age  \\\n",
       "count    23.000000     276.000000  1946.000000  1946.000000     433.000000   \n",
       "mean      0.652174       0.778986     0.141829     0.460946   -1293.563510   \n",
       "std       0.486985       0.415684     0.348965     0.498601   19564.340993   \n",
       "min       0.000000       0.000000     0.000000     0.000000 -298001.000000   \n",
       "25%       0.000000       1.000000     0.000000     0.000000      18.000000   \n",
       "50%       1.000000       1.000000     0.000000     0.000000      27.000000   \n",
       "75%       1.000000       1.000000     0.000000     1.000000      50.000000   \n",
       "max       1.000000       1.000000     1.000000     1.000000     100.000000   \n",
       "\n",
       "       numDeadRelations  boolDeadRelations    isPopular   popularity  \\\n",
       "count       1946.000000        1946.000000  1946.000000  1946.000000   \n",
       "mean           0.305755           0.074512     0.059096     0.089584   \n",
       "std            1.383910           0.262669     0.235864     0.160568   \n",
       "min            0.000000           0.000000     0.000000     0.000000   \n",
       "25%            0.000000           0.000000     0.000000     0.013378   \n",
       "50%            0.000000           0.000000     0.000000     0.033445   \n",
       "75%            0.000000           0.000000     0.000000     0.086957   \n",
       "max           15.000000           1.000000     1.000000     1.000000   \n",
       "\n",
       "           isAlive  \n",
       "count  1946.000000  \n",
       "mean      0.745632  \n",
       "std       0.435617  \n",
       "min       0.000000  \n",
       "25%       0.000000  \n",
       "50%       1.000000  \n",
       "75%       1.000000  \n",
       "max       1.000000  "
      ]
     },
     "execution_count": 22,
     "metadata": {},
     "output_type": "execute_result"
    }
   ],
   "source": [
    "char_pred.describe()"
   ]
  },
  {
   "attachments": {},
   "cell_type": "markdown",
   "metadata": {},
   "source": [
    "There are negative value for date of birth. Negative mean for age.\n",
    "Let's investigate that."
   ]
  },
  {
   "cell_type": "code",
   "execution_count": 23,
   "metadata": {},
   "outputs": [
    {
     "data": {
      "text/html": [
       "<div>\n",
       "<style scoped>\n",
       "    .dataframe tbody tr th:only-of-type {\n",
       "        vertical-align: middle;\n",
       "    }\n",
       "\n",
       "    .dataframe tbody tr th {\n",
       "        vertical-align: top;\n",
       "    }\n",
       "\n",
       "    .dataframe thead th {\n",
       "        text-align: right;\n",
       "    }\n",
       "</style>\n",
       "<table border=\"1\" class=\"dataframe\">\n",
       "  <thead>\n",
       "    <tr style=\"text-align: right;\">\n",
       "      <th></th>\n",
       "      <th>S.No</th>\n",
       "      <th>actual</th>\n",
       "      <th>pred</th>\n",
       "      <th>alive</th>\n",
       "      <th>plod</th>\n",
       "      <th>name</th>\n",
       "      <th>title</th>\n",
       "      <th>male</th>\n",
       "      <th>culture</th>\n",
       "      <th>dateOfBirth</th>\n",
       "      <th>DateoFdeath</th>\n",
       "      <th>mother</th>\n",
       "      <th>father</th>\n",
       "      <th>heir</th>\n",
       "      <th>house</th>\n",
       "      <th>spouse</th>\n",
       "      <th>book1</th>\n",
       "      <th>book2</th>\n",
       "      <th>book3</th>\n",
       "      <th>book4</th>\n",
       "      <th>book5</th>\n",
       "      <th>isAliveMother</th>\n",
       "      <th>isAliveFather</th>\n",
       "      <th>isAliveHeir</th>\n",
       "      <th>isAliveSpouse</th>\n",
       "      <th>isMarried</th>\n",
       "      <th>isNoble</th>\n",
       "      <th>age</th>\n",
       "      <th>numDeadRelations</th>\n",
       "      <th>boolDeadRelations</th>\n",
       "      <th>isPopular</th>\n",
       "      <th>popularity</th>\n",
       "      <th>isAlive</th>\n",
       "    </tr>\n",
       "  </thead>\n",
       "  <tbody>\n",
       "    <tr>\n",
       "      <th>1684</th>\n",
       "      <td>1685</td>\n",
       "      <td>0</td>\n",
       "      <td>0</td>\n",
       "      <td>0.253</td>\n",
       "      <td>0.747</td>\n",
       "      <td>Doreah</td>\n",
       "      <td>NaN</td>\n",
       "      <td>0</td>\n",
       "      <td>Lysene</td>\n",
       "      <td>278279.0</td>\n",
       "      <td>299.0</td>\n",
       "      <td>NaN</td>\n",
       "      <td>NaN</td>\n",
       "      <td>NaN</td>\n",
       "      <td>House Targaryen</td>\n",
       "      <td>NaN</td>\n",
       "      <td>1</td>\n",
       "      <td>1</td>\n",
       "      <td>0</td>\n",
       "      <td>0</td>\n",
       "      <td>1</td>\n",
       "      <td>NaN</td>\n",
       "      <td>NaN</td>\n",
       "      <td>NaN</td>\n",
       "      <td>NaN</td>\n",
       "      <td>0</td>\n",
       "      <td>0</td>\n",
       "      <td>-277980.0</td>\n",
       "      <td>0</td>\n",
       "      <td>0</td>\n",
       "      <td>0</td>\n",
       "      <td>0.110368</td>\n",
       "      <td>0</td>\n",
       "    </tr>\n",
       "    <tr>\n",
       "      <th>1868</th>\n",
       "      <td>1869</td>\n",
       "      <td>0</td>\n",
       "      <td>0</td>\n",
       "      <td>0.360</td>\n",
       "      <td>0.640</td>\n",
       "      <td>Rhaego</td>\n",
       "      <td>NaN</td>\n",
       "      <td>0</td>\n",
       "      <td>NaN</td>\n",
       "      <td>298299.0</td>\n",
       "      <td>298.0</td>\n",
       "      <td>NaN</td>\n",
       "      <td>NaN</td>\n",
       "      <td>NaN</td>\n",
       "      <td>House Targaryen</td>\n",
       "      <td>NaN</td>\n",
       "      <td>1</td>\n",
       "      <td>1</td>\n",
       "      <td>1</td>\n",
       "      <td>1</td>\n",
       "      <td>0</td>\n",
       "      <td>NaN</td>\n",
       "      <td>NaN</td>\n",
       "      <td>NaN</td>\n",
       "      <td>NaN</td>\n",
       "      <td>0</td>\n",
       "      <td>0</td>\n",
       "      <td>-298001.0</td>\n",
       "      <td>6</td>\n",
       "      <td>1</td>\n",
       "      <td>0</td>\n",
       "      <td>0.167224</td>\n",
       "      <td>0</td>\n",
       "    </tr>\n",
       "  </tbody>\n",
       "</table>\n",
       "</div>"
      ],
      "text/plain": [
       "      S.No  actual  pred  alive   plod    name title  male culture  \\\n",
       "1684  1685       0     0  0.253  0.747  Doreah   NaN     0  Lysene   \n",
       "1868  1869       0     0  0.360  0.640  Rhaego   NaN     0     NaN   \n",
       "\n",
       "      dateOfBirth  DateoFdeath mother father heir            house spouse  \\\n",
       "1684     278279.0        299.0    NaN    NaN  NaN  House Targaryen    NaN   \n",
       "1868     298299.0        298.0    NaN    NaN  NaN  House Targaryen    NaN   \n",
       "\n",
       "      book1  book2  book3  book4  book5  isAliveMother  isAliveFather  \\\n",
       "1684      1      1      0      0      1            NaN            NaN   \n",
       "1868      1      1      1      1      0            NaN            NaN   \n",
       "\n",
       "      isAliveHeir  isAliveSpouse  isMarried  isNoble       age  \\\n",
       "1684          NaN            NaN          0        0 -277980.0   \n",
       "1868          NaN            NaN          0        0 -298001.0   \n",
       "\n",
       "      numDeadRelations  boolDeadRelations  isPopular  popularity  isAlive  \n",
       "1684                 0                  0          0    0.110368        0  \n",
       "1868                 6                  1          0    0.167224        0  "
      ]
     },
     "execution_count": 23,
     "metadata": {},
     "output_type": "execute_result"
    }
   ],
   "source": [
    "char_pred[char_pred['age'] < 0]"
   ]
  },
  {
   "cell_type": "code",
   "execution_count": 24,
   "metadata": {},
   "outputs": [
    {
     "data": {
      "text/plain": [
       "<AxesSubplot:>"
      ]
     },
     "execution_count": 24,
     "metadata": {},
     "output_type": "execute_result"
    },
    {
     "data": {
      "image/png": "[encoded data removed]",
      "text/plain": [
       "<Figure size 640x480 with 1 Axes>"
      ]
     },
     "metadata": {},
     "output_type": "display_data"
    }
   ],
   "source": [
    "char_pred.male.value_counts().plot(kind='bar')"
   ]
  },
  {
   "cell_type": "code",
   "execution_count": 25,
   "metadata": {},
   "outputs": [
    {
     "data": {
      "text/plain": [
       "65"
      ]
     },
     "execution_count": 25,
     "metadata": {},
     "output_type": "execute_result"
    }
   ],
   "source": [
    "len(char_pred.culture.unique())"
   ]
  },
  {
   "cell_type": "code",
   "execution_count": 26,
   "metadata": {},
   "outputs": [
    {
     "data": {
      "text/plain": [
       "<AxesSubplot:>"
      ]
     },
     "execution_count": 26,
     "metadata": {},
     "output_type": "execute_result"
    },
    {
     "data": {
      "image/png": "[encoded data removed]",
      "text/plain": [
       "<Figure size 640x480 with 1 Axes>"
      ]
     },
     "metadata": {},
     "output_type": "display_data"
    }
   ],
   "source": [
    "char_pred.isAlive.value_counts().plot(kind='bar')"
   ]
  },
  {
   "attachments": {},
   "cell_type": "markdown",
   "metadata": {},
   "source": [
    "## Data Wrangling/Cleaning"
   ]
  },
  {
   "attachments": {},
   "cell_type": "markdown",
   "metadata": {},
   "source": [
    "#### Cleaning Allegiance column"
   ]
  },
  {
   "cell_type": "code",
   "execution_count": 27,
   "metadata": {},
   "outputs": [],
   "source": [
    "char_deaths['Allegiances'] = char_deaths['Allegiances'].str.replace('House ', '',)"
   ]
  },
  {
   "cell_type": "code",
   "execution_count": 28,
   "metadata": {},
   "outputs": [
    {
     "data": {
      "text/plain": [
       "<AxesSubplot:>"
      ]
     },
     "execution_count": 28,
     "metadata": {},
     "output_type": "execute_result"
    },
    {
     "data": {
      "image/png": "[encoded data removed]",
      "text/plain": [
       "<Figure size 640x480 with 1 Axes>"
      ]
     },
     "metadata": {},
     "output_type": "display_data"
    }
   ],
   "source": [
    "char_deaths['Allegiances'].value_counts(normalize=True, ascending=True).plot(kind='barh')\n"
   ]
  },
  {
   "attachments": {},
   "cell_type": "markdown",
   "metadata": {},
   "source": [
    "Research was made and according to [Fandom.com](https://gameofthrones.fandom.com/wiki/Doreah) Doreah is 25 years old.\n",
    "\n",
    "According to [Fanthom.com](https://gameofthrones.fandom.com/wiki/Rhaego) Rhaego was never born."
   ]
  },
  {
   "cell_type": "code",
   "execution_count": 29,
   "metadata": {},
   "outputs": [],
   "source": [
    "# Replacing the age\n",
    "char_pred.loc[1684, 'age'] = 25.0\n",
    "char_pred.loc[1868, 'age'] = 0.0"
   ]
  },
  {
   "attachments": {},
   "cell_type": "markdown",
   "metadata": {},
   "source": [
    "## Feature engineering"
   ]
  },
  {
   "attachments": {},
   "cell_type": "markdown",
   "metadata": {},
   "source": [
    "### Variables For Creating Feature "
   ]
  },
  {
   "cell_type": "code",
   "execution_count": 63,
   "metadata": {},
   "outputs": [],
   "source": [
    "# Names of all Attackers\n",
    "all_attackers = set(battles.attacker_1).union(set(battles.attacker_2))\\\n",
    ".union(set(battles.attacker_3)).union(set(battles.attacker_4))"
   ]
  },
  {
   "cell_type": "code",
   "execution_count": 64,
   "metadata": {},
   "outputs": [],
   "source": [
    "# Names of all Defenders\n",
    "all_defenders = set(battles.defender_1).union(set(battles.defender_2))\n",
    "\n",
    "# Unique attackers and defenders combined\n",
    "all_warlead = all_attackers.union(all_defenders)\n",
    "all_warlead = list(all_warlead)\n",
    "all_warlead.remove(np.nan)\n",
    "renam_warlead = []\n",
    "for x in all_warlead:\n",
    "    house = 'House ' + x\n",
    "    renam_warlead.append(house)\n",
    "    \n",
    "# renam_warlead"
   ]
  },
  {
   "cell_type": "code",
   "execution_count": 82,
   "metadata": {},
   "outputs": [
    {
     "data": {
      "text/plain": [
       "['Stark',\n",
       " 'Lannister',\n",
       " 'Baratheon',\n",
       " 'Free folk',\n",
       " 'Tully',\n",
       " 'Brotherhood without Banners',\n",
       " 'Glover',\n",
       " 'Frey',\n",
       " 'Mormont',\n",
       " 'Mallister',\n",
       " 'Bracken',\n",
       " 'Tyrell',\n",
       " \"Night's Watch\",\n",
       " 'Greyjoy',\n",
       " 'Karstark',\n",
       " 'Blackwood',\n",
       " 'Darry',\n",
       " 'Giants',\n",
       " 'Thenns',\n",
       " 'Brave Companions',\n",
       " 'Bolton']"
      ]
     },
     "execution_count": 82,
     "metadata": {},
     "output_type": "execute_result"
    }
   ],
   "source": [
    "all_warlead"
   ]
  },
  {
   "cell_type": "code",
   "execution_count": 79,
   "metadata": {},
   "outputs": [
    {
     "data": {
      "text/html": [
       "<div>\n",
       "<style scoped>\n",
       "    .dataframe tbody tr th:only-of-type {\n",
       "        vertical-align: middle;\n",
       "    }\n",
       "\n",
       "    .dataframe tbody tr th {\n",
       "        vertical-align: top;\n",
       "    }\n",
       "\n",
       "    .dataframe thead th {\n",
       "        text-align: right;\n",
       "    }\n",
       "</style>\n",
       "<table border=\"1\" class=\"dataframe\">\n",
       "  <thead>\n",
       "    <tr style=\"text-align: right;\">\n",
       "      <th></th>\n",
       "      <th>name</th>\n",
       "      <th>year</th>\n",
       "      <th>battle_number</th>\n",
       "      <th>attacker_king</th>\n",
       "      <th>defender_king</th>\n",
       "      <th>attacker_1</th>\n",
       "      <th>attacker_2</th>\n",
       "      <th>attacker_3</th>\n",
       "      <th>attacker_4</th>\n",
       "      <th>defender_1</th>\n",
       "      <th>defender_2</th>\n",
       "      <th>defender_3</th>\n",
       "      <th>defender_4</th>\n",
       "      <th>attacker_outcome</th>\n",
       "      <th>battle_type</th>\n",
       "      <th>major_death</th>\n",
       "      <th>major_capture</th>\n",
       "      <th>attacker_size</th>\n",
       "      <th>defender_size</th>\n",
       "      <th>attacker_commander</th>\n",
       "      <th>defender_commander</th>\n",
       "      <th>summer</th>\n",
       "      <th>location</th>\n",
       "      <th>region</th>\n",
       "      <th>note</th>\n",
       "    </tr>\n",
       "  </thead>\n",
       "  <tbody>\n",
       "    <tr>\n",
       "      <th>0</th>\n",
       "      <td>Battle of the Golden Tooth</td>\n",
       "      <td>298</td>\n",
       "      <td>1</td>\n",
       "      <td>Joffrey/Tommen Baratheon</td>\n",
       "      <td>Robb Stark</td>\n",
       "      <td>Lannister</td>\n",
       "      <td>NaN</td>\n",
       "      <td>NaN</td>\n",
       "      <td>NaN</td>\n",
       "      <td>Tully</td>\n",
       "      <td>NaN</td>\n",
       "      <td>NaN</td>\n",
       "      <td>NaN</td>\n",
       "      <td>win</td>\n",
       "      <td>pitched battle</td>\n",
       "      <td>1.0</td>\n",
       "      <td>0.0</td>\n",
       "      <td>15000.0</td>\n",
       "      <td>4000.0</td>\n",
       "      <td>Jaime Lannister</td>\n",
       "      <td>Clement Piper, Vance</td>\n",
       "      <td>1.0</td>\n",
       "      <td>Golden Tooth</td>\n",
       "      <td>The Westerlands</td>\n",
       "      <td>NaN</td>\n",
       "    </tr>\n",
       "    <tr>\n",
       "      <th>1</th>\n",
       "      <td>Battle at the Mummer's Ford</td>\n",
       "      <td>298</td>\n",
       "      <td>2</td>\n",
       "      <td>Joffrey/Tommen Baratheon</td>\n",
       "      <td>Robb Stark</td>\n",
       "      <td>Lannister</td>\n",
       "      <td>NaN</td>\n",
       "      <td>NaN</td>\n",
       "      <td>NaN</td>\n",
       "      <td>Baratheon</td>\n",
       "      <td>NaN</td>\n",
       "      <td>NaN</td>\n",
       "      <td>NaN</td>\n",
       "      <td>win</td>\n",
       "      <td>ambush</td>\n",
       "      <td>1.0</td>\n",
       "      <td>0.0</td>\n",
       "      <td>NaN</td>\n",
       "      <td>120.0</td>\n",
       "      <td>Gregor Clegane</td>\n",
       "      <td>Beric Dondarrion</td>\n",
       "      <td>1.0</td>\n",
       "      <td>Mummer's Ford</td>\n",
       "      <td>The Riverlands</td>\n",
       "      <td>NaN</td>\n",
       "    </tr>\n",
       "    <tr>\n",
       "      <th>2</th>\n",
       "      <td>Battle of Riverrun</td>\n",
       "      <td>298</td>\n",
       "      <td>3</td>\n",
       "      <td>Joffrey/Tommen Baratheon</td>\n",
       "      <td>Robb Stark</td>\n",
       "      <td>Lannister</td>\n",
       "      <td>NaN</td>\n",
       "      <td>NaN</td>\n",
       "      <td>NaN</td>\n",
       "      <td>Tully</td>\n",
       "      <td>NaN</td>\n",
       "      <td>NaN</td>\n",
       "      <td>NaN</td>\n",
       "      <td>win</td>\n",
       "      <td>pitched battle</td>\n",
       "      <td>0.0</td>\n",
       "      <td>1.0</td>\n",
       "      <td>15000.0</td>\n",
       "      <td>10000.0</td>\n",
       "      <td>Jaime Lannister, Andros Brax</td>\n",
       "      <td>Edmure Tully, Tytos Blackwood</td>\n",
       "      <td>1.0</td>\n",
       "      <td>Riverrun</td>\n",
       "      <td>The Riverlands</td>\n",
       "      <td>NaN</td>\n",
       "    </tr>\n",
       "  </tbody>\n",
       "</table>\n",
       "</div>"
      ],
      "text/plain": [
       "                          name  year  battle_number             attacker_king  \\\n",
       "0   Battle of the Golden Tooth   298              1  Joffrey/Tommen Baratheon   \n",
       "1  Battle at the Mummer's Ford   298              2  Joffrey/Tommen Baratheon   \n",
       "2           Battle of Riverrun   298              3  Joffrey/Tommen Baratheon   \n",
       "\n",
       "  defender_king attacker_1 attacker_2 attacker_3 attacker_4 defender_1  \\\n",
       "0    Robb Stark  Lannister        NaN        NaN        NaN      Tully   \n",
       "1    Robb Stark  Lannister        NaN        NaN        NaN  Baratheon   \n",
       "2    Robb Stark  Lannister        NaN        NaN        NaN      Tully   \n",
       "\n",
       "  defender_2  defender_3  defender_4 attacker_outcome     battle_type  \\\n",
       "0        NaN         NaN         NaN              win  pitched battle   \n",
       "1        NaN         NaN         NaN              win          ambush   \n",
       "2        NaN         NaN         NaN              win  pitched battle   \n",
       "\n",
       "   major_death  major_capture  attacker_size  defender_size  \\\n",
       "0          1.0            0.0        15000.0         4000.0   \n",
       "1          1.0            0.0            NaN          120.0   \n",
       "2          0.0            1.0        15000.0        10000.0   \n",
       "\n",
       "             attacker_commander             defender_commander  summer  \\\n",
       "0               Jaime Lannister           Clement Piper, Vance     1.0   \n",
       "1                Gregor Clegane               Beric Dondarrion     1.0   \n",
       "2  Jaime Lannister, Andros Brax  Edmure Tully, Tytos Blackwood     1.0   \n",
       "\n",
       "        location           region note  \n",
       "0   Golden Tooth  The Westerlands  NaN  \n",
       "1  Mummer's Ford   The Riverlands  NaN  \n",
       "2       Riverrun   The Riverlands  NaN  "
      ]
     },
     "execution_count": 79,
     "metadata": {},
     "output_type": "execute_result"
    }
   ],
   "source": [
    "battles.head(3)"
   ]
  },
  {
   "cell_type": "code",
   "execution_count": 32,
   "metadata": {},
   "outputs": [],
   "source": [
    "# All attacking commanders\n",
    "all = []\n",
    "for i in battles['attacker_commander'].dropna().values:\n",
    "    splitted = i.split(', ')\n",
    "    all +=splitted\n",
    "    \n",
    "all_att_commanders = set(all)\n",
    "\n",
    "# All defending commanders\n",
    "all = []\n",
    "for i in battles['defender_commander'].dropna().values:\n",
    "    splitted = i.split(', ')\n",
    "    all +=splitted\n",
    "    \n",
    "all_def_commanders = set(all)\n",
    "\n",
    "# All commanders \n",
    "all_commanders = all_att_commanders.union(all_def_commanders)"
   ]
  },
  {
   "cell_type": "code",
   "execution_count": 88,
   "metadata": {},
   "outputs": [],
   "source": [
    "# all_commanders"
   ]
  },
  {
   "cell_type": "code",
   "execution_count": 33,
   "metadata": {},
   "outputs": [],
   "source": [
    "# Charcters who died\n",
    "a = char_pred[char_pred['name'].isin(char_deaths['Name'])]"
   ]
  },
  {
   "cell_type": "code",
   "execution_count": 34,
   "metadata": {},
   "outputs": [],
   "source": [
    "# characters who swore allegiance\n",
    "b = char_deaths[char_deaths['Allegiances'] != 'None']\n",
    "c = char_pred[char_pred['name'].isin(b['Name'])]\n",
    "\n"
   ]
  },
  {
   "cell_type": "code",
   "execution_count": 35,
   "metadata": {},
   "outputs": [],
   "source": [
    "\n",
    "# Characters whose house swore allegiance\n",
    "d = char_pred[char_pred['house'].isin(c['house'])]"
   ]
  },
  {
   "cell_type": "code",
   "execution_count": 36,
   "metadata": {},
   "outputs": [],
   "source": [
    "hus_char_with_allegnc = d['house']"
   ]
  },
  {
   "cell_type": "code",
   "execution_count": 37,
   "metadata": {},
   "outputs": [],
   "source": [
    "husOfAllgnc = list(set(char_deaths['Allegiances']))\n",
    "husOfAllgnc.remove('None')\n",
    "renam_husOfAllgnc = []\n",
    "for x in husOfAllgnc:\n",
    "    house = 'House ' + x\n",
    "    renam_husOfAllgnc.append(house)"
   ]
  },
  {
   "cell_type": "code",
   "execution_count": 38,
   "metadata": {},
   "outputs": [
    {
     "data": {
      "text/plain": [
       "['House Stark',\n",
       " 'House Lannister',\n",
       " 'House Baratheon',\n",
       " 'House Arryn',\n",
       " 'House Tully',\n",
       " 'House Wildling',\n",
       " 'House Martell',\n",
       " 'House Targaryen',\n",
       " \"House Night's Watch\",\n",
       " 'House Greyjoy',\n",
       " 'House Tyrell']"
      ]
     },
     "execution_count": 38,
     "metadata": {},
     "output_type": "execute_result"
    }
   ],
   "source": [
    "renam_husOfAllgnc"
   ]
  },
  {
   "cell_type": "code",
   "execution_count": 39,
   "metadata": {},
   "outputs": [
    {
     "data": {
      "text/plain": [
       "{'Tyrell': 0.028353326063249727,\n",
       " 'Arryn': 0.03271537622682661,\n",
       " 'Tully': 0.03271537622682661,\n",
       " 'Targaryen': 0.03925845147219193,\n",
       " 'Martell': 0.04034896401308615,\n",
       " 'Wildling': 0.04362050163576881,\n",
       " 'Baratheon': 0.0697928026172301,\n",
       " 'Greyjoy': 0.08178844056706652,\n",
       " 'Lannister': 0.11123227917121047,\n",
       " 'Stark': 0.11777535441657579,\n",
       " \"Night's Watch\": 0.12649945474372956,\n",
       " 'None': 0.27589967284623773}"
      ]
     },
     "execution_count": 39,
     "metadata": {},
     "output_type": "execute_result"
    }
   ],
   "source": [
    "death_prop = char_deaths['Allegiances'].value_counts(normalize=True, ascending=True).to_dict() \n",
    "death_prop"
   ]
  },
  {
   "cell_type": "code",
   "execution_count": 40,
   "metadata": {},
   "outputs": [
    {
     "data": {
      "text/plain": [
       "[0.028353326063249727,\n",
       " 0.03271537622682661,\n",
       " 0.03271537622682661,\n",
       " 0.03925845147219193,\n",
       " 0.04034896401308615,\n",
       " 0.04362050163576881,\n",
       " 0.0697928026172301,\n",
       " 0.08178844056706652,\n",
       " 0.11123227917121047,\n",
       " 0.11777535441657579,\n",
       " 0.12649945474372956,\n",
       " 0.27589967284623773]"
      ]
     },
     "execution_count": 40,
     "metadata": {},
     "output_type": "execute_result"
    }
   ],
   "source": [
    "death_perct_list = list(death_prop.values())\n",
    "death_perct_list"
   ]
  },
  {
   "attachments": {},
   "cell_type": "markdown",
   "metadata": {},
   "source": [
    "### Cleaning Feature "
   ]
  },
  {
   "cell_type": "code",
   "execution_count": 41,
   "metadata": {},
   "outputs": [],
   "source": [
    "char = char_pred.copy()\n",
    "orig = char_pred.copy()"
   ]
  },
  {
   "cell_type": "code",
   "execution_count": 42,
   "metadata": {},
   "outputs": [],
   "source": [
    "char_pred = char.copy()"
   ]
  },
  {
   "cell_type": "code",
   "execution_count": 43,
   "metadata": {},
   "outputs": [
    {
     "data": {
      "text/plain": [
       "Index(['title', 'culture', 'dateOfBirth', 'DateoFdeath', 'mother', 'father',\n",
       "       'heir', 'house', 'spouse', 'isAliveMother', 'isAliveFather',\n",
       "       'isAliveHeir', 'isAliveSpouse'],\n",
       "      dtype='object')"
      ]
     },
     "execution_count": 43,
     "metadata": {},
     "output_type": "execute_result"
    }
   ],
   "source": [
    "# Dropping column with 5% or more missing values\n",
    "\n",
    "# Columns with less than 5% missing value except age\n",
    "five_pct = char_pred.shape[0] * 0.05\n",
    "missing = char_pred.isna().sum()\n",
    "missing = missing[missing > five_pct]\n",
    "missing.index[:-1]"
   ]
  },
  {
   "cell_type": "code",
   "execution_count": 44,
   "metadata": {},
   "outputs": [],
   "source": [
    "char_pred = char_pred.drop(missing.index[:-1], axis=1)"
   ]
  },
  {
   "cell_type": "code",
   "execution_count": 45,
   "metadata": {},
   "outputs": [],
   "source": [
    "# Fill age with mean value\n",
    "char_pred['age'] = char_pred['age'].fillna(round(char_pred['age'].mean()))"
   ]
  },
  {
   "cell_type": "code",
   "execution_count": 46,
   "metadata": {},
   "outputs": [
    {
     "data": {
      "text/plain": [
       "0    20\n",
       "dtype: int64"
      ]
     },
     "execution_count": 46,
     "metadata": {},
     "output_type": "execute_result"
    }
   ],
   "source": [
    "char_pred.isna().sum().value_counts()"
   ]
  },
  {
   "cell_type": "code",
   "execution_count": 47,
   "metadata": {},
   "outputs": [],
   "source": [
    "book_sum = char_pred[['book1', 'book2', 'book3', 'book4', 'book5']].sum(axis=1)"
   ]
  },
  {
   "cell_type": "code",
   "execution_count": 48,
   "metadata": {},
   "outputs": [],
   "source": [
    "char_pred.insert(7, 'books', book_sum)"
   ]
  },
  {
   "attachments": {},
   "cell_type": "markdown",
   "metadata": {},
   "source": [
    "## Models Before Feature Engineering"
   ]
  },
  {
   "cell_type": "code",
   "execution_count": 49,
   "metadata": {},
   "outputs": [],
   "source": [
    "char = char_pred.copy()\n",
    "char_pred = char.copy()"
   ]
  },
  {
   "cell_type": "code",
   "execution_count": 50,
   "metadata": {},
   "outputs": [],
   "source": [
    "# Drop Redundant columns \n",
    "redundant_col = ['S.No', 'actual', 'pred', 'alive', 'plod', 'book1', \n",
    "                 'book2', 'book3', 'book4', 'book5', 'name']\n",
    "char_pred1 = char_pred.drop(columns=redundant_col)"
   ]
  },
  {
   "cell_type": "code",
   "execution_count": 51,
   "metadata": {},
   "outputs": [
    {
     "data": {
      "text/html": [
       "<div>\n",
       "<style scoped>\n",
       "    .dataframe tbody tr th:only-of-type {\n",
       "        vertical-align: middle;\n",
       "    }\n",
       "\n",
       "    .dataframe tbody tr th {\n",
       "        vertical-align: top;\n",
       "    }\n",
       "\n",
       "    .dataframe thead th {\n",
       "        text-align: right;\n",
       "    }\n",
       "</style>\n",
       "<table border=\"1\" class=\"dataframe\">\n",
       "  <thead>\n",
       "    <tr style=\"text-align: right;\">\n",
       "      <th></th>\n",
       "      <th>male</th>\n",
       "      <th>books</th>\n",
       "      <th>isMarried</th>\n",
       "      <th>isNoble</th>\n",
       "      <th>age</th>\n",
       "      <th>numDeadRelations</th>\n",
       "      <th>boolDeadRelations</th>\n",
       "      <th>isPopular</th>\n",
       "      <th>popularity</th>\n",
       "      <th>isAlive</th>\n",
       "    </tr>\n",
       "  </thead>\n",
       "  <tbody>\n",
       "    <tr>\n",
       "      <th>0</th>\n",
       "      <td>1</td>\n",
       "      <td>0</td>\n",
       "      <td>0</td>\n",
       "      <td>0</td>\n",
       "      <td>37.0</td>\n",
       "      <td>11</td>\n",
       "      <td>1</td>\n",
       "      <td>1</td>\n",
       "      <td>0.605351</td>\n",
       "      <td>0</td>\n",
       "    </tr>\n",
       "    <tr>\n",
       "      <th>1</th>\n",
       "      <td>1</td>\n",
       "      <td>5</td>\n",
       "      <td>1</td>\n",
       "      <td>1</td>\n",
       "      <td>97.0</td>\n",
       "      <td>1</td>\n",
       "      <td>1</td>\n",
       "      <td>1</td>\n",
       "      <td>0.896321</td>\n",
       "      <td>1</td>\n",
       "    </tr>\n",
       "    <tr>\n",
       "      <th>2</th>\n",
       "      <td>1</td>\n",
       "      <td>1</td>\n",
       "      <td>0</td>\n",
       "      <td>1</td>\n",
       "      <td>37.0</td>\n",
       "      <td>0</td>\n",
       "      <td>0</td>\n",
       "      <td>0</td>\n",
       "      <td>0.267559</td>\n",
       "      <td>1</td>\n",
       "    </tr>\n",
       "    <tr>\n",
       "      <th>3</th>\n",
       "      <td>0</td>\n",
       "      <td>0</td>\n",
       "      <td>1</td>\n",
       "      <td>1</td>\n",
       "      <td>23.0</td>\n",
       "      <td>0</td>\n",
       "      <td>0</td>\n",
       "      <td>0</td>\n",
       "      <td>0.183946</td>\n",
       "      <td>0</td>\n",
       "    </tr>\n",
       "    <tr>\n",
       "      <th>4</th>\n",
       "      <td>0</td>\n",
       "      <td>1</td>\n",
       "      <td>1</td>\n",
       "      <td>1</td>\n",
       "      <td>29.0</td>\n",
       "      <td>0</td>\n",
       "      <td>0</td>\n",
       "      <td>0</td>\n",
       "      <td>0.043478</td>\n",
       "      <td>1</td>\n",
       "    </tr>\n",
       "    <tr>\n",
       "      <th>...</th>\n",
       "      <td>...</td>\n",
       "      <td>...</td>\n",
       "      <td>...</td>\n",
       "      <td>...</td>\n",
       "      <td>...</td>\n",
       "      <td>...</td>\n",
       "      <td>...</td>\n",
       "      <td>...</td>\n",
       "      <td>...</td>\n",
       "      <td>...</td>\n",
       "    </tr>\n",
       "    <tr>\n",
       "      <th>1941</th>\n",
       "      <td>1</td>\n",
       "      <td>5</td>\n",
       "      <td>0</td>\n",
       "      <td>0</td>\n",
       "      <td>37.0</td>\n",
       "      <td>0</td>\n",
       "      <td>0</td>\n",
       "      <td>1</td>\n",
       "      <td>0.351171</td>\n",
       "      <td>0</td>\n",
       "    </tr>\n",
       "    <tr>\n",
       "      <th>1942</th>\n",
       "      <td>1</td>\n",
       "      <td>3</td>\n",
       "      <td>0</td>\n",
       "      <td>0</td>\n",
       "      <td>37.0</td>\n",
       "      <td>0</td>\n",
       "      <td>0</td>\n",
       "      <td>0</td>\n",
       "      <td>0.096990</td>\n",
       "      <td>0</td>\n",
       "    </tr>\n",
       "    <tr>\n",
       "      <th>1943</th>\n",
       "      <td>1</td>\n",
       "      <td>5</td>\n",
       "      <td>0</td>\n",
       "      <td>0</td>\n",
       "      <td>37.0</td>\n",
       "      <td>0</td>\n",
       "      <td>0</td>\n",
       "      <td>0</td>\n",
       "      <td>0.030100</td>\n",
       "      <td>1</td>\n",
       "    </tr>\n",
       "    <tr>\n",
       "      <th>1944</th>\n",
       "      <td>1</td>\n",
       "      <td>3</td>\n",
       "      <td>0</td>\n",
       "      <td>0</td>\n",
       "      <td>37.0</td>\n",
       "      <td>0</td>\n",
       "      <td>0</td>\n",
       "      <td>0</td>\n",
       "      <td>0.130435</td>\n",
       "      <td>1</td>\n",
       "    </tr>\n",
       "    <tr>\n",
       "      <th>1945</th>\n",
       "      <td>1</td>\n",
       "      <td>3</td>\n",
       "      <td>1</td>\n",
       "      <td>1</td>\n",
       "      <td>47.0</td>\n",
       "      <td>4</td>\n",
       "      <td>1</td>\n",
       "      <td>0</td>\n",
       "      <td>0.210702</td>\n",
       "      <td>0</td>\n",
       "    </tr>\n",
       "  </tbody>\n",
       "</table>\n",
       "<p>1946 rows × 10 columns</p>\n",
       "</div>"
      ],
      "text/plain": [
       "      male  books  isMarried  isNoble   age  numDeadRelations  \\\n",
       "0        1      0          0        0  37.0                11   \n",
       "1        1      5          1        1  97.0                 1   \n",
       "2        1      1          0        1  37.0                 0   \n",
       "3        0      0          1        1  23.0                 0   \n",
       "4        0      1          1        1  29.0                 0   \n",
       "...    ...    ...        ...      ...   ...               ...   \n",
       "1941     1      5          0        0  37.0                 0   \n",
       "1942     1      3          0        0  37.0                 0   \n",
       "1943     1      5          0        0  37.0                 0   \n",
       "1944     1      3          0        0  37.0                 0   \n",
       "1945     1      3          1        1  47.0                 4   \n",
       "\n",
       "      boolDeadRelations  isPopular  popularity  isAlive  \n",
       "0                     1          1    0.605351        0  \n",
       "1                     1          1    0.896321        1  \n",
       "2                     0          0    0.267559        1  \n",
       "3                     0          0    0.183946        0  \n",
       "4                     0          0    0.043478        1  \n",
       "...                 ...        ...         ...      ...  \n",
       "1941                  0          1    0.351171        0  \n",
       "1942                  0          0    0.096990        0  \n",
       "1943                  0          0    0.030100        1  \n",
       "1944                  0          0    0.130435        1  \n",
       "1945                  1          0    0.210702        0  \n",
       "\n",
       "[1946 rows x 10 columns]"
      ]
     },
     "execution_count": 51,
     "metadata": {},
     "output_type": "execute_result"
    }
   ],
   "source": [
    "char_pred1"
   ]
  },
  {
   "cell_type": "code",
   "execution_count": 52,
   "metadata": {},
   "outputs": [
    {
     "data": {
      "text/html": [
       "<div>\n",
       "<style scoped>\n",
       "    .dataframe tbody tr th:only-of-type {\n",
       "        vertical-align: middle;\n",
       "    }\n",
       "\n",
       "    .dataframe tbody tr th {\n",
       "        vertical-align: top;\n",
       "    }\n",
       "\n",
       "    .dataframe thead th {\n",
       "        text-align: right;\n",
       "    }\n",
       "</style>\n",
       "<table border=\"1\" class=\"dataframe\">\n",
       "  <thead>\n",
       "    <tr style=\"text-align: right;\">\n",
       "      <th></th>\n",
       "      <th>male</th>\n",
       "      <th>books</th>\n",
       "      <th>isMarried</th>\n",
       "      <th>isNoble</th>\n",
       "      <th>age</th>\n",
       "      <th>numDeadRelations</th>\n",
       "      <th>boolDeadRelations</th>\n",
       "      <th>isPopular</th>\n",
       "      <th>popularity</th>\n",
       "      <th>isAlive</th>\n",
       "    </tr>\n",
       "  </thead>\n",
       "  <tbody>\n",
       "    <tr>\n",
       "      <th>0</th>\n",
       "      <td>0.783978</td>\n",
       "      <td>-1.316946</td>\n",
       "      <td>-0.406429</td>\n",
       "      <td>-0.924479</td>\n",
       "      <td>0.005405</td>\n",
       "      <td>7.727560</td>\n",
       "      <td>3.523394</td>\n",
       "      <td>3.989180</td>\n",
       "      <td>3.212131</td>\n",
       "      <td>0</td>\n",
       "    </tr>\n",
       "    <tr>\n",
       "      <th>1</th>\n",
       "      <td>0.783978</td>\n",
       "      <td>1.909920</td>\n",
       "      <td>2.459190</td>\n",
       "      <td>1.081135</td>\n",
       "      <td>4.935460</td>\n",
       "      <td>0.501655</td>\n",
       "      <td>3.523394</td>\n",
       "      <td>3.989180</td>\n",
       "      <td>5.024255</td>\n",
       "      <td>1</td>\n",
       "    </tr>\n",
       "    <tr>\n",
       "      <th>2</th>\n",
       "      <td>0.783978</td>\n",
       "      <td>-0.671573</td>\n",
       "      <td>-0.406429</td>\n",
       "      <td>1.081135</td>\n",
       "      <td>0.005405</td>\n",
       "      <td>-0.220936</td>\n",
       "      <td>-0.283671</td>\n",
       "      <td>-0.250549</td>\n",
       "      <td>1.108401</td>\n",
       "      <td>1</td>\n",
       "    </tr>\n",
       "    <tr>\n",
       "      <th>3</th>\n",
       "      <td>-1.274890</td>\n",
       "      <td>-1.316946</td>\n",
       "      <td>2.459190</td>\n",
       "      <td>1.081135</td>\n",
       "      <td>-1.144942</td>\n",
       "      <td>-0.220936</td>\n",
       "      <td>-0.283671</td>\n",
       "      <td>-0.250549</td>\n",
       "      <td>0.587676</td>\n",
       "      <td>0</td>\n",
       "    </tr>\n",
       "    <tr>\n",
       "      <th>4</th>\n",
       "      <td>-1.274890</td>\n",
       "      <td>-0.671573</td>\n",
       "      <td>2.459190</td>\n",
       "      <td>1.081135</td>\n",
       "      <td>-0.651936</td>\n",
       "      <td>-0.220936</td>\n",
       "      <td>-0.283671</td>\n",
       "      <td>-0.250549</td>\n",
       "      <td>-0.287143</td>\n",
       "      <td>1</td>\n",
       "    </tr>\n",
       "  </tbody>\n",
       "</table>\n",
       "</div>"
      ],
      "text/plain": [
       "       male     books  isMarried   isNoble       age  numDeadRelations  \\\n",
       "0  0.783978 -1.316946  -0.406429 -0.924479  0.005405          7.727560   \n",
       "1  0.783978  1.909920   2.459190  1.081135  4.935460          0.501655   \n",
       "2  0.783978 -0.671573  -0.406429  1.081135  0.005405         -0.220936   \n",
       "3 -1.274890 -1.316946   2.459190  1.081135 -1.144942         -0.220936   \n",
       "4 -1.274890 -0.671573   2.459190  1.081135 -0.651936         -0.220936   \n",
       "\n",
       "   boolDeadRelations  isPopular  popularity  isAlive  \n",
       "0           3.523394   3.989180    3.212131        0  \n",
       "1           3.523394   3.989180    5.024255        1  \n",
       "2          -0.283671  -0.250549    1.108401        1  \n",
       "3          -0.283671  -0.250549    0.587676        0  \n",
       "4          -0.283671  -0.250549   -0.287143        1  "
      ]
     },
     "execution_count": 52,
     "metadata": {},
     "output_type": "execute_result"
    }
   ],
   "source": [
    "normalized_data = (char_pred1 - char_pred1.mean())/(char_pred1.std())\n",
    "normalized_data['isAlive'] = char_pred1['isAlive']\n",
    "normalized_data.head()"
   ]
  },
  {
   "cell_type": "code",
   "execution_count": 53,
   "metadata": {},
   "outputs": [
    {
     "data": {
      "text/plain": [
       "973"
      ]
     },
     "execution_count": 53,
     "metadata": {},
     "output_type": "execute_result"
    }
   ],
   "source": [
    "round(char_pred1.shape[0]/2)"
   ]
  },
  {
   "cell_type": "code",
   "execution_count": 54,
   "metadata": {},
   "outputs": [
    {
     "name": "stdout",
     "output_type": "stream",
     "text": [
      "0.22762589928057556 0.4771015607609931\n"
     ]
    }
   ],
   "source": [
    "data = normalized_data.copy()\n",
    "\n",
    "train = data[:973]\n",
    "test = data[973:]\n",
    "\n",
    "features = train.columns.tolist()\n",
    "features.remove('isAlive')\n",
    "knn = KNeighborsRegressor(n_neighbors=5, algorithm='brute')\n",
    "\n",
    "knn.fit(train[features], train['isAlive'])\n",
    "pred = knn.predict(test[features])\n",
    "mse = mean_squared_error(test['isAlive'], pred)\n",
    "rmse = np.sqrt(mse)\n",
    "print(mse, rmse)"
   ]
  },
  {
   "cell_type": "code",
   "execution_count": 55,
   "metadata": {},
   "outputs": [
    {
     "name": "stdout",
     "output_type": "stream",
     "text": [
      "[0.29290853031860226, 0.24691675231243576, 0.2386662098892315, 0.2286742034943474, 0.22762589928057556, 0.21249743062692703, 0.21556269270298048, 0.21672262190247804, 0.2138880324311979]\n"
     ]
    }
   ],
   "source": [
    "hyper_params = [1, 2, 3, 4, 5,10, 20, 30, 60]\n",
    "mse_values = list()\n",
    "\n",
    "for hp in hyper_params:\n",
    "    knn = KNeighborsRegressor(n_neighbors=hp, algorithm='brute')\n",
    "\n",
    "    knn.fit(train[features], train['isAlive'])\n",
    "    pred = knn.predict(test[features])\n",
    "    mse = mean_squared_error(test['isAlive'], pred)\n",
    "    # rmse = np.sqrt(mse)\n",
    "    # print(mse, rmse)\n",
    "    mse_values.append(mse)\n",
    "    \n",
    "print(mse_values)\n",
    "    "
   ]
  },
  {
   "cell_type": "code",
   "execution_count": 56,
   "metadata": {},
   "outputs": [],
   "source": [
    "# data1 = char_pred1[['male', 'isPopular', 'age', 'isAlive']]\n",
    "# train1 = data1[:1362]\n",
    "# test1 = data1[1362:]\n",
    "\n",
    "\n",
    "# features1 = train1.columns.tolist()\n",
    "# features1.remove('isAlive')\n",
    "# lr = LinearRegression()\n",
    "# lr.fit(train1[features1], train1['isAlive'])\n",
    "# pred = knn.predict(test1[features1])\n",
    "# mse = mean_squared_error(test1['isAlive'], pred)\n",
    "# rmse = np.sqrt(mse)\n",
    "# print(mse, rmse)"
   ]
  },
  {
   "cell_type": "code",
   "execution_count": 57,
   "metadata": {},
   "outputs": [],
   "source": [
    "# data1 = char_pred1.copy()\n",
    "# train1 = data1[:1362]\n",
    "# test1 = data1[1362:]\n",
    "\n",
    "\n",
    "# features = train1.columns.tolist()\n",
    "# features.remove('isAlive')\n",
    "\n",
    "\n",
    "# lr = LinearRegression()\n",
    "# lr.fit(train1[features], train1['isAlive'])\n",
    "# pred = knn.predict(test[features])\n",
    "# mse = mean_squared_error(test1['isAlive'], pred)\n",
    "# rmse = np.sqrt(mse)\n",
    "# print(mse, rmse)"
   ]
  },
  {
   "cell_type": "code",
   "execution_count": 58,
   "metadata": {},
   "outputs": [
    {
     "data": {
      "text/plain": [
       "0.8263103802672148"
      ]
     },
     "execution_count": 58,
     "metadata": {},
     "output_type": "execute_result"
    }
   ],
   "source": [
    "lgr = LogisticRegression()\n",
    "lgr.fit(train[features], train['isAlive'])\n",
    "predlgr = lgr.predict(test[features])\n",
    "lgr.score(train[features], train['isAlive'])"
   ]
  },
  {
   "cell_type": "code",
   "execution_count": 59,
   "metadata": {},
   "outputs": [
    {
     "data": {
      "text/plain": [
       "0.7029804727646455"
      ]
     },
     "execution_count": 59,
     "metadata": {},
     "output_type": "execute_result"
    }
   ],
   "source": [
    "lgr.score(test[features], test['isAlive'])"
   ]
  },
  {
   "cell_type": "code",
   "execution_count": 60,
   "metadata": {},
   "outputs": [
    {
     "name": "stdout",
     "output_type": "stream",
     "text": [
      "0.2970195272353546 0.5449949790918762\n"
     ]
    }
   ],
   "source": [
    "mse = mean_squared_error(test['isAlive'], predlgr)\n",
    "rmse = np.sqrt(mse)\n",
    "print(mse, rmse)"
   ]
  },
  {
   "cell_type": "code",
   "execution_count": 62,
   "metadata": {},
   "outputs": [],
   "source": [
    "# lr.score(train[features], train['isAlive'])"
   ]
  },
  {
   "cell_type": "code",
   "execution_count": null,
   "metadata": {},
   "outputs": [
    {
     "data": {
      "text/plain": [
       "0.15048135451878975"
      ]
     },
     "execution_count": 707,
     "metadata": {},
     "output_type": "execute_result"
    }
   ],
   "source": [
    "knn.score(train[features], train['isAlive'])"
   ]
  },
  {
   "cell_type": "code",
   "execution_count": null,
   "metadata": {},
   "outputs": [],
   "source": [
    "# numeric_train = train.select_dtypes(include=['integer', 'float'])\n",
    "# numeric_test = test.select_dtypes(include=['integer', 'float'])\n",
    "\n",
    "# features = numeric_train.columns.drop('isAlive')"
   ]
  },
  {
   "cell_type": "markdown",
   "metadata": {},
   "source": [
    "### Creating Features"
   ]
  },
  {
   "cell_type": "code",
   "execution_count": 66,
   "metadata": {},
   "outputs": [],
   "source": [
    "new = char_pred.copy()"
   ]
  },
  {
   "cell_type": "code",
   "execution_count": 67,
   "metadata": {},
   "outputs": [],
   "source": [
    "redundant_col = ['S.No', 'actual', 'pred', 'alive', 'plod', 'book1', \n",
    "                 'book2', 'book3', 'book4', 'book5']\n",
    "new = new.drop(columns=redundant_col)"
   ]
  },
  {
   "cell_type": "code",
   "execution_count": 68,
   "metadata": {},
   "outputs": [
    {
     "data": {
      "text/html": [
       "<div>\n",
       "<style scoped>\n",
       "    .dataframe tbody tr th:only-of-type {\n",
       "        vertical-align: middle;\n",
       "    }\n",
       "\n",
       "    .dataframe tbody tr th {\n",
       "        vertical-align: top;\n",
       "    }\n",
       "\n",
       "    .dataframe thead th {\n",
       "        text-align: right;\n",
       "    }\n",
       "</style>\n",
       "<table border=\"1\" class=\"dataframe\">\n",
       "  <thead>\n",
       "    <tr style=\"text-align: right;\">\n",
       "      <th></th>\n",
       "      <th>name</th>\n",
       "      <th>male</th>\n",
       "      <th>books</th>\n",
       "      <th>isMarried</th>\n",
       "      <th>isNoble</th>\n",
       "      <th>age</th>\n",
       "      <th>numDeadRelations</th>\n",
       "      <th>boolDeadRelations</th>\n",
       "      <th>isPopular</th>\n",
       "      <th>popularity</th>\n",
       "      <th>isAlive</th>\n",
       "    </tr>\n",
       "  </thead>\n",
       "  <tbody>\n",
       "    <tr>\n",
       "      <th>0</th>\n",
       "      <td>Viserys II Targaryen</td>\n",
       "      <td>1</td>\n",
       "      <td>0</td>\n",
       "      <td>0</td>\n",
       "      <td>0</td>\n",
       "      <td>37.0</td>\n",
       "      <td>11</td>\n",
       "      <td>1</td>\n",
       "      <td>1</td>\n",
       "      <td>0.605351</td>\n",
       "      <td>0</td>\n",
       "    </tr>\n",
       "    <tr>\n",
       "      <th>1</th>\n",
       "      <td>Walder Frey</td>\n",
       "      <td>1</td>\n",
       "      <td>5</td>\n",
       "      <td>1</td>\n",
       "      <td>1</td>\n",
       "      <td>97.0</td>\n",
       "      <td>1</td>\n",
       "      <td>1</td>\n",
       "      <td>1</td>\n",
       "      <td>0.896321</td>\n",
       "      <td>1</td>\n",
       "    </tr>\n",
       "    <tr>\n",
       "      <th>2</th>\n",
       "      <td>Addison Hill</td>\n",
       "      <td>1</td>\n",
       "      <td>1</td>\n",
       "      <td>0</td>\n",
       "      <td>1</td>\n",
       "      <td>37.0</td>\n",
       "      <td>0</td>\n",
       "      <td>0</td>\n",
       "      <td>0</td>\n",
       "      <td>0.267559</td>\n",
       "      <td>1</td>\n",
       "    </tr>\n",
       "    <tr>\n",
       "      <th>3</th>\n",
       "      <td>Aemma Arryn</td>\n",
       "      <td>0</td>\n",
       "      <td>0</td>\n",
       "      <td>1</td>\n",
       "      <td>1</td>\n",
       "      <td>23.0</td>\n",
       "      <td>0</td>\n",
       "      <td>0</td>\n",
       "      <td>0</td>\n",
       "      <td>0.183946</td>\n",
       "      <td>0</td>\n",
       "    </tr>\n",
       "    <tr>\n",
       "      <th>4</th>\n",
       "      <td>Sylva Santagar</td>\n",
       "      <td>0</td>\n",
       "      <td>1</td>\n",
       "      <td>1</td>\n",
       "      <td>1</td>\n",
       "      <td>29.0</td>\n",
       "      <td>0</td>\n",
       "      <td>0</td>\n",
       "      <td>0</td>\n",
       "      <td>0.043478</td>\n",
       "      <td>1</td>\n",
       "    </tr>\n",
       "    <tr>\n",
       "      <th>...</th>\n",
       "      <td>...</td>\n",
       "      <td>...</td>\n",
       "      <td>...</td>\n",
       "      <td>...</td>\n",
       "      <td>...</td>\n",
       "      <td>...</td>\n",
       "      <td>...</td>\n",
       "      <td>...</td>\n",
       "      <td>...</td>\n",
       "      <td>...</td>\n",
       "      <td>...</td>\n",
       "    </tr>\n",
       "    <tr>\n",
       "      <th>1941</th>\n",
       "      <td>Luwin</td>\n",
       "      <td>1</td>\n",
       "      <td>5</td>\n",
       "      <td>0</td>\n",
       "      <td>0</td>\n",
       "      <td>37.0</td>\n",
       "      <td>0</td>\n",
       "      <td>0</td>\n",
       "      <td>1</td>\n",
       "      <td>0.351171</td>\n",
       "      <td>0</td>\n",
       "    </tr>\n",
       "    <tr>\n",
       "      <th>1942</th>\n",
       "      <td>Reek</td>\n",
       "      <td>1</td>\n",
       "      <td>3</td>\n",
       "      <td>0</td>\n",
       "      <td>0</td>\n",
       "      <td>37.0</td>\n",
       "      <td>0</td>\n",
       "      <td>0</td>\n",
       "      <td>0</td>\n",
       "      <td>0.096990</td>\n",
       "      <td>0</td>\n",
       "    </tr>\n",
       "    <tr>\n",
       "      <th>1943</th>\n",
       "      <td>Symeon Star-Eyes</td>\n",
       "      <td>1</td>\n",
       "      <td>5</td>\n",
       "      <td>0</td>\n",
       "      <td>0</td>\n",
       "      <td>37.0</td>\n",
       "      <td>0</td>\n",
       "      <td>0</td>\n",
       "      <td>0</td>\n",
       "      <td>0.030100</td>\n",
       "      <td>1</td>\n",
       "    </tr>\n",
       "    <tr>\n",
       "      <th>1944</th>\n",
       "      <td>Coldhands</td>\n",
       "      <td>1</td>\n",
       "      <td>3</td>\n",
       "      <td>0</td>\n",
       "      <td>0</td>\n",
       "      <td>37.0</td>\n",
       "      <td>0</td>\n",
       "      <td>0</td>\n",
       "      <td>0</td>\n",
       "      <td>0.130435</td>\n",
       "      <td>1</td>\n",
       "    </tr>\n",
       "    <tr>\n",
       "      <th>1945</th>\n",
       "      <td>Tytos Lannister</td>\n",
       "      <td>1</td>\n",
       "      <td>3</td>\n",
       "      <td>1</td>\n",
       "      <td>1</td>\n",
       "      <td>47.0</td>\n",
       "      <td>4</td>\n",
       "      <td>1</td>\n",
       "      <td>0</td>\n",
       "      <td>0.210702</td>\n",
       "      <td>0</td>\n",
       "    </tr>\n",
       "  </tbody>\n",
       "</table>\n",
       "<p>1946 rows × 11 columns</p>\n",
       "</div>"
      ],
      "text/plain": [
       "                      name  male  books  isMarried  isNoble   age  \\\n",
       "0     Viserys II Targaryen     1      0          0        0  37.0   \n",
       "1              Walder Frey     1      5          1        1  97.0   \n",
       "2             Addison Hill     1      1          0        1  37.0   \n",
       "3              Aemma Arryn     0      0          1        1  23.0   \n",
       "4           Sylva Santagar     0      1          1        1  29.0   \n",
       "...                    ...   ...    ...        ...      ...   ...   \n",
       "1941                 Luwin     1      5          0        0  37.0   \n",
       "1942                  Reek     1      3          0        0  37.0   \n",
       "1943      Symeon Star-Eyes     1      5          0        0  37.0   \n",
       "1944             Coldhands     1      3          0        0  37.0   \n",
       "1945       Tytos Lannister     1      3          1        1  47.0   \n",
       "\n",
       "      numDeadRelations  boolDeadRelations  isPopular  popularity  isAlive  \n",
       "0                   11                  1          1    0.605351        0  \n",
       "1                    1                  1          1    0.896321        1  \n",
       "2                    0                  0          0    0.267559        1  \n",
       "3                    0                  0          0    0.183946        0  \n",
       "4                    0                  0          0    0.043478        1  \n",
       "...                ...                ...        ...         ...      ...  \n",
       "1941                 0                  0          1    0.351171        0  \n",
       "1942                 0                  0          0    0.096990        0  \n",
       "1943                 0                  0          0    0.030100        1  \n",
       "1944                 0                  0          0    0.130435        1  \n",
       "1945                 4                  1          0    0.210702        0  \n",
       "\n",
       "[1946 rows x 11 columns]"
      ]
     },
     "execution_count": 68,
     "metadata": {},
     "output_type": "execute_result"
    }
   ],
   "source": [
    "new"
   ]
  },
  {
   "cell_type": "code",
   "execution_count": 69,
   "metadata": {},
   "outputs": [],
   "source": [
    "new['isACommander'] = np.where(new['name'].isin(all_commanders), 1, 0)\n"
   ]
  },
  {
   "cell_type": "code",
   "execution_count": 70,
   "metadata": {},
   "outputs": [
    {
     "data": {
      "text/html": [
       "<div>\n",
       "<style scoped>\n",
       "    .dataframe tbody tr th:only-of-type {\n",
       "        vertical-align: middle;\n",
       "    }\n",
       "\n",
       "    .dataframe tbody tr th {\n",
       "        vertical-align: top;\n",
       "    }\n",
       "\n",
       "    .dataframe thead th {\n",
       "        text-align: right;\n",
       "    }\n",
       "</style>\n",
       "<table border=\"1\" class=\"dataframe\">\n",
       "  <thead>\n",
       "    <tr style=\"text-align: right;\">\n",
       "      <th></th>\n",
       "      <th>name</th>\n",
       "      <th>male</th>\n",
       "      <th>books</th>\n",
       "      <th>isMarried</th>\n",
       "      <th>isNoble</th>\n",
       "      <th>age</th>\n",
       "      <th>numDeadRelations</th>\n",
       "      <th>boolDeadRelations</th>\n",
       "      <th>isPopular</th>\n",
       "      <th>popularity</th>\n",
       "      <th>isAlive</th>\n",
       "      <th>isACommander</th>\n",
       "    </tr>\n",
       "  </thead>\n",
       "  <tbody>\n",
       "    <tr>\n",
       "      <th>1</th>\n",
       "      <td>Walder Frey</td>\n",
       "      <td>1</td>\n",
       "      <td>5</td>\n",
       "      <td>1</td>\n",
       "      <td>1</td>\n",
       "      <td>97.0</td>\n",
       "      <td>1</td>\n",
       "      <td>1</td>\n",
       "      <td>1</td>\n",
       "      <td>0.896321</td>\n",
       "      <td>1</td>\n",
       "      <td>1</td>\n",
       "    </tr>\n",
       "    <tr>\n",
       "      <th>52</th>\n",
       "      <td>Leobald Tallhart</td>\n",
       "      <td>1</td>\n",
       "      <td>4</td>\n",
       "      <td>1</td>\n",
       "      <td>1</td>\n",
       "      <td>37.0</td>\n",
       "      <td>0</td>\n",
       "      <td>0</td>\n",
       "      <td>0</td>\n",
       "      <td>0.110368</td>\n",
       "      <td>0</td>\n",
       "      <td>1</td>\n",
       "    </tr>\n",
       "    <tr>\n",
       "      <th>101</th>\n",
       "      <td>Robb Stark</td>\n",
       "      <td>1</td>\n",
       "      <td>0</td>\n",
       "      <td>0</td>\n",
       "      <td>0</td>\n",
       "      <td>37.0</td>\n",
       "      <td>7</td>\n",
       "      <td>1</td>\n",
       "      <td>1</td>\n",
       "      <td>1.000000</td>\n",
       "      <td>0</td>\n",
       "      <td>1</td>\n",
       "    </tr>\n",
       "    <tr>\n",
       "      <th>169</th>\n",
       "      <td>Stafford Lannister</td>\n",
       "      <td>1</td>\n",
       "      <td>5</td>\n",
       "      <td>1</td>\n",
       "      <td>1</td>\n",
       "      <td>53.0</td>\n",
       "      <td>1</td>\n",
       "      <td>1</td>\n",
       "      <td>0</td>\n",
       "      <td>0.170569</td>\n",
       "      <td>0</td>\n",
       "      <td>1</td>\n",
       "    </tr>\n",
       "    <tr>\n",
       "      <th>172</th>\n",
       "      <td>Stannis Baratheon</td>\n",
       "      <td>1</td>\n",
       "      <td>0</td>\n",
       "      <td>0</td>\n",
       "      <td>0</td>\n",
       "      <td>37.0</td>\n",
       "      <td>4</td>\n",
       "      <td>1</td>\n",
       "      <td>1</td>\n",
       "      <td>1.000000</td>\n",
       "      <td>1</td>\n",
       "      <td>1</td>\n",
       "    </tr>\n",
       "    <tr>\n",
       "      <th>...</th>\n",
       "      <td>...</td>\n",
       "      <td>...</td>\n",
       "      <td>...</td>\n",
       "      <td>...</td>\n",
       "      <td>...</td>\n",
       "      <td>...</td>\n",
       "      <td>...</td>\n",
       "      <td>...</td>\n",
       "      <td>...</td>\n",
       "      <td>...</td>\n",
       "      <td>...</td>\n",
       "      <td>...</td>\n",
       "    </tr>\n",
       "    <tr>\n",
       "      <th>1850</th>\n",
       "      <td>Rolph Spicer</td>\n",
       "      <td>0</td>\n",
       "      <td>2</td>\n",
       "      <td>0</td>\n",
       "      <td>1</td>\n",
       "      <td>37.0</td>\n",
       "      <td>0</td>\n",
       "      <td>0</td>\n",
       "      <td>0</td>\n",
       "      <td>0.060201</td>\n",
       "      <td>1</td>\n",
       "      <td>1</td>\n",
       "    </tr>\n",
       "    <tr>\n",
       "      <th>1853</th>\n",
       "      <td>Sandor Clegane</td>\n",
       "      <td>1</td>\n",
       "      <td>5</td>\n",
       "      <td>0</td>\n",
       "      <td>0</td>\n",
       "      <td>30.0</td>\n",
       "      <td>1</td>\n",
       "      <td>1</td>\n",
       "      <td>1</td>\n",
       "      <td>0.695652</td>\n",
       "      <td>0</td>\n",
       "      <td>1</td>\n",
       "    </tr>\n",
       "    <tr>\n",
       "      <th>1879</th>\n",
       "      <td>Robett Glover</td>\n",
       "      <td>1</td>\n",
       "      <td>5</td>\n",
       "      <td>1</td>\n",
       "      <td>0</td>\n",
       "      <td>37.0</td>\n",
       "      <td>0</td>\n",
       "      <td>0</td>\n",
       "      <td>0</td>\n",
       "      <td>0.167224</td>\n",
       "      <td>1</td>\n",
       "      <td>1</td>\n",
       "    </tr>\n",
       "    <tr>\n",
       "      <th>1927</th>\n",
       "      <td>Loras Tyrell</td>\n",
       "      <td>1</td>\n",
       "      <td>5</td>\n",
       "      <td>0</td>\n",
       "      <td>1</td>\n",
       "      <td>23.0</td>\n",
       "      <td>2</td>\n",
       "      <td>1</td>\n",
       "      <td>1</td>\n",
       "      <td>0.665552</td>\n",
       "      <td>1</td>\n",
       "      <td>1</td>\n",
       "    </tr>\n",
       "    <tr>\n",
       "      <th>1936</th>\n",
       "      <td>Walder Rivers</td>\n",
       "      <td>1</td>\n",
       "      <td>5</td>\n",
       "      <td>1</td>\n",
       "      <td>1</td>\n",
       "      <td>37.0</td>\n",
       "      <td>0</td>\n",
       "      <td>0</td>\n",
       "      <td>0</td>\n",
       "      <td>0.080268</td>\n",
       "      <td>1</td>\n",
       "      <td>1</td>\n",
       "    </tr>\n",
       "  </tbody>\n",
       "</table>\n",
       "<p>67 rows × 12 columns</p>\n",
       "</div>"
      ],
      "text/plain": [
       "                    name  male  books  isMarried  isNoble   age  \\\n",
       "1            Walder Frey     1      5          1        1  97.0   \n",
       "52      Leobald Tallhart     1      4          1        1  37.0   \n",
       "101           Robb Stark     1      0          0        0  37.0   \n",
       "169   Stafford Lannister     1      5          1        1  53.0   \n",
       "172    Stannis Baratheon     1      0          0        0  37.0   \n",
       "...                  ...   ...    ...        ...      ...   ...   \n",
       "1850        Rolph Spicer     0      2          0        1  37.0   \n",
       "1853      Sandor Clegane     1      5          0        0  30.0   \n",
       "1879       Robett Glover     1      5          1        0  37.0   \n",
       "1927        Loras Tyrell     1      5          0        1  23.0   \n",
       "1936       Walder Rivers     1      5          1        1  37.0   \n",
       "\n",
       "      numDeadRelations  boolDeadRelations  isPopular  popularity  isAlive  \\\n",
       "1                    1                  1          1    0.896321        1   \n",
       "52                   0                  0          0    0.110368        0   \n",
       "101                  7                  1          1    1.000000        0   \n",
       "169                  1                  1          0    0.170569        0   \n",
       "172                  4                  1          1    1.000000        1   \n",
       "...                ...                ...        ...         ...      ...   \n",
       "1850                 0                  0          0    0.060201        1   \n",
       "1853                 1                  1          1    0.695652        0   \n",
       "1879                 0                  0          0    0.167224        1   \n",
       "1927                 2                  1          1    0.665552        1   \n",
       "1936                 0                  0          0    0.080268        1   \n",
       "\n",
       "      isACommander  \n",
       "1                1  \n",
       "52               1  \n",
       "101              1  \n",
       "169              1  \n",
       "172              1  \n",
       "...            ...  \n",
       "1850             1  \n",
       "1853             1  \n",
       "1879             1  \n",
       "1927             1  \n",
       "1936             1  \n",
       "\n",
       "[67 rows x 12 columns]"
      ]
     },
     "execution_count": 70,
     "metadata": {},
     "output_type": "execute_result"
    }
   ],
   "source": [
    "new[new['name'].isin(all_commanders)]"
   ]
  },
  {
   "cell_type": "code",
   "execution_count": 71,
   "metadata": {},
   "outputs": [],
   "source": [
    "new['house'] = orig['house']\n",
    "new['inHouseOfWarLead'] = np.where(new['house'].isin(all_warlead), 1, 0)"
   ]
  },
  {
   "cell_type": "code",
   "execution_count": 72,
   "metadata": {},
   "outputs": [],
   "source": [
    "new['houseSworeAllegiance'] = np.where(new['house'].isin(hus_char_with_allegnc), 1, 0)"
   ]
  },
  {
   "cell_type": "code",
   "execution_count": 73,
   "metadata": {},
   "outputs": [],
   "source": [
    "new['inHouseOfAllegnc'] = np.where(new['house'].isin(renam_husOfAllgnc), 1, 0)"
   ]
  },
  {
   "cell_type": "code",
   "execution_count": 74,
   "metadata": {},
   "outputs": [],
   "source": [
    "# cond_list = [new['house'] == 'House Tyrell']"
   ]
  },
  {
   "cell_type": "code",
   "execution_count": 75,
   "metadata": {},
   "outputs": [],
   "source": [
    "new1 = new.copy()"
   ]
  },
  {
   "cell_type": "code",
   "execution_count": 87,
   "metadata": {},
   "outputs": [
    {
     "data": {
      "text/html": [
       "<div>\n",
       "<style scoped>\n",
       "    .dataframe tbody tr th:only-of-type {\n",
       "        vertical-align: middle;\n",
       "    }\n",
       "\n",
       "    .dataframe tbody tr th {\n",
       "        vertical-align: top;\n",
       "    }\n",
       "\n",
       "    .dataframe thead th {\n",
       "        text-align: right;\n",
       "    }\n",
       "</style>\n",
       "<table border=\"1\" class=\"dataframe\">\n",
       "  <thead>\n",
       "    <tr style=\"text-align: right;\">\n",
       "      <th></th>\n",
       "      <th>name</th>\n",
       "      <th>male</th>\n",
       "      <th>books</th>\n",
       "      <th>isMarried</th>\n",
       "      <th>isNoble</th>\n",
       "      <th>age</th>\n",
       "      <th>numDeadRelations</th>\n",
       "      <th>boolDeadRelations</th>\n",
       "      <th>isPopular</th>\n",
       "      <th>popularity</th>\n",
       "      <th>isAlive</th>\n",
       "      <th>isACommander</th>\n",
       "      <th>house</th>\n",
       "      <th>inHouseOfWarLead</th>\n",
       "      <th>houseSworeAllegiance</th>\n",
       "      <th>inHouseOfAllegnc</th>\n",
       "    </tr>\n",
       "  </thead>\n",
       "  <tbody>\n",
       "    <tr>\n",
       "      <th>0</th>\n",
       "      <td>Viserys II Targaryen</td>\n",
       "      <td>1</td>\n",
       "      <td>0</td>\n",
       "      <td>0</td>\n",
       "      <td>0</td>\n",
       "      <td>37.0</td>\n",
       "      <td>11</td>\n",
       "      <td>1</td>\n",
       "      <td>1</td>\n",
       "      <td>0.605351</td>\n",
       "      <td>0</td>\n",
       "      <td>0</td>\n",
       "      <td>NaN</td>\n",
       "      <td>0</td>\n",
       "      <td>1</td>\n",
       "      <td>0</td>\n",
       "    </tr>\n",
       "    <tr>\n",
       "      <th>1</th>\n",
       "      <td>Walder Frey</td>\n",
       "      <td>1</td>\n",
       "      <td>5</td>\n",
       "      <td>1</td>\n",
       "      <td>1</td>\n",
       "      <td>97.0</td>\n",
       "      <td>1</td>\n",
       "      <td>1</td>\n",
       "      <td>1</td>\n",
       "      <td>0.896321</td>\n",
       "      <td>1</td>\n",
       "      <td>1</td>\n",
       "      <td>House Frey</td>\n",
       "      <td>0</td>\n",
       "      <td>1</td>\n",
       "      <td>0</td>\n",
       "    </tr>\n",
       "    <tr>\n",
       "      <th>2</th>\n",
       "      <td>Addison Hill</td>\n",
       "      <td>1</td>\n",
       "      <td>1</td>\n",
       "      <td>0</td>\n",
       "      <td>1</td>\n",
       "      <td>37.0</td>\n",
       "      <td>0</td>\n",
       "      <td>0</td>\n",
       "      <td>0</td>\n",
       "      <td>0.267559</td>\n",
       "      <td>1</td>\n",
       "      <td>0</td>\n",
       "      <td>House Swyft</td>\n",
       "      <td>0</td>\n",
       "      <td>1</td>\n",
       "      <td>0</td>\n",
       "    </tr>\n",
       "    <tr>\n",
       "      <th>3</th>\n",
       "      <td>Aemma Arryn</td>\n",
       "      <td>0</td>\n",
       "      <td>0</td>\n",
       "      <td>1</td>\n",
       "      <td>1</td>\n",
       "      <td>23.0</td>\n",
       "      <td>0</td>\n",
       "      <td>0</td>\n",
       "      <td>0</td>\n",
       "      <td>0.183946</td>\n",
       "      <td>0</td>\n",
       "      <td>0</td>\n",
       "      <td>House Arryn</td>\n",
       "      <td>0</td>\n",
       "      <td>1</td>\n",
       "      <td>1</td>\n",
       "    </tr>\n",
       "    <tr>\n",
       "      <th>4</th>\n",
       "      <td>Sylva Santagar</td>\n",
       "      <td>0</td>\n",
       "      <td>1</td>\n",
       "      <td>1</td>\n",
       "      <td>1</td>\n",
       "      <td>29.0</td>\n",
       "      <td>0</td>\n",
       "      <td>0</td>\n",
       "      <td>0</td>\n",
       "      <td>0.043478</td>\n",
       "      <td>1</td>\n",
       "      <td>0</td>\n",
       "      <td>House Santagar</td>\n",
       "      <td>0</td>\n",
       "      <td>1</td>\n",
       "      <td>0</td>\n",
       "    </tr>\n",
       "    <tr>\n",
       "      <th>...</th>\n",
       "      <td>...</td>\n",
       "      <td>...</td>\n",
       "      <td>...</td>\n",
       "      <td>...</td>\n",
       "      <td>...</td>\n",
       "      <td>...</td>\n",
       "      <td>...</td>\n",
       "      <td>...</td>\n",
       "      <td>...</td>\n",
       "      <td>...</td>\n",
       "      <td>...</td>\n",
       "      <td>...</td>\n",
       "      <td>...</td>\n",
       "      <td>...</td>\n",
       "      <td>...</td>\n",
       "      <td>...</td>\n",
       "    </tr>\n",
       "    <tr>\n",
       "      <th>1941</th>\n",
       "      <td>Luwin</td>\n",
       "      <td>1</td>\n",
       "      <td>5</td>\n",
       "      <td>0</td>\n",
       "      <td>0</td>\n",
       "      <td>37.0</td>\n",
       "      <td>0</td>\n",
       "      <td>0</td>\n",
       "      <td>1</td>\n",
       "      <td>0.351171</td>\n",
       "      <td>0</td>\n",
       "      <td>0</td>\n",
       "      <td>House Stark</td>\n",
       "      <td>0</td>\n",
       "      <td>1</td>\n",
       "      <td>1</td>\n",
       "    </tr>\n",
       "    <tr>\n",
       "      <th>1942</th>\n",
       "      <td>Reek</td>\n",
       "      <td>1</td>\n",
       "      <td>3</td>\n",
       "      <td>0</td>\n",
       "      <td>0</td>\n",
       "      <td>37.0</td>\n",
       "      <td>0</td>\n",
       "      <td>0</td>\n",
       "      <td>0</td>\n",
       "      <td>0.096990</td>\n",
       "      <td>0</td>\n",
       "      <td>0</td>\n",
       "      <td>House Bolton</td>\n",
       "      <td>0</td>\n",
       "      <td>1</td>\n",
       "      <td>0</td>\n",
       "    </tr>\n",
       "    <tr>\n",
       "      <th>1943</th>\n",
       "      <td>Symeon Star-Eyes</td>\n",
       "      <td>1</td>\n",
       "      <td>5</td>\n",
       "      <td>0</td>\n",
       "      <td>0</td>\n",
       "      <td>37.0</td>\n",
       "      <td>0</td>\n",
       "      <td>0</td>\n",
       "      <td>0</td>\n",
       "      <td>0.030100</td>\n",
       "      <td>1</td>\n",
       "      <td>0</td>\n",
       "      <td>NaN</td>\n",
       "      <td>0</td>\n",
       "      <td>1</td>\n",
       "      <td>0</td>\n",
       "    </tr>\n",
       "    <tr>\n",
       "      <th>1944</th>\n",
       "      <td>Coldhands</td>\n",
       "      <td>1</td>\n",
       "      <td>3</td>\n",
       "      <td>0</td>\n",
       "      <td>0</td>\n",
       "      <td>37.0</td>\n",
       "      <td>0</td>\n",
       "      <td>0</td>\n",
       "      <td>0</td>\n",
       "      <td>0.130435</td>\n",
       "      <td>1</td>\n",
       "      <td>0</td>\n",
       "      <td>Three-eyed crow</td>\n",
       "      <td>0</td>\n",
       "      <td>0</td>\n",
       "      <td>0</td>\n",
       "    </tr>\n",
       "    <tr>\n",
       "      <th>1945</th>\n",
       "      <td>Tytos Lannister</td>\n",
       "      <td>1</td>\n",
       "      <td>3</td>\n",
       "      <td>1</td>\n",
       "      <td>1</td>\n",
       "      <td>47.0</td>\n",
       "      <td>4</td>\n",
       "      <td>1</td>\n",
       "      <td>0</td>\n",
       "      <td>0.210702</td>\n",
       "      <td>0</td>\n",
       "      <td>0</td>\n",
       "      <td>House Lannister</td>\n",
       "      <td>0</td>\n",
       "      <td>1</td>\n",
       "      <td>1</td>\n",
       "    </tr>\n",
       "  </tbody>\n",
       "</table>\n",
       "<p>1946 rows × 16 columns</p>\n",
       "</div>"
      ],
      "text/plain": [
       "                      name  male  books  isMarried  isNoble   age  \\\n",
       "0     Viserys II Targaryen     1      0          0        0  37.0   \n",
       "1              Walder Frey     1      5          1        1  97.0   \n",
       "2             Addison Hill     1      1          0        1  37.0   \n",
       "3              Aemma Arryn     0      0          1        1  23.0   \n",
       "4           Sylva Santagar     0      1          1        1  29.0   \n",
       "...                    ...   ...    ...        ...      ...   ...   \n",
       "1941                 Luwin     1      5          0        0  37.0   \n",
       "1942                  Reek     1      3          0        0  37.0   \n",
       "1943      Symeon Star-Eyes     1      5          0        0  37.0   \n",
       "1944             Coldhands     1      3          0        0  37.0   \n",
       "1945       Tytos Lannister     1      3          1        1  47.0   \n",
       "\n",
       "      numDeadRelations  boolDeadRelations  isPopular  popularity  isAlive  \\\n",
       "0                   11                  1          1    0.605351        0   \n",
       "1                    1                  1          1    0.896321        1   \n",
       "2                    0                  0          0    0.267559        1   \n",
       "3                    0                  0          0    0.183946        0   \n",
       "4                    0                  0          0    0.043478        1   \n",
       "...                ...                ...        ...         ...      ...   \n",
       "1941                 0                  0          1    0.351171        0   \n",
       "1942                 0                  0          0    0.096990        0   \n",
       "1943                 0                  0          0    0.030100        1   \n",
       "1944                 0                  0          0    0.130435        1   \n",
       "1945                 4                  1          0    0.210702        0   \n",
       "\n",
       "      isACommander            house  inHouseOfWarLead  houseSworeAllegiance  \\\n",
       "0                0              NaN                 0                     1   \n",
       "1                1       House Frey                 0                     1   \n",
       "2                0      House Swyft                 0                     1   \n",
       "3                0      House Arryn                 0                     1   \n",
       "4                0   House Santagar                 0                     1   \n",
       "...            ...              ...               ...                   ...   \n",
       "1941             0      House Stark                 0                     1   \n",
       "1942             0     House Bolton                 0                     1   \n",
       "1943             0              NaN                 0                     1   \n",
       "1944             0  Three-eyed crow                 0                     0   \n",
       "1945             0  House Lannister                 0                     1   \n",
       "\n",
       "      inHouseOfAllegnc  \n",
       "0                    0  \n",
       "1                    0  \n",
       "2                    0  \n",
       "3                    1  \n",
       "4                    0  \n",
       "...                ...  \n",
       "1941                 1  \n",
       "1942                 0  \n",
       "1943                 0  \n",
       "1944                 0  \n",
       "1945                 1  \n",
       "\n",
       "[1946 rows x 16 columns]"
      ]
     },
     "execution_count": 87,
     "metadata": {},
     "output_type": "execute_result"
    }
   ],
   "source": [
    "new1"
   ]
  },
  {
   "cell_type": "code",
   "execution_count": 86,
   "metadata": {},
   "outputs": [],
   "source": [
    "# new1['inHouseOfWarLead'].sample(10)"
   ]
  },
  {
   "cell_type": "code",
   "execution_count": null,
   "metadata": {},
   "outputs": [
    {
     "name": "stdout",
     "output_type": "stream",
     "text": [
      "<class 'pandas.core.frame.DataFrame'>\n",
      "RangeIndex: 1946 entries, 0 to 1945\n",
      "Data columns (total 14 columns):\n",
      " #   Column                Non-Null Count  Dtype  \n",
      "---  ------                --------------  -----  \n",
      " 0   male                  1946 non-null   int64  \n",
      " 1   books                 1946 non-null   int64  \n",
      " 2   isMarried             1946 non-null   int64  \n",
      " 3   isNoble               1946 non-null   int64  \n",
      " 4   age                   1946 non-null   float64\n",
      " 5   numDeadRelations      1946 non-null   int64  \n",
      " 6   boolDeadRelations     1946 non-null   int64  \n",
      " 7   isPopular             1946 non-null   int64  \n",
      " 8   popularity            1946 non-null   float64\n",
      " 9   isAlive               1946 non-null   int64  \n",
      " 10  isACommander          1946 non-null   int32  \n",
      " 11  inHouseOfWarLead      1946 non-null   int32  \n",
      " 12  houseSworeAllegiance  1946 non-null   int32  \n",
      " 13  inHouseOfAllegnc      1946 non-null   int32  \n",
      "dtypes: float64(2), int32(4), int64(8)\n",
      "memory usage: 182.6 KB\n"
     ]
    }
   ],
   "source": [
    "new1 = new1.drop(columns=['name', 'house'])\n",
    "new1.info()"
   ]
  },
  {
   "cell_type": "code",
   "execution_count": null,
   "metadata": {},
   "outputs": [
    {
     "data": {
      "text/plain": [
       "0.8091042584434655"
      ]
     },
     "execution_count": 722,
     "metadata": {},
     "output_type": "execute_result"
    }
   ],
   "source": [
    "data1 = new1.copy()\n",
    "train1 = data1[:1362]\n",
    "test1 = data1[1362:]\n",
    "\n",
    "features = train1.columns.tolist()\n",
    "features.remove('isAlive')\n",
    "\n",
    "lgr = LogisticRegression(max_iter = 1000)\n",
    "lgr.fit(train1[features], train1['isAlive'])\n",
    "predlgr = lgr.predict(test1[features])\n",
    "lgr.score(train1[features], train1['isAlive'])"
   ]
  },
  {
   "cell_type": "code",
   "execution_count": null,
   "metadata": {},
   "outputs": [
    {
     "data": {
      "text/plain": [
       "0.6712328767123288"
      ]
     },
     "execution_count": 724,
     "metadata": {},
     "output_type": "execute_result"
    }
   ],
   "source": [
    "lgr.score(test1[features], test1['isAlive'])"
   ]
  },
  {
   "cell_type": "code",
   "execution_count": null,
   "metadata": {},
   "outputs": [
    {
     "data": {
      "text/plain": [
       "male                   -0.146982\n",
       "books                   0.038919\n",
       "isMarried              -0.050037\n",
       "isNoble                -0.042211\n",
       "age                    -0.136891\n",
       "numDeadRelations       -0.192444\n",
       "boolDeadRelations      -0.193736\n",
       "isPopular              -0.153860\n",
       "popularity             -0.183223\n",
       "isAlive                 1.000000\n",
       "isACommander           -0.057968\n",
       "inHouseOfWarLead       -0.113636\n",
       "houseSworeAllegiance   -0.024843\n",
       "inHouseOfAllegnc       -0.113380\n",
       "Name: isAlive, dtype: float64"
      ]
     },
     "execution_count": 727,
     "metadata": {},
     "output_type": "execute_result"
    }
   ],
   "source": [
    "new.corr()['isAlive']"
   ]
  }
 ],
 "metadata": {
  "kernelspec": {
   "display_name": "Python 3.10.6 64-bit",
   "language": "python",
   "name": "python3"
  },
  "language_info": {
   "codemirror_mode": {
    "name": "ipython",
    "version": 3
   },
   "file_extension": ".py",
   "mimetype": "text/x-python",
   "name": "python",
   "nbconvert_exporter": "python",
   "pygments_lexer": "ipython3",
   "version": "3.10.6"
  },
  "orig_nbformat": 4,
  "vscode": {
   "interpreter": {
    "hash": "428a2680e134346dc6a50eeb15b5601ea447c297abbe5316187818ea532ba498"
   }
  }
 },
 "nbformat": 4,
 "nbformat_minor": 2
}
