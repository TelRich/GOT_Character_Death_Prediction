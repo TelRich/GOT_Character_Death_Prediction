{
 "cells": [
  {
   "cell_type": "code",
   "execution_count": 1,
   "metadata": {},
   "outputs": [],
   "source": [
    "import pandas as pd\n",
    "import numpy as np\n",
    "import matplotlib.pyplot as plt\n",
    "import seaborn as sb\n",
    "\n",
    "from sklearn.linear_model import LogisticRegression\n",
    "from sklearn.neighbors import KNeighborsClassifier\n",
    "from sklearn.ensemble import RandomForestClassifier\n",
    "from sklearn.tree import DecisionTreeClassifier \n",
    "from xgboost import XGBClassifier as XGBC\n",
    "import sklearn.utils \n",
    "from sklearn.preprocessing import MinMaxScaler, StandardScaler\n",
    "from sklearn.pipeline import Pipeline\n",
    "\n",
    "from sklearn.model_selection import GridSearchCV, KFold, train_test_split, StratifiedKFold, RandomizedSearchCV, cross_val_score\n",
    "from sklearn.metrics import roc_auc_score, accuracy_score, roc_curve, confusion_matrix, classification_report\n",
    "\n",
    "pd.set_option('display.max_columns', 50)"
   ]
  },
  {
   "cell_type": "code",
   "execution_count": 2,
   "metadata": {},
   "outputs": [],
   "source": [
    "cleaned_data = pd.read_csv('cleaned_got_for_ml.csv', index_col=0)"
   ]
  },
  {
   "cell_type": "code",
   "execution_count": 3,
   "metadata": {},
   "outputs": [
    {
     "data": {
      "text/html": [
       "<div>\n",
       "<style scoped>\n",
       "    .dataframe tbody tr th:only-of-type {\n",
       "        vertical-align: middle;\n",
       "    }\n",
       "\n",
       "    .dataframe tbody tr th {\n",
       "        vertical-align: top;\n",
       "    }\n",
       "\n",
       "    .dataframe thead th {\n",
       "        text-align: right;\n",
       "    }\n",
       "</style>\n",
       "<table border=\"1\" class=\"dataframe\">\n",
       "  <thead>\n",
       "    <tr style=\"text-align: right;\">\n",
       "      <th></th>\n",
       "      <th>male</th>\n",
       "      <th>book1</th>\n",
       "      <th>book4</th>\n",
       "      <th>isAliveHeir</th>\n",
       "      <th>age</th>\n",
       "      <th>numDeadRelations</th>\n",
       "      <th>boolDeadRelations</th>\n",
       "      <th>isPopular</th>\n",
       "      <th>popularity</th>\n",
       "      <th>isAlive</th>\n",
       "      <th>inHouseOfAllegnc</th>\n",
       "      <th>mother_Alicent Hightower</th>\n",
       "      <th>mother_Alyssa Targaryen</th>\n",
       "      <th>mother_Alyssa Velaryon</th>\n",
       "      <th>mother_Betha Blackwood</th>\n",
       "      <th>mother_Cassana Estermont</th>\n",
       "      <th>mother_Catelyn Stark</th>\n",
       "      <th>mother_Cersei Lannister</th>\n",
       "      <th>mother_Daenaera Velaryon</th>\n",
       "      <th>mother_Dyanna Dayne</th>\n",
       "      <th>mother_Lady of House Sunderly</th>\n",
       "      <th>mother_Mariah Martell</th>\n",
       "      <th>mother_Naerys Targaryen</th>\n",
       "      <th>mother_Rhaenyra Targaryen</th>\n",
       "      <th>mother_Rhaenys Targaryen</th>\n",
       "      <th>...</th>\n",
       "      <th>father_Viserys I Targaryen</th>\n",
       "      <th>father_unknown</th>\n",
       "      <th>heir_Aegon IV Targaryen</th>\n",
       "      <th>heir_Aegon Targaryen</th>\n",
       "      <th>heir_Aemon Targaryen</th>\n",
       "      <th>heir_Aenys Targaryen</th>\n",
       "      <th>heir_Aerys II Targaryen</th>\n",
       "      <th>heir_Arlan V Durrandon</th>\n",
       "      <th>heir_Baelor 'Breakspear' Targaryen</th>\n",
       "      <th>heir_Baelor I Targaryen</th>\n",
       "      <th>heir_Bran Stark</th>\n",
       "      <th>heir_Daeron I Targaryen</th>\n",
       "      <th>heir_Daeron II Targaryen</th>\n",
       "      <th>heir_Duncan Targaryen</th>\n",
       "      <th>heir_Durran the Devout</th>\n",
       "      <th>heir_Halleck Hoare</th>\n",
       "      <th>heir_Jaehaerys Targaryen</th>\n",
       "      <th>heir_Myrcella Baratheon</th>\n",
       "      <th>heir_Rhaegar Targaryen</th>\n",
       "      <th>heir_Rhaegel Targaryen</th>\n",
       "      <th>heir_Rhaenyra Targaryen</th>\n",
       "      <th>heir_Shireen Baratheon</th>\n",
       "      <th>heir_Theon Greyjoy</th>\n",
       "      <th>heir_Tommen Baratheon</th>\n",
       "      <th>heir_unknown</th>\n",
       "    </tr>\n",
       "  </thead>\n",
       "  <tbody>\n",
       "    <tr>\n",
       "      <th>0</th>\n",
       "      <td>1</td>\n",
       "      <td>0</td>\n",
       "      <td>0</td>\n",
       "      <td>0.0</td>\n",
       "      <td>37.0</td>\n",
       "      <td>11</td>\n",
       "      <td>1</td>\n",
       "      <td>1</td>\n",
       "      <td>0.605351</td>\n",
       "      <td>0</td>\n",
       "      <td>0</td>\n",
       "      <td>0</td>\n",
       "      <td>0</td>\n",
       "      <td>0</td>\n",
       "      <td>0</td>\n",
       "      <td>0</td>\n",
       "      <td>0</td>\n",
       "      <td>0</td>\n",
       "      <td>0</td>\n",
       "      <td>0</td>\n",
       "      <td>0</td>\n",
       "      <td>0</td>\n",
       "      <td>0</td>\n",
       "      <td>1</td>\n",
       "      <td>0</td>\n",
       "      <td>...</td>\n",
       "      <td>0</td>\n",
       "      <td>0</td>\n",
       "      <td>1</td>\n",
       "      <td>0</td>\n",
       "      <td>0</td>\n",
       "      <td>0</td>\n",
       "      <td>0</td>\n",
       "      <td>0</td>\n",
       "      <td>0</td>\n",
       "      <td>0</td>\n",
       "      <td>0</td>\n",
       "      <td>0</td>\n",
       "      <td>0</td>\n",
       "      <td>0</td>\n",
       "      <td>0</td>\n",
       "      <td>0</td>\n",
       "      <td>0</td>\n",
       "      <td>0</td>\n",
       "      <td>0</td>\n",
       "      <td>0</td>\n",
       "      <td>0</td>\n",
       "      <td>0</td>\n",
       "      <td>0</td>\n",
       "      <td>0</td>\n",
       "      <td>0</td>\n",
       "    </tr>\n",
       "    <tr>\n",
       "      <th>1</th>\n",
       "      <td>1</td>\n",
       "      <td>1</td>\n",
       "      <td>1</td>\n",
       "      <td>-1.0</td>\n",
       "      <td>97.0</td>\n",
       "      <td>1</td>\n",
       "      <td>1</td>\n",
       "      <td>1</td>\n",
       "      <td>0.896321</td>\n",
       "      <td>1</td>\n",
       "      <td>0</td>\n",
       "      <td>0</td>\n",
       "      <td>0</td>\n",
       "      <td>0</td>\n",
       "      <td>0</td>\n",
       "      <td>0</td>\n",
       "      <td>0</td>\n",
       "      <td>0</td>\n",
       "      <td>0</td>\n",
       "      <td>0</td>\n",
       "      <td>0</td>\n",
       "      <td>0</td>\n",
       "      <td>0</td>\n",
       "      <td>0</td>\n",
       "      <td>0</td>\n",
       "      <td>...</td>\n",
       "      <td>0</td>\n",
       "      <td>1</td>\n",
       "      <td>0</td>\n",
       "      <td>0</td>\n",
       "      <td>0</td>\n",
       "      <td>0</td>\n",
       "      <td>0</td>\n",
       "      <td>0</td>\n",
       "      <td>0</td>\n",
       "      <td>0</td>\n",
       "      <td>0</td>\n",
       "      <td>0</td>\n",
       "      <td>0</td>\n",
       "      <td>0</td>\n",
       "      <td>0</td>\n",
       "      <td>0</td>\n",
       "      <td>0</td>\n",
       "      <td>0</td>\n",
       "      <td>0</td>\n",
       "      <td>0</td>\n",
       "      <td>0</td>\n",
       "      <td>0</td>\n",
       "      <td>0</td>\n",
       "      <td>0</td>\n",
       "      <td>1</td>\n",
       "    </tr>\n",
       "    <tr>\n",
       "      <th>2</th>\n",
       "      <td>1</td>\n",
       "      <td>0</td>\n",
       "      <td>1</td>\n",
       "      <td>-1.0</td>\n",
       "      <td>37.0</td>\n",
       "      <td>0</td>\n",
       "      <td>0</td>\n",
       "      <td>0</td>\n",
       "      <td>0.267559</td>\n",
       "      <td>1</td>\n",
       "      <td>0</td>\n",
       "      <td>0</td>\n",
       "      <td>0</td>\n",
       "      <td>0</td>\n",
       "      <td>0</td>\n",
       "      <td>0</td>\n",
       "      <td>0</td>\n",
       "      <td>0</td>\n",
       "      <td>0</td>\n",
       "      <td>0</td>\n",
       "      <td>0</td>\n",
       "      <td>0</td>\n",
       "      <td>0</td>\n",
       "      <td>0</td>\n",
       "      <td>0</td>\n",
       "      <td>...</td>\n",
       "      <td>0</td>\n",
       "      <td>1</td>\n",
       "      <td>0</td>\n",
       "      <td>0</td>\n",
       "      <td>0</td>\n",
       "      <td>0</td>\n",
       "      <td>0</td>\n",
       "      <td>0</td>\n",
       "      <td>0</td>\n",
       "      <td>0</td>\n",
       "      <td>0</td>\n",
       "      <td>0</td>\n",
       "      <td>0</td>\n",
       "      <td>0</td>\n",
       "      <td>0</td>\n",
       "      <td>0</td>\n",
       "      <td>0</td>\n",
       "      <td>0</td>\n",
       "      <td>0</td>\n",
       "      <td>0</td>\n",
       "      <td>0</td>\n",
       "      <td>0</td>\n",
       "      <td>0</td>\n",
       "      <td>0</td>\n",
       "      <td>1</td>\n",
       "    </tr>\n",
       "    <tr>\n",
       "      <th>3</th>\n",
       "      <td>0</td>\n",
       "      <td>0</td>\n",
       "      <td>0</td>\n",
       "      <td>-1.0</td>\n",
       "      <td>23.0</td>\n",
       "      <td>0</td>\n",
       "      <td>0</td>\n",
       "      <td>0</td>\n",
       "      <td>0.183946</td>\n",
       "      <td>0</td>\n",
       "      <td>1</td>\n",
       "      <td>0</td>\n",
       "      <td>0</td>\n",
       "      <td>0</td>\n",
       "      <td>0</td>\n",
       "      <td>0</td>\n",
       "      <td>0</td>\n",
       "      <td>0</td>\n",
       "      <td>0</td>\n",
       "      <td>0</td>\n",
       "      <td>0</td>\n",
       "      <td>0</td>\n",
       "      <td>0</td>\n",
       "      <td>0</td>\n",
       "      <td>0</td>\n",
       "      <td>...</td>\n",
       "      <td>0</td>\n",
       "      <td>1</td>\n",
       "      <td>0</td>\n",
       "      <td>0</td>\n",
       "      <td>0</td>\n",
       "      <td>0</td>\n",
       "      <td>0</td>\n",
       "      <td>0</td>\n",
       "      <td>0</td>\n",
       "      <td>0</td>\n",
       "      <td>0</td>\n",
       "      <td>0</td>\n",
       "      <td>0</td>\n",
       "      <td>0</td>\n",
       "      <td>0</td>\n",
       "      <td>0</td>\n",
       "      <td>0</td>\n",
       "      <td>0</td>\n",
       "      <td>0</td>\n",
       "      <td>0</td>\n",
       "      <td>0</td>\n",
       "      <td>0</td>\n",
       "      <td>0</td>\n",
       "      <td>0</td>\n",
       "      <td>1</td>\n",
       "    </tr>\n",
       "    <tr>\n",
       "      <th>4</th>\n",
       "      <td>0</td>\n",
       "      <td>0</td>\n",
       "      <td>1</td>\n",
       "      <td>-1.0</td>\n",
       "      <td>29.0</td>\n",
       "      <td>0</td>\n",
       "      <td>0</td>\n",
       "      <td>0</td>\n",
       "      <td>0.043478</td>\n",
       "      <td>1</td>\n",
       "      <td>0</td>\n",
       "      <td>0</td>\n",
       "      <td>0</td>\n",
       "      <td>0</td>\n",
       "      <td>0</td>\n",
       "      <td>0</td>\n",
       "      <td>0</td>\n",
       "      <td>0</td>\n",
       "      <td>0</td>\n",
       "      <td>0</td>\n",
       "      <td>0</td>\n",
       "      <td>0</td>\n",
       "      <td>0</td>\n",
       "      <td>0</td>\n",
       "      <td>0</td>\n",
       "      <td>...</td>\n",
       "      <td>0</td>\n",
       "      <td>1</td>\n",
       "      <td>0</td>\n",
       "      <td>0</td>\n",
       "      <td>0</td>\n",
       "      <td>0</td>\n",
       "      <td>0</td>\n",
       "      <td>0</td>\n",
       "      <td>0</td>\n",
       "      <td>0</td>\n",
       "      <td>0</td>\n",
       "      <td>0</td>\n",
       "      <td>0</td>\n",
       "      <td>0</td>\n",
       "      <td>0</td>\n",
       "      <td>0</td>\n",
       "      <td>0</td>\n",
       "      <td>0</td>\n",
       "      <td>0</td>\n",
       "      <td>0</td>\n",
       "      <td>0</td>\n",
       "      <td>0</td>\n",
       "      <td>0</td>\n",
       "      <td>0</td>\n",
       "      <td>1</td>\n",
       "    </tr>\n",
       "  </tbody>\n",
       "</table>\n",
       "<p>5 rows × 73 columns</p>\n",
       "</div>"
      ],
      "text/plain": [
       "   male  book1  book4  isAliveHeir   age  numDeadRelations  boolDeadRelations  \\\n",
       "0     1      0      0          0.0  37.0                11                  1   \n",
       "1     1      1      1         -1.0  97.0                 1                  1   \n",
       "2     1      0      1         -1.0  37.0                 0                  0   \n",
       "3     0      0      0         -1.0  23.0                 0                  0   \n",
       "4     0      0      1         -1.0  29.0                 0                  0   \n",
       "\n",
       "   isPopular  popularity  isAlive  inHouseOfAllegnc  mother_Alicent Hightower  \\\n",
       "0          1    0.605351        0                 0                         0   \n",
       "1          1    0.896321        1                 0                         0   \n",
       "2          0    0.267559        1                 0                         0   \n",
       "3          0    0.183946        0                 1                         0   \n",
       "4          0    0.043478        1                 0                         0   \n",
       "\n",
       "   mother_Alyssa Targaryen  mother_Alyssa Velaryon  mother_Betha Blackwood  \\\n",
       "0                        0                       0                       0   \n",
       "1                        0                       0                       0   \n",
       "2                        0                       0                       0   \n",
       "3                        0                       0                       0   \n",
       "4                        0                       0                       0   \n",
       "\n",
       "   mother_Cassana Estermont  mother_Catelyn Stark  mother_Cersei Lannister  \\\n",
       "0                         0                     0                        0   \n",
       "1                         0                     0                        0   \n",
       "2                         0                     0                        0   \n",
       "3                         0                     0                        0   \n",
       "4                         0                     0                        0   \n",
       "\n",
       "   mother_Daenaera Velaryon  mother_Dyanna Dayne  \\\n",
       "0                         0                    0   \n",
       "1                         0                    0   \n",
       "2                         0                    0   \n",
       "3                         0                    0   \n",
       "4                         0                    0   \n",
       "\n",
       "   mother_Lady of House Sunderly  mother_Mariah Martell  \\\n",
       "0                              0                      0   \n",
       "1                              0                      0   \n",
       "2                              0                      0   \n",
       "3                              0                      0   \n",
       "4                              0                      0   \n",
       "\n",
       "   mother_Naerys Targaryen  mother_Rhaenyra Targaryen  \\\n",
       "0                        0                          1   \n",
       "1                        0                          0   \n",
       "2                        0                          0   \n",
       "3                        0                          0   \n",
       "4                        0                          0   \n",
       "\n",
       "   mother_Rhaenys Targaryen  ...  father_Viserys I Targaryen  father_unknown  \\\n",
       "0                         0  ...                           0               0   \n",
       "1                         0  ...                           0               1   \n",
       "2                         0  ...                           0               1   \n",
       "3                         0  ...                           0               1   \n",
       "4                         0  ...                           0               1   \n",
       "\n",
       "   heir_Aegon IV Targaryen  heir_Aegon Targaryen  heir_Aemon Targaryen  \\\n",
       "0                        1                     0                     0   \n",
       "1                        0                     0                     0   \n",
       "2                        0                     0                     0   \n",
       "3                        0                     0                     0   \n",
       "4                        0                     0                     0   \n",
       "\n",
       "   heir_Aenys Targaryen  heir_Aerys II Targaryen  heir_Arlan V Durrandon  \\\n",
       "0                     0                        0                       0   \n",
       "1                     0                        0                       0   \n",
       "2                     0                        0                       0   \n",
       "3                     0                        0                       0   \n",
       "4                     0                        0                       0   \n",
       "\n",
       "   heir_Baelor 'Breakspear' Targaryen  heir_Baelor I Targaryen  \\\n",
       "0                                   0                        0   \n",
       "1                                   0                        0   \n",
       "2                                   0                        0   \n",
       "3                                   0                        0   \n",
       "4                                   0                        0   \n",
       "\n",
       "   heir_Bran Stark  heir_Daeron I Targaryen  heir_Daeron II Targaryen  \\\n",
       "0                0                        0                         0   \n",
       "1                0                        0                         0   \n",
       "2                0                        0                         0   \n",
       "3                0                        0                         0   \n",
       "4                0                        0                         0   \n",
       "\n",
       "   heir_Duncan Targaryen  heir_Durran the Devout  heir_Halleck Hoare  \\\n",
       "0                      0                       0                   0   \n",
       "1                      0                       0                   0   \n",
       "2                      0                       0                   0   \n",
       "3                      0                       0                   0   \n",
       "4                      0                       0                   0   \n",
       "\n",
       "   heir_Jaehaerys Targaryen  heir_Myrcella Baratheon  heir_Rhaegar Targaryen  \\\n",
       "0                         0                        0                       0   \n",
       "1                         0                        0                       0   \n",
       "2                         0                        0                       0   \n",
       "3                         0                        0                       0   \n",
       "4                         0                        0                       0   \n",
       "\n",
       "   heir_Rhaegel Targaryen  heir_Rhaenyra Targaryen  heir_Shireen Baratheon  \\\n",
       "0                       0                        0                       0   \n",
       "1                       0                        0                       0   \n",
       "2                       0                        0                       0   \n",
       "3                       0                        0                       0   \n",
       "4                       0                        0                       0   \n",
       "\n",
       "   heir_Theon Greyjoy  heir_Tommen Baratheon  heir_unknown  \n",
       "0                   0                      0             0  \n",
       "1                   0                      0             1  \n",
       "2                   0                      0             1  \n",
       "3                   0                      0             1  \n",
       "4                   0                      0             1  \n",
       "\n",
       "[5 rows x 73 columns]"
      ]
     },
     "execution_count": 3,
     "metadata": {},
     "output_type": "execute_result"
    }
   ],
   "source": [
    "cleaned_data.head()"
   ]
  },
  {
   "cell_type": "code",
   "execution_count": 4,
   "metadata": {},
   "outputs": [],
   "source": [
    "# Under Sampling Data\n",
    "dead = cleaned_data[cleaned_data['isAlive'] == 0]\n",
    "alive = cleaned_data[cleaned_data['isAlive'] == 1].sample(500, random_state=42)\n",
    "und_samp_df = pd.concat([dead, alive])\n",
    "\n",
    "und_samp_df = sklearn.utils.shuffle(und_samp_df, random_state=42)\n",
    "und_samp_df = und_samp_df.reset_index(drop=True)\n",
    "\n",
    "# Scaling our cleaned_data\n",
    "scaler = StandardScaler()\n",
    "norm_df = scaler.fit_transform(und_samp_df)\n",
    "norm_df = pd.DataFrame(norm_df, columns=und_samp_df.columns)\n",
    "norm_df['isAlive'] = und_samp_df['isAlive']\n",
    "\n",
    "# Creating Features and Target\n",
    "x = norm_df.drop(columns='isAlive')\n",
    "y = norm_df['isAlive']\n",
    "\n",
    "# Splitting the cleaned_data for model training \n",
    "x_train, x_test, y_train, y_test = train_test_split(x,y, test_size=.3, shuffle=True, random_state=5, stratify=y)\n",
    "\n",
    "# creating a seed\n",
    "fixed_seed = 42"
   ]
  },
  {
   "cell_type": "code",
   "execution_count": 5,
   "metadata": {},
   "outputs": [
    {
     "data": {
      "text/html": [
       "<div>\n",
       "<style scoped>\n",
       "    .dataframe tbody tr th:only-of-type {\n",
       "        vertical-align: middle;\n",
       "    }\n",
       "\n",
       "    .dataframe tbody tr th {\n",
       "        vertical-align: top;\n",
       "    }\n",
       "\n",
       "    .dataframe thead th {\n",
       "        text-align: right;\n",
       "    }\n",
       "</style>\n",
       "<table border=\"1\" class=\"dataframe\">\n",
       "  <thead>\n",
       "    <tr style=\"text-align: right;\">\n",
       "      <th></th>\n",
       "      <th>Train Score</th>\n",
       "      <th>Test_Score</th>\n",
       "      <th>ROC_AUC Score</th>\n",
       "    </tr>\n",
       "  </thead>\n",
       "  <tbody>\n",
       "    <tr>\n",
       "      <th>LogisticRegression</th>\n",
       "      <td>0.709770</td>\n",
       "      <td>0.648829</td>\n",
       "      <td>0.724318</td>\n",
       "    </tr>\n",
       "    <tr>\n",
       "      <th>KNeighborsClassifier</th>\n",
       "      <td>0.784483</td>\n",
       "      <td>0.682274</td>\n",
       "      <td>0.737987</td>\n",
       "    </tr>\n",
       "    <tr>\n",
       "      <th>RandomForestClassifier</th>\n",
       "      <td>0.896552</td>\n",
       "      <td>0.692308</td>\n",
       "      <td>0.746711</td>\n",
       "    </tr>\n",
       "    <tr>\n",
       "      <th>DecisionTreeClassifier</th>\n",
       "      <td>0.896552</td>\n",
       "      <td>0.675585</td>\n",
       "      <td>0.697673</td>\n",
       "    </tr>\n",
       "    <tr>\n",
       "      <th>XGBC</th>\n",
       "      <td>0.873563</td>\n",
       "      <td>0.688963</td>\n",
       "      <td>0.762461</td>\n",
       "    </tr>\n",
       "  </tbody>\n",
       "</table>\n",
       "</div>"
      ],
      "text/plain": [
       "                        Train Score  Test_Score  ROC_AUC Score\n",
       "LogisticRegression         0.709770    0.648829       0.724318\n",
       "KNeighborsClassifier       0.784483    0.682274       0.737987\n",
       "RandomForestClassifier     0.896552    0.692308       0.746711\n",
       "DecisionTreeClassifier     0.896552    0.675585       0.697673\n",
       "XGBC                       0.873563    0.688963       0.762461"
      ]
     },
     "execution_count": 5,
     "metadata": {},
     "output_type": "execute_result"
    },
    {
     "data": {
      "image/png": "[encoded data removed]",
      "text/plain": [
       "<Figure size 720x720 with 1 Axes>"
      ]
     },
     "metadata": {},
     "output_type": "display_data"
    }
   ],
   "source": [
    "\n",
    "def train_and_score(x, y):\n",
    "    # Models for training\n",
    "    models = [LogisticRegression(random_state=fixed_seed), KNeighborsClassifier(), RandomForestClassifier(random_state=fixed_seed),\n",
    "            DecisionTreeClassifier(random_state=fixed_seed),  XGBC(seed=fixed_seed)]\n",
    "\n",
    "    test_score = []\n",
    "    train_score = []\n",
    "    roc_auc_lst = []\n",
    "\n",
    "    # Loops through each mosel and get their score\n",
    "    for model in models:\n",
    "        model.fit(x_train, y_train)\n",
    "        proba = model.predict_proba(x_test)[:, 1]\n",
    "        test = model.score(x_test, y_test)\n",
    "        train = model.score(x_train, y_train)\n",
    "        roc_auc = roc_auc_score(y_test, proba)\n",
    "        test_score.append(test)\n",
    "        train_score.append(train)\n",
    "        roc_auc_lst.append(roc_auc)\n",
    "    # Score dataframe   \n",
    "    models_score = {\n",
    "        'Train Score': train_score,\n",
    "        'Test_Score': test_score,\n",
    "        \"ROC_AUC Score\": roc_auc_lst\n",
    "    }\n",
    "    df= pd.DataFrame(models_score, index=['LogisticRegression','KNeighborsClassifier', 'RandomForestClassifier', \n",
    "                                    'DecisionTreeClassifier', 'XGBC'])\n",
    "    \n",
    "    # Using stratified kfold to get the recall of each model\n",
    "    skf = StratifiedKFold(n_splits= 5 , shuffle= True , random_state= fixed_seed ) \n",
    "    recall=[]\n",
    "    for model in models:\n",
    "        result = cross_val_score(model, x, y, cv=skf, scoring=\"recall\", n_jobs=-1)\n",
    "        recall.append(result)\n",
    "    classifiers=['Logistic Regression', 'KNeighborsClassifier', 'RandomForest', 'DescisionTree', 'XGB']\n",
    "\n",
    "    plt.figure(figsize=(10, 10))\n",
    "    for x in range(len(recall)):\n",
    "        sb.kdeplot(recall[x], shade=True)\n",
    "        \n",
    "    plt.title(\"Distribution of each classifier's Recall\", fontsize=15)\n",
    "    plt.legend(classifiers)\n",
    "    plt.xlabel(\"Recall\", labelpad=20)\n",
    "    plt.yticks([])\n",
    "    return df\n",
    "    plt.show()\n",
    "    \n",
    "train_and_score(x, y)"
   ]
  },
  {
   "cell_type": "code",
   "execution_count": 6,
   "metadata": {},
   "outputs": [
    {
     "data": {
      "image/png": "[encoded data removed]",
      "text/plain": [
       "<Figure size 1080x1080 with 8 Axes>"
      ]
     },
     "metadata": {},
     "output_type": "display_data"
    }
   ],
   "source": [
    "def model_confusion_matrix():\n",
    "    # Models with AUC-ROC score > 0.7\n",
    "    sub_models = [LogisticRegression(random_state=fixed_seed), KNeighborsClassifier(), RandomForestClassifier(random_state=fixed_seed), XGBC(seed=fixed_seed)]\n",
    "    # Getting the confusion metric for each model \n",
    "    cm = []\n",
    "    for model in sub_models:\n",
    "        model.fit(x_train, y_train)\n",
    "        pred = model.predict(x_test)\n",
    "        model_cm = confusion_matrix(y_test, pred)\n",
    "        cm.append(model_cm)\n",
    "        \n",
    "    # Function to plot heatmap\n",
    "    def cm_heatmap(cm, ax, r, c, model):\n",
    "        title = str(sub_models[model]).split('(')[0]\n",
    "        ax[r,c].set_title(f\"{title} Confusion Matrix\", fontsize=15.)\n",
    "        fig = sb.heatmap(cm, square = True, xticklabels = [\"Deceased\", \"Alive\"], annot = True, ax=ax[r,c],\n",
    "                        annot_kws = {\"fontsize\": 13}, yticklabels = [\"Deceased\", \"Alive\"],\n",
    "                        cbar = True, cbar_kws = {\"orientation\": \"vertical\"}, cmap = \"BrBG\", fmt='d').set(\n",
    "            xlabel = \"Predicted Class\", ylabel = \"Actual Class\",)\n",
    "        return fig\n",
    "    \n",
    "    # Displaying confusion metrics\n",
    "    f, ax = plt.subplots(2, 2, figsize=(15, 15))\n",
    "    cm_heatmap(cm[0], ax, 0, 0, 0)\n",
    "    cm_heatmap(cm[1], ax, 0, 1, 1)\n",
    "    cm_heatmap(cm[2], ax, 1, 0, 2)\n",
    "    cm_heatmap(cm[3], ax, 1, 1, 3)\n",
    "    plt.show()\n",
    "\n",
    "model_confusion_matrix()"
   ]
  },
  {
   "cell_type": "code",
   "execution_count": 7,
   "metadata": {},
   "outputs": [
    {
     "data": {
      "image/png": "[encoded data removed]",
      "text/plain": [
       "<Figure size 576x576 with 1 Axes>"
      ]
     },
     "metadata": {},
     "output_type": "display_data"
    }
   ],
   "source": [
    "def model_ROC_curve():\n",
    "    # Two best model based on AUC-ROC score and confusion matrix observation.\n",
    "    best_model = [RandomForestClassifier(random_state=fixed_seed), XGBC(seed=fixed_seed)]\n",
    "    # ROC curve for each model\n",
    "    roc = []\n",
    "    for model in best_model:\n",
    "        model.fit(x_train, y_train)\n",
    "        proba = model.predict_proba(x_test)[:, 1]\n",
    "        roc_cur = roc_curve(y_test, proba)\n",
    "        roc.append(roc_cur)\n",
    "    \n",
    "    # Plotting ROC curve for the models\n",
    "    fig = plt.figure(figsize=(8, 8))\n",
    "    fpr1, tpr1, thresholds1 = roc[0]\n",
    "    fpr2, tpr2, thresholds2 = roc[1]\n",
    "\n",
    "    plt.plot([0, 1], [0, 1], 'k--')\n",
    "\n",
    "    # Plot tpr against fpr\n",
    "    plt.plot(fpr1, tpr1, color='r')\n",
    "    plt.plot(fpr2, tpr2, color='g')\n",
    "    plt.legend(['RandomForestClassifier', 'XGBC'], loc=\"lower right\")\n",
    "    plt.xlabel('False Positive Rate')\n",
    "    plt.ylabel('True Positive Rate')\n",
    "    plt.title('ROC Curve for Character Death Prediction')\n",
    "    plt.show()\n",
    "    \n",
    "model_ROC_curve()"
   ]
  },
  {
   "cell_type": "code",
   "execution_count": 8,
   "metadata": {},
   "outputs": [
    {
     "name": "stdout",
     "output_type": "stream",
     "text": [
      "RandomForestClassifier\n",
      "              precision    recall  f1-score   support\n",
      "\n",
      "        Dead       0.68      0.71      0.70       149\n",
      "       Alive       0.70      0.67      0.69       150\n",
      "\n",
      "    accuracy                           0.69       299\n",
      "   macro avg       0.69      0.69      0.69       299\n",
      "weighted avg       0.69      0.69      0.69       299\n",
      "\n",
      "========================================\n",
      "XGBClassifier\n",
      "              precision    recall  f1-score   support\n",
      "\n",
      "        Dead       0.67      0.73      0.70       149\n",
      "       Alive       0.71      0.65      0.68       150\n",
      "\n",
      "    accuracy                           0.69       299\n",
      "   macro avg       0.69      0.69      0.69       299\n",
      "weighted avg       0.69      0.69      0.69       299\n",
      "\n",
      "========================================\n"
     ]
    }
   ],
   "source": [
    "# Two best model based on AUC-ROC score and confusion matrix observation.\n",
    "best_model = [RandomForestClassifier(random_state=fixed_seed), XGBC(seed=fixed_seed)]\n",
    "\n",
    "for model in best_model:\n",
    "    model.fit(x_train, y_train)\n",
    "    pred = model.predict(x_test)\n",
    "    print(str(model).split('(')[0])\n",
    "    cls_rep = classification_report(y_test, pred, target_names=['Dead', 'Alive'])\n",
    "    print(cls_rep)\n",
    "    print('='*40)"
   ]
  },
  {
   "attachments": {},
   "cell_type": "markdown",
   "metadata": {},
   "source": [
    "## Hyper Parameter Tuning 1"
   ]
  },
  {
   "attachments": {},
   "cell_type": "markdown",
   "metadata": {},
   "source": [
    "### Random Search with Cross Validation"
   ]
  },
  {
   "cell_type": "code",
   "execution_count": 9,
   "metadata": {},
   "outputs": [],
   "source": [
    "random_grid = {'bootstrap': [True, False],\n",
    "                'max_depth': [20, 40, 60, 80,],\n",
    "                'max_features': ['auto', 'sqrt'],\n",
    "                'min_samples_leaf': [1, 2, 4],\n",
    "                'min_samples_split': [2, 5, 10],\n",
    "                'criterion': [\"gini\", \"entropy\"],\n",
    "                'n_estimators': [200, 400, 600, 800,],\n",
    "                }"
   ]
  },
  {
   "cell_type": "code",
   "execution_count": 10,
   "metadata": {},
   "outputs": [
    {
     "name": "stdout",
     "output_type": "stream",
     "text": [
      "Fitting 3 folds for each of 100 candidates, totalling 300 fits\n"
     ]
    },
    {
     "data": {
      "text/plain": [
       "RandomizedSearchCV(cv=3, estimator=RandomForestClassifier(random_state=42),\n",
       "                   n_iter=100, n_jobs=-1,\n",
       "                   param_distributions={'bootstrap': [True, False],\n",
       "                                        'criterion': ['gini', 'entropy'],\n",
       "                                        'max_depth': [20, 40, 60, 80],\n",
       "                                        'max_features': ['auto', 'sqrt'],\n",
       "                                        'min_samples_leaf': [1, 2, 4],\n",
       "                                        'min_samples_split': [2, 5, 10],\n",
       "                                        'n_estimators': [200, 400, 600, 800]},\n",
       "                   random_state=42, scoring='neg_mean_absolute_error',\n",
       "                   verbose=2)"
      ]
     },
     "execution_count": 10,
     "metadata": {},
     "output_type": "execute_result"
    }
   ],
   "source": [
    "# Use the random grid to search for best hyperparameters\n",
    "# First create the base model to tune\n",
    "rfc = RandomForestClassifier(random_state=fixed_seed)\n",
    "# Random search of parameters, using 3 fold cross validation, \n",
    "# search across 100 different combinations, and use all available cores\n",
    "rfc_random = RandomizedSearchCV(estimator = rfc, param_distributions = random_grid, n_iter = 100, cv = 3, verbose=2, \n",
    "                                random_state=fixed_seed, n_jobs = -1, scoring='neg_mean_absolute_error')\n",
    "# Fit the random search model\n",
    "rfc_random.fit(x_train, y_train)"
   ]
  },
  {
   "cell_type": "code",
   "execution_count": 11,
   "metadata": {},
   "outputs": [
    {
     "data": {
      "text/plain": [
       "{'n_estimators': 200,\n",
       " 'min_samples_split': 5,\n",
       " 'min_samples_leaf': 4,\n",
       " 'max_features': 'auto',\n",
       " 'max_depth': 80,\n",
       " 'criterion': 'gini',\n",
       " 'bootstrap': False}"
      ]
     },
     "execution_count": 11,
     "metadata": {},
     "output_type": "execute_result"
    }
   ],
   "source": [
    "rfc_random.best_params_"
   ]
  },
  {
   "cell_type": "code",
   "execution_count": 12,
   "metadata": {},
   "outputs": [],
   "source": [
    "def evaluate(model, test_features, test_labels):\n",
    "    predictions = model.predict(test_features)\n",
    "    errors = abs(predictions - test_labels)\n",
    "    print('Model Performance')\n",
    "    print('='*30)\n",
    "    avg_error = 'Average Error: {:0.4f} degrees.'.format(np.mean(errors))\n",
    "    print(avg_error)\n",
    "    accuracy = accuracy_score(y_test, predictions)\n",
    "    print('Accuracy: {:0.2f}%.'.format(100 * accuracy))\n",
    "    \n",
    "    return [np.mean(errors), accuracy]\n",
    "\n",
    "def improvement(new_score, base):\n",
    "    print('Improvement Error: {:0.2f}%.'.format( 100 * (new_score[0] - base[0]) / base[0]))\n",
    "    print('Improvement Accuracy: {:0.2f}%.'.format( 100 * (new_score[1] - base[1]) / base[1]))\n",
    "    print('=' * 30)\n"
   ]
  },
  {
   "attachments": {},
   "cell_type": "markdown",
   "metadata": {},
   "source": [
    "## Evaluate Performance of the Model"
   ]
  },
  {
   "cell_type": "code",
   "execution_count": 13,
   "metadata": {},
   "outputs": [
    {
     "name": "stdout",
     "output_type": "stream",
     "text": [
      "Model Performance\n",
      "==============================\n",
      "Average Error: 0.3077 degrees.\n",
      "Accuracy: 69.23%.\n"
     ]
    }
   ],
   "source": [
    "base_model = RandomForestClassifier(n_estimators = 100, random_state = fixed_seed)\n",
    "base_model.fit(x_train, y_train)\n",
    "base_performance = evaluate(base_model, x_test, y_test)"
   ]
  },
  {
   "attachments": {},
   "cell_type": "markdown",
   "metadata": {},
   "source": [
    "#### Performance of Beast Random Search Model"
   ]
  },
  {
   "cell_type": "code",
   "execution_count": 14,
   "metadata": {},
   "outputs": [
    {
     "name": "stdout",
     "output_type": "stream",
     "text": [
      "Model Performance\n",
      "==============================\n",
      "Average Error: 0.3010 degrees.\n",
      "Accuracy: 69.90%.\n",
      "Improvement Error: -2.17%.\n",
      "Improvement Accuracy: 0.97%.\n",
      "==============================\n"
     ]
    }
   ],
   "source": [
    "best_random = rfc_random.best_estimator_\n",
    "random_performance = evaluate(best_random, x_test, y_test)\n",
    "improvement(random_performance, base_performance)"
   ]
  },
  {
   "attachments": {},
   "cell_type": "markdown",
   "metadata": {},
   "source": [
    "Now let's do a grid search around the best parameter gotten from the random search"
   ]
  },
  {
   "attachments": {},
   "cell_type": "markdown",
   "metadata": {},
   "source": [
    "## Hyper Parameter Tuning 2"
   ]
  },
  {
   "attachments": {},
   "cell_type": "markdown",
   "metadata": {},
   "source": [
    "### Grid Search with Cross Validation"
   ]
  },
  {
   "cell_type": "code",
   "execution_count": 15,
   "metadata": {},
   "outputs": [
    {
     "name": "stdout",
     "output_type": "stream",
     "text": [
      "Fitting 3 folds for each of 54 candidates, totalling 162 fits\n"
     ]
    },
    {
     "data": {
      "text/plain": [
       "GridSearchCV(cv=3, estimator=RandomForestClassifier(random_state=42), n_jobs=-1,\n",
       "             param_grid={'bootstrap': [False], 'criterion': ['gini'],\n",
       "                         'max_depth': [50, 60], 'max_features': ['auto'],\n",
       "                         'min_samples_leaf': [3, 4, 5],\n",
       "                         'min_samples_split': [2, 3, 4],\n",
       "                         'n_estimators': [200, 400, 600]},\n",
       "             scoring='neg_mean_absolute_error', verbose=2)"
      ]
     },
     "execution_count": 15,
     "metadata": {},
     "output_type": "execute_result"
    }
   ],
   "source": [
    "# Create the parameter grid based on the results of random search \n",
    "param_grid = {\n",
    "    'bootstrap': [False],\n",
    "    'max_depth': [50, 60],\n",
    "    'max_features': ['auto'],\n",
    "    'min_samples_leaf': [3, 4, 5],\n",
    "    'min_samples_split': [2, 3, 4],\n",
    "    'n_estimators': [200, 400, 600],\n",
    "    'criterion': [\"gini\"]\n",
    "}\n",
    "# Create a based model\n",
    "rfc = RandomForestClassifier(random_state=fixed_seed)\n",
    "# Instantiate the grid search model\n",
    "grid_search = GridSearchCV(estimator = rfc, param_grid = param_grid, scoring='neg_mean_absolute_error',\n",
    "                          cv = 3, n_jobs = -1, verbose = 2)\n",
    "grid_search.fit(x_train, y_train)"
   ]
  },
  {
   "cell_type": "code",
   "execution_count": 16,
   "metadata": {},
   "outputs": [
    {
     "data": {
      "text/plain": [
       "{'bootstrap': False,\n",
       " 'criterion': 'gini',\n",
       " 'max_depth': 50,\n",
       " 'max_features': 'auto',\n",
       " 'min_samples_leaf': 5,\n",
       " 'min_samples_split': 2,\n",
       " 'n_estimators': 200}"
      ]
     },
     "execution_count": 16,
     "metadata": {},
     "output_type": "execute_result"
    }
   ],
   "source": [
    "grid_search.best_params_"
   ]
  },
  {
   "attachments": {},
   "cell_type": "markdown",
   "metadata": {},
   "source": [
    "#### Performance of Best Model from Grid Search"
   ]
  },
  {
   "cell_type": "code",
   "execution_count": 17,
   "metadata": {},
   "outputs": [
    {
     "name": "stdout",
     "output_type": "stream",
     "text": [
      "Model Performance\n",
      "==============================\n",
      "Average Error: 0.3077 degrees.\n",
      "Accuracy: 69.23%.\n",
      "Improvement Error: 0.00%.\n",
      "Improvement Accuracy: 0.00%.\n",
      "==============================\n"
     ]
    }
   ],
   "source": [
    "best_grid = grid_search.best_estimator_\n",
    "grid_performance = evaluate(best_grid, x_test, y_test)\n",
    "improvement(grid_performance, base_performance)"
   ]
  },
  {
   "attachments": {},
   "cell_type": "markdown",
   "metadata": {},
   "source": [
    "There seem to be a hug\n",
    "It seems we have about maxed out performance, but we can give it one more try with a grid further refined from our previous results. The code is the same as before just with a different grid so I only present the results:"
   ]
  },
  {
   "attachments": {},
   "cell_type": "markdown",
   "metadata": {},
   "source": [
    "## Hyper Parameter Tuning 3"
   ]
  },
  {
   "attachments": {},
   "cell_type": "markdown",
   "metadata": {},
   "source": [
    "#### Another Grid Search"
   ]
  },
  {
   "cell_type": "code",
   "execution_count": 18,
   "metadata": {},
   "outputs": [
    {
     "name": "stdout",
     "output_type": "stream",
     "text": [
      "Fitting 3 folds for each of 36 candidates, totalling 108 fits\n"
     ]
    },
    {
     "data": {
      "text/plain": [
       "GridSearchCV(cv=3, estimator=RandomForestClassifier(random_state=42), n_jobs=-1,\n",
       "             param_grid={'bootstrap': [False], 'criterion': ['gini'],\n",
       "                         'max_depth': [40, 50], 'max_features': ['auto'],\n",
       "                         'min_samples_leaf': [5, 6, 7],\n",
       "                         'min_samples_split': [2, 3],\n",
       "                         'n_estimators': [100, 200, 300]},\n",
       "             scoring='neg_mean_absolute_error', verbose=2)"
      ]
     },
     "execution_count": 18,
     "metadata": {},
     "output_type": "execute_result"
    }
   ],
   "source": [
    "# Create the parameter grid based on the results of random search \n",
    "param_grid = {\n",
    "    'bootstrap': [False],\n",
    "    'max_depth': [40, 50,],\n",
    "    'max_features': ['auto'],\n",
    "    'min_samples_leaf': [5, 6, 7],\n",
    "    'min_samples_split': [2, 3],\n",
    "    'n_estimators': [100, 200, 300],\n",
    "    'criterion': [\"gini\"]\n",
    "}\n",
    "# Create a based model\n",
    "rfc = RandomForestClassifier(random_state=fixed_seed)\n",
    "# Instantiate the grid search model\n",
    "grid_search = GridSearchCV(estimator = rfc, param_grid = param_grid, scoring='neg_mean_absolute_error',\n",
    "                          cv = 3, n_jobs = -1, verbose = 2)\n",
    "grid_search.fit(x_train, y_train)"
   ]
  },
  {
   "cell_type": "code",
   "execution_count": 19,
   "metadata": {},
   "outputs": [
    {
     "data": {
      "text/plain": [
       "{'bootstrap': False,\n",
       " 'criterion': 'gini',\n",
       " 'max_depth': 40,\n",
       " 'max_features': 'auto',\n",
       " 'min_samples_leaf': 5,\n",
       " 'min_samples_split': 2,\n",
       " 'n_estimators': 100}"
      ]
     },
     "execution_count": 19,
     "metadata": {},
     "output_type": "execute_result"
    }
   ],
   "source": [
    "grid_search.best_params_"
   ]
  },
  {
   "cell_type": "code",
   "execution_count": 20,
   "metadata": {},
   "outputs": [
    {
     "name": "stdout",
     "output_type": "stream",
     "text": [
      "Model Performance\n",
      "==============================\n",
      "Average Error: 0.2910 degrees.\n",
      "Accuracy: 70.90%.\n",
      "Improvement Error: -5.43%.\n",
      "Improvement Accuracy: 2.42%.\n",
      "==============================\n"
     ]
    }
   ],
   "source": [
    "best_grid = grid_search.best_estimator_\n",
    "grid_performance2 = evaluate(best_grid, x_test, y_test)\n",
    "improvement(grid_performance2, base_performance)"
   ]
  },
  {
   "attachments": {},
   "cell_type": "markdown",
   "metadata": {},
   "source": [
    "A big decrease in performance, that is, the error has decrease by 9.38%, yet the same best parameters was given. This indicates we have reached diminishing returns for hyperparameter tuning. We could continue, but the returns would be the same output in terms of parameters."
   ]
  },
  {
   "attachments": {},
   "cell_type": "markdown",
   "metadata": {},
   "source": [
    "### Final Model "
   ]
  },
  {
   "cell_type": "code",
   "execution_count": 21,
   "metadata": {},
   "outputs": [
    {
     "name": "stdout",
     "output_type": "stream",
     "text": [
      "Final Model Parameter:\n",
      "==============================\n",
      "{'bootstrap': False, 'ccp_alpha': 0.0, 'class_weight': None, 'criterion': 'gini', 'max_depth': 40, 'max_features': 'auto', 'max_leaf_nodes': None, 'max_samples': None, 'min_impurity_decrease': 0.0, 'min_samples_leaf': 5, 'min_samples_split': 2, 'min_weight_fraction_leaf': 0.0, 'n_estimators': 100, 'n_jobs': None, 'oob_score': False, 'random_state': 42, 'verbose': 0, 'warm_start': False}\n",
      "==============================\n",
      "Model Performance\n",
      "==============================\n",
      "Average Error: 0.2910 degrees.\n",
      "Accuracy: 70.90%.\n"
     ]
    }
   ],
   "source": [
    "final_model = grid_search.best_estimator_\n",
    "print('Final Model Parameter:')\n",
    "print('='*30)\n",
    "print(final_model.get_params())\n",
    "print('='*30)\n",
    "grid_final_accuracy = evaluate(final_model, x_test, y_test)"
   ]
  }
 ],
 "metadata": {
  "kernelspec": {
   "display_name": "base",
   "language": "python",
   "name": "python3"
  },
  "language_info": {
   "codemirror_mode": {
    "name": "ipython",
    "version": 3
   },
   "file_extension": ".py",
   "mimetype": "text/x-python",
   "name": "python",
   "nbconvert_exporter": "python",
   "pygments_lexer": "ipython3",
   "version": "3.9.12"
  },
  "orig_nbformat": 4,
  "vscode": {
   "interpreter": {
    "hash": "b68a3c467d07aa8b20c71071b0b7606f948be72d30c76b97a14d11803ebfb6c4"
   }
  }
 },
 "nbformat": 4,
 "nbformat_minor": 2
}
