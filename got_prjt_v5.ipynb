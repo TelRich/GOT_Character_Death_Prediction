{
 "cells": [
  {
   "attachments": {},
   "cell_type": "markdown",
   "metadata": {},
   "source": [
    "![](2022-12-15-14-05-51.png)\n",
    "\n",
    "# Game of Thrones Analysis\n",
    "\n",
    "## Introduction\n",
    "\n",
    "Game of Thrones, popularly known as GOT, is a hit fantasy film series based on the equally famous book series \"A Song of Fire and Ice\" by George RR Martin. GOT is well-known for its vastly complicated political landscape, large cast of characters, and compelling storyline. However, the film is well-known for a number of character deaths.\n",
    "\n",
    "## Aims and Objectives\n",
    "The project's goal is to use a carefully curated dataset to predict a character's death.\n",
    "In this project, we wanted to find features that are shared by all previously deceased characters and use these features to predict character deaths based on certain features.\n",
    "\n",
    "## Data Description \n",
    "\n",
    "Three datasets were used for this analysis:\n",
    "\n",
    "The first file is battles.csv, which contains Chris Albon's \"The War of the Five Kings\" Dataset which can be found at [here](https://github.com/chrisalbon/war_of_the_five_kings_dataset). It's an excellent collection of all of the series' battles.\n",
    "\n",
    "Then there's Erin Pierce's and Ben Kahle's character-deaths.csv. This dataset was developed as part of Allen Downey's Bayesian Survival Analysis, which can be found at [here](http://allendowney.blogspot.com/2015/03/bayesian-survival-analysis-for-game-of-life.html).\n",
    "\n",
    "Finally, character-predictions.csv contains a more detailed character dataset. This was scraped from [Westeros site](http://awoiaf.westeros.org/) by the team at A Song of Ice and Data.It also includes their predictions for which characters will die, the methodology of which can be found [here](https://got.show/machine-learning-algorithm-predicts-death-game-of-thrones)\n"
   ]
  },
  {
   "attachments": {},
   "cell_type": "markdown",
   "metadata": {},
   "source": [
    "## Project Process\n",
    "![](2022-12-15-16-15-01.png)"
   ]
  },
  {
   "cell_type": "markdown",
   "metadata": {},
   "source": [
    "### Importing modules"
   ]
  },
  {
   "cell_type": "code",
   "execution_count": 640,
   "metadata": {},
   "outputs": [
    {
     "data": {
      "text/html": [
       "        <script type=\"text/javascript\">\n",
       "        window.PlotlyConfig = {MathJaxConfig: 'local'};\n",
       "        if (window.MathJax) {MathJax.Hub.Config({SVG: {font: \"STIX-Web\"}});}\n",
       "        if (typeof require !== 'undefined') {\n",
       "        require.undef(\"plotly\");\n",
       "        requirejs.config({\n",
       "            paths: {\n",
       "                'plotly': ['https://cdn.plot.ly/plotly-2.9.0.min']\n",
       "            }\n",
       "        });\n",
       "        require(['plotly'], function(Plotly) {\n",
       "            window._Plotly = Plotly;\n",
       "        });\n",
       "        }\n",
       "        </script>\n",
       "        "
      ]
     },
     "metadata": {},
     "output_type": "display_data"
    }
   ],
   "source": [
    "import pandas as pd\n",
    "import numpy as np\n",
    "import matplotlib.pyplot as plt\n",
    "import seaborn as sb\n",
    "\n",
    "from sklearn.linear_model import LogisticRegression\n",
    "from sklearn.neighbors import KNeighborsClassifier\n",
    "from sklearn.ensemble import RandomForestClassifier\n",
    "from sklearn.tree import DecisionTreeClassifier \n",
    "from xgboost import XGBClassifier as XGBC\n",
    "import sklearn.utils \n",
    "from sklearn.preprocessing import StandardScaler\n",
    "from sklearn.pipeline import Pipeline\n",
    "\n",
    "from sklearn.model_selection import GridSearchCV, KFold, train_test_split, StratifiedKFold, RandomizedSearchCV, cross_val_score\n",
    "from sklearn.metrics import roc_auc_score, accuracy_score, roc_curve, confusion_matrix, classification_report\n",
    "\n",
    "pd.set_option('display.max_columns', 50)"
   ]
  },
  {
   "cell_type": "markdown",
   "metadata": {},
   "source": [
    "### Loading Data"
   ]
  },
  {
   "cell_type": "code",
   "execution_count": 573,
   "metadata": {},
   "outputs": [],
   "source": [
    "battles = pd.read_csv('battles.csv')\n",
    "char_deaths = pd.read_csv('character-deaths.csv')\n",
    "char_pred = pd.read_csv('character-predictions.csv')"
   ]
  },
  {
   "attachments": {},
   "cell_type": "markdown",
   "metadata": {},
   "source": [
    "### Data Preview"
   ]
  },
  {
   "cell_type": "code",
   "execution_count": 574,
   "metadata": {},
   "outputs": [
    {
     "data": {
      "text/html": [
       "<div>\n",
       "<style scoped>\n",
       "    .dataframe tbody tr th:only-of-type {\n",
       "        vertical-align: middle;\n",
       "    }\n",
       "\n",
       "    .dataframe tbody tr th {\n",
       "        vertical-align: top;\n",
       "    }\n",
       "\n",
       "    .dataframe thead th {\n",
       "        text-align: right;\n",
       "    }\n",
       "</style>\n",
       "<table border=\"1\" class=\"dataframe\">\n",
       "  <thead>\n",
       "    <tr style=\"text-align: right;\">\n",
       "      <th></th>\n",
       "      <th>name</th>\n",
       "      <th>year</th>\n",
       "      <th>battle_number</th>\n",
       "      <th>attacker_king</th>\n",
       "      <th>defender_king</th>\n",
       "      <th>attacker_1</th>\n",
       "      <th>attacker_2</th>\n",
       "      <th>attacker_3</th>\n",
       "      <th>attacker_4</th>\n",
       "      <th>defender_1</th>\n",
       "      <th>defender_2</th>\n",
       "      <th>defender_3</th>\n",
       "      <th>defender_4</th>\n",
       "      <th>attacker_outcome</th>\n",
       "      <th>battle_type</th>\n",
       "      <th>major_death</th>\n",
       "      <th>major_capture</th>\n",
       "      <th>attacker_size</th>\n",
       "      <th>defender_size</th>\n",
       "      <th>attacker_commander</th>\n",
       "      <th>defender_commander</th>\n",
       "      <th>summer</th>\n",
       "      <th>location</th>\n",
       "      <th>region</th>\n",
       "      <th>note</th>\n",
       "    </tr>\n",
       "  </thead>\n",
       "  <tbody>\n",
       "    <tr>\n",
       "      <th>0</th>\n",
       "      <td>Battle of the Golden Tooth</td>\n",
       "      <td>298</td>\n",
       "      <td>1</td>\n",
       "      <td>Joffrey/Tommen Baratheon</td>\n",
       "      <td>Robb Stark</td>\n",
       "      <td>Lannister</td>\n",
       "      <td>NaN</td>\n",
       "      <td>NaN</td>\n",
       "      <td>NaN</td>\n",
       "      <td>Tully</td>\n",
       "      <td>NaN</td>\n",
       "      <td>NaN</td>\n",
       "      <td>NaN</td>\n",
       "      <td>win</td>\n",
       "      <td>pitched battle</td>\n",
       "      <td>1.0</td>\n",
       "      <td>0.0</td>\n",
       "      <td>15000.0</td>\n",
       "      <td>4000.0</td>\n",
       "      <td>Jaime Lannister</td>\n",
       "      <td>Clement Piper, Vance</td>\n",
       "      <td>1.0</td>\n",
       "      <td>Golden Tooth</td>\n",
       "      <td>The Westerlands</td>\n",
       "      <td>NaN</td>\n",
       "    </tr>\n",
       "    <tr>\n",
       "      <th>1</th>\n",
       "      <td>Battle at the Mummer's Ford</td>\n",
       "      <td>298</td>\n",
       "      <td>2</td>\n",
       "      <td>Joffrey/Tommen Baratheon</td>\n",
       "      <td>Robb Stark</td>\n",
       "      <td>Lannister</td>\n",
       "      <td>NaN</td>\n",
       "      <td>NaN</td>\n",
       "      <td>NaN</td>\n",
       "      <td>Baratheon</td>\n",
       "      <td>NaN</td>\n",
       "      <td>NaN</td>\n",
       "      <td>NaN</td>\n",
       "      <td>win</td>\n",
       "      <td>ambush</td>\n",
       "      <td>1.0</td>\n",
       "      <td>0.0</td>\n",
       "      <td>NaN</td>\n",
       "      <td>120.0</td>\n",
       "      <td>Gregor Clegane</td>\n",
       "      <td>Beric Dondarrion</td>\n",
       "      <td>1.0</td>\n",
       "      <td>Mummer's Ford</td>\n",
       "      <td>The Riverlands</td>\n",
       "      <td>NaN</td>\n",
       "    </tr>\n",
       "    <tr>\n",
       "      <th>2</th>\n",
       "      <td>Battle of Riverrun</td>\n",
       "      <td>298</td>\n",
       "      <td>3</td>\n",
       "      <td>Joffrey/Tommen Baratheon</td>\n",
       "      <td>Robb Stark</td>\n",
       "      <td>Lannister</td>\n",
       "      <td>NaN</td>\n",
       "      <td>NaN</td>\n",
       "      <td>NaN</td>\n",
       "      <td>Tully</td>\n",
       "      <td>NaN</td>\n",
       "      <td>NaN</td>\n",
       "      <td>NaN</td>\n",
       "      <td>win</td>\n",
       "      <td>pitched battle</td>\n",
       "      <td>0.0</td>\n",
       "      <td>1.0</td>\n",
       "      <td>15000.0</td>\n",
       "      <td>10000.0</td>\n",
       "      <td>Jaime Lannister, Andros Brax</td>\n",
       "      <td>Edmure Tully, Tytos Blackwood</td>\n",
       "      <td>1.0</td>\n",
       "      <td>Riverrun</td>\n",
       "      <td>The Riverlands</td>\n",
       "      <td>NaN</td>\n",
       "    </tr>\n",
       "  </tbody>\n",
       "</table>\n",
       "</div>"
      ],
      "text/plain": [
       "                          name  year  battle_number             attacker_king  \\\n",
       "0   Battle of the Golden Tooth   298              1  Joffrey/Tommen Baratheon   \n",
       "1  Battle at the Mummer's Ford   298              2  Joffrey/Tommen Baratheon   \n",
       "2           Battle of Riverrun   298              3  Joffrey/Tommen Baratheon   \n",
       "\n",
       "  defender_king attacker_1 attacker_2 attacker_3 attacker_4 defender_1  \\\n",
       "0    Robb Stark  Lannister        NaN        NaN        NaN      Tully   \n",
       "1    Robb Stark  Lannister        NaN        NaN        NaN  Baratheon   \n",
       "2    Robb Stark  Lannister        NaN        NaN        NaN      Tully   \n",
       "\n",
       "  defender_2  defender_3  defender_4 attacker_outcome     battle_type  \\\n",
       "0        NaN         NaN         NaN              win  pitched battle   \n",
       "1        NaN         NaN         NaN              win          ambush   \n",
       "2        NaN         NaN         NaN              win  pitched battle   \n",
       "\n",
       "   major_death  major_capture  attacker_size  defender_size  \\\n",
       "0          1.0            0.0        15000.0         4000.0   \n",
       "1          1.0            0.0            NaN          120.0   \n",
       "2          0.0            1.0        15000.0        10000.0   \n",
       "\n",
       "             attacker_commander             defender_commander  summer  \\\n",
       "0               Jaime Lannister           Clement Piper, Vance     1.0   \n",
       "1                Gregor Clegane               Beric Dondarrion     1.0   \n",
       "2  Jaime Lannister, Andros Brax  Edmure Tully, Tytos Blackwood     1.0   \n",
       "\n",
       "        location           region note  \n",
       "0   Golden Tooth  The Westerlands  NaN  \n",
       "1  Mummer's Ford   The Riverlands  NaN  \n",
       "2       Riverrun   The Riverlands  NaN  "
      ]
     },
     "execution_count": 574,
     "metadata": {},
     "output_type": "execute_result"
    }
   ],
   "source": [
    "battles.head(3)"
   ]
  },
  {
   "cell_type": "code",
   "execution_count": 575,
   "metadata": {},
   "outputs": [
    {
     "data": {
      "text/html": [
       "<div>\n",
       "<style scoped>\n",
       "    .dataframe tbody tr th:only-of-type {\n",
       "        vertical-align: middle;\n",
       "    }\n",
       "\n",
       "    .dataframe tbody tr th {\n",
       "        vertical-align: top;\n",
       "    }\n",
       "\n",
       "    .dataframe thead th {\n",
       "        text-align: right;\n",
       "    }\n",
       "</style>\n",
       "<table border=\"1\" class=\"dataframe\">\n",
       "  <thead>\n",
       "    <tr style=\"text-align: right;\">\n",
       "      <th></th>\n",
       "      <th>S.No</th>\n",
       "      <th>actual</th>\n",
       "      <th>pred</th>\n",
       "      <th>alive</th>\n",
       "      <th>plod</th>\n",
       "      <th>name</th>\n",
       "      <th>title</th>\n",
       "      <th>male</th>\n",
       "      <th>culture</th>\n",
       "      <th>dateOfBirth</th>\n",
       "      <th>DateoFdeath</th>\n",
       "      <th>mother</th>\n",
       "      <th>father</th>\n",
       "      <th>heir</th>\n",
       "      <th>house</th>\n",
       "      <th>spouse</th>\n",
       "      <th>book1</th>\n",
       "      <th>book2</th>\n",
       "      <th>book3</th>\n",
       "      <th>book4</th>\n",
       "      <th>book5</th>\n",
       "      <th>isAliveMother</th>\n",
       "      <th>isAliveFather</th>\n",
       "      <th>isAliveHeir</th>\n",
       "      <th>isAliveSpouse</th>\n",
       "      <th>isMarried</th>\n",
       "      <th>isNoble</th>\n",
       "      <th>age</th>\n",
       "      <th>numDeadRelations</th>\n",
       "      <th>boolDeadRelations</th>\n",
       "      <th>isPopular</th>\n",
       "      <th>popularity</th>\n",
       "      <th>isAlive</th>\n",
       "    </tr>\n",
       "  </thead>\n",
       "  <tbody>\n",
       "    <tr>\n",
       "      <th>0</th>\n",
       "      <td>1</td>\n",
       "      <td>0</td>\n",
       "      <td>0</td>\n",
       "      <td>0.054</td>\n",
       "      <td>0.946</td>\n",
       "      <td>Viserys II Targaryen</td>\n",
       "      <td>NaN</td>\n",
       "      <td>1</td>\n",
       "      <td>NaN</td>\n",
       "      <td>NaN</td>\n",
       "      <td>NaN</td>\n",
       "      <td>Rhaenyra Targaryen</td>\n",
       "      <td>Daemon Targaryen</td>\n",
       "      <td>Aegon IV Targaryen</td>\n",
       "      <td>NaN</td>\n",
       "      <td>NaN</td>\n",
       "      <td>0</td>\n",
       "      <td>0</td>\n",
       "      <td>0</td>\n",
       "      <td>0</td>\n",
       "      <td>0</td>\n",
       "      <td>1.0</td>\n",
       "      <td>0.0</td>\n",
       "      <td>0.0</td>\n",
       "      <td>NaN</td>\n",
       "      <td>0</td>\n",
       "      <td>0</td>\n",
       "      <td>NaN</td>\n",
       "      <td>11</td>\n",
       "      <td>1</td>\n",
       "      <td>1</td>\n",
       "      <td>0.605351</td>\n",
       "      <td>0</td>\n",
       "    </tr>\n",
       "    <tr>\n",
       "      <th>1</th>\n",
       "      <td>2</td>\n",
       "      <td>1</td>\n",
       "      <td>0</td>\n",
       "      <td>0.387</td>\n",
       "      <td>0.613</td>\n",
       "      <td>Walder Frey</td>\n",
       "      <td>Lord of the Crossing</td>\n",
       "      <td>1</td>\n",
       "      <td>Rivermen</td>\n",
       "      <td>208.0</td>\n",
       "      <td>NaN</td>\n",
       "      <td>NaN</td>\n",
       "      <td>NaN</td>\n",
       "      <td>NaN</td>\n",
       "      <td>House Frey</td>\n",
       "      <td>Perra Royce</td>\n",
       "      <td>1</td>\n",
       "      <td>1</td>\n",
       "      <td>1</td>\n",
       "      <td>1</td>\n",
       "      <td>1</td>\n",
       "      <td>NaN</td>\n",
       "      <td>NaN</td>\n",
       "      <td>NaN</td>\n",
       "      <td>1.0</td>\n",
       "      <td>1</td>\n",
       "      <td>1</td>\n",
       "      <td>97.0</td>\n",
       "      <td>1</td>\n",
       "      <td>1</td>\n",
       "      <td>1</td>\n",
       "      <td>0.896321</td>\n",
       "      <td>1</td>\n",
       "    </tr>\n",
       "    <tr>\n",
       "      <th>2</th>\n",
       "      <td>3</td>\n",
       "      <td>1</td>\n",
       "      <td>0</td>\n",
       "      <td>0.493</td>\n",
       "      <td>0.507</td>\n",
       "      <td>Addison Hill</td>\n",
       "      <td>Ser</td>\n",
       "      <td>1</td>\n",
       "      <td>NaN</td>\n",
       "      <td>NaN</td>\n",
       "      <td>NaN</td>\n",
       "      <td>NaN</td>\n",
       "      <td>NaN</td>\n",
       "      <td>NaN</td>\n",
       "      <td>House Swyft</td>\n",
       "      <td>NaN</td>\n",
       "      <td>0</td>\n",
       "      <td>0</td>\n",
       "      <td>0</td>\n",
       "      <td>1</td>\n",
       "      <td>0</td>\n",
       "      <td>NaN</td>\n",
       "      <td>NaN</td>\n",
       "      <td>NaN</td>\n",
       "      <td>NaN</td>\n",
       "      <td>0</td>\n",
       "      <td>1</td>\n",
       "      <td>NaN</td>\n",
       "      <td>0</td>\n",
       "      <td>0</td>\n",
       "      <td>0</td>\n",
       "      <td>0.267559</td>\n",
       "      <td>1</td>\n",
       "    </tr>\n",
       "  </tbody>\n",
       "</table>\n",
       "</div>"
      ],
      "text/plain": [
       "   S.No  actual  pred  alive   plod                  name  \\\n",
       "0     1       0     0  0.054  0.946  Viserys II Targaryen   \n",
       "1     2       1     0  0.387  0.613           Walder Frey   \n",
       "2     3       1     0  0.493  0.507          Addison Hill   \n",
       "\n",
       "                  title  male   culture  dateOfBirth  DateoFdeath  \\\n",
       "0                   NaN     1       NaN          NaN          NaN   \n",
       "1  Lord of the Crossing     1  Rivermen        208.0          NaN   \n",
       "2                   Ser     1       NaN          NaN          NaN   \n",
       "\n",
       "               mother            father                heir        house  \\\n",
       "0  Rhaenyra Targaryen  Daemon Targaryen  Aegon IV Targaryen          NaN   \n",
       "1                 NaN               NaN                 NaN   House Frey   \n",
       "2                 NaN               NaN                 NaN  House Swyft   \n",
       "\n",
       "        spouse  book1  book2  book3  book4  book5  isAliveMother  \\\n",
       "0          NaN      0      0      0      0      0            1.0   \n",
       "1  Perra Royce      1      1      1      1      1            NaN   \n",
       "2          NaN      0      0      0      1      0            NaN   \n",
       "\n",
       "   isAliveFather  isAliveHeir  isAliveSpouse  isMarried  isNoble   age  \\\n",
       "0            0.0          0.0            NaN          0        0   NaN   \n",
       "1            NaN          NaN            1.0          1        1  97.0   \n",
       "2            NaN          NaN            NaN          0        1   NaN   \n",
       "\n",
       "   numDeadRelations  boolDeadRelations  isPopular  popularity  isAlive  \n",
       "0                11                  1          1    0.605351        0  \n",
       "1                 1                  1          1    0.896321        1  \n",
       "2                 0                  0          0    0.267559        1  "
      ]
     },
     "execution_count": 575,
     "metadata": {},
     "output_type": "execute_result"
    }
   ],
   "source": [
    "char_pred.head(3)"
   ]
  },
  {
   "cell_type": "code",
   "execution_count": 576,
   "metadata": {},
   "outputs": [
    {
     "data": {
      "text/html": [
       "<div>\n",
       "<style scoped>\n",
       "    .dataframe tbody tr th:only-of-type {\n",
       "        vertical-align: middle;\n",
       "    }\n",
       "\n",
       "    .dataframe tbody tr th {\n",
       "        vertical-align: top;\n",
       "    }\n",
       "\n",
       "    .dataframe thead th {\n",
       "        text-align: right;\n",
       "    }\n",
       "</style>\n",
       "<table border=\"1\" class=\"dataframe\">\n",
       "  <thead>\n",
       "    <tr style=\"text-align: right;\">\n",
       "      <th></th>\n",
       "      <th>Name</th>\n",
       "      <th>Allegiances</th>\n",
       "      <th>Death Year</th>\n",
       "      <th>Book of Death</th>\n",
       "      <th>Death Chapter</th>\n",
       "      <th>Book Intro Chapter</th>\n",
       "      <th>Gender</th>\n",
       "      <th>Nobility</th>\n",
       "      <th>GoT</th>\n",
       "      <th>CoK</th>\n",
       "      <th>SoS</th>\n",
       "      <th>FfC</th>\n",
       "      <th>DwD</th>\n",
       "    </tr>\n",
       "  </thead>\n",
       "  <tbody>\n",
       "    <tr>\n",
       "      <th>0</th>\n",
       "      <td>Addam Marbrand</td>\n",
       "      <td>Lannister</td>\n",
       "      <td>NaN</td>\n",
       "      <td>NaN</td>\n",
       "      <td>NaN</td>\n",
       "      <td>56.0</td>\n",
       "      <td>1</td>\n",
       "      <td>1</td>\n",
       "      <td>1</td>\n",
       "      <td>1</td>\n",
       "      <td>1</td>\n",
       "      <td>1</td>\n",
       "      <td>0</td>\n",
       "    </tr>\n",
       "    <tr>\n",
       "      <th>1</th>\n",
       "      <td>Aegon Frey (Jinglebell)</td>\n",
       "      <td>None</td>\n",
       "      <td>299.0</td>\n",
       "      <td>3.0</td>\n",
       "      <td>51.0</td>\n",
       "      <td>49.0</td>\n",
       "      <td>1</td>\n",
       "      <td>1</td>\n",
       "      <td>0</td>\n",
       "      <td>0</td>\n",
       "      <td>1</td>\n",
       "      <td>0</td>\n",
       "      <td>0</td>\n",
       "    </tr>\n",
       "    <tr>\n",
       "      <th>2</th>\n",
       "      <td>Aegon Targaryen</td>\n",
       "      <td>House Targaryen</td>\n",
       "      <td>NaN</td>\n",
       "      <td>NaN</td>\n",
       "      <td>NaN</td>\n",
       "      <td>5.0</td>\n",
       "      <td>1</td>\n",
       "      <td>1</td>\n",
       "      <td>0</td>\n",
       "      <td>0</td>\n",
       "      <td>0</td>\n",
       "      <td>0</td>\n",
       "      <td>1</td>\n",
       "    </tr>\n",
       "  </tbody>\n",
       "</table>\n",
       "</div>"
      ],
      "text/plain": [
       "                      Name      Allegiances  Death Year  Book of Death  \\\n",
       "0           Addam Marbrand        Lannister         NaN            NaN   \n",
       "1  Aegon Frey (Jinglebell)             None       299.0            3.0   \n",
       "2          Aegon Targaryen  House Targaryen         NaN            NaN   \n",
       "\n",
       "   Death Chapter  Book Intro Chapter  Gender  Nobility  GoT  CoK  SoS  FfC  \\\n",
       "0            NaN                56.0       1         1    1    1    1    1   \n",
       "1           51.0                49.0       1         1    0    0    1    0   \n",
       "2            NaN                 5.0       1         1    0    0    0    0   \n",
       "\n",
       "   DwD  \n",
       "0    0  \n",
       "1    0  \n",
       "2    1  "
      ]
     },
     "execution_count": 576,
     "metadata": {},
     "output_type": "execute_result"
    }
   ],
   "source": [
    "char_deaths.head(3)"
   ]
  },
  {
   "attachments": {},
   "cell_type": "markdown",
   "metadata": {},
   "source": [
    "## Data Exploration & Wrangling"
   ]
  },
  {
   "cell_type": "code",
   "execution_count": 676,
   "metadata": {},
   "outputs": [
    {
     "data": {
      "text/plain": [
       "38"
      ]
     },
     "execution_count": 676,
     "metadata": {},
     "output_type": "execute_result"
    }
   ],
   "source": [
    "battles[\"name\"].value_counts().sum()"
   ]
  },
  {
   "cell_type": "code",
   "execution_count": 677,
   "metadata": {},
   "outputs": [
    {
     "data": {
      "text/plain": [
       "(298, 300)"
      ]
     },
     "execution_count": 677,
     "metadata": {},
     "output_type": "execute_result"
    }
   ],
   "source": [
    "battles[\"year\"].min(), battles[\"year\"].max()"
   ]
  },
  {
   "attachments": {},
   "cell_type": "markdown",
   "metadata": {},
   "source": [
    "* There were 38 battles fought within the 3-year context of our data.\n",
    "* Which of these years had the most battles?"
   ]
  },
  {
   "cell_type": "code",
   "execution_count": 679,
   "metadata": {},
   "outputs": [
    {
     "data": {
      "image/png": "[encoded data removed]",
      "text/plain": [
       "<Figure size 432x288 with 1 Axes>"
      ]
     },
     "metadata": {},
     "output_type": "display_data"
    }
   ],
   "source": [
    "battles[\"year\"].value_counts().plot(kind=\"bar\")\n",
    "plt.xticks(rotation='horizontal')\n",
    "plt.show()"
   ]
  },
  {
   "attachments": {},
   "cell_type": "markdown",
   "metadata": {},
   "source": [
    "Most battles occured in 299BC"
   ]
  },
  {
   "cell_type": "code",
   "execution_count": 681,
   "metadata": {},
   "outputs": [
    {
     "data": {
      "text/plain": [
       "win     32\n",
       "loss     5\n",
       "Name: attacker_outcome, dtype: int64"
      ]
     },
     "execution_count": 681,
     "metadata": {},
     "output_type": "execute_result"
    }
   ],
   "source": [
    "#Total wins vs losses\n",
    "battles[\"attacker_outcome\"].value_counts()"
   ]
  },
  {
   "cell_type": "code",
   "execution_count": 701,
   "metadata": {},
   "outputs": [
    {
     "data": {
      "image/png": "[encoded data removed]",
      "text/plain": [
       "<Figure size 576x432 with 1 Axes>"
      ]
     },
     "metadata": {},
     "output_type": "display_data"
    }
   ],
   "source": [
    "#The number of commanders in each battle\n",
    "battles_df = battles.copy()\n",
    "battles_df[\"attacking_commanders_count\"] = [len(x) if type(x) == list else np.nan for x in battles_df.attacker_commander.str.split(\",\")]\n",
    "#More wins with less commanders...\n",
    "\n",
    "plt.subplots(figsize=(8, 6))\n",
    "sb.barplot(x=\"attacker_king\", y=\"attacking_commanders_count\", hue=\"attacker_outcome\", data=battles_df, palette=\"rainbow\")\n",
    "plt.show()"
   ]
  },
  {
   "cell_type": "code",
   "execution_count": 694,
   "metadata": {},
   "outputs": [
    {
     "data": {
      "image/png": "[encoded data removed]",
      "text/plain": [
       "<Figure size 432x288 with 1 Axes>"
      ]
     },
     "metadata": {},
     "output_type": "display_data"
    }
   ],
   "source": [
    "char_death_df = char_deaths.copy()\n",
    "char_death_df.Allegiances.value_counts(ascending=True).plot(kind='barh')\n",
    "plt.show()"
   ]
  },
  {
   "cell_type": "code",
   "execution_count": 695,
   "metadata": {},
   "outputs": [
    {
     "data": {
      "text/plain": [
       "array(['Lannister', 'None', 'House Targaryen', 'House Greyjoy',\n",
       "       'Baratheon', \"Night's Watch\", 'Arryn', 'House Stark',\n",
       "       'House Tyrell', 'Tyrell', 'Stark', 'Greyjoy', 'House Lannister',\n",
       "       'Martell', 'House Martell', 'Wildling', 'Targaryen', 'House Arryn',\n",
       "       'House Tully', 'Tully', 'House Baratheon'], dtype=object)"
      ]
     },
     "execution_count": 695,
     "metadata": {},
     "output_type": "execute_result"
    }
   ],
   "source": [
    "alleg = char_death_df.Allegiances.unique()\n",
    "alleg"
   ]
  },
  {
   "attachments": {},
   "cell_type": "markdown",
   "metadata": {},
   "source": [
    "The presence of house causes repeated values"
   ]
  },
  {
   "cell_type": "code",
   "execution_count": 697,
   "metadata": {},
   "outputs": [
    {
     "data": {
      "image/png": "[encoded data removed]",
      "text/plain": [
       "<Figure size 432x288 with 1 Axes>"
      ]
     },
     "metadata": {},
     "output_type": "display_data"
    }
   ],
   "source": [
    "char_death_df['Allegiances'] = char_death_df['Allegiances'].str.replace('House ', '',)\n",
    "char_death_df.Allegiances.value_counts(ascending=True).plot(kind=\"barh\")\n",
    "plt.show()\n"
   ]
  },
  {
   "cell_type": "code",
   "execution_count": 700,
   "metadata": {},
   "outputs": [
    {
     "data": {
      "image/png": "[encoded data removed]",
      "text/plain": [
       "<Figure size 432x288 with 1 Axes>"
      ]
     },
     "metadata": {},
     "output_type": "display_data"
    }
   ],
   "source": [
    "char_death_df[\"Gender\"].value_counts().sort_values().plot.barh()\n",
    "plt.yticks([1, 0], ['Male', 'Female'])\n",
    "plt.show()"
   ]
  },
  {
   "attachments": {},
   "cell_type": "markdown",
   "metadata": {},
   "source": [
    "There were more male recorded deaths than female."
   ]
  },
  {
   "cell_type": "code",
   "execution_count": 578,
   "metadata": {},
   "outputs": [
    {
     "data": {
      "text/plain": [
       "count       433.000000\n",
       "mean      -1293.563510\n",
       "std       19564.340993\n",
       "min     -298001.000000\n",
       "25%          18.000000\n",
       "50%          27.000000\n",
       "75%          50.000000\n",
       "max         100.000000\n",
       "Name: age, dtype: float64"
      ]
     },
     "execution_count": 578,
     "metadata": {},
     "output_type": "execute_result"
    }
   ],
   "source": [
    "# viewing age properties\n",
    "char_pred['age'].describe()"
   ]
  },
  {
   "attachments": {},
   "cell_type": "markdown",
   "metadata": {},
   "source": [
    "There are negative value for date of birth. Negative mean for age.\n",
    "Let's investigate that."
   ]
  },
  {
   "attachments": {},
   "cell_type": "markdown",
   "metadata": {},
   "source": [
    "Research was made and according to [Fandom.com](https://gameofthrones.fandom.com/wiki/Doreah) Doreah is 25 years old.\n",
    "\n",
    "According to [Fanthom.com](https://gameofthrones.fandom.com/wiki/Rhaego) Rhaego was never born."
   ]
  },
  {
   "cell_type": "code",
   "execution_count": 579,
   "metadata": {},
   "outputs": [],
   "source": [
    "char = char_pred.copy()"
   ]
  },
  {
   "cell_type": "code",
   "execution_count": 580,
   "metadata": {},
   "outputs": [],
   "source": [
    "# Replacing the age\n",
    "char.loc[1684, 'age'] = 25.0\n",
    "char.loc[1868, 'age'] = 0.0"
   ]
  },
  {
   "cell_type": "code",
   "execution_count": 639,
   "metadata": {},
   "outputs": [
    {
     "data": {
      "text/html": [
       "<div>\n",
       "<style scoped>\n",
       "    .dataframe tbody tr th:only-of-type {\n",
       "        vertical-align: middle;\n",
       "    }\n",
       "\n",
       "    .dataframe tbody tr th {\n",
       "        vertical-align: top;\n",
       "    }\n",
       "\n",
       "    .dataframe thead th {\n",
       "        text-align: right;\n",
       "    }\n",
       "</style>\n",
       "<table border=\"1\" class=\"dataframe\">\n",
       "  <thead>\n",
       "    <tr style=\"text-align: right;\">\n",
       "      <th>isAlive</th>\n",
       "      <th>0</th>\n",
       "      <th>1</th>\n",
       "    </tr>\n",
       "    <tr>\n",
       "      <th>male</th>\n",
       "      <th></th>\n",
       "      <th></th>\n",
       "    </tr>\n",
       "  </thead>\n",
       "  <tbody>\n",
       "    <tr>\n",
       "      <th>0</th>\n",
       "      <td>128</td>\n",
       "      <td>613</td>\n",
       "    </tr>\n",
       "    <tr>\n",
       "      <th>1</th>\n",
       "      <td>367</td>\n",
       "      <td>838</td>\n",
       "    </tr>\n",
       "  </tbody>\n",
       "</table>\n",
       "</div>"
      ],
      "text/plain": [
       "isAlive    0    1\n",
       "male             \n",
       "0        128  613\n",
       "1        367  838"
      ]
     },
     "execution_count": 639,
     "metadata": {},
     "output_type": "execute_result"
    }
   ],
   "source": [
    "pd.crosstab(char.male, char.isAlive)"
   ]
  },
  {
   "attachments": {},
   "cell_type": "markdown",
   "metadata": {},
   "source": [
    "We have 128 dead women, 613 alive women\n",
    "\n",
    "367 dead men and 838 alive men../\n",
    "\n",
    "Generally (128/741) * 100 = 17%. That is there is a 17% chance that a female record turns out dead.\n",
    "\n",
    "And (367/1205) * 100 = 30.5% chance that a male record turns out dead."
   ]
  },
  {
   "cell_type": "code",
   "execution_count": 672,
   "metadata": {},
   "outputs": [
    {
     "data": {
      "image/png": "[encoded data removed]",
      "text/plain": [
       "<Figure size 720x432 with 1 Axes>"
      ]
     },
     "metadata": {},
     "output_type": "display_data"
    }
   ],
   "source": [
    "pd.crosstab(char.male, char.isAlive).plot(kind='bar', figsize=(10,6), color=[\"salmon\", \"cyan\"])\n",
    "\n",
    "plt.title(\"Alive distribution by gender\")\n",
    "plt.xlabel('')\n",
    "plt.xticks([0,1], ['Female' , 'Male'], rotation='horizontal')\n",
    "plt.ylabel(\"Count\")\n",
    "plt.legend([\"Dead\", \"IsAlive\"])\n",
    "plt.show()"
   ]
  },
  {
   "cell_type": "code",
   "execution_count": 655,
   "metadata": {},
   "outputs": [
    {
     "data": {
      "text/html": [
       "<div>\n",
       "<style scoped>\n",
       "    .dataframe tbody tr th:only-of-type {\n",
       "        vertical-align: middle;\n",
       "    }\n",
       "\n",
       "    .dataframe tbody tr th {\n",
       "        vertical-align: top;\n",
       "    }\n",
       "\n",
       "    .dataframe thead th {\n",
       "        text-align: right;\n",
       "    }\n",
       "</style>\n",
       "<table border=\"1\" class=\"dataframe\">\n",
       "  <thead>\n",
       "    <tr style=\"text-align: right;\">\n",
       "      <th>isAlive</th>\n",
       "      <th>0</th>\n",
       "      <th>1</th>\n",
       "    </tr>\n",
       "    <tr>\n",
       "      <th>isPopular</th>\n",
       "      <th></th>\n",
       "      <th></th>\n",
       "    </tr>\n",
       "  </thead>\n",
       "  <tbody>\n",
       "    <tr>\n",
       "      <th>0</th>\n",
       "      <td>435</td>\n",
       "      <td>1396</td>\n",
       "    </tr>\n",
       "    <tr>\n",
       "      <th>1</th>\n",
       "      <td>60</td>\n",
       "      <td>55</td>\n",
       "    </tr>\n",
       "  </tbody>\n",
       "</table>\n",
       "</div>"
      ],
      "text/plain": [
       "isAlive      0     1\n",
       "isPopular           \n",
       "0          435  1396\n",
       "1           60    55"
      ]
     },
     "execution_count": 655,
     "metadata": {},
     "output_type": "execute_result"
    }
   ],
   "source": [
    "pd.crosstab(char.isPopular, char.isAlive)"
   ]
  },
  {
   "cell_type": "code",
   "execution_count": 673,
   "metadata": {},
   "outputs": [
    {
     "data": {
      "image/png": "[encoded data removed]",
      "text/plain": [
       "<Figure size 720x432 with 1 Axes>"
      ]
     },
     "metadata": {},
     "output_type": "display_data"
    }
   ],
   "source": [
    "pd.crosstab(char.isPopular, char.isAlive).plot(kind='bar', figsize=(10,6), color=[\"salmon\", \"cyan\"])\n",
    "\n",
    "plt.title(\"Alive distribution by popularity\")\n",
    "plt.xlabel(\"\")\n",
    "plt.xticks([0,1], ['Not Popular' , 'Popular'], rotation='horizontal')\n",
    "plt.ylabel(\"Count\")\n",
    "plt.legend([\"Dead\", \"IsAlive\"])\n",
    "plt.show()"
   ]
  },
  {
   "attachments": {},
   "cell_type": "markdown",
   "metadata": {},
   "source": [
    "I guess that makes watching GOT interesting!!!\n",
    "\n",
    "Who cares when unknown men die in battle?\n",
    "\n",
    "But when (60/115) * 100 = 55% of people you find interesting die, Thats something(lol)"
   ]
  },
  {
   "attachments": {},
   "cell_type": "markdown",
   "metadata": {},
   "source": [
    "There's a low chance of a commander to die in the battle. This is so because sometimes they could be at the castle giving out commands without being physically present in the battle."
   ]
  },
  {
   "attachments": {},
   "cell_type": "markdown",
   "metadata": {},
   "source": [
    "### Feature Engineering\n"
   ]
  },
  {
   "attachments": {},
   "cell_type": "markdown",
   "metadata": {},
   "source": [
    "#### Cleaning Feature"
   ]
  },
  {
   "attachments": {},
   "cell_type": "markdown",
   "metadata": {},
   "source": [
    "Removing NaNs"
   ]
  },
  {
   "cell_type": "code",
   "execution_count": 581,
   "metadata": {},
   "outputs": [
    {
     "data": {
      "text/plain": [
       "title            1008\n",
       "culture          1269\n",
       "dateOfBirth      1513\n",
       "DateoFdeath      1502\n",
       "mother           1925\n",
       "father           1920\n",
       "heir             1923\n",
       "house             427\n",
       "spouse           1670\n",
       "isAliveMother    1925\n",
       "isAliveFather    1920\n",
       "isAliveHeir      1923\n",
       "isAliveSpouse    1670\n",
       "age              1513\n",
       "dtype: int64"
      ]
     },
     "execution_count": 581,
     "metadata": {},
     "output_type": "execute_result"
    }
   ],
   "source": [
    "miss = char.isna().sum()\n",
    "miss[miss > 0]"
   ]
  },
  {
   "attachments": {},
   "cell_type": "markdown",
   "metadata": {},
   "source": [
    "We have 14 columns with NaN vales. We will replace that of age with the average age value.\n",
    "\n",
    "Replace date of birth and date of death with the median value.\n",
    "\n",
    "Replace other categorical variable with unknown\n",
    "\n",
    "Replace other numerical variable with -1"
   ]
  },
  {
   "cell_type": "code",
   "execution_count": 582,
   "metadata": {},
   "outputs": [],
   "source": [
    "# Fill missing age with average age\n",
    "char[\"age\"].fillna(round(char[\"age\"].mean()), inplace=True)\n",
    "char['dateOfBirth'].fillna(char['dateOfBirth'].median(), inplace=True)\n",
    "char['DateoFdeath'].fillna(char['DateoFdeath'].median(), inplace=True)"
   ]
  },
  {
   "cell_type": "code",
   "execution_count": 583,
   "metadata": {},
   "outputs": [],
   "source": [
    "# Handling missing values in text columns\n",
    "cat = ['title', 'culture', 'mother', 'father', 'heir', 'house', 'spouse']\n",
    "for col in cat:\n",
    "    char[col].fillna('unknown', inplace=True)\n",
    "char.fillna(-1, inplace=True)"
   ]
  },
  {
   "attachments": {},
   "cell_type": "markdown",
   "metadata": {},
   "source": [
    "#### Duplicate culture\n",
    "\n",
    "Some culture are spelt wrongly thus making duplicate. E.g. 'Westermen', 'Westerman' and 'westermen' are all the same."
   ]
  },
  {
   "cell_type": "code",
   "execution_count": 584,
   "metadata": {},
   "outputs": [
    {
     "data": {
      "text/plain": [
       "array(['unknown', 'Rivermen', 'Dornish', 'Valyrian', 'Ironborn',\n",
       "       'Free Folk', 'Northmen', 'Summer Isles', 'Braavosi', 'Dothraki',\n",
       "       'Ghiscari', 'Vale mountain clans', 'Reach', 'Tyroshi', 'Lhazarene',\n",
       "       'Free folk', 'Ironmen', 'Qartheen', 'Lysene', 'westermen',\n",
       "       'Westerman', 'Qarth', 'Lyseni', 'northmen', 'Qohor', 'Westeros',\n",
       "       'Norvoshi', 'First Men', 'Meereenese', 'Andal', 'Astapori',\n",
       "       'Westermen', 'ironborn', 'Ghiscaricari', 'Braavos', 'Stormlands',\n",
       "       'Valemen', 'Myrish', 'Lhazareen', 'Dornishmen', 'Sistermen',\n",
       "       'Northern mountain clans', 'Andals', 'Vale', 'Crannogmen',\n",
       "       'Wildling', 'Dorne', 'Pentoshi', 'free folk', 'Summer Islander',\n",
       "       'Westerlands', 'Summer Islands', 'Asshai', 'Riverlands', 'Naathi',\n",
       "       'Rhoynar', 'Meereen', 'Norvos', 'Stormlander', 'Wildlings',\n",
       "       'Astapor', 'Reachmen', \"Asshai'i\", 'Ibbenese', 'The Reach'],\n",
       "      dtype=object)"
      ]
     },
     "execution_count": 584,
     "metadata": {},
     "output_type": "execute_result"
    }
   ],
   "source": [
    "char['culture'].unique()"
   ]
  },
  {
   "cell_type": "code",
   "execution_count": 585,
   "metadata": {},
   "outputs": [],
   "source": [
    "# From  Shail Daliwala's kernel on Kaggle\n",
    "cult = {\n",
    "    'Summer Islands': ['summer islands', 'summer islander', 'summer isles'],\n",
    "    'Ghiscari': ['ghiscari', 'ghiscaricari',  'ghis'],\n",
    "    'Asshai': [\"asshai'i\", 'asshai'],\n",
    "    'Lysene': ['lysene', 'lyseni'],\n",
    "    'Andal': ['andal', 'andals'],\n",
    "    'Braavosi': ['braavosi', 'braavos'],\n",
    "    'Dornish': ['dornishmen', 'dorne', 'dornish'],\n",
    "    'Myrish': ['myr', 'myrish', 'myrmen'],\n",
    "    'Westermen': ['westermen', 'westerman', 'westerlands'],\n",
    "    'Westerosi': ['westeros', 'westerosi'],\n",
    "    'Stormlander': ['stormlands', 'stormlander'],\n",
    "    'Norvoshi': ['norvos', 'norvoshi'],\n",
    "    'Northmen': ['the north', 'northmen'],\n",
    "    'Free Folk': ['wildling', 'first men', 'free folk'],\n",
    "    'Qartheen': ['qartheen', 'qarth'],\n",
    "    'Reach': ['the reach', 'reach', 'reachmen'],\n",
    "}\n",
    "\n",
    "def get_cult(value):\n",
    "    value = value.lower()\n",
    "    v = [k for (k, v) in cult.items() if value in v]\n",
    "    return v[0] if len(v) > 0 else value.title()\n"
   ]
  },
  {
   "attachments": {},
   "cell_type": "markdown",
   "metadata": {},
   "source": [
    "#### Creating links to other data (Variables for creating features)\n",
    "In the battle csv we have attackers and defenders, it's likely that this attackers and defenders are of the powerful house in the country or region, we can create a link to characters who belongs to this house.\n",
    "\n",
    "Also in the battles data are commanders and defenders. Having the names gathered together can help point out who is a commander and who is not. This can also play part in determining if a character, who is a commander will die.\n",
    "\n",
    "In the character death data, it is observed that characters whom never swore allegiance died the most. We can have a column that shows if a character's house swore alliegiance to another. "
   ]
  },
  {
   "cell_type": "code",
   "execution_count": 586,
   "metadata": {},
   "outputs": [],
   "source": [
    "# Names of all Attackers\n",
    "all_attackers = set(battles.attacker_1).union(set(battles.attacker_2))\\\n",
    ".union(set(battles.attacker_3)).union(set(battles.attacker_4))\n",
    "# Names of all Defenders\n",
    "all_defenders = set(battles.defender_1).union(set(battles.defender_2))\n",
    "\n",
    "# Unique attackers and defenders combined\n",
    "all_warlead = all_attackers.union(all_defenders)\n",
    "all_warlead = list(all_warlead)\n",
    "all_warlead.remove(np.nan)\n",
    "\n",
    "renam_warlead = []\n",
    "for x in all_warlead:\n",
    "    house = 'House ' + x\n",
    "    renam_warlead.append(house)\n",
    "    \n",
    "# All attacking commanders\n",
    "all = []\n",
    "for i in battles['attacker_commander'].dropna().values:\n",
    "    splitted = i.split(', ')\n",
    "    all +=splitted\n",
    "    \n",
    "all_att_commanders = set(all)\n",
    "\n",
    "# All defending commanders\n",
    "all = []\n",
    "for i in battles['defender_commander'].dropna().values:\n",
    "    splitted = i.split(', ')\n",
    "    all +=splitted\n",
    "    \n",
    "all_def_commanders = set(all)\n",
    "\n",
    "# All commanders \n",
    "all_commanders = all_att_commanders.union(all_def_commanders)\n",
    "# characters who swore allegiance in character death data\n",
    "char_with_allgnc = char_deaths[char_deaths['Allegiances'] != 'None']\n",
    "\n",
    "# Extracting the above character from all character data\n",
    "all_char_with_allgnc = char_pred[char_pred['name'].isin(char_with_allgnc['Name'])]\n",
    "\n",
    "# house of character with allegiance to another house (house in character dead allegiance column)\n",
    "hus_char_with_allegnc = all_char_with_allgnc['house']\n",
    "\n",
    "# Extract unique house of allegiance from charater death data.\n",
    "husOfAllgnc = list(set(char_deaths['Allegiances']))\n",
    "husOfAllgnc.remove('None')\n",
    "\n",
    "renam_husOfAllgnc = []\n",
    "for x in husOfAllgnc:\n",
    "    house = 'House ' + x\n",
    "    renam_husOfAllgnc.append(house)\n"
   ]
  },
  {
   "attachments": {},
   "cell_type": "markdown",
   "metadata": {},
   "source": [
    "#### Creating Feature"
   ]
  },
  {
   "cell_type": "code",
   "execution_count": 587,
   "metadata": {},
   "outputs": [],
   "source": [
    "# Characters that are commanders.\n",
    "char['isACommander'] = np.where(char['name'].isin(all_commanders), 1, 0)\n",
    "# Characters that belong to the house of either the attacker or defender\n",
    "char['inHouseOfWarLead'] = np.where(char['house'].isin(renam_warlead), 1, 0)\n",
    "# Characters whose house swore alliegiance to another house\n",
    "char['houseSworeAllegiance'] = np.where(char['house'].isin(hus_char_with_allegnc), 1, 0)\n",
    "# House of alliegiance, characters that belong to those house\n",
    "char['inHouseOfAllegnc'] = np.where(char['house'].isin(renam_husOfAllgnc), 1, 0)\n",
    "\n",
    "# Dropping redundant columns\n",
    "char = char.drop(['S.No', 'actual', 'pred', 'alive', 'plod', 'name', 'dateOfBirth',\n",
    "                  'DateoFdeath', 'house'], axis=1)\n"
   ]
  },
  {
   "attachments": {},
   "cell_type": "markdown",
   "metadata": {},
   "source": [
    "#### Feature Selection\n",
    "\n",
    "We can see that the correlation ranges from 0.006 t0 0.2"
   ]
  },
  {
   "cell_type": "code",
   "execution_count": 588,
   "metadata": {},
   "outputs": [],
   "source": [
    "new = char.copy()"
   ]
  },
  {
   "cell_type": "code",
   "execution_count": 589,
   "metadata": {},
   "outputs": [
    {
     "data": {
      "text/plain": [
       "book3                   0.006693\n",
       "inHouseOfWarLead        0.029822\n",
       "isAliveSpouse           0.031536\n",
       "book5                   0.032846\n",
       "isNoble                 0.042211\n",
       "isMarried               0.050037\n",
       "houseSworeAllegiance    0.052159\n",
       "isACommander            0.057968\n",
       "book2                   0.067200\n",
       "inHouseOfAllegnc        0.113380\n",
       "isAliveHeir             0.116365\n",
       "isAliveFather           0.123615\n",
       "age                     0.136891\n",
       "isAliveMother           0.140661\n",
       "male                    0.146982\n",
       "book1                   0.147401\n",
       "isPopular               0.153860\n",
       "popularity              0.183223\n",
       "numDeadRelations        0.192444\n",
       "boolDeadRelations       0.193736\n",
       "book4                   0.268975\n",
       "isAlive                 1.000000\n",
       "Name: isAlive, dtype: float64"
      ]
     },
     "execution_count": 589,
     "metadata": {},
     "output_type": "execute_result"
    }
   ],
   "source": [
    "# Checking correlation of numerical featres with the target variable.\n",
    "num_features = new.select_dtypes(['int', 'float'])\n",
    "corr_mat = num_features.corr()['isAlive'].abs().sort_values()\n",
    "corr_mat"
   ]
  },
  {
   "cell_type": "code",
   "execution_count": 590,
   "metadata": {},
   "outputs": [
    {
     "data": {
      "text/plain": [
       "<AxesSubplot:>"
      ]
     },
     "execution_count": 590,
     "metadata": {},
     "output_type": "execute_result"
    },
    {
     "data": {
      "image/png": "[encoded data removed]",
      "text/plain": [
       "<Figure size 432x288 with 2 Axes>"
      ]
     },
     "metadata": {},
     "output_type": "display_data"
    }
   ],
   "source": [
    "# Heatmap of numerical feature in the training dataset\n",
    "num_features = new.select_dtypes(['int', 'float'])\n",
    "corr_mat = num_features.corr()\n",
    "sb.heatmap(data=corr_mat)"
   ]
  },
  {
   "attachments": {},
   "cell_type": "markdown",
   "metadata": {},
   "source": [
    "From the heatmap above, we can spot some multicollinearity (Multicollinearity refers to the statistical phenomenon where two or more independent variables are strongly correlated) amongst features. \n",
    "\n",
    "Let's view them using the Variance Inflation Factor (VIF)"
   ]
  },
  {
   "cell_type": "code",
   "execution_count": 591,
   "metadata": {},
   "outputs": [
    {
     "data": {
      "text/html": [
       "<div>\n",
       "<style scoped>\n",
       "    .dataframe tbody tr th:only-of-type {\n",
       "        vertical-align: middle;\n",
       "    }\n",
       "\n",
       "    .dataframe tbody tr th {\n",
       "        vertical-align: top;\n",
       "    }\n",
       "\n",
       "    .dataframe thead th {\n",
       "        text-align: right;\n",
       "    }\n",
       "</style>\n",
       "<table border=\"1\" class=\"dataframe\">\n",
       "  <thead>\n",
       "    <tr style=\"text-align: right;\">\n",
       "      <th></th>\n",
       "      <th>features</th>\n",
       "      <th>VIF</th>\n",
       "    </tr>\n",
       "  </thead>\n",
       "  <tbody>\n",
       "    <tr>\n",
       "      <th>7</th>\n",
       "      <td>isAliveFather</td>\n",
       "      <td>165.111250</td>\n",
       "    </tr>\n",
       "    <tr>\n",
       "      <th>6</th>\n",
       "      <td>isAliveMother</td>\n",
       "      <td>93.203589</td>\n",
       "    </tr>\n",
       "    <tr>\n",
       "      <th>8</th>\n",
       "      <td>isAliveHeir</td>\n",
       "      <td>77.020836</td>\n",
       "    </tr>\n",
       "    <tr>\n",
       "      <th>9</th>\n",
       "      <td>isAliveSpouse</td>\n",
       "      <td>28.026185</td>\n",
       "    </tr>\n",
       "    <tr>\n",
       "      <th>10</th>\n",
       "      <td>isMarried</td>\n",
       "      <td>15.455632</td>\n",
       "    </tr>\n",
       "    <tr>\n",
       "      <th>12</th>\n",
       "      <td>age</td>\n",
       "      <td>10.098704</td>\n",
       "    </tr>\n",
       "    <tr>\n",
       "      <th>16</th>\n",
       "      <td>popularity</td>\n",
       "      <td>7.642320</td>\n",
       "    </tr>\n",
       "    <tr>\n",
       "      <th>15</th>\n",
       "      <td>isPopular</td>\n",
       "      <td>4.347781</td>\n",
       "    </tr>\n",
       "    <tr>\n",
       "      <th>19</th>\n",
       "      <td>houseSworeAllegiance</td>\n",
       "      <td>3.579165</td>\n",
       "    </tr>\n",
       "    <tr>\n",
       "      <th>4</th>\n",
       "      <td>book4</td>\n",
       "      <td>3.242501</td>\n",
       "    </tr>\n",
       "    <tr>\n",
       "      <th>13</th>\n",
       "      <td>numDeadRelations</td>\n",
       "      <td>3.237888</td>\n",
       "    </tr>\n",
       "    <tr>\n",
       "      <th>14</th>\n",
       "      <td>boolDeadRelations</td>\n",
       "      <td>3.036974</td>\n",
       "    </tr>\n",
       "    <tr>\n",
       "      <th>3</th>\n",
       "      <td>book3</td>\n",
       "      <td>2.898499</td>\n",
       "    </tr>\n",
       "    <tr>\n",
       "      <th>0</th>\n",
       "      <td>male</td>\n",
       "      <td>2.783317</td>\n",
       "    </tr>\n",
       "    <tr>\n",
       "      <th>2</th>\n",
       "      <td>book2</td>\n",
       "      <td>2.480204</td>\n",
       "    </tr>\n",
       "    <tr>\n",
       "      <th>11</th>\n",
       "      <td>isNoble</td>\n",
       "      <td>2.156332</td>\n",
       "    </tr>\n",
       "    <tr>\n",
       "      <th>5</th>\n",
       "      <td>book5</td>\n",
       "      <td>2.125849</td>\n",
       "    </tr>\n",
       "    <tr>\n",
       "      <th>18</th>\n",
       "      <td>inHouseOfWarLead</td>\n",
       "      <td>2.057726</td>\n",
       "    </tr>\n",
       "    <tr>\n",
       "      <th>20</th>\n",
       "      <td>inHouseOfAllegnc</td>\n",
       "      <td>2.013128</td>\n",
       "    </tr>\n",
       "    <tr>\n",
       "      <th>1</th>\n",
       "      <td>book1</td>\n",
       "      <td>1.713839</td>\n",
       "    </tr>\n",
       "    <tr>\n",
       "      <th>17</th>\n",
       "      <td>isACommander</td>\n",
       "      <td>1.291378</td>\n",
       "    </tr>\n",
       "  </tbody>\n",
       "</table>\n",
       "</div>"
      ],
      "text/plain": [
       "                features         VIF\n",
       "7          isAliveFather  165.111250\n",
       "6          isAliveMother   93.203589\n",
       "8            isAliveHeir   77.020836\n",
       "9          isAliveSpouse   28.026185\n",
       "10             isMarried   15.455632\n",
       "12                   age   10.098704\n",
       "16            popularity    7.642320\n",
       "15             isPopular    4.347781\n",
       "19  houseSworeAllegiance    3.579165\n",
       "4                  book4    3.242501\n",
       "13      numDeadRelations    3.237888\n",
       "14     boolDeadRelations    3.036974\n",
       "3                  book3    2.898499\n",
       "0                   male    2.783317\n",
       "2                  book2    2.480204\n",
       "11               isNoble    2.156332\n",
       "5                  book5    2.125849\n",
       "18      inHouseOfWarLead    2.057726\n",
       "20      inHouseOfAllegnc    2.013128\n",
       "1                  book1    1.713839\n",
       "17          isACommander    1.291378"
      ]
     },
     "execution_count": 591,
     "metadata": {},
     "output_type": "execute_result"
    }
   ],
   "source": [
    "from statsmodels.stats.outliers_influence import variance_inflation_factor\n",
    "x = num_features.drop(columns='isAlive')\n",
    "vif = pd.DataFrame()\n",
    "vif['features'] = x.columns\n",
    "\n",
    "vif['VIF'] = [variance_inflation_factor(x.values, i) for i in range(len(x.columns))]\n",
    "vif.sort_values(by='VIF', ascending=False)"
   ]
  },
  {
   "attachments": {},
   "cell_type": "markdown",
   "metadata": {},
   "source": [
    "Let's drop some columns with multicolinearity. \n",
    "\n",
    "Then we will go with features that has a correlation greater than 0.1"
   ]
  },
  {
   "cell_type": "code",
   "execution_count": 592,
   "metadata": {},
   "outputs": [],
   "source": [
    "# Dropping columns with colinearity\n",
    "new = new.drop(['isAliveFather', 'isAliveMother', 'isAliveSpouse'], axis=1)"
   ]
  },
  {
   "cell_type": "code",
   "execution_count": 593,
   "metadata": {},
   "outputs": [
    {
     "data": {
      "text/plain": [
       "book3                   0.006693\n",
       "inHouseOfWarLead        0.029822\n",
       "book5                   0.032846\n",
       "isNoble                 0.042211\n",
       "isMarried               0.050037\n",
       "houseSworeAllegiance    0.052159\n",
       "isACommander            0.057968\n",
       "book2                   0.067200\n",
       "Name: isAlive, dtype: float64"
      ]
     },
     "execution_count": 593,
     "metadata": {},
     "output_type": "execute_result"
    }
   ],
   "source": [
    "# Selecting features with coefficient greater than 0.1\n",
    "num_features = new.select_dtypes(['int', 'float'])\n",
    "corr_mat = num_features.corr()['isAlive'].abs().sort_values()\n",
    "corr_less = corr_mat[corr_mat < 0.1]\n",
    "corr_less"
   ]
  },
  {
   "cell_type": "code",
   "execution_count": 594,
   "metadata": {},
   "outputs": [],
   "source": [
    "new = new.drop(corr_less.index, axis=1)"
   ]
  },
  {
   "cell_type": "code",
   "execution_count": 595,
   "metadata": {},
   "outputs": [],
   "source": [
    "# List of categorical variable\n",
    "nominal_features = ['title', 'culture', 'mother', 'father', 'heir', 'spouse']\n",
    "\n",
    "# Counting unique values in each column\n",
    "unique_count = new[nominal_features].apply(lambda x: len(x.value_counts())).sort_values()"
   ]
  },
  {
   "cell_type": "code",
   "execution_count": 596,
   "metadata": {},
   "outputs": [],
   "source": [
    "# Arbitrary cutoff of 25 unique count\n",
    "unique_count = unique_count[unique_count > 25].index\n",
    "# Dropping \n",
    "new = new.drop(unique_count, axis=1)"
   ]
  },
  {
   "cell_type": "code",
   "execution_count": 597,
   "metadata": {},
   "outputs": [],
   "source": [
    "# Converting the remaining text column to categorical type\n",
    "txt_col = new.select_dtypes(include=['object'])\n",
    "for col in txt_col:\n",
    "    new[col] = new[col].astype('category')\n",
    "    \n",
    "# Creating dummy columns from txt columns and add back to dataframe\n",
    "new = pd.concat([\n",
    "    new, pd.get_dummies(new.select_dtypes(include=['category']))\n",
    "], axis=1).drop(txt_col, axis=1)"
   ]
  },
  {
   "cell_type": "code",
   "execution_count": 718,
   "metadata": {},
   "outputs": [
    {
     "data": {
      "text/html": [
       "<div>\n",
       "<style scoped>\n",
       "    .dataframe tbody tr th:only-of-type {\n",
       "        vertical-align: middle;\n",
       "    }\n",
       "\n",
       "    .dataframe tbody tr th {\n",
       "        vertical-align: top;\n",
       "    }\n",
       "\n",
       "    .dataframe thead th {\n",
       "        text-align: right;\n",
       "    }\n",
       "</style>\n",
       "<table border=\"1\" class=\"dataframe\">\n",
       "  <thead>\n",
       "    <tr style=\"text-align: right;\">\n",
       "      <th></th>\n",
       "      <th>male</th>\n",
       "      <th>book1</th>\n",
       "      <th>book4</th>\n",
       "      <th>isAliveHeir</th>\n",
       "      <th>age</th>\n",
       "      <th>numDeadRelations</th>\n",
       "      <th>boolDeadRelations</th>\n",
       "      <th>isPopular</th>\n",
       "      <th>popularity</th>\n",
       "      <th>isAlive</th>\n",
       "      <th>inHouseOfAllegnc</th>\n",
       "      <th>mother_Alicent Hightower</th>\n",
       "      <th>mother_Alyssa Targaryen</th>\n",
       "      <th>mother_Alyssa Velaryon</th>\n",
       "      <th>mother_Betha Blackwood</th>\n",
       "      <th>mother_Cassana Estermont</th>\n",
       "      <th>mother_Catelyn Stark</th>\n",
       "      <th>mother_Cersei Lannister</th>\n",
       "      <th>mother_Daenaera Velaryon</th>\n",
       "      <th>mother_Dyanna Dayne</th>\n",
       "      <th>mother_Lady of House Sunderly</th>\n",
       "      <th>mother_Mariah Martell</th>\n",
       "      <th>mother_Naerys Targaryen</th>\n",
       "      <th>mother_Rhaenyra Targaryen</th>\n",
       "      <th>mother_Rhaenys Targaryen</th>\n",
       "      <th>...</th>\n",
       "      <th>father_Viserys I Targaryen</th>\n",
       "      <th>father_unknown</th>\n",
       "      <th>heir_Aegon IV Targaryen</th>\n",
       "      <th>heir_Aegon Targaryen</th>\n",
       "      <th>heir_Aemon Targaryen</th>\n",
       "      <th>heir_Aenys Targaryen</th>\n",
       "      <th>heir_Aerys II Targaryen</th>\n",
       "      <th>heir_Arlan V Durrandon</th>\n",
       "      <th>heir_Baelor 'Breakspear' Targaryen</th>\n",
       "      <th>heir_Baelor I Targaryen</th>\n",
       "      <th>heir_Bran Stark</th>\n",
       "      <th>heir_Daeron I Targaryen</th>\n",
       "      <th>heir_Daeron II Targaryen</th>\n",
       "      <th>heir_Duncan Targaryen</th>\n",
       "      <th>heir_Durran the Devout</th>\n",
       "      <th>heir_Halleck Hoare</th>\n",
       "      <th>heir_Jaehaerys Targaryen</th>\n",
       "      <th>heir_Myrcella Baratheon</th>\n",
       "      <th>heir_Rhaegar Targaryen</th>\n",
       "      <th>heir_Rhaegel Targaryen</th>\n",
       "      <th>heir_Rhaenyra Targaryen</th>\n",
       "      <th>heir_Shireen Baratheon</th>\n",
       "      <th>heir_Theon Greyjoy</th>\n",
       "      <th>heir_Tommen Baratheon</th>\n",
       "      <th>heir_unknown</th>\n",
       "    </tr>\n",
       "  </thead>\n",
       "  <tbody>\n",
       "    <tr>\n",
       "      <th>0</th>\n",
       "      <td>1</td>\n",
       "      <td>0</td>\n",
       "      <td>0</td>\n",
       "      <td>0.0</td>\n",
       "      <td>37.0</td>\n",
       "      <td>11</td>\n",
       "      <td>1</td>\n",
       "      <td>1</td>\n",
       "      <td>0.605351</td>\n",
       "      <td>0</td>\n",
       "      <td>0</td>\n",
       "      <td>0</td>\n",
       "      <td>0</td>\n",
       "      <td>0</td>\n",
       "      <td>0</td>\n",
       "      <td>0</td>\n",
       "      <td>0</td>\n",
       "      <td>0</td>\n",
       "      <td>0</td>\n",
       "      <td>0</td>\n",
       "      <td>0</td>\n",
       "      <td>0</td>\n",
       "      <td>0</td>\n",
       "      <td>1</td>\n",
       "      <td>0</td>\n",
       "      <td>...</td>\n",
       "      <td>0</td>\n",
       "      <td>0</td>\n",
       "      <td>1</td>\n",
       "      <td>0</td>\n",
       "      <td>0</td>\n",
       "      <td>0</td>\n",
       "      <td>0</td>\n",
       "      <td>0</td>\n",
       "      <td>0</td>\n",
       "      <td>0</td>\n",
       "      <td>0</td>\n",
       "      <td>0</td>\n",
       "      <td>0</td>\n",
       "      <td>0</td>\n",
       "      <td>0</td>\n",
       "      <td>0</td>\n",
       "      <td>0</td>\n",
       "      <td>0</td>\n",
       "      <td>0</td>\n",
       "      <td>0</td>\n",
       "      <td>0</td>\n",
       "      <td>0</td>\n",
       "      <td>0</td>\n",
       "      <td>0</td>\n",
       "      <td>0</td>\n",
       "    </tr>\n",
       "    <tr>\n",
       "      <th>1</th>\n",
       "      <td>1</td>\n",
       "      <td>1</td>\n",
       "      <td>1</td>\n",
       "      <td>-1.0</td>\n",
       "      <td>97.0</td>\n",
       "      <td>1</td>\n",
       "      <td>1</td>\n",
       "      <td>1</td>\n",
       "      <td>0.896321</td>\n",
       "      <td>1</td>\n",
       "      <td>0</td>\n",
       "      <td>0</td>\n",
       "      <td>0</td>\n",
       "      <td>0</td>\n",
       "      <td>0</td>\n",
       "      <td>0</td>\n",
       "      <td>0</td>\n",
       "      <td>0</td>\n",
       "      <td>0</td>\n",
       "      <td>0</td>\n",
       "      <td>0</td>\n",
       "      <td>0</td>\n",
       "      <td>0</td>\n",
       "      <td>0</td>\n",
       "      <td>0</td>\n",
       "      <td>...</td>\n",
       "      <td>0</td>\n",
       "      <td>1</td>\n",
       "      <td>0</td>\n",
       "      <td>0</td>\n",
       "      <td>0</td>\n",
       "      <td>0</td>\n",
       "      <td>0</td>\n",
       "      <td>0</td>\n",
       "      <td>0</td>\n",
       "      <td>0</td>\n",
       "      <td>0</td>\n",
       "      <td>0</td>\n",
       "      <td>0</td>\n",
       "      <td>0</td>\n",
       "      <td>0</td>\n",
       "      <td>0</td>\n",
       "      <td>0</td>\n",
       "      <td>0</td>\n",
       "      <td>0</td>\n",
       "      <td>0</td>\n",
       "      <td>0</td>\n",
       "      <td>0</td>\n",
       "      <td>0</td>\n",
       "      <td>0</td>\n",
       "      <td>1</td>\n",
       "    </tr>\n",
       "    <tr>\n",
       "      <th>2</th>\n",
       "      <td>1</td>\n",
       "      <td>0</td>\n",
       "      <td>1</td>\n",
       "      <td>-1.0</td>\n",
       "      <td>37.0</td>\n",
       "      <td>0</td>\n",
       "      <td>0</td>\n",
       "      <td>0</td>\n",
       "      <td>0.267559</td>\n",
       "      <td>1</td>\n",
       "      <td>0</td>\n",
       "      <td>0</td>\n",
       "      <td>0</td>\n",
       "      <td>0</td>\n",
       "      <td>0</td>\n",
       "      <td>0</td>\n",
       "      <td>0</td>\n",
       "      <td>0</td>\n",
       "      <td>0</td>\n",
       "      <td>0</td>\n",
       "      <td>0</td>\n",
       "      <td>0</td>\n",
       "      <td>0</td>\n",
       "      <td>0</td>\n",
       "      <td>0</td>\n",
       "      <td>...</td>\n",
       "      <td>0</td>\n",
       "      <td>1</td>\n",
       "      <td>0</td>\n",
       "      <td>0</td>\n",
       "      <td>0</td>\n",
       "      <td>0</td>\n",
       "      <td>0</td>\n",
       "      <td>0</td>\n",
       "      <td>0</td>\n",
       "      <td>0</td>\n",
       "      <td>0</td>\n",
       "      <td>0</td>\n",
       "      <td>0</td>\n",
       "      <td>0</td>\n",
       "      <td>0</td>\n",
       "      <td>0</td>\n",
       "      <td>0</td>\n",
       "      <td>0</td>\n",
       "      <td>0</td>\n",
       "      <td>0</td>\n",
       "      <td>0</td>\n",
       "      <td>0</td>\n",
       "      <td>0</td>\n",
       "      <td>0</td>\n",
       "      <td>1</td>\n",
       "    </tr>\n",
       "    <tr>\n",
       "      <th>3</th>\n",
       "      <td>0</td>\n",
       "      <td>0</td>\n",
       "      <td>0</td>\n",
       "      <td>-1.0</td>\n",
       "      <td>23.0</td>\n",
       "      <td>0</td>\n",
       "      <td>0</td>\n",
       "      <td>0</td>\n",
       "      <td>0.183946</td>\n",
       "      <td>0</td>\n",
       "      <td>1</td>\n",
       "      <td>0</td>\n",
       "      <td>0</td>\n",
       "      <td>0</td>\n",
       "      <td>0</td>\n",
       "      <td>0</td>\n",
       "      <td>0</td>\n",
       "      <td>0</td>\n",
       "      <td>0</td>\n",
       "      <td>0</td>\n",
       "      <td>0</td>\n",
       "      <td>0</td>\n",
       "      <td>0</td>\n",
       "      <td>0</td>\n",
       "      <td>0</td>\n",
       "      <td>...</td>\n",
       "      <td>0</td>\n",
       "      <td>1</td>\n",
       "      <td>0</td>\n",
       "      <td>0</td>\n",
       "      <td>0</td>\n",
       "      <td>0</td>\n",
       "      <td>0</td>\n",
       "      <td>0</td>\n",
       "      <td>0</td>\n",
       "      <td>0</td>\n",
       "      <td>0</td>\n",
       "      <td>0</td>\n",
       "      <td>0</td>\n",
       "      <td>0</td>\n",
       "      <td>0</td>\n",
       "      <td>0</td>\n",
       "      <td>0</td>\n",
       "      <td>0</td>\n",
       "      <td>0</td>\n",
       "      <td>0</td>\n",
       "      <td>0</td>\n",
       "      <td>0</td>\n",
       "      <td>0</td>\n",
       "      <td>0</td>\n",
       "      <td>1</td>\n",
       "    </tr>\n",
       "    <tr>\n",
       "      <th>4</th>\n",
       "      <td>0</td>\n",
       "      <td>0</td>\n",
       "      <td>1</td>\n",
       "      <td>-1.0</td>\n",
       "      <td>29.0</td>\n",
       "      <td>0</td>\n",
       "      <td>0</td>\n",
       "      <td>0</td>\n",
       "      <td>0.043478</td>\n",
       "      <td>1</td>\n",
       "      <td>0</td>\n",
       "      <td>0</td>\n",
       "      <td>0</td>\n",
       "      <td>0</td>\n",
       "      <td>0</td>\n",
       "      <td>0</td>\n",
       "      <td>0</td>\n",
       "      <td>0</td>\n",
       "      <td>0</td>\n",
       "      <td>0</td>\n",
       "      <td>0</td>\n",
       "      <td>0</td>\n",
       "      <td>0</td>\n",
       "      <td>0</td>\n",
       "      <td>0</td>\n",
       "      <td>...</td>\n",
       "      <td>0</td>\n",
       "      <td>1</td>\n",
       "      <td>0</td>\n",
       "      <td>0</td>\n",
       "      <td>0</td>\n",
       "      <td>0</td>\n",
       "      <td>0</td>\n",
       "      <td>0</td>\n",
       "      <td>0</td>\n",
       "      <td>0</td>\n",
       "      <td>0</td>\n",
       "      <td>0</td>\n",
       "      <td>0</td>\n",
       "      <td>0</td>\n",
       "      <td>0</td>\n",
       "      <td>0</td>\n",
       "      <td>0</td>\n",
       "      <td>0</td>\n",
       "      <td>0</td>\n",
       "      <td>0</td>\n",
       "      <td>0</td>\n",
       "      <td>0</td>\n",
       "      <td>0</td>\n",
       "      <td>0</td>\n",
       "      <td>1</td>\n",
       "    </tr>\n",
       "    <tr>\n",
       "      <th>...</th>\n",
       "      <td>...</td>\n",
       "      <td>...</td>\n",
       "      <td>...</td>\n",
       "      <td>...</td>\n",
       "      <td>...</td>\n",
       "      <td>...</td>\n",
       "      <td>...</td>\n",
       "      <td>...</td>\n",
       "      <td>...</td>\n",
       "      <td>...</td>\n",
       "      <td>...</td>\n",
       "      <td>...</td>\n",
       "      <td>...</td>\n",
       "      <td>...</td>\n",
       "      <td>...</td>\n",
       "      <td>...</td>\n",
       "      <td>...</td>\n",
       "      <td>...</td>\n",
       "      <td>...</td>\n",
       "      <td>...</td>\n",
       "      <td>...</td>\n",
       "      <td>...</td>\n",
       "      <td>...</td>\n",
       "      <td>...</td>\n",
       "      <td>...</td>\n",
       "      <td>...</td>\n",
       "      <td>...</td>\n",
       "      <td>...</td>\n",
       "      <td>...</td>\n",
       "      <td>...</td>\n",
       "      <td>...</td>\n",
       "      <td>...</td>\n",
       "      <td>...</td>\n",
       "      <td>...</td>\n",
       "      <td>...</td>\n",
       "      <td>...</td>\n",
       "      <td>...</td>\n",
       "      <td>...</td>\n",
       "      <td>...</td>\n",
       "      <td>...</td>\n",
       "      <td>...</td>\n",
       "      <td>...</td>\n",
       "      <td>...</td>\n",
       "      <td>...</td>\n",
       "      <td>...</td>\n",
       "      <td>...</td>\n",
       "      <td>...</td>\n",
       "      <td>...</td>\n",
       "      <td>...</td>\n",
       "      <td>...</td>\n",
       "      <td>...</td>\n",
       "    </tr>\n",
       "    <tr>\n",
       "      <th>1941</th>\n",
       "      <td>1</td>\n",
       "      <td>1</td>\n",
       "      <td>1</td>\n",
       "      <td>-1.0</td>\n",
       "      <td>37.0</td>\n",
       "      <td>0</td>\n",
       "      <td>0</td>\n",
       "      <td>1</td>\n",
       "      <td>0.351171</td>\n",
       "      <td>0</td>\n",
       "      <td>1</td>\n",
       "      <td>0</td>\n",
       "      <td>0</td>\n",
       "      <td>0</td>\n",
       "      <td>0</td>\n",
       "      <td>0</td>\n",
       "      <td>0</td>\n",
       "      <td>0</td>\n",
       "      <td>0</td>\n",
       "      <td>0</td>\n",
       "      <td>0</td>\n",
       "      <td>0</td>\n",
       "      <td>0</td>\n",
       "      <td>0</td>\n",
       "      <td>0</td>\n",
       "      <td>...</td>\n",
       "      <td>0</td>\n",
       "      <td>1</td>\n",
       "      <td>0</td>\n",
       "      <td>0</td>\n",
       "      <td>0</td>\n",
       "      <td>0</td>\n",
       "      <td>0</td>\n",
       "      <td>0</td>\n",
       "      <td>0</td>\n",
       "      <td>0</td>\n",
       "      <td>0</td>\n",
       "      <td>0</td>\n",
       "      <td>0</td>\n",
       "      <td>0</td>\n",
       "      <td>0</td>\n",
       "      <td>0</td>\n",
       "      <td>0</td>\n",
       "      <td>0</td>\n",
       "      <td>0</td>\n",
       "      <td>0</td>\n",
       "      <td>0</td>\n",
       "      <td>0</td>\n",
       "      <td>0</td>\n",
       "      <td>0</td>\n",
       "      <td>1</td>\n",
       "    </tr>\n",
       "    <tr>\n",
       "      <th>1942</th>\n",
       "      <td>1</td>\n",
       "      <td>0</td>\n",
       "      <td>1</td>\n",
       "      <td>-1.0</td>\n",
       "      <td>37.0</td>\n",
       "      <td>0</td>\n",
       "      <td>0</td>\n",
       "      <td>0</td>\n",
       "      <td>0.096990</td>\n",
       "      <td>0</td>\n",
       "      <td>0</td>\n",
       "      <td>0</td>\n",
       "      <td>0</td>\n",
       "      <td>0</td>\n",
       "      <td>0</td>\n",
       "      <td>0</td>\n",
       "      <td>0</td>\n",
       "      <td>0</td>\n",
       "      <td>0</td>\n",
       "      <td>0</td>\n",
       "      <td>0</td>\n",
       "      <td>0</td>\n",
       "      <td>0</td>\n",
       "      <td>0</td>\n",
       "      <td>0</td>\n",
       "      <td>...</td>\n",
       "      <td>0</td>\n",
       "      <td>1</td>\n",
       "      <td>0</td>\n",
       "      <td>0</td>\n",
       "      <td>0</td>\n",
       "      <td>0</td>\n",
       "      <td>0</td>\n",
       "      <td>0</td>\n",
       "      <td>0</td>\n",
       "      <td>0</td>\n",
       "      <td>0</td>\n",
       "      <td>0</td>\n",
       "      <td>0</td>\n",
       "      <td>0</td>\n",
       "      <td>0</td>\n",
       "      <td>0</td>\n",
       "      <td>0</td>\n",
       "      <td>0</td>\n",
       "      <td>0</td>\n",
       "      <td>0</td>\n",
       "      <td>0</td>\n",
       "      <td>0</td>\n",
       "      <td>0</td>\n",
       "      <td>0</td>\n",
       "      <td>1</td>\n",
       "    </tr>\n",
       "    <tr>\n",
       "      <th>1943</th>\n",
       "      <td>1</td>\n",
       "      <td>1</td>\n",
       "      <td>1</td>\n",
       "      <td>-1.0</td>\n",
       "      <td>37.0</td>\n",
       "      <td>0</td>\n",
       "      <td>0</td>\n",
       "      <td>0</td>\n",
       "      <td>0.030100</td>\n",
       "      <td>1</td>\n",
       "      <td>0</td>\n",
       "      <td>0</td>\n",
       "      <td>0</td>\n",
       "      <td>0</td>\n",
       "      <td>0</td>\n",
       "      <td>0</td>\n",
       "      <td>0</td>\n",
       "      <td>0</td>\n",
       "      <td>0</td>\n",
       "      <td>0</td>\n",
       "      <td>0</td>\n",
       "      <td>0</td>\n",
       "      <td>0</td>\n",
       "      <td>0</td>\n",
       "      <td>0</td>\n",
       "      <td>...</td>\n",
       "      <td>0</td>\n",
       "      <td>1</td>\n",
       "      <td>0</td>\n",
       "      <td>0</td>\n",
       "      <td>0</td>\n",
       "      <td>0</td>\n",
       "      <td>0</td>\n",
       "      <td>0</td>\n",
       "      <td>0</td>\n",
       "      <td>0</td>\n",
       "      <td>0</td>\n",
       "      <td>0</td>\n",
       "      <td>0</td>\n",
       "      <td>0</td>\n",
       "      <td>0</td>\n",
       "      <td>0</td>\n",
       "      <td>0</td>\n",
       "      <td>0</td>\n",
       "      <td>0</td>\n",
       "      <td>0</td>\n",
       "      <td>0</td>\n",
       "      <td>0</td>\n",
       "      <td>0</td>\n",
       "      <td>0</td>\n",
       "      <td>1</td>\n",
       "    </tr>\n",
       "    <tr>\n",
       "      <th>1944</th>\n",
       "      <td>1</td>\n",
       "      <td>0</td>\n",
       "      <td>1</td>\n",
       "      <td>-1.0</td>\n",
       "      <td>37.0</td>\n",
       "      <td>0</td>\n",
       "      <td>0</td>\n",
       "      <td>0</td>\n",
       "      <td>0.130435</td>\n",
       "      <td>1</td>\n",
       "      <td>0</td>\n",
       "      <td>0</td>\n",
       "      <td>0</td>\n",
       "      <td>0</td>\n",
       "      <td>0</td>\n",
       "      <td>0</td>\n",
       "      <td>0</td>\n",
       "      <td>0</td>\n",
       "      <td>0</td>\n",
       "      <td>0</td>\n",
       "      <td>0</td>\n",
       "      <td>0</td>\n",
       "      <td>0</td>\n",
       "      <td>0</td>\n",
       "      <td>0</td>\n",
       "      <td>...</td>\n",
       "      <td>0</td>\n",
       "      <td>1</td>\n",
       "      <td>0</td>\n",
       "      <td>0</td>\n",
       "      <td>0</td>\n",
       "      <td>0</td>\n",
       "      <td>0</td>\n",
       "      <td>0</td>\n",
       "      <td>0</td>\n",
       "      <td>0</td>\n",
       "      <td>0</td>\n",
       "      <td>0</td>\n",
       "      <td>0</td>\n",
       "      <td>0</td>\n",
       "      <td>0</td>\n",
       "      <td>0</td>\n",
       "      <td>0</td>\n",
       "      <td>0</td>\n",
       "      <td>0</td>\n",
       "      <td>0</td>\n",
       "      <td>0</td>\n",
       "      <td>0</td>\n",
       "      <td>0</td>\n",
       "      <td>0</td>\n",
       "      <td>1</td>\n",
       "    </tr>\n",
       "    <tr>\n",
       "      <th>1945</th>\n",
       "      <td>1</td>\n",
       "      <td>0</td>\n",
       "      <td>1</td>\n",
       "      <td>-1.0</td>\n",
       "      <td>47.0</td>\n",
       "      <td>4</td>\n",
       "      <td>1</td>\n",
       "      <td>0</td>\n",
       "      <td>0.210702</td>\n",
       "      <td>0</td>\n",
       "      <td>1</td>\n",
       "      <td>0</td>\n",
       "      <td>0</td>\n",
       "      <td>0</td>\n",
       "      <td>0</td>\n",
       "      <td>0</td>\n",
       "      <td>0</td>\n",
       "      <td>0</td>\n",
       "      <td>0</td>\n",
       "      <td>0</td>\n",
       "      <td>0</td>\n",
       "      <td>0</td>\n",
       "      <td>0</td>\n",
       "      <td>0</td>\n",
       "      <td>0</td>\n",
       "      <td>...</td>\n",
       "      <td>0</td>\n",
       "      <td>1</td>\n",
       "      <td>0</td>\n",
       "      <td>0</td>\n",
       "      <td>0</td>\n",
       "      <td>0</td>\n",
       "      <td>0</td>\n",
       "      <td>0</td>\n",
       "      <td>0</td>\n",
       "      <td>0</td>\n",
       "      <td>0</td>\n",
       "      <td>0</td>\n",
       "      <td>0</td>\n",
       "      <td>0</td>\n",
       "      <td>0</td>\n",
       "      <td>0</td>\n",
       "      <td>0</td>\n",
       "      <td>0</td>\n",
       "      <td>0</td>\n",
       "      <td>0</td>\n",
       "      <td>0</td>\n",
       "      <td>0</td>\n",
       "      <td>0</td>\n",
       "      <td>0</td>\n",
       "      <td>1</td>\n",
       "    </tr>\n",
       "  </tbody>\n",
       "</table>\n",
       "<p>1946 rows × 73 columns</p>\n",
       "</div>"
      ],
      "text/plain": [
       "      male  book1  book4  isAliveHeir   age  numDeadRelations  \\\n",
       "0        1      0      0          0.0  37.0                11   \n",
       "1        1      1      1         -1.0  97.0                 1   \n",
       "2        1      0      1         -1.0  37.0                 0   \n",
       "3        0      0      0         -1.0  23.0                 0   \n",
       "4        0      0      1         -1.0  29.0                 0   \n",
       "...    ...    ...    ...          ...   ...               ...   \n",
       "1941     1      1      1         -1.0  37.0                 0   \n",
       "1942     1      0      1         -1.0  37.0                 0   \n",
       "1943     1      1      1         -1.0  37.0                 0   \n",
       "1944     1      0      1         -1.0  37.0                 0   \n",
       "1945     1      0      1         -1.0  47.0                 4   \n",
       "\n",
       "      boolDeadRelations  isPopular  popularity  isAlive  inHouseOfAllegnc  \\\n",
       "0                     1          1    0.605351        0                 0   \n",
       "1                     1          1    0.896321        1                 0   \n",
       "2                     0          0    0.267559        1                 0   \n",
       "3                     0          0    0.183946        0                 1   \n",
       "4                     0          0    0.043478        1                 0   \n",
       "...                 ...        ...         ...      ...               ...   \n",
       "1941                  0          1    0.351171        0                 1   \n",
       "1942                  0          0    0.096990        0                 0   \n",
       "1943                  0          0    0.030100        1                 0   \n",
       "1944                  0          0    0.130435        1                 0   \n",
       "1945                  1          0    0.210702        0                 1   \n",
       "\n",
       "      mother_Alicent Hightower  mother_Alyssa Targaryen  \\\n",
       "0                            0                        0   \n",
       "1                            0                        0   \n",
       "2                            0                        0   \n",
       "3                            0                        0   \n",
       "4                            0                        0   \n",
       "...                        ...                      ...   \n",
       "1941                         0                        0   \n",
       "1942                         0                        0   \n",
       "1943                         0                        0   \n",
       "1944                         0                        0   \n",
       "1945                         0                        0   \n",
       "\n",
       "      mother_Alyssa Velaryon  mother_Betha Blackwood  \\\n",
       "0                          0                       0   \n",
       "1                          0                       0   \n",
       "2                          0                       0   \n",
       "3                          0                       0   \n",
       "4                          0                       0   \n",
       "...                      ...                     ...   \n",
       "1941                       0                       0   \n",
       "1942                       0                       0   \n",
       "1943                       0                       0   \n",
       "1944                       0                       0   \n",
       "1945                       0                       0   \n",
       "\n",
       "      mother_Cassana Estermont  mother_Catelyn Stark  mother_Cersei Lannister  \\\n",
       "0                            0                     0                        0   \n",
       "1                            0                     0                        0   \n",
       "2                            0                     0                        0   \n",
       "3                            0                     0                        0   \n",
       "4                            0                     0                        0   \n",
       "...                        ...                   ...                      ...   \n",
       "1941                         0                     0                        0   \n",
       "1942                         0                     0                        0   \n",
       "1943                         0                     0                        0   \n",
       "1944                         0                     0                        0   \n",
       "1945                         0                     0                        0   \n",
       "\n",
       "      mother_Daenaera Velaryon  mother_Dyanna Dayne  \\\n",
       "0                            0                    0   \n",
       "1                            0                    0   \n",
       "2                            0                    0   \n",
       "3                            0                    0   \n",
       "4                            0                    0   \n",
       "...                        ...                  ...   \n",
       "1941                         0                    0   \n",
       "1942                         0                    0   \n",
       "1943                         0                    0   \n",
       "1944                         0                    0   \n",
       "1945                         0                    0   \n",
       "\n",
       "      mother_Lady of House Sunderly  mother_Mariah Martell  \\\n",
       "0                                 0                      0   \n",
       "1                                 0                      0   \n",
       "2                                 0                      0   \n",
       "3                                 0                      0   \n",
       "4                                 0                      0   \n",
       "...                             ...                    ...   \n",
       "1941                              0                      0   \n",
       "1942                              0                      0   \n",
       "1943                              0                      0   \n",
       "1944                              0                      0   \n",
       "1945                              0                      0   \n",
       "\n",
       "      mother_Naerys Targaryen  mother_Rhaenyra Targaryen  \\\n",
       "0                           0                          1   \n",
       "1                           0                          0   \n",
       "2                           0                          0   \n",
       "3                           0                          0   \n",
       "4                           0                          0   \n",
       "...                       ...                        ...   \n",
       "1941                        0                          0   \n",
       "1942                        0                          0   \n",
       "1943                        0                          0   \n",
       "1944                        0                          0   \n",
       "1945                        0                          0   \n",
       "\n",
       "      mother_Rhaenys Targaryen  ...  father_Viserys I Targaryen  \\\n",
       "0                            0  ...                           0   \n",
       "1                            0  ...                           0   \n",
       "2                            0  ...                           0   \n",
       "3                            0  ...                           0   \n",
       "4                            0  ...                           0   \n",
       "...                        ...  ...                         ...   \n",
       "1941                         0  ...                           0   \n",
       "1942                         0  ...                           0   \n",
       "1943                         0  ...                           0   \n",
       "1944                         0  ...                           0   \n",
       "1945                         0  ...                           0   \n",
       "\n",
       "      father_unknown  heir_Aegon IV Targaryen  heir_Aegon Targaryen  \\\n",
       "0                  0                        1                     0   \n",
       "1                  1                        0                     0   \n",
       "2                  1                        0                     0   \n",
       "3                  1                        0                     0   \n",
       "4                  1                        0                     0   \n",
       "...              ...                      ...                   ...   \n",
       "1941               1                        0                     0   \n",
       "1942               1                        0                     0   \n",
       "1943               1                        0                     0   \n",
       "1944               1                        0                     0   \n",
       "1945               1                        0                     0   \n",
       "\n",
       "      heir_Aemon Targaryen  heir_Aenys Targaryen  heir_Aerys II Targaryen  \\\n",
       "0                        0                     0                        0   \n",
       "1                        0                     0                        0   \n",
       "2                        0                     0                        0   \n",
       "3                        0                     0                        0   \n",
       "4                        0                     0                        0   \n",
       "...                    ...                   ...                      ...   \n",
       "1941                     0                     0                        0   \n",
       "1942                     0                     0                        0   \n",
       "1943                     0                     0                        0   \n",
       "1944                     0                     0                        0   \n",
       "1945                     0                     0                        0   \n",
       "\n",
       "      heir_Arlan V Durrandon  heir_Baelor 'Breakspear' Targaryen  \\\n",
       "0                          0                                   0   \n",
       "1                          0                                   0   \n",
       "2                          0                                   0   \n",
       "3                          0                                   0   \n",
       "4                          0                                   0   \n",
       "...                      ...                                 ...   \n",
       "1941                       0                                   0   \n",
       "1942                       0                                   0   \n",
       "1943                       0                                   0   \n",
       "1944                       0                                   0   \n",
       "1945                       0                                   0   \n",
       "\n",
       "      heir_Baelor I Targaryen  heir_Bran Stark  heir_Daeron I Targaryen  \\\n",
       "0                           0                0                        0   \n",
       "1                           0                0                        0   \n",
       "2                           0                0                        0   \n",
       "3                           0                0                        0   \n",
       "4                           0                0                        0   \n",
       "...                       ...              ...                      ...   \n",
       "1941                        0                0                        0   \n",
       "1942                        0                0                        0   \n",
       "1943                        0                0                        0   \n",
       "1944                        0                0                        0   \n",
       "1945                        0                0                        0   \n",
       "\n",
       "      heir_Daeron II Targaryen  heir_Duncan Targaryen  heir_Durran the Devout  \\\n",
       "0                            0                      0                       0   \n",
       "1                            0                      0                       0   \n",
       "2                            0                      0                       0   \n",
       "3                            0                      0                       0   \n",
       "4                            0                      0                       0   \n",
       "...                        ...                    ...                     ...   \n",
       "1941                         0                      0                       0   \n",
       "1942                         0                      0                       0   \n",
       "1943                         0                      0                       0   \n",
       "1944                         0                      0                       0   \n",
       "1945                         0                      0                       0   \n",
       "\n",
       "      heir_Halleck Hoare  heir_Jaehaerys Targaryen  heir_Myrcella Baratheon  \\\n",
       "0                      0                         0                        0   \n",
       "1                      0                         0                        0   \n",
       "2                      0                         0                        0   \n",
       "3                      0                         0                        0   \n",
       "4                      0                         0                        0   \n",
       "...                  ...                       ...                      ...   \n",
       "1941                   0                         0                        0   \n",
       "1942                   0                         0                        0   \n",
       "1943                   0                         0                        0   \n",
       "1944                   0                         0                        0   \n",
       "1945                   0                         0                        0   \n",
       "\n",
       "      heir_Rhaegar Targaryen  heir_Rhaegel Targaryen  heir_Rhaenyra Targaryen  \\\n",
       "0                          0                       0                        0   \n",
       "1                          0                       0                        0   \n",
       "2                          0                       0                        0   \n",
       "3                          0                       0                        0   \n",
       "4                          0                       0                        0   \n",
       "...                      ...                     ...                      ...   \n",
       "1941                       0                       0                        0   \n",
       "1942                       0                       0                        0   \n",
       "1943                       0                       0                        0   \n",
       "1944                       0                       0                        0   \n",
       "1945                       0                       0                        0   \n",
       "\n",
       "      heir_Shireen Baratheon  heir_Theon Greyjoy  heir_Tommen Baratheon  \\\n",
       "0                          0                   0                      0   \n",
       "1                          0                   0                      0   \n",
       "2                          0                   0                      0   \n",
       "3                          0                   0                      0   \n",
       "4                          0                   0                      0   \n",
       "...                      ...                 ...                    ...   \n",
       "1941                       0                   0                      0   \n",
       "1942                       0                   0                      0   \n",
       "1943                       0                   0                      0   \n",
       "1944                       0                   0                      0   \n",
       "1945                       0                   0                      0   \n",
       "\n",
       "      heir_unknown  \n",
       "0                0  \n",
       "1                1  \n",
       "2                1  \n",
       "3                1  \n",
       "4                1  \n",
       "...            ...  \n",
       "1941             1  \n",
       "1942             1  \n",
       "1943             1  \n",
       "1944             1  \n",
       "1945             1  \n",
       "\n",
       "[1946 rows x 73 columns]"
      ]
     },
     "execution_count": 718,
     "metadata": {},
     "output_type": "execute_result"
    }
   ],
   "source": [
    "\n",
    "character = char_pred.copy()\n",
    "def transform_data(data):\n",
    "    # Replacing the age\n",
    "    data.loc[1684, 'age'] = 25.0\n",
    "    data.loc[1868, 'age'] = 0.0\n",
    "    \n",
    "    # Replacing missing values\n",
    "    data[\"age\"].fillna(round(data[\"age\"].mean()), inplace=True)\n",
    "    data['dateOfBirth'].fillna(data['dateOfBirth'].median(), inplace=True)\n",
    "    data['DateoFdeath'].fillna(data['DateoFdeath'].median(), inplace=True)\n",
    "    \n",
    "    data.loc[:, \"culture\"] = [get_cult(x) for x in data.culture.fillna(\"\")]\n",
    "    cat = ['title', 'mother', 'father', 'heir', 'house', 'spouse']\n",
    "    for col in cat:\n",
    "        data[col].fillna('unknown', inplace=True)\n",
    "    data.fillna(-1, inplace=True)\n",
    "    \n",
    "    data['isACommander'] = np.where(data['name'].isin(all_commanders), 1, 0)\n",
    "    data['inHouseOfWarLead'] = np.where(data['house'].isin(renam_warlead), 1, 0)\n",
    "    data['houseSworeAllegiance'] = np.where(data['house'].isin(hus_char_with_allegnc), 1, 0)\n",
    "    data['inHouseOfAllegnc'] = np.where(data['house'].isin(renam_husOfAllgnc), 1, 0)\n",
    "    \n",
    "    data = data.drop(['S.No', 'actual', 'pred', 'alive', 'plod', 'name', 'title',\n",
    "                      'dateOfBirth', 'DateoFdeath', 'house'], axis=1)\n",
    "    \n",
    "    return data\n",
    "\n",
    "def select_features(data):\n",
    "    # Heatmap of numerical feature in the training dataset\n",
    "    num_features = data.select_dtypes(['int', 'float'])\n",
    "    corr_mat = num_features.corr()['isAlive'].abs().sort_values()\n",
    "    corr_less = corr_mat[corr_mat < 0.1]\n",
    "    data = data.drop(corr_less.index, axis=1)\n",
    "    \n",
    "    # Dropping columns with colinearity\n",
    "    data = data.drop(['isAliveFather', 'isAliveMother'], axis=1)\n",
    "    \n",
    "    # List of categorical variable\n",
    "    nominal_features = ['culture', 'mother', 'father', 'heir', 'spouse']\n",
    "    # Counting unique values in each column\n",
    "    unique_count = data[nominal_features].apply(lambda x: len(x.value_counts())).sort_values()\n",
    "    unique_count = unique_count[unique_count > 25].index\n",
    "    # Dropping \n",
    "    data = data.drop(unique_count, axis=1)\n",
    "    # Converting the remaining text column to categorical type\n",
    "    txt_col = data.select_dtypes(include=['object'])\n",
    "    for col in txt_col:\n",
    "        data[col] = data[col].astype('category')\n",
    "        \n",
    "    # Creating dummy columns from txt columns and add back to dataframe\n",
    "    data = pd.concat([\n",
    "        data, pd.get_dummies(data.select_dtypes(include=['category']))\n",
    "    ], axis=1).drop(txt_col, axis=1)\n",
    "    \n",
    "    return data\n",
    "    \n",
    "transformed_data = transform_data(character)\n",
    "selected_features = select_features(transformed_data)\n",
    "\n",
    "selected_features"
   ]
  },
  {
   "cell_type": "code",
   "execution_count": 729,
   "metadata": {},
   "outputs": [],
   "source": [
    "# selected_features.to_csv('cleaned_got_for_ml.csv')"
   ]
  },
  {
   "cell_type": "code",
   "execution_count": 720,
   "metadata": {},
   "outputs": [
    {
     "data": {
      "text/plain": [
       "1    1451\n",
       "0     495\n",
       "Name: isAlive, dtype: int64"
      ]
     },
     "execution_count": 720,
     "metadata": {},
     "output_type": "execute_result"
    }
   ],
   "source": [
    "selected_features.isAlive.value_counts()"
   ]
  },
  {
   "attachments": {},
   "cell_type": "markdown",
   "metadata": {},
   "source": [
    "The target variable is imbalance, there are more people alive than dead. To handle this, we will undersample the majority class."
   ]
  },
  {
   "cell_type": "code",
   "execution_count": 721,
   "metadata": {},
   "outputs": [
    {
     "data": {
      "text/plain": [
       "(995, 73)"
      ]
     },
     "execution_count": 721,
     "metadata": {},
     "output_type": "execute_result"
    }
   ],
   "source": [
    "dead = selected_features[selected_features['isAlive'] == 0]\n",
    "alive = selected_features[selected_features['isAlive'] == 1].sample(500, random_state=42)\n",
    "und_samp_df = pd.concat([dead, alive])\n",
    "\n",
    "und_samp_df = sklearn.utils.shuffle(und_samp_df, random_state=42)\n",
    "und_samp_df = und_samp_df.reset_index(drop=True)\n",
    "und_samp_df.shape"
   ]
  },
  {
   "cell_type": "code",
   "execution_count": 722,
   "metadata": {},
   "outputs": [
    {
     "data": {
      "text/plain": [
       "1    500\n",
       "0    495\n",
       "Name: isAlive, dtype: int64"
      ]
     },
     "execution_count": 722,
     "metadata": {},
     "output_type": "execute_result"
    }
   ],
   "source": [
    "und_samp_df.isAlive.value_counts()"
   ]
  },
  {
   "cell_type": "code",
   "execution_count": 723,
   "metadata": {},
   "outputs": [],
   "source": [
    "# Scaling our data\n",
    "scaler = StandardScaler()\n",
    "norm_df = scaler.fit_transform(und_samp_df)\n",
    "norm_df = pd.DataFrame(norm_df, columns=und_samp_df.columns)\n",
    "norm_df['isAlive'] = und_samp_df['isAlive']"
   ]
  },
  {
   "cell_type": "code",
   "execution_count": 724,
   "metadata": {},
   "outputs": [],
   "source": [
    "# Creating Features and Target\n",
    "x = norm_df.drop(columns='isAlive')\n",
    "y = norm_df['isAlive']\n"
   ]
  },
  {
   "cell_type": "code",
   "execution_count": 725,
   "metadata": {},
   "outputs": [],
   "source": [
    "# Splitting the data for model training \n",
    "x_train, x_test, y_train, y_test = train_test_split(x,y, test_size=.3, shuffle=True, random_state=5, stratify=y)"
   ]
  },
  {
   "cell_type": "code",
   "execution_count": 726,
   "metadata": {},
   "outputs": [
    {
     "data": {
      "text/plain": [
       "1    350\n",
       "0    346\n",
       "Name: isAlive, dtype: int64"
      ]
     },
     "execution_count": 726,
     "metadata": {},
     "output_type": "execute_result"
    }
   ],
   "source": [
    "y_train.value_counts()"
   ]
  },
  {
   "attachments": {},
   "cell_type": "markdown",
   "metadata": {},
   "source": [
    "### Build and Train a Model"
   ]
  },
  {
   "cell_type": "code",
   "execution_count": 727,
   "metadata": {},
   "outputs": [],
   "source": [
    "# creating a seed\n",
    "fixed_seed = 42\n",
    "\n",
    "# Models for training\n",
    "models = [LogisticRegression(random_state=fixed_seed), KNeighborsClassifier(), RandomForestClassifier(random_state=fixed_seed),\n",
    "          DecisionTreeClassifier(random_state=fixed_seed),  XGBC(seed=fixed_seed)]\n",
    "\n",
    "test_score = []\n",
    "train_score = []\n",
    "roc_auc_lst = []\n",
    "\n",
    "# Loops through each mosel and get their score\n",
    "for model in models:\n",
    "    model.fit(x_train, y_train)\n",
    "    proba = model.predict_proba(x_test)[:, 1]\n",
    "    test = model.score(x_test, y_test)\n",
    "    train = model.score(x_train, y_train)\n",
    "    roc_auc = roc_auc_score(y_test, proba)\n",
    "    test_score.append(test)\n",
    "    train_score.append(train)\n",
    "    roc_auc_lst.append(roc_auc)"
   ]
  },
  {
   "cell_type": "code",
   "execution_count": 728,
   "metadata": {},
   "outputs": [
    {
     "data": {
      "text/html": [
       "<div>\n",
       "<style scoped>\n",
       "    .dataframe tbody tr th:only-of-type {\n",
       "        vertical-align: middle;\n",
       "    }\n",
       "\n",
       "    .dataframe tbody tr th {\n",
       "        vertical-align: top;\n",
       "    }\n",
       "\n",
       "    .dataframe thead th {\n",
       "        text-align: right;\n",
       "    }\n",
       "</style>\n",
       "<table border=\"1\" class=\"dataframe\">\n",
       "  <thead>\n",
       "    <tr style=\"text-align: right;\">\n",
       "      <th></th>\n",
       "      <th>Train Score</th>\n",
       "      <th>Test_Score</th>\n",
       "      <th>ROC_AUC Score</th>\n",
       "    </tr>\n",
       "  </thead>\n",
       "  <tbody>\n",
       "    <tr>\n",
       "      <th>LogisticRegression</th>\n",
       "      <td>0.709770</td>\n",
       "      <td>0.648829</td>\n",
       "      <td>0.724318</td>\n",
       "    </tr>\n",
       "    <tr>\n",
       "      <th>KNeighborsClassifier</th>\n",
       "      <td>0.784483</td>\n",
       "      <td>0.682274</td>\n",
       "      <td>0.737987</td>\n",
       "    </tr>\n",
       "    <tr>\n",
       "      <th>RandomForestClassifier</th>\n",
       "      <td>0.896552</td>\n",
       "      <td>0.692308</td>\n",
       "      <td>0.746711</td>\n",
       "    </tr>\n",
       "    <tr>\n",
       "      <th>DecisionTreeClassifier</th>\n",
       "      <td>0.896552</td>\n",
       "      <td>0.675585</td>\n",
       "      <td>0.697673</td>\n",
       "    </tr>\n",
       "    <tr>\n",
       "      <th>XGBC</th>\n",
       "      <td>0.873563</td>\n",
       "      <td>0.688963</td>\n",
       "      <td>0.762461</td>\n",
       "    </tr>\n",
       "  </tbody>\n",
       "</table>\n",
       "</div>"
      ],
      "text/plain": [
       "                        Train Score  Test_Score  ROC_AUC Score\n",
       "LogisticRegression         0.709770    0.648829       0.724318\n",
       "KNeighborsClassifier       0.784483    0.682274       0.737987\n",
       "RandomForestClassifier     0.896552    0.692308       0.746711\n",
       "DecisionTreeClassifier     0.896552    0.675585       0.697673\n",
       "XGBC                       0.873563    0.688963       0.762461"
      ]
     },
     "execution_count": 728,
     "metadata": {},
     "output_type": "execute_result"
    }
   ],
   "source": [
    "models_score = {\n",
    "    'Train Score': train_score,\n",
    "    'Test_Score': test_score,\n",
    "    \"ROC_AUC Score\": roc_auc_lst\n",
    "}\n",
    "pd.DataFrame(models_score, index=['LogisticRegression','KNeighborsClassifier', 'RandomForestClassifier', \n",
    "                              'DecisionTreeClassifier', 'XGBC'])"
   ]
  },
  {
   "attachments": {},
   "cell_type": "markdown",
   "metadata": {},
   "source": [
    "We can see that some feature are performing well than the other, both on the training set and testing set. We will be working with the ROC-AUC score because this shows the ability of the model to distinguish between classes. The higher the score the better the model is at distinguishing between character that are dead and alive.\n",
    "\n",
    "Let's see the recall score for each of the model"
   ]
  },
  {
   "cell_type": "code",
   "execution_count": 716,
   "metadata": {},
   "outputs": [
    {
     "data": {
      "image/png": "[encoded data removed]",
      "text/plain": [
       "<Figure size 720x720 with 1 Axes>"
      ]
     },
     "metadata": {},
     "output_type": "display_data"
    }
   ],
   "source": [
    "# Using stratified kfold to get the recall of each model\n",
    "skf = StratifiedKFold(n_splits= 5 , shuffle= True , random_state= fixed_seed ) \n",
    "recall=[]\n",
    "for model in models:\n",
    "    result = cross_val_score(model, x, y, cv=skf, scoring=\"recall\", n_jobs=-1)\n",
    "    recall.append(result)\n",
    "classifiers=['Logistic Regression', 'KNeighborsClassifier', 'RandomForest', 'DescisionTree', 'XGB']\n",
    "\n",
    "plt.figure(figsize=(10, 10))\n",
    "for x in range(len(recall)):\n",
    "    sb.kdeplot(recall[x], shade=True)\n",
    "    \n",
    "plt.title(\"Distribution of each classifier's Recall Score\", fontsize=15)\n",
    "plt.legend(classifiers)\n",
    "plt.xlabel(\"Recall\", labelpad=20)\n",
    "plt.yticks([])\n",
    "\n",
    "plt.show()"
   ]
  },
  {
   "cell_type": "code",
   "execution_count": null,
   "metadata": {},
   "outputs": [],
   "source": [
    "\n",
    "def train_and_score(data):\n",
    "    # Under Sampling Data\n",
    "    dead = data[data['isAlive'] == 0]\n",
    "    alive = data[data['isAlive'] == 1].sample(500, random_state=42)\n",
    "    und_samp_df = pd.concat([dead, alive])\n",
    "\n",
    "    und_samp_df = sklearn.utils.shuffle(und_samp_df, random_state=42)\n",
    "    und_samp_df = und_samp_df.reset_index(drop=True)\n",
    "    \n",
    "    # Scaling our data\n",
    "    scaler = StandardScaler()\n",
    "    norm_df = scaler.fit_transform(und_samp_df)\n",
    "    norm_df = pd.DataFrame(norm_df, columns=und_samp_df.columns)\n",
    "    norm_df['isAlive'] = und_samp_df['isAlive']\n",
    "    \n",
    "    # Creating Features and Target\n",
    "    x = norm_df.drop(columns='isAlive')\n",
    "    y = norm_df['isAlive']\n",
    "    \n",
    "    # Splitting the data for model training \n",
    "    x_train, x_test, y_train, y_test = train_test_split(x,y, test_size=.3, shuffle=True, random_state=5, stratify=y)\n",
    "    \n",
    "    # creating a seed\n",
    "    fixed_seed = 42\n",
    "\n",
    "    # Models for training\n",
    "    models = [LogisticRegression(random_state=fixed_seed), KNeighborsClassifier(), RandomForestClassifier(random_state=fixed_seed),\n",
    "            DecisionTreeClassifier(random_state=fixed_seed),  XGBC(seed=fixed_seed)]\n",
    "\n",
    "    test_score = []\n",
    "    train_score = []\n",
    "    roc_auc_lst = []\n",
    "\n",
    "    # Loops through each mosel and get their score\n",
    "    for model in models:\n",
    "        model.fit(x_train, y_train)\n",
    "        proba = model.predict_proba(x_test)[:, 1]\n",
    "        test = model.score(x_test, y_test)\n",
    "        train = model.score(x_train, y_train)\n",
    "        roc_auc = roc_auc_score(y_test, proba)\n",
    "        test_score.append(test)\n",
    "        train_score.append(train)\n",
    "        roc_auc_lst.append(roc_auc)\n",
    "    # Score dataframe   \n",
    "    models_score = {\n",
    "        'Train Score': train_score,\n",
    "        'Test_Score': test_score,\n",
    "        \"ROC_AUC Score\": roc_auc_lst\n",
    "    }\n",
    "    df= pd.DataFrame(models_score, index=['LogisticRegression','KNeighborsClassifier', 'RandomForestClassifier', \n",
    "                                    'DecisionTreeClassifier', 'XGBC'])\n",
    "    \n",
    "    # Using stratified kfold to get the recall of each model\n",
    "    skf = StratifiedKFold(n_splits= 5 , shuffle= True , random_state= fixed_seed ) \n",
    "    recall=[]\n",
    "    for model in models:\n",
    "        result = cross_val_score(model, x, y, cv=skf, scoring=\"recall\", n_jobs=-1)\n",
    "        recall.append(result)\n",
    "    classifiers=['Logistic Regression', 'KNeighborsClassifier', 'RandomForest', 'DescisionTree', 'XGB']\n",
    "\n",
    "    plt.figure(figsize=(10, 10))\n",
    "    for x in range(len(recall)):\n",
    "        sb.kdeplot(recall[x], shade=True)\n",
    "        \n",
    "    plt.title(\"Distribution of each classifier's Recall\", fontsize=15)\n",
    "    plt.legend(classifiers)\n",
    "    plt.xlabel(\"Recall\", labelpad=20)\n",
    "    plt.yticks([])\n",
    "\n",
    "    plt.show()\n",
    "    \n",
    "    return df\n",
    "    \n",
    "train_and_score(selected_features)"
   ]
  },
  {
   "attachments": {},
   "cell_type": "markdown",
   "metadata": {},
   "source": [
    "We will proceed with the models with higher AUC-ROC score, and check their confusion metrics"
   ]
  },
  {
   "cell_type": "code",
   "execution_count": 610,
   "metadata": {},
   "outputs": [],
   "source": [
    "# Models with AUC-ROC score > 0.7\n",
    "sub_models = [LogisticRegression(random_state=fixed_seed), KNeighborsClassifier(), RandomForestClassifier(random_state=fixed_seed), XGBC(seed=fixed_seed)]\n",
    "# Getting the confusion metric for each model \n",
    "cm = []\n",
    "for model in sub_models:\n",
    "    model.fit(x_train, y_train)\n",
    "    pred = model.predict(x_test)\n",
    "    model_cm = confusion_matrix(y_test, pred)\n",
    "    cm.append(model_cm)"
   ]
  },
  {
   "cell_type": "code",
   "execution_count": 611,
   "metadata": {},
   "outputs": [],
   "source": [
    "# Function to plot heatmap\n",
    "def cm_heatmap(cm, ax, r, c, model):\n",
    "    title = str(sub_models[model]).split('(')[0]\n",
    "    ax[r,c].set_title(f\"{title} Confusion Matrix\", fontsize=15.)\n",
    "    fig = sb.heatmap(cm, square = True, xticklabels = [\"Deceased\", \"Alive\"], annot = True, ax=ax[r,c],\n",
    "                    annot_kws = {\"fontsize\": 13}, yticklabels = [\"Deceased\", \"Alive\"],\n",
    "                    cbar = True, cbar_kws = {\"orientation\": \"vertical\"}, cmap = \"BrBG\", fmt='d').set(\n",
    "        xlabel = \"Predicted Class\", ylabel = \"Actual Class\",)\n",
    "    return fig"
   ]
  },
  {
   "cell_type": "code",
   "execution_count": 612,
   "metadata": {},
   "outputs": [
    {
     "data": {
      "image/png": "[encoded data removed]",
      "text/plain": [
       "<Figure size 1080x1080 with 8 Axes>"
      ]
     },
     "metadata": {},
     "output_type": "display_data"
    }
   ],
   "source": [
    "# Displaying confusion metrics\n",
    "f, ax = plt.subplots(2, 2, figsize=(15, 15))\n",
    "cm_heatmap(cm[0], ax, 0, 0, 0)\n",
    "cm_heatmap(cm[1], ax, 0, 1, 1)\n",
    "cm_heatmap(cm[2], ax, 1, 0, 2)\n",
    "cm_heatmap(cm[3], ax, 1, 1, 3)\n",
    "plt.show()"
   ]
  },
  {
   "attachments": {},
   "cell_type": "markdown",
   "metadata": {},
   "source": [
    "We have seen that Random Forest Classifier and XGBC are perfoming well with our data. We'll choose the two models and proceed.\n",
    "\n",
    "Let's start by looking at the ROC curve of the two models"
   ]
  },
  {
   "cell_type": "code",
   "execution_count": 613,
   "metadata": {},
   "outputs": [],
   "source": [
    "# Two best model based on AUC-ROC score and confusion matrix observation.\n",
    "best_model = [RandomForestClassifier(random_state=fixed_seed), XGBC(seed=fixed_seed)]\n",
    "# ROC curve for each model\n",
    "roc = []\n",
    "for model in best_model:\n",
    "    model.fit(x_train, y_train)\n",
    "    proba = model.predict_proba(x_test)[:, 1]\n",
    "    roc_cur = roc_curve(y_test, proba)\n",
    "    roc.append(roc_cur)"
   ]
  },
  {
   "cell_type": "code",
   "execution_count": 614,
   "metadata": {},
   "outputs": [
    {
     "data": {
      "image/png": "[encoded data removed]",
      "text/plain": [
       "<Figure size 576x576 with 1 Axes>"
      ]
     },
     "metadata": {},
     "output_type": "display_data"
    }
   ],
   "source": [
    "# Plotting ROC curve for the models\n",
    "fig = plt.figure(figsize=(8, 8))\n",
    "fpr1, tpr1, thresholds1 = roc[0]\n",
    "fpr2, tpr2, thresholds2 = roc[1]\n",
    "\n",
    "plt.plot([0, 1], [0, 1], 'k--')\n",
    "\n",
    "# Plot tpr against fpr\n",
    "plt.plot(fpr1, tpr1, color='r')\n",
    "plt.plot(fpr2, tpr2, color='g')\n",
    "plt.legend(['RandomForestClassifier', 'XGBC'], loc=\"lower right\")\n",
    "plt.xlabel('False Positive Rate')\n",
    "plt.ylabel('True Positive Rate')\n",
    "plt.title('ROC Curve for Character Death Prediction')\n",
    "plt.show()"
   ]
  },
  {
   "attachments": {},
   "cell_type": "markdown",
   "metadata": {},
   "source": [
    "We've seen how the curve look like. Both models seems to be competing.\n",
    "\n",
    "Let's see their classification report."
   ]
  },
  {
   "cell_type": "code",
   "execution_count": 615,
   "metadata": {},
   "outputs": [
    {
     "name": "stdout",
     "output_type": "stream",
     "text": [
      "RandomForestClassifier\n",
      "              precision    recall  f1-score   support\n",
      "\n",
      "        Dead       0.68      0.71      0.70       149\n",
      "       Alive       0.70      0.67      0.69       150\n",
      "\n",
      "    accuracy                           0.69       299\n",
      "   macro avg       0.69      0.69      0.69       299\n",
      "weighted avg       0.69      0.69      0.69       299\n",
      "\n",
      "========================================\n",
      "XGBClassifier\n",
      "              precision    recall  f1-score   support\n",
      "\n",
      "        Dead       0.67      0.73      0.70       149\n",
      "       Alive       0.71      0.65      0.68       150\n",
      "\n",
      "    accuracy                           0.69       299\n",
      "   macro avg       0.69      0.69      0.69       299\n",
      "weighted avg       0.69      0.69      0.69       299\n",
      "\n",
      "========================================\n"
     ]
    }
   ],
   "source": [
    "for model in best_model:\n",
    "    model.fit(x_train, y_train)\n",
    "    pred = model.predict(x_test)\n",
    "    print(str(model).split('(')[0])\n",
    "    cls_rep = classification_report(y_test, pred, target_names=['Dead', 'Alive'])\n",
    "    print(cls_rep)\n",
    "    print('='*40)"
   ]
  },
  {
   "attachments": {},
   "cell_type": "markdown",
   "metadata": {},
   "source": [
    "## Hyper Parameter Tuning"
   ]
  },
  {
   "attachments": {},
   "cell_type": "markdown",
   "metadata": {},
   "source": [
    "### Random Search with Cross Validation"
   ]
  },
  {
   "cell_type": "code",
   "execution_count": 616,
   "metadata": {},
   "outputs": [],
   "source": [
    "random_grid = {'bootstrap': [True, False],\n",
    "                'max_depth': [20, 40, 60, 80,],\n",
    "                'max_features': ['auto', 'sqrt'],\n",
    "                'min_samples_leaf': [1, 2, 4],\n",
    "                'min_samples_split': [2, 5, 10],\n",
    "                'criterion': [\"gini\", \"entropy\"],\n",
    "                'n_estimators': [200, 400, 600, 800,],\n",
    "                }"
   ]
  },
  {
   "cell_type": "code",
   "execution_count": 617,
   "metadata": {},
   "outputs": [
    {
     "name": "stdout",
     "output_type": "stream",
     "text": [
      "Fitting 3 folds for each of 100 candidates, totalling 300 fits\n"
     ]
    },
    {
     "data": {
      "text/plain": [
       "RandomizedSearchCV(cv=3, estimator=RandomForestClassifier(random_state=42),\n",
       "                   n_iter=100, n_jobs=-1,\n",
       "                   param_distributions={'bootstrap': [True, False],\n",
       "                                        'criterion': ['gini', 'entropy'],\n",
       "                                        'max_depth': [20, 40, 60, 80],\n",
       "                                        'max_features': ['auto', 'sqrt'],\n",
       "                                        'min_samples_leaf': [1, 2, 4],\n",
       "                                        'min_samples_split': [2, 5, 10],\n",
       "                                        'n_estimators': [200, 400, 600, 800]},\n",
       "                   random_state=42, scoring='neg_mean_absolute_error',\n",
       "                   verbose=2)"
      ]
     },
     "execution_count": 617,
     "metadata": {},
     "output_type": "execute_result"
    }
   ],
   "source": [
    "# Use the random grid to search for best hyperparameters\n",
    "# First create the base model to tune\n",
    "rfc = RandomForestClassifier(random_state=fixed_seed)\n",
    "# Random search of parameters, using 3 fold cross validation, \n",
    "# search across 100 different combinations, and use all available cores\n",
    "rfc_random = RandomizedSearchCV(estimator = rfc, param_distributions = random_grid, n_iter = 100, cv = 3, verbose=2, \n",
    "                                random_state=fixed_seed, n_jobs = -1, scoring='neg_mean_absolute_error')\n",
    "# Fit the random search model\n",
    "rfc_random.fit(x_train, y_train)"
   ]
  },
  {
   "cell_type": "code",
   "execution_count": 618,
   "metadata": {},
   "outputs": [
    {
     "data": {
      "text/plain": [
       "{'n_estimators': 200,\n",
       " 'min_samples_split': 5,\n",
       " 'min_samples_leaf': 4,\n",
       " 'max_features': 'auto',\n",
       " 'max_depth': 80,\n",
       " 'criterion': 'gini',\n",
       " 'bootstrap': False}"
      ]
     },
     "execution_count": 618,
     "metadata": {},
     "output_type": "execute_result"
    }
   ],
   "source": [
    "rfc_random.best_params_"
   ]
  },
  {
   "cell_type": "code",
   "execution_count": 619,
   "metadata": {},
   "outputs": [],
   "source": [
    "def evaluate(model, test_features, test_labels):\n",
    "    predictions = model.predict(test_features)\n",
    "    errors = abs(predictions - test_labels)\n",
    "    print('Model Performance')\n",
    "    avg_error = 'Average Error: {:0.4f} degrees.'.format(np.mean(errors))\n",
    "    print(avg_error)\n",
    "    \n",
    "    return np.mean(errors)\n"
   ]
  },
  {
   "attachments": {},
   "cell_type": "markdown",
   "metadata": {},
   "source": [
    "#### Performance of base model"
   ]
  },
  {
   "cell_type": "code",
   "execution_count": 620,
   "metadata": {},
   "outputs": [
    {
     "name": "stdout",
     "output_type": "stream",
     "text": [
      "Model Performance\n",
      "Average Error: 0.3211 degrees.\n"
     ]
    }
   ],
   "source": [
    "base_model = RandomForestClassifier(n_estimators = 10, random_state = fixed_seed)\n",
    "base_model.fit(x_train, y_train)\n",
    "base_accuracy = evaluate(base_model, x_test, y_test)"
   ]
  },
  {
   "attachments": {},
   "cell_type": "markdown",
   "metadata": {},
   "source": [
    "#### Performance of Beast Random Search Model"
   ]
  },
  {
   "cell_type": "code",
   "execution_count": 621,
   "metadata": {},
   "outputs": [
    {
     "name": "stdout",
     "output_type": "stream",
     "text": [
      "Model Performance\n",
      "Average Error: 0.3010 degrees.\n",
      "Improvement of -6.25%.\n"
     ]
    }
   ],
   "source": [
    "best_random = rfc_random.best_estimator_\n",
    "random_accuracy = evaluate(best_random, x_test, y_test)\n",
    "\n",
    "print('Improvement of {:0.2f}%.'.format( 100 * (random_accuracy - base_accuracy) / base_accuracy))"
   ]
  },
  {
   "attachments": {},
   "cell_type": "markdown",
   "metadata": {},
   "source": [
    "Now let's do a grid search around the best parameter gotten from the random search"
   ]
  },
  {
   "attachments": {},
   "cell_type": "markdown",
   "metadata": {},
   "source": [
    "### Grid Search with Cross Validation"
   ]
  },
  {
   "cell_type": "code",
   "execution_count": 622,
   "metadata": {},
   "outputs": [
    {
     "name": "stdout",
     "output_type": "stream",
     "text": [
      "Fitting 3 folds for each of 54 candidates, totalling 162 fits\n"
     ]
    },
    {
     "data": {
      "text/plain": [
       "GridSearchCV(cv=3, estimator=RandomForestClassifier(random_state=42), n_jobs=-1,\n",
       "             param_grid={'bootstrap': [False], 'criterion': ['gini'],\n",
       "                         'max_depth': [50, 60], 'max_features': ['auto'],\n",
       "                         'min_samples_leaf': [3, 4, 5],\n",
       "                         'min_samples_split': [2, 3, 4],\n",
       "                         'n_estimators': [200, 400, 600]},\n",
       "             verbose=2)"
      ]
     },
     "execution_count": 622,
     "metadata": {},
     "output_type": "execute_result"
    }
   ],
   "source": [
    "# Create the parameter grid based on the results of random search \n",
    "param_grid = {\n",
    "    'bootstrap': [False],\n",
    "    'max_depth': [50, 60],\n",
    "    'max_features': ['auto'],\n",
    "    'min_samples_leaf': [3, 4, 5],\n",
    "    'min_samples_split': [2, 3, 4],\n",
    "    'n_estimators': [200, 400, 600],\n",
    "    'criterion': [\"gini\"]\n",
    "}\n",
    "# Create a based model\n",
    "rfc = RandomForestClassifier(random_state=fixed_seed)\n",
    "# Instantiate the grid search model\n",
    "grid_search = GridSearchCV(estimator = rfc, param_grid = param_grid, \n",
    "                          cv = 3, n_jobs = -1, verbose = 2)\n",
    "grid_search.fit(x_train, y_train)"
   ]
  },
  {
   "cell_type": "code",
   "execution_count": 623,
   "metadata": {},
   "outputs": [
    {
     "data": {
      "text/plain": [
       "{'bootstrap': False,\n",
       " 'criterion': 'gini',\n",
       " 'max_depth': 50,\n",
       " 'max_features': 'auto',\n",
       " 'min_samples_leaf': 5,\n",
       " 'min_samples_split': 2,\n",
       " 'n_estimators': 200}"
      ]
     },
     "execution_count": 623,
     "metadata": {},
     "output_type": "execute_result"
    }
   ],
   "source": [
    "grid_search.best_params_"
   ]
  },
  {
   "attachments": {},
   "cell_type": "markdown",
   "metadata": {},
   "source": [
    "#### Performance of Best Model from Grid Search"
   ]
  },
  {
   "cell_type": "code",
   "execution_count": 624,
   "metadata": {},
   "outputs": [
    {
     "name": "stdout",
     "output_type": "stream",
     "text": [
      "Model Performance\n",
      "Average Error: 0.3077 degrees.\n",
      "Improvement of -4.17%.\n"
     ]
    }
   ],
   "source": [
    "best_grid = grid_search.best_estimator_\n",
    "grid_accuracy = evaluate(best_grid, x_test, y_test)\n",
    "print('Improvement of {:0.2f}%.'.format( 100 * (grid_accuracy - base_accuracy) / base_accuracy))"
   ]
  },
  {
   "attachments": {},
   "cell_type": "markdown",
   "metadata": {},
   "source": [
    "There seem to be a hug\n",
    "It seems we have about maxed out performance, but we can give it one more try with a grid further refined from our previous results. The code is the same as before just with a different grid so I only present the results:"
   ]
  },
  {
   "attachments": {},
   "cell_type": "markdown",
   "metadata": {},
   "source": [
    "#### Another Grid Search"
   ]
  },
  {
   "cell_type": "code",
   "execution_count": 625,
   "metadata": {},
   "outputs": [
    {
     "name": "stdout",
     "output_type": "stream",
     "text": [
      "Fitting 3 folds for each of 36 candidates, totalling 108 fits\n"
     ]
    },
    {
     "data": {
      "text/plain": [
       "GridSearchCV(cv=3, estimator=RandomForestClassifier(random_state=42), n_jobs=-1,\n",
       "             param_grid={'bootstrap': [False], 'criterion': ['gini'],\n",
       "                         'max_depth': [40, 50], 'max_features': ['auto'],\n",
       "                         'min_samples_leaf': [5, 6, 7],\n",
       "                         'min_samples_split': [2, 3],\n",
       "                         'n_estimators': [100, 200, 300]},\n",
       "             verbose=2)"
      ]
     },
     "execution_count": 625,
     "metadata": {},
     "output_type": "execute_result"
    }
   ],
   "source": [
    "# Create the parameter grid based on the results of random search \n",
    "param_grid = {\n",
    "    'bootstrap': [False],\n",
    "    'max_depth': [40, 50,],\n",
    "    'max_features': ['auto'],\n",
    "    'min_samples_leaf': [5, 6, 7],\n",
    "    'min_samples_split': [2, 3],\n",
    "    'n_estimators': [100, 200, 300],\n",
    "    'criterion': [\"gini\"]\n",
    "}\n",
    "# Create a based model\n",
    "rfc = RandomForestClassifier(random_state=fixed_seed)\n",
    "# Instantiate the grid search model\n",
    "grid_search = GridSearchCV(estimator = rfc, param_grid = param_grid, \n",
    "                          cv = 3, n_jobs = -1, verbose = 2)\n",
    "grid_search.fit(x_train, y_train)"
   ]
  },
  {
   "cell_type": "code",
   "execution_count": null,
   "metadata": {},
   "outputs": [
    {
     "data": {
      "text/plain": [
       "{'bootstrap': False,\n",
       " 'criterion': 'gini',\n",
       " 'max_depth': 50,\n",
       " 'max_features': 'auto',\n",
       " 'min_samples_leaf': 5,\n",
       " 'min_samples_split': 2,\n",
       " 'n_estimators': 200}"
      ]
     },
     "metadata": {},
     "output_type": "display_data"
    }
   ],
   "source": [
    "grid_search.best_params_"
   ]
  },
  {
   "cell_type": "code",
   "execution_count": 626,
   "metadata": {},
   "outputs": [
    {
     "name": "stdout",
     "output_type": "stream",
     "text": [
      "Model Performance\n",
      "Average Error: 0.2910 degrees.\n",
      "Improvement of -9.38%.\n"
     ]
    }
   ],
   "source": [
    "best_grid = grid_search.best_estimator_\n",
    "grid_accuracy = evaluate(best_grid, x_test, y_test)\n",
    "print('Improvement of {:0.2f}%.'.format( 100 * (grid_accuracy - base_accuracy) / base_accuracy))"
   ]
  },
  {
   "attachments": {},
   "cell_type": "markdown",
   "metadata": {},
   "source": [
    "A big decrease in performance, yet the same best parameters was given. This indicates we have reached diminishing returns for hyperparameter tuning. We could continue, but the returns would be the same output in terms of parameters."
   ]
  },
  {
   "attachments": {},
   "cell_type": "markdown",
   "metadata": {},
   "source": [
    "### Final Model "
   ]
  },
  {
   "cell_type": "code",
   "execution_count": 634,
   "metadata": {},
   "outputs": [
    {
     "name": "stdout",
     "output_type": "stream",
     "text": [
      "Final Model Parameter:\n",
      "==============================\n",
      "{'bootstrap': False, 'ccp_alpha': 0.0, 'class_weight': None, 'criterion': 'gini', 'max_depth': 40, 'max_features': 'auto', 'max_leaf_nodes': None, 'max_samples': None, 'min_impurity_decrease': 0.0, 'min_samples_leaf': 5, 'min_samples_split': 2, 'min_weight_fraction_leaf': 0.0, 'n_estimators': 100, 'n_jobs': None, 'oob_score': False, 'random_state': 42, 'verbose': 0, 'warm_start': False}\n",
      "==============================\n",
      "Model Performance\n",
      "Average Error: 0.2910 degrees.\n"
     ]
    }
   ],
   "source": [
    "final_model = grid_search.best_estimator_\n",
    "print('Final Model Parameter:')\n",
    "print('='*30)\n",
    "print(final_model.get_params())\n",
    "print('='*30)\n",
    "grid_final_accuracy = evaluate(final_model, x_test, y_test)"
   ]
  }
 ],
 "metadata": {
  "kernelspec": {
   "display_name": "base",
   "language": "python",
   "name": "python3"
  },
  "language_info": {
   "codemirror_mode": {
    "name": "ipython",
    "version": 3
   },
   "file_extension": ".py",
   "mimetype": "text/x-python",
   "name": "python",
   "nbconvert_exporter": "python",
   "pygments_lexer": "ipython3",
   "version": "3.9.12"
  },
  "orig_nbformat": 4,
  "vscode": {
   "interpreter": {
    "hash": "b68a3c467d07aa8b20c71071b0b7606f948be72d30c76b97a14d11803ebfb6c4"
   }
  }
 },
 "nbformat": 4,
 "nbformat_minor": 2
}
