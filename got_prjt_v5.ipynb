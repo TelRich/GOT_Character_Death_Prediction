{
 "cells": [
  {
   "cell_type": "markdown",
   "metadata": {},
   "source": [
    "### Importing modules"
   ]
  },
  {
   "cell_type": "code",
   "execution_count": 1,
   "metadata": {},
   "outputs": [],
   "source": [
    "import pandas as pd\n",
    "import numpy as np\n",
    "import plotly.express as px\n",
    "import matplotlib.pyplot as plt\n",
    "import seaborn as sb\n",
    "\n",
    "from sklearn.linear_model import LogisticRegression\n",
    "from sklearn.neighbors import KNeighborsClassifier\n",
    "from sklearn.ensemble import RandomForestClassifier\n",
    "from sklearn.tree import DecisionTreeClassifier \n",
    "from xgboost import XGBClassifier as XGBC\n",
    "# from imblearn.over_sampling import SMOTE \n",
    "import sklearn.utils \n",
    "from sklearn.preprocessing import MinMaxScaler, StandardScaler\n",
    "from sklearn.pipeline import Pipeline\n",
    "\n",
    "from sklearn.model_selection import GridSearchCV, KFold, train_test_split, StratifiedKFold, RandomizedSearchCV, cross_val_score\n",
    "from sklearn.metrics import roc_auc_score, accuracy_score, roc_curve, confusion_matrix, classification_report\n",
    "\n",
    "pd.set_option('display.max_columns', 50)"
   ]
  },
  {
   "cell_type": "markdown",
   "metadata": {},
   "source": [
    "### Loading Data"
   ]
  },
  {
   "cell_type": "code",
   "execution_count": 2,
   "metadata": {},
   "outputs": [],
   "source": [
    "battles = pd.read_csv('battles.csv')\n",
    "char_deaths = pd.read_csv('character-deaths.csv')\n",
    "char_pred = pd.read_csv('character-predictions.csv')"
   ]
  },
  {
   "attachments": {},
   "cell_type": "markdown",
   "metadata": {},
   "source": [
    "### Data Preview"
   ]
  },
  {
   "cell_type": "code",
   "execution_count": 3,
   "metadata": {},
   "outputs": [
    {
     "data": {
      "text/html": [
       "<div>\n",
       "<style scoped>\n",
       "    .dataframe tbody tr th:only-of-type {\n",
       "        vertical-align: middle;\n",
       "    }\n",
       "\n",
       "    .dataframe tbody tr th {\n",
       "        vertical-align: top;\n",
       "    }\n",
       "\n",
       "    .dataframe thead th {\n",
       "        text-align: right;\n",
       "    }\n",
       "</style>\n",
       "<table border=\"1\" class=\"dataframe\">\n",
       "  <thead>\n",
       "    <tr style=\"text-align: right;\">\n",
       "      <th></th>\n",
       "      <th>name</th>\n",
       "      <th>year</th>\n",
       "      <th>battle_number</th>\n",
       "      <th>attacker_king</th>\n",
       "      <th>defender_king</th>\n",
       "      <th>attacker_1</th>\n",
       "      <th>attacker_2</th>\n",
       "      <th>attacker_3</th>\n",
       "      <th>attacker_4</th>\n",
       "      <th>defender_1</th>\n",
       "      <th>defender_2</th>\n",
       "      <th>defender_3</th>\n",
       "      <th>defender_4</th>\n",
       "      <th>attacker_outcome</th>\n",
       "      <th>battle_type</th>\n",
       "      <th>major_death</th>\n",
       "      <th>major_capture</th>\n",
       "      <th>attacker_size</th>\n",
       "      <th>defender_size</th>\n",
       "      <th>attacker_commander</th>\n",
       "      <th>defender_commander</th>\n",
       "      <th>summer</th>\n",
       "      <th>location</th>\n",
       "      <th>region</th>\n",
       "      <th>note</th>\n",
       "    </tr>\n",
       "  </thead>\n",
       "  <tbody>\n",
       "    <tr>\n",
       "      <th>0</th>\n",
       "      <td>Battle of the Golden Tooth</td>\n",
       "      <td>298</td>\n",
       "      <td>1</td>\n",
       "      <td>Joffrey/Tommen Baratheon</td>\n",
       "      <td>Robb Stark</td>\n",
       "      <td>Lannister</td>\n",
       "      <td>NaN</td>\n",
       "      <td>NaN</td>\n",
       "      <td>NaN</td>\n",
       "      <td>Tully</td>\n",
       "      <td>NaN</td>\n",
       "      <td>NaN</td>\n",
       "      <td>NaN</td>\n",
       "      <td>win</td>\n",
       "      <td>pitched battle</td>\n",
       "      <td>1.0</td>\n",
       "      <td>0.0</td>\n",
       "      <td>15000.0</td>\n",
       "      <td>4000.0</td>\n",
       "      <td>Jaime Lannister</td>\n",
       "      <td>Clement Piper, Vance</td>\n",
       "      <td>1.0</td>\n",
       "      <td>Golden Tooth</td>\n",
       "      <td>The Westerlands</td>\n",
       "      <td>NaN</td>\n",
       "    </tr>\n",
       "    <tr>\n",
       "      <th>1</th>\n",
       "      <td>Battle at the Mummer's Ford</td>\n",
       "      <td>298</td>\n",
       "      <td>2</td>\n",
       "      <td>Joffrey/Tommen Baratheon</td>\n",
       "      <td>Robb Stark</td>\n",
       "      <td>Lannister</td>\n",
       "      <td>NaN</td>\n",
       "      <td>NaN</td>\n",
       "      <td>NaN</td>\n",
       "      <td>Baratheon</td>\n",
       "      <td>NaN</td>\n",
       "      <td>NaN</td>\n",
       "      <td>NaN</td>\n",
       "      <td>win</td>\n",
       "      <td>ambush</td>\n",
       "      <td>1.0</td>\n",
       "      <td>0.0</td>\n",
       "      <td>NaN</td>\n",
       "      <td>120.0</td>\n",
       "      <td>Gregor Clegane</td>\n",
       "      <td>Beric Dondarrion</td>\n",
       "      <td>1.0</td>\n",
       "      <td>Mummer's Ford</td>\n",
       "      <td>The Riverlands</td>\n",
       "      <td>NaN</td>\n",
       "    </tr>\n",
       "    <tr>\n",
       "      <th>2</th>\n",
       "      <td>Battle of Riverrun</td>\n",
       "      <td>298</td>\n",
       "      <td>3</td>\n",
       "      <td>Joffrey/Tommen Baratheon</td>\n",
       "      <td>Robb Stark</td>\n",
       "      <td>Lannister</td>\n",
       "      <td>NaN</td>\n",
       "      <td>NaN</td>\n",
       "      <td>NaN</td>\n",
       "      <td>Tully</td>\n",
       "      <td>NaN</td>\n",
       "      <td>NaN</td>\n",
       "      <td>NaN</td>\n",
       "      <td>win</td>\n",
       "      <td>pitched battle</td>\n",
       "      <td>0.0</td>\n",
       "      <td>1.0</td>\n",
       "      <td>15000.0</td>\n",
       "      <td>10000.0</td>\n",
       "      <td>Jaime Lannister, Andros Brax</td>\n",
       "      <td>Edmure Tully, Tytos Blackwood</td>\n",
       "      <td>1.0</td>\n",
       "      <td>Riverrun</td>\n",
       "      <td>The Riverlands</td>\n",
       "      <td>NaN</td>\n",
       "    </tr>\n",
       "  </tbody>\n",
       "</table>\n",
       "</div>"
      ],
      "text/plain": [
       "                          name  year  battle_number             attacker_king  \\\n",
       "0   Battle of the Golden Tooth   298              1  Joffrey/Tommen Baratheon   \n",
       "1  Battle at the Mummer's Ford   298              2  Joffrey/Tommen Baratheon   \n",
       "2           Battle of Riverrun   298              3  Joffrey/Tommen Baratheon   \n",
       "\n",
       "  defender_king attacker_1 attacker_2 attacker_3 attacker_4 defender_1  \\\n",
       "0    Robb Stark  Lannister        NaN        NaN        NaN      Tully   \n",
       "1    Robb Stark  Lannister        NaN        NaN        NaN  Baratheon   \n",
       "2    Robb Stark  Lannister        NaN        NaN        NaN      Tully   \n",
       "\n",
       "  defender_2  defender_3  defender_4 attacker_outcome     battle_type  \\\n",
       "0        NaN         NaN         NaN              win  pitched battle   \n",
       "1        NaN         NaN         NaN              win          ambush   \n",
       "2        NaN         NaN         NaN              win  pitched battle   \n",
       "\n",
       "   major_death  major_capture  attacker_size  defender_size  \\\n",
       "0          1.0            0.0        15000.0         4000.0   \n",
       "1          1.0            0.0            NaN          120.0   \n",
       "2          0.0            1.0        15000.0        10000.0   \n",
       "\n",
       "             attacker_commander             defender_commander  summer  \\\n",
       "0               Jaime Lannister           Clement Piper, Vance     1.0   \n",
       "1                Gregor Clegane               Beric Dondarrion     1.0   \n",
       "2  Jaime Lannister, Andros Brax  Edmure Tully, Tytos Blackwood     1.0   \n",
       "\n",
       "        location           region note  \n",
       "0   Golden Tooth  The Westerlands  NaN  \n",
       "1  Mummer's Ford   The Riverlands  NaN  \n",
       "2       Riverrun   The Riverlands  NaN  "
      ]
     },
     "execution_count": 3,
     "metadata": {},
     "output_type": "execute_result"
    }
   ],
   "source": [
    "battles.head(3)"
   ]
  },
  {
   "cell_type": "code",
   "execution_count": 4,
   "metadata": {},
   "outputs": [
    {
     "data": {
      "text/html": [
       "<div>\n",
       "<style scoped>\n",
       "    .dataframe tbody tr th:only-of-type {\n",
       "        vertical-align: middle;\n",
       "    }\n",
       "\n",
       "    .dataframe tbody tr th {\n",
       "        vertical-align: top;\n",
       "    }\n",
       "\n",
       "    .dataframe thead th {\n",
       "        text-align: right;\n",
       "    }\n",
       "</style>\n",
       "<table border=\"1\" class=\"dataframe\">\n",
       "  <thead>\n",
       "    <tr style=\"text-align: right;\">\n",
       "      <th></th>\n",
       "      <th>S.No</th>\n",
       "      <th>actual</th>\n",
       "      <th>pred</th>\n",
       "      <th>alive</th>\n",
       "      <th>plod</th>\n",
       "      <th>name</th>\n",
       "      <th>title</th>\n",
       "      <th>male</th>\n",
       "      <th>culture</th>\n",
       "      <th>dateOfBirth</th>\n",
       "      <th>DateoFdeath</th>\n",
       "      <th>mother</th>\n",
       "      <th>father</th>\n",
       "      <th>heir</th>\n",
       "      <th>house</th>\n",
       "      <th>spouse</th>\n",
       "      <th>book1</th>\n",
       "      <th>book2</th>\n",
       "      <th>book3</th>\n",
       "      <th>book4</th>\n",
       "      <th>book5</th>\n",
       "      <th>isAliveMother</th>\n",
       "      <th>isAliveFather</th>\n",
       "      <th>isAliveHeir</th>\n",
       "      <th>isAliveSpouse</th>\n",
       "      <th>isMarried</th>\n",
       "      <th>isNoble</th>\n",
       "      <th>age</th>\n",
       "      <th>numDeadRelations</th>\n",
       "      <th>boolDeadRelations</th>\n",
       "      <th>isPopular</th>\n",
       "      <th>popularity</th>\n",
       "      <th>isAlive</th>\n",
       "    </tr>\n",
       "  </thead>\n",
       "  <tbody>\n",
       "    <tr>\n",
       "      <th>0</th>\n",
       "      <td>1</td>\n",
       "      <td>0</td>\n",
       "      <td>0</td>\n",
       "      <td>0.054</td>\n",
       "      <td>0.946</td>\n",
       "      <td>Viserys II Targaryen</td>\n",
       "      <td>NaN</td>\n",
       "      <td>1</td>\n",
       "      <td>NaN</td>\n",
       "      <td>NaN</td>\n",
       "      <td>NaN</td>\n",
       "      <td>Rhaenyra Targaryen</td>\n",
       "      <td>Daemon Targaryen</td>\n",
       "      <td>Aegon IV Targaryen</td>\n",
       "      <td>NaN</td>\n",
       "      <td>NaN</td>\n",
       "      <td>0</td>\n",
       "      <td>0</td>\n",
       "      <td>0</td>\n",
       "      <td>0</td>\n",
       "      <td>0</td>\n",
       "      <td>1.0</td>\n",
       "      <td>0.0</td>\n",
       "      <td>0.0</td>\n",
       "      <td>NaN</td>\n",
       "      <td>0</td>\n",
       "      <td>0</td>\n",
       "      <td>NaN</td>\n",
       "      <td>11</td>\n",
       "      <td>1</td>\n",
       "      <td>1</td>\n",
       "      <td>0.605351</td>\n",
       "      <td>0</td>\n",
       "    </tr>\n",
       "    <tr>\n",
       "      <th>1</th>\n",
       "      <td>2</td>\n",
       "      <td>1</td>\n",
       "      <td>0</td>\n",
       "      <td>0.387</td>\n",
       "      <td>0.613</td>\n",
       "      <td>Walder Frey</td>\n",
       "      <td>Lord of the Crossing</td>\n",
       "      <td>1</td>\n",
       "      <td>Rivermen</td>\n",
       "      <td>208.0</td>\n",
       "      <td>NaN</td>\n",
       "      <td>NaN</td>\n",
       "      <td>NaN</td>\n",
       "      <td>NaN</td>\n",
       "      <td>House Frey</td>\n",
       "      <td>Perra Royce</td>\n",
       "      <td>1</td>\n",
       "      <td>1</td>\n",
       "      <td>1</td>\n",
       "      <td>1</td>\n",
       "      <td>1</td>\n",
       "      <td>NaN</td>\n",
       "      <td>NaN</td>\n",
       "      <td>NaN</td>\n",
       "      <td>1.0</td>\n",
       "      <td>1</td>\n",
       "      <td>1</td>\n",
       "      <td>97.0</td>\n",
       "      <td>1</td>\n",
       "      <td>1</td>\n",
       "      <td>1</td>\n",
       "      <td>0.896321</td>\n",
       "      <td>1</td>\n",
       "    </tr>\n",
       "    <tr>\n",
       "      <th>2</th>\n",
       "      <td>3</td>\n",
       "      <td>1</td>\n",
       "      <td>0</td>\n",
       "      <td>0.493</td>\n",
       "      <td>0.507</td>\n",
       "      <td>Addison Hill</td>\n",
       "      <td>Ser</td>\n",
       "      <td>1</td>\n",
       "      <td>NaN</td>\n",
       "      <td>NaN</td>\n",
       "      <td>NaN</td>\n",
       "      <td>NaN</td>\n",
       "      <td>NaN</td>\n",
       "      <td>NaN</td>\n",
       "      <td>House Swyft</td>\n",
       "      <td>NaN</td>\n",
       "      <td>0</td>\n",
       "      <td>0</td>\n",
       "      <td>0</td>\n",
       "      <td>1</td>\n",
       "      <td>0</td>\n",
       "      <td>NaN</td>\n",
       "      <td>NaN</td>\n",
       "      <td>NaN</td>\n",
       "      <td>NaN</td>\n",
       "      <td>0</td>\n",
       "      <td>1</td>\n",
       "      <td>NaN</td>\n",
       "      <td>0</td>\n",
       "      <td>0</td>\n",
       "      <td>0</td>\n",
       "      <td>0.267559</td>\n",
       "      <td>1</td>\n",
       "    </tr>\n",
       "  </tbody>\n",
       "</table>\n",
       "</div>"
      ],
      "text/plain": [
       "   S.No  actual  pred  alive   plod                  name  \\\n",
       "0     1       0     0  0.054  0.946  Viserys II Targaryen   \n",
       "1     2       1     0  0.387  0.613           Walder Frey   \n",
       "2     3       1     0  0.493  0.507          Addison Hill   \n",
       "\n",
       "                  title  male   culture  dateOfBirth  DateoFdeath  \\\n",
       "0                   NaN     1       NaN          NaN          NaN   \n",
       "1  Lord of the Crossing     1  Rivermen        208.0          NaN   \n",
       "2                   Ser     1       NaN          NaN          NaN   \n",
       "\n",
       "               mother            father                heir        house  \\\n",
       "0  Rhaenyra Targaryen  Daemon Targaryen  Aegon IV Targaryen          NaN   \n",
       "1                 NaN               NaN                 NaN   House Frey   \n",
       "2                 NaN               NaN                 NaN  House Swyft   \n",
       "\n",
       "        spouse  book1  book2  book3  book4  book5  isAliveMother  \\\n",
       "0          NaN      0      0      0      0      0            1.0   \n",
       "1  Perra Royce      1      1      1      1      1            NaN   \n",
       "2          NaN      0      0      0      1      0            NaN   \n",
       "\n",
       "   isAliveFather  isAliveHeir  isAliveSpouse  isMarried  isNoble   age  \\\n",
       "0            0.0          0.0            NaN          0        0   NaN   \n",
       "1            NaN          NaN            1.0          1        1  97.0   \n",
       "2            NaN          NaN            NaN          0        1   NaN   \n",
       "\n",
       "   numDeadRelations  boolDeadRelations  isPopular  popularity  isAlive  \n",
       "0                11                  1          1    0.605351        0  \n",
       "1                 1                  1          1    0.896321        1  \n",
       "2                 0                  0          0    0.267559        1  "
      ]
     },
     "execution_count": 4,
     "metadata": {},
     "output_type": "execute_result"
    }
   ],
   "source": [
    "char_pred.head(3)"
   ]
  },
  {
   "cell_type": "code",
   "execution_count": 5,
   "metadata": {},
   "outputs": [
    {
     "data": {
      "text/html": [
       "<div>\n",
       "<style scoped>\n",
       "    .dataframe tbody tr th:only-of-type {\n",
       "        vertical-align: middle;\n",
       "    }\n",
       "\n",
       "    .dataframe tbody tr th {\n",
       "        vertical-align: top;\n",
       "    }\n",
       "\n",
       "    .dataframe thead th {\n",
       "        text-align: right;\n",
       "    }\n",
       "</style>\n",
       "<table border=\"1\" class=\"dataframe\">\n",
       "  <thead>\n",
       "    <tr style=\"text-align: right;\">\n",
       "      <th></th>\n",
       "      <th>Name</th>\n",
       "      <th>Allegiances</th>\n",
       "      <th>Death Year</th>\n",
       "      <th>Book of Death</th>\n",
       "      <th>Death Chapter</th>\n",
       "      <th>Book Intro Chapter</th>\n",
       "      <th>Gender</th>\n",
       "      <th>Nobility</th>\n",
       "      <th>GoT</th>\n",
       "      <th>CoK</th>\n",
       "      <th>SoS</th>\n",
       "      <th>FfC</th>\n",
       "      <th>DwD</th>\n",
       "    </tr>\n",
       "  </thead>\n",
       "  <tbody>\n",
       "    <tr>\n",
       "      <th>0</th>\n",
       "      <td>Addam Marbrand</td>\n",
       "      <td>Lannister</td>\n",
       "      <td>NaN</td>\n",
       "      <td>NaN</td>\n",
       "      <td>NaN</td>\n",
       "      <td>56.0</td>\n",
       "      <td>1</td>\n",
       "      <td>1</td>\n",
       "      <td>1</td>\n",
       "      <td>1</td>\n",
       "      <td>1</td>\n",
       "      <td>1</td>\n",
       "      <td>0</td>\n",
       "    </tr>\n",
       "    <tr>\n",
       "      <th>1</th>\n",
       "      <td>Aegon Frey (Jinglebell)</td>\n",
       "      <td>None</td>\n",
       "      <td>299.0</td>\n",
       "      <td>3.0</td>\n",
       "      <td>51.0</td>\n",
       "      <td>49.0</td>\n",
       "      <td>1</td>\n",
       "      <td>1</td>\n",
       "      <td>0</td>\n",
       "      <td>0</td>\n",
       "      <td>1</td>\n",
       "      <td>0</td>\n",
       "      <td>0</td>\n",
       "    </tr>\n",
       "    <tr>\n",
       "      <th>2</th>\n",
       "      <td>Aegon Targaryen</td>\n",
       "      <td>House Targaryen</td>\n",
       "      <td>NaN</td>\n",
       "      <td>NaN</td>\n",
       "      <td>NaN</td>\n",
       "      <td>5.0</td>\n",
       "      <td>1</td>\n",
       "      <td>1</td>\n",
       "      <td>0</td>\n",
       "      <td>0</td>\n",
       "      <td>0</td>\n",
       "      <td>0</td>\n",
       "      <td>1</td>\n",
       "    </tr>\n",
       "  </tbody>\n",
       "</table>\n",
       "</div>"
      ],
      "text/plain": [
       "                      Name      Allegiances  Death Year  Book of Death  \\\n",
       "0           Addam Marbrand        Lannister         NaN            NaN   \n",
       "1  Aegon Frey (Jinglebell)             None       299.0            3.0   \n",
       "2          Aegon Targaryen  House Targaryen         NaN            NaN   \n",
       "\n",
       "   Death Chapter  Book Intro Chapter  Gender  Nobility  GoT  CoK  SoS  FfC  \\\n",
       "0            NaN                56.0       1         1    1    1    1    1   \n",
       "1           51.0                49.0       1         1    0    0    1    0   \n",
       "2            NaN                 5.0       1         1    0    0    0    0   \n",
       "\n",
       "   DwD  \n",
       "0    0  \n",
       "1    0  \n",
       "2    1  "
      ]
     },
     "execution_count": 5,
     "metadata": {},
     "output_type": "execute_result"
    }
   ],
   "source": [
    "char_deaths.head(3)"
   ]
  },
  {
   "attachments": {},
   "cell_type": "markdown",
   "metadata": {},
   "source": [
    "## Data Exploration"
   ]
  },
  {
   "attachments": {},
   "cell_type": "markdown",
   "metadata": {},
   "source": [
    "Since our task is to predict characters death. We will focus on Character dataset"
   ]
  },
  {
   "cell_type": "code",
   "execution_count": 6,
   "metadata": {},
   "outputs": [
    {
     "data": {
      "text/html": [
       "<div>\n",
       "<style scoped>\n",
       "    .dataframe tbody tr th:only-of-type {\n",
       "        vertical-align: middle;\n",
       "    }\n",
       "\n",
       "    .dataframe tbody tr th {\n",
       "        vertical-align: top;\n",
       "    }\n",
       "\n",
       "    .dataframe thead th {\n",
       "        text-align: right;\n",
       "    }\n",
       "</style>\n",
       "<table border=\"1\" class=\"dataframe\">\n",
       "  <thead>\n",
       "    <tr style=\"text-align: right;\">\n",
       "      <th></th>\n",
       "      <th>S.No</th>\n",
       "      <th>actual</th>\n",
       "      <th>pred</th>\n",
       "      <th>alive</th>\n",
       "      <th>plod</th>\n",
       "      <th>name</th>\n",
       "      <th>title</th>\n",
       "      <th>male</th>\n",
       "      <th>culture</th>\n",
       "      <th>dateOfBirth</th>\n",
       "      <th>DateoFdeath</th>\n",
       "      <th>mother</th>\n",
       "      <th>father</th>\n",
       "      <th>heir</th>\n",
       "      <th>house</th>\n",
       "      <th>spouse</th>\n",
       "      <th>book1</th>\n",
       "      <th>book2</th>\n",
       "      <th>book3</th>\n",
       "      <th>book4</th>\n",
       "      <th>book5</th>\n",
       "      <th>isAliveMother</th>\n",
       "      <th>isAliveFather</th>\n",
       "      <th>isAliveHeir</th>\n",
       "      <th>isAliveSpouse</th>\n",
       "      <th>isMarried</th>\n",
       "      <th>isNoble</th>\n",
       "      <th>age</th>\n",
       "      <th>numDeadRelations</th>\n",
       "      <th>boolDeadRelations</th>\n",
       "      <th>isPopular</th>\n",
       "      <th>popularity</th>\n",
       "      <th>isAlive</th>\n",
       "    </tr>\n",
       "  </thead>\n",
       "  <tbody>\n",
       "    <tr>\n",
       "      <th>0</th>\n",
       "      <td>1</td>\n",
       "      <td>0</td>\n",
       "      <td>0</td>\n",
       "      <td>0.054</td>\n",
       "      <td>0.946</td>\n",
       "      <td>Viserys II Targaryen</td>\n",
       "      <td>NaN</td>\n",
       "      <td>1</td>\n",
       "      <td>NaN</td>\n",
       "      <td>NaN</td>\n",
       "      <td>NaN</td>\n",
       "      <td>Rhaenyra Targaryen</td>\n",
       "      <td>Daemon Targaryen</td>\n",
       "      <td>Aegon IV Targaryen</td>\n",
       "      <td>NaN</td>\n",
       "      <td>NaN</td>\n",
       "      <td>0</td>\n",
       "      <td>0</td>\n",
       "      <td>0</td>\n",
       "      <td>0</td>\n",
       "      <td>0</td>\n",
       "      <td>1.0</td>\n",
       "      <td>0.0</td>\n",
       "      <td>0.0</td>\n",
       "      <td>NaN</td>\n",
       "      <td>0</td>\n",
       "      <td>0</td>\n",
       "      <td>NaN</td>\n",
       "      <td>11</td>\n",
       "      <td>1</td>\n",
       "      <td>1</td>\n",
       "      <td>0.605351</td>\n",
       "      <td>0</td>\n",
       "    </tr>\n",
       "    <tr>\n",
       "      <th>1</th>\n",
       "      <td>2</td>\n",
       "      <td>1</td>\n",
       "      <td>0</td>\n",
       "      <td>0.387</td>\n",
       "      <td>0.613</td>\n",
       "      <td>Walder Frey</td>\n",
       "      <td>Lord of the Crossing</td>\n",
       "      <td>1</td>\n",
       "      <td>Rivermen</td>\n",
       "      <td>208.0</td>\n",
       "      <td>NaN</td>\n",
       "      <td>NaN</td>\n",
       "      <td>NaN</td>\n",
       "      <td>NaN</td>\n",
       "      <td>House Frey</td>\n",
       "      <td>Perra Royce</td>\n",
       "      <td>1</td>\n",
       "      <td>1</td>\n",
       "      <td>1</td>\n",
       "      <td>1</td>\n",
       "      <td>1</td>\n",
       "      <td>NaN</td>\n",
       "      <td>NaN</td>\n",
       "      <td>NaN</td>\n",
       "      <td>1.0</td>\n",
       "      <td>1</td>\n",
       "      <td>1</td>\n",
       "      <td>97.0</td>\n",
       "      <td>1</td>\n",
       "      <td>1</td>\n",
       "      <td>1</td>\n",
       "      <td>0.896321</td>\n",
       "      <td>1</td>\n",
       "    </tr>\n",
       "    <tr>\n",
       "      <th>2</th>\n",
       "      <td>3</td>\n",
       "      <td>1</td>\n",
       "      <td>0</td>\n",
       "      <td>0.493</td>\n",
       "      <td>0.507</td>\n",
       "      <td>Addison Hill</td>\n",
       "      <td>Ser</td>\n",
       "      <td>1</td>\n",
       "      <td>NaN</td>\n",
       "      <td>NaN</td>\n",
       "      <td>NaN</td>\n",
       "      <td>NaN</td>\n",
       "      <td>NaN</td>\n",
       "      <td>NaN</td>\n",
       "      <td>House Swyft</td>\n",
       "      <td>NaN</td>\n",
       "      <td>0</td>\n",
       "      <td>0</td>\n",
       "      <td>0</td>\n",
       "      <td>1</td>\n",
       "      <td>0</td>\n",
       "      <td>NaN</td>\n",
       "      <td>NaN</td>\n",
       "      <td>NaN</td>\n",
       "      <td>NaN</td>\n",
       "      <td>0</td>\n",
       "      <td>1</td>\n",
       "      <td>NaN</td>\n",
       "      <td>0</td>\n",
       "      <td>0</td>\n",
       "      <td>0</td>\n",
       "      <td>0.267559</td>\n",
       "      <td>1</td>\n",
       "    </tr>\n",
       "  </tbody>\n",
       "</table>\n",
       "</div>"
      ],
      "text/plain": [
       "   S.No  actual  pred  alive   plod                  name  \\\n",
       "0     1       0     0  0.054  0.946  Viserys II Targaryen   \n",
       "1     2       1     0  0.387  0.613           Walder Frey   \n",
       "2     3       1     0  0.493  0.507          Addison Hill   \n",
       "\n",
       "                  title  male   culture  dateOfBirth  DateoFdeath  \\\n",
       "0                   NaN     1       NaN          NaN          NaN   \n",
       "1  Lord of the Crossing     1  Rivermen        208.0          NaN   \n",
       "2                   Ser     1       NaN          NaN          NaN   \n",
       "\n",
       "               mother            father                heir        house  \\\n",
       "0  Rhaenyra Targaryen  Daemon Targaryen  Aegon IV Targaryen          NaN   \n",
       "1                 NaN               NaN                 NaN   House Frey   \n",
       "2                 NaN               NaN                 NaN  House Swyft   \n",
       "\n",
       "        spouse  book1  book2  book3  book4  book5  isAliveMother  \\\n",
       "0          NaN      0      0      0      0      0            1.0   \n",
       "1  Perra Royce      1      1      1      1      1            NaN   \n",
       "2          NaN      0      0      0      1      0            NaN   \n",
       "\n",
       "   isAliveFather  isAliveHeir  isAliveSpouse  isMarried  isNoble   age  \\\n",
       "0            0.0          0.0            NaN          0        0   NaN   \n",
       "1            NaN          NaN            1.0          1        1  97.0   \n",
       "2            NaN          NaN            NaN          0        1   NaN   \n",
       "\n",
       "   numDeadRelations  boolDeadRelations  isPopular  popularity  isAlive  \n",
       "0                11                  1          1    0.605351        0  \n",
       "1                 1                  1          1    0.896321        1  \n",
       "2                 0                  0          0    0.267559        1  "
      ]
     },
     "execution_count": 6,
     "metadata": {},
     "output_type": "execute_result"
    }
   ],
   "source": [
    "char_pred.head(3)"
   ]
  },
  {
   "cell_type": "code",
   "execution_count": 7,
   "metadata": {},
   "outputs": [
    {
     "data": {
      "text/plain": [
       "count       433.000000\n",
       "mean      -1293.563510\n",
       "std       19564.340993\n",
       "min     -298001.000000\n",
       "25%          18.000000\n",
       "50%          27.000000\n",
       "75%          50.000000\n",
       "max         100.000000\n",
       "Name: age, dtype: float64"
      ]
     },
     "execution_count": 7,
     "metadata": {},
     "output_type": "execute_result"
    }
   ],
   "source": [
    "# viewing age properties\n",
    "char_pred['age'].describe()"
   ]
  },
  {
   "attachments": {},
   "cell_type": "markdown",
   "metadata": {},
   "source": [
    "There are negative value for date of birth. Negative mean for age.\n",
    "Let's investigate that."
   ]
  },
  {
   "attachments": {},
   "cell_type": "markdown",
   "metadata": {},
   "source": [
    "Research was made and according to [Fandom.com](https://gameofthrones.fandom.com/wiki/Doreah) Doreah is 25 years old.\n",
    "\n",
    "According to [Fanthom.com](https://gameofthrones.fandom.com/wiki/Rhaego) Rhaego was never born."
   ]
  },
  {
   "attachments": {},
   "cell_type": "markdown",
   "metadata": {},
   "source": [
    "### Feature Engineering\n"
   ]
  },
  {
   "cell_type": "code",
   "execution_count": 8,
   "metadata": {},
   "outputs": [],
   "source": [
    "char = char_pred.copy()"
   ]
  },
  {
   "attachments": {},
   "cell_type": "markdown",
   "metadata": {},
   "source": [
    "#### Cleaning Feature"
   ]
  },
  {
   "cell_type": "code",
   "execution_count": 9,
   "metadata": {},
   "outputs": [],
   "source": [
    "# Replacing the age\n",
    "char.loc[1684, 'age'] = 25.0\n",
    "char.loc[1868, 'age'] = 0.0"
   ]
  },
  {
   "attachments": {},
   "cell_type": "markdown",
   "metadata": {},
   "source": [
    "Removing NaNs"
   ]
  },
  {
   "cell_type": "code",
   "execution_count": 10,
   "metadata": {},
   "outputs": [
    {
     "data": {
      "text/plain": [
       "title            1008\n",
       "culture          1269\n",
       "dateOfBirth      1513\n",
       "DateoFdeath      1502\n",
       "mother           1925\n",
       "father           1920\n",
       "heir             1923\n",
       "house             427\n",
       "spouse           1670\n",
       "isAliveMother    1925\n",
       "isAliveFather    1920\n",
       "isAliveHeir      1923\n",
       "isAliveSpouse    1670\n",
       "age              1513\n",
       "dtype: int64"
      ]
     },
     "execution_count": 10,
     "metadata": {},
     "output_type": "execute_result"
    }
   ],
   "source": [
    "miss = char.isna().sum()\n",
    "miss[miss > 0]"
   ]
  },
  {
   "attachments": {},
   "cell_type": "markdown",
   "metadata": {},
   "source": [
    "We have 14 columns with NaN vales. We will replace that of age with the average age value.\n",
    "\n",
    "Replace date of birth and date of death with the median value.\n",
    "\n",
    "Replace other categorical variable with unknown\n",
    "\n",
    "Replace other numerical variable with -1"
   ]
  },
  {
   "cell_type": "code",
   "execution_count": 11,
   "metadata": {},
   "outputs": [],
   "source": [
    "# Fill missing age with average age\n",
    "char[\"age\"].fillna(round(char[\"age\"].mean()), inplace=True)\n",
    "char['dateOfBirth'].fillna(char['dateOfBirth'].median(), inplace=True)\n",
    "char['DateoFdeath'].fillna(char['DateoFdeath'].median(), inplace=True)"
   ]
  },
  {
   "cell_type": "code",
   "execution_count": 12,
   "metadata": {},
   "outputs": [
    {
     "data": {
      "text/plain": [
       "array(['unknown', 'Rivermen', 'Dornish', 'Valyrian', 'Ironborn',\n",
       "       'Free Folk', 'Northmen', 'Summer Isles', 'Braavosi', 'Dothraki',\n",
       "       'Ghiscari', 'Vale mountain clans', 'Reach', 'Tyroshi', 'Lhazarene',\n",
       "       'Free folk', 'Ironmen', 'Qartheen', 'Lysene', 'westermen',\n",
       "       'Westerman', 'Qarth', 'Lyseni', 'northmen', 'Qohor', 'Westeros',\n",
       "       'Norvoshi', 'First Men', 'Meereenese', 'Andal', 'Astapori',\n",
       "       'Westermen', 'ironborn', 'Ghiscaricari', 'Braavos', 'Stormlands',\n",
       "       'Valemen', 'Myrish', 'Lhazareen', 'Dornishmen', 'Sistermen',\n",
       "       'Northern mountain clans', 'Andals', 'Vale', 'Crannogmen',\n",
       "       'Wildling', 'Dorne', 'Pentoshi', 'free folk', 'Summer Islander',\n",
       "       'Westerlands', 'Summer Islands', 'Asshai', 'Riverlands', 'Naathi',\n",
       "       'Rhoynar', 'Meereen', 'Norvos', 'Stormlander', 'Wildlings',\n",
       "       'Astapor', 'Reachmen', \"Asshai'i\", 'Ibbenese', 'The Reach'],\n",
       "      dtype=object)"
      ]
     },
     "execution_count": 12,
     "metadata": {},
     "output_type": "execute_result"
    }
   ],
   "source": [
    "# Handling missing values in text columns\n",
    "cat = ['title', 'culture', 'mother', 'father', 'heir', 'house', 'spouse']\n",
    "for col in cat:\n",
    "    char[col].fillna('unknown', inplace=True)\n",
    "char.fillna(-1, inplace=True)"
   ]
  },
  {
   "attachments": {},
   "cell_type": "markdown",
   "metadata": {},
   "source": [
    "#### Duplicate culture\n",
    "\n",
    "Some culture are spelt wrongly thus making duplicate. E.g. 'Westermen', 'Westerman' and 'westermen' are all the same."
   ]
  },
  {
   "cell_type": "code",
   "execution_count": null,
   "metadata": {},
   "outputs": [],
   "source": [
    "char['culture'].unique()"
   ]
  },
  {
   "cell_type": "code",
   "execution_count": 13,
   "metadata": {},
   "outputs": [],
   "source": [
    "# From  Shail Daliwala's kernel on Kaggle\n",
    "cult = {\n",
    "    'Summer Islands': ['summer islands', 'summer islander', 'summer isles'],\n",
    "    'Ghiscari': ['ghiscari', 'ghiscaricari',  'ghis'],\n",
    "    'Asshai': [\"asshai'i\", 'asshai'],\n",
    "    'Lysene': ['lysene', 'lyseni'],\n",
    "    'Andal': ['andal', 'andals'],\n",
    "    'Braavosi': ['braavosi', 'braavos'],\n",
    "    'Dornish': ['dornishmen', 'dorne', 'dornish'],\n",
    "    'Myrish': ['myr', 'myrish', 'myrmen'],\n",
    "    'Westermen': ['westermen', 'westerman', 'westerlands'],\n",
    "    'Westerosi': ['westeros', 'westerosi'],\n",
    "    'Stormlander': ['stormlands', 'stormlander'],\n",
    "    'Norvoshi': ['norvos', 'norvoshi'],\n",
    "    'Northmen': ['the north', 'northmen'],\n",
    "    'Free Folk': ['wildling', 'first men', 'free folk'],\n",
    "    'Qartheen': ['qartheen', 'qarth'],\n",
    "    'Reach': ['the reach', 'reach', 'reachmen'],\n",
    "}\n",
    "\n",
    "def get_cult(value):\n",
    "    value = value.lower()\n",
    "    v = [k for (k, v) in cult.items() if value in v]\n",
    "    return v[0] if len(v) > 0 else value.title()\n",
    "\n",
    "# char.loc[:, \"culture\"] = [get_cult(x) for x in char.culture.fillna(\"\")]\n"
   ]
  },
  {
   "attachments": {},
   "cell_type": "markdown",
   "metadata": {},
   "source": [
    "#### Creating links to other data (Variables for creating features)\n",
    "In the battle csv we have attackers and defenders, it's likely that this attackers and defenders are of the powerful house in the country or region, we can create a link to characters who belongs to this house.\n",
    "\n",
    "Also in the battles data are commanders and defenders"
   ]
  },
  {
   "cell_type": "code",
   "execution_count": 14,
   "metadata": {},
   "outputs": [],
   "source": [
    "# Names of all Attackers\n",
    "all_attackers = set(battles.attacker_1).union(set(battles.attacker_2))\\\n",
    ".union(set(battles.attacker_3)).union(set(battles.attacker_4))\n",
    "# Names of all Defenders\n",
    "all_defenders = set(battles.defender_1).union(set(battles.defender_2))\n",
    "\n",
    "# Unique attackers and defenders combined\n",
    "all_warlead = all_attackers.union(all_defenders)\n",
    "all_warlead = list(all_warlead)\n",
    "all_warlead.remove(np.nan)\n",
    "\n",
    "renam_warlead = []\n",
    "for x in all_warlead:\n",
    "    house = 'House ' + x\n",
    "    renam_warlead.append(house)\n",
    "    \n",
    "# All attacking commanders\n",
    "all = []\n",
    "for i in battles['attacker_commander'].dropna().values:\n",
    "    splitted = i.split(', ')\n",
    "    all +=splitted\n",
    "    \n",
    "all_att_commanders = set(all)\n",
    "\n",
    "# All defending commanders\n",
    "all = []\n",
    "for i in battles['defender_commander'].dropna().values:\n",
    "    splitted = i.split(', ')\n",
    "    all +=splitted\n",
    "    \n",
    "all_def_commanders = set(all)\n",
    "\n",
    "# All commanders \n",
    "all_commanders = all_att_commanders.union(all_def_commanders)\n",
    "# characters who swore allegiance in character death data\n",
    "char_with_allgnc = char_deaths[char_deaths['Allegiances'] != 'None']\n",
    "\n",
    "# Extracting the above character from all character data\n",
    "all_char_with_allgnc = char_pred[char_pred['name'].isin(char_with_allgnc['Name'])]\n",
    "\n",
    "# house of character with allegiance to another house (house in character dead allegiance column)\n",
    "hus_char_with_allegnc = all_char_with_allgnc['house']\n",
    "\n",
    "# Extract unique house of allegiance from charater death data.\n",
    "husOfAllgnc = list(set(char_deaths['Allegiances']))\n",
    "husOfAllgnc.remove('None')\n",
    "\n",
    "renam_husOfAllgnc = []\n",
    "for x in husOfAllgnc:\n",
    "    house = 'House ' + x\n",
    "    renam_husOfAllgnc.append(house)\n"
   ]
  },
  {
   "attachments": {},
   "cell_type": "markdown",
   "metadata": {},
   "source": [
    "Creating Feature"
   ]
  },
  {
   "cell_type": "code",
   "execution_count": 15,
   "metadata": {},
   "outputs": [],
   "source": [
    "char['isACommander'] = np.where(char['name'].isin(all_commanders), 1, 0)\n",
    "char['inHouseOfWarLead'] = np.where(char['house'].isin(renam_warlead), 1, 0)\n",
    "char['houseSworeAllegiance'] = np.where(char['house'].isin(hus_char_with_allegnc), 1, 0)\n",
    "char['inHouseOfAllegnc'] = np.where(char['house'].isin(renam_husOfAllgnc), 1, 0)\n",
    "char = char.drop(['S.No', 'actual', 'pred', 'alive', 'plod', 'name', 'dateOfBirth',\n",
    "                  'DateoFdeath', 'house'], axis=1)\n"
   ]
  },
  {
   "attachments": {},
   "cell_type": "markdown",
   "metadata": {},
   "source": [
    "Feature Selection"
   ]
  },
  {
   "cell_type": "code",
   "execution_count": 16,
   "metadata": {},
   "outputs": [],
   "source": [
    "new = char.copy()"
   ]
  },
  {
   "cell_type": "code",
   "execution_count": 17,
   "metadata": {},
   "outputs": [
    {
     "data": {
      "text/plain": [
       "book3                   0.006693\n",
       "inHouseOfWarLead        0.029822\n",
       "isAliveSpouse           0.031536\n",
       "book5                   0.032846\n",
       "isNoble                 0.042211\n",
       "isMarried               0.050037\n",
       "houseSworeAllegiance    0.052159\n",
       "isACommander            0.057968\n",
       "book2                   0.067200\n",
       "inHouseOfAllegnc        0.113380\n",
       "isAliveHeir             0.116365\n",
       "isAliveFather           0.123615\n",
       "age                     0.136891\n",
       "isAliveMother           0.140661\n",
       "male                    0.146982\n",
       "book1                   0.147401\n",
       "isPopular               0.153860\n",
       "popularity              0.183223\n",
       "numDeadRelations        0.192444\n",
       "boolDeadRelations       0.193736\n",
       "book4                   0.268975\n",
       "isAlive                 1.000000\n",
       "Name: isAlive, dtype: float64"
      ]
     },
     "execution_count": 17,
     "metadata": {},
     "output_type": "execute_result"
    }
   ],
   "source": [
    "# Heatmap of numerical feature in the training dataset\n",
    "num_features = new.select_dtypes(['int', 'float'])\n",
    "corr_mat = num_features.corr()['isAlive'].abs().sort_values()\n",
    "corr_mat"
   ]
  },
  {
   "cell_type": "code",
   "execution_count": 18,
   "metadata": {},
   "outputs": [
    {
     "data": {
      "text/plain": [
       "<AxesSubplot:>"
      ]
     },
     "execution_count": 18,
     "metadata": {},
     "output_type": "execute_result"
    },
    {
     "data": {
      "image/png": "[encoded data removed]",
      "text/plain": [
       "<Figure size 432x288 with 2 Axes>"
      ]
     },
     "metadata": {},
     "output_type": "display_data"
    }
   ],
   "source": [
    "# Heatmap of numerical feature in the training dataset\n",
    "num_features = new.select_dtypes(['int', 'float'])\n",
    "corr_mat = num_features.corr()\n",
    "sb.heatmap(data=corr_mat)"
   ]
  },
  {
   "cell_type": "code",
   "execution_count": 19,
   "metadata": {},
   "outputs": [
    {
     "data": {
      "text/html": [
       "<div>\n",
       "<style scoped>\n",
       "    .dataframe tbody tr th:only-of-type {\n",
       "        vertical-align: middle;\n",
       "    }\n",
       "\n",
       "    .dataframe tbody tr th {\n",
       "        vertical-align: top;\n",
       "    }\n",
       "\n",
       "    .dataframe thead th {\n",
       "        text-align: right;\n",
       "    }\n",
       "</style>\n",
       "<table border=\"1\" class=\"dataframe\">\n",
       "  <thead>\n",
       "    <tr style=\"text-align: right;\">\n",
       "      <th></th>\n",
       "      <th>features</th>\n",
       "      <th>VIF</th>\n",
       "    </tr>\n",
       "  </thead>\n",
       "  <tbody>\n",
       "    <tr>\n",
       "      <th>7</th>\n",
       "      <td>isAliveFather</td>\n",
       "      <td>165.111250</td>\n",
       "    </tr>\n",
       "    <tr>\n",
       "      <th>6</th>\n",
       "      <td>isAliveMother</td>\n",
       "      <td>93.203589</td>\n",
       "    </tr>\n",
       "    <tr>\n",
       "      <th>8</th>\n",
       "      <td>isAliveHeir</td>\n",
       "      <td>77.020836</td>\n",
       "    </tr>\n",
       "    <tr>\n",
       "      <th>9</th>\n",
       "      <td>isAliveSpouse</td>\n",
       "      <td>28.026185</td>\n",
       "    </tr>\n",
       "    <tr>\n",
       "      <th>10</th>\n",
       "      <td>isMarried</td>\n",
       "      <td>15.455632</td>\n",
       "    </tr>\n",
       "    <tr>\n",
       "      <th>12</th>\n",
       "      <td>age</td>\n",
       "      <td>10.098704</td>\n",
       "    </tr>\n",
       "    <tr>\n",
       "      <th>16</th>\n",
       "      <td>popularity</td>\n",
       "      <td>7.642320</td>\n",
       "    </tr>\n",
       "    <tr>\n",
       "      <th>15</th>\n",
       "      <td>isPopular</td>\n",
       "      <td>4.347781</td>\n",
       "    </tr>\n",
       "    <tr>\n",
       "      <th>19</th>\n",
       "      <td>houseSworeAllegiance</td>\n",
       "      <td>3.579165</td>\n",
       "    </tr>\n",
       "    <tr>\n",
       "      <th>4</th>\n",
       "      <td>book4</td>\n",
       "      <td>3.242501</td>\n",
       "    </tr>\n",
       "    <tr>\n",
       "      <th>13</th>\n",
       "      <td>numDeadRelations</td>\n",
       "      <td>3.237888</td>\n",
       "    </tr>\n",
       "    <tr>\n",
       "      <th>14</th>\n",
       "      <td>boolDeadRelations</td>\n",
       "      <td>3.036974</td>\n",
       "    </tr>\n",
       "    <tr>\n",
       "      <th>3</th>\n",
       "      <td>book3</td>\n",
       "      <td>2.898499</td>\n",
       "    </tr>\n",
       "    <tr>\n",
       "      <th>0</th>\n",
       "      <td>male</td>\n",
       "      <td>2.783317</td>\n",
       "    </tr>\n",
       "    <tr>\n",
       "      <th>2</th>\n",
       "      <td>book2</td>\n",
       "      <td>2.480204</td>\n",
       "    </tr>\n",
       "    <tr>\n",
       "      <th>11</th>\n",
       "      <td>isNoble</td>\n",
       "      <td>2.156332</td>\n",
       "    </tr>\n",
       "    <tr>\n",
       "      <th>5</th>\n",
       "      <td>book5</td>\n",
       "      <td>2.125849</td>\n",
       "    </tr>\n",
       "    <tr>\n",
       "      <th>18</th>\n",
       "      <td>inHouseOfWarLead</td>\n",
       "      <td>2.057726</td>\n",
       "    </tr>\n",
       "    <tr>\n",
       "      <th>20</th>\n",
       "      <td>inHouseOfAllegnc</td>\n",
       "      <td>2.013128</td>\n",
       "    </tr>\n",
       "    <tr>\n",
       "      <th>1</th>\n",
       "      <td>book1</td>\n",
       "      <td>1.713839</td>\n",
       "    </tr>\n",
       "    <tr>\n",
       "      <th>17</th>\n",
       "      <td>isACommander</td>\n",
       "      <td>1.291378</td>\n",
       "    </tr>\n",
       "  </tbody>\n",
       "</table>\n",
       "</div>"
      ],
      "text/plain": [
       "                features         VIF\n",
       "7          isAliveFather  165.111250\n",
       "6          isAliveMother   93.203589\n",
       "8            isAliveHeir   77.020836\n",
       "9          isAliveSpouse   28.026185\n",
       "10             isMarried   15.455632\n",
       "12                   age   10.098704\n",
       "16            popularity    7.642320\n",
       "15             isPopular    4.347781\n",
       "19  houseSworeAllegiance    3.579165\n",
       "4                  book4    3.242501\n",
       "13      numDeadRelations    3.237888\n",
       "14     boolDeadRelations    3.036974\n",
       "3                  book3    2.898499\n",
       "0                   male    2.783317\n",
       "2                  book2    2.480204\n",
       "11               isNoble    2.156332\n",
       "5                  book5    2.125849\n",
       "18      inHouseOfWarLead    2.057726\n",
       "20      inHouseOfAllegnc    2.013128\n",
       "1                  book1    1.713839\n",
       "17          isACommander    1.291378"
      ]
     },
     "execution_count": 19,
     "metadata": {},
     "output_type": "execute_result"
    }
   ],
   "source": [
    "from statsmodels.stats.outliers_influence import variance_inflation_factor\n",
    "x = num_features.drop(columns='isAlive')\n",
    "vif = pd.DataFrame()\n",
    "vif['features'] = x.columns\n",
    "\n",
    "vif['VIF'] = [variance_inflation_factor(x.values, i) for i in range(len(x.columns))]\n",
    "vif.sort_values(by='VIF', ascending=False)"
   ]
  },
  {
   "attachments": {},
   "cell_type": "markdown",
   "metadata": {},
   "source": [
    "There are multicolinearity in the features. Let's drop some columns with multicolinearity"
   ]
  },
  {
   "cell_type": "code",
   "execution_count": 20,
   "metadata": {},
   "outputs": [],
   "source": [
    "# Dropping columns with colinearity\n",
    "new = new.drop(['isAliveFather', 'isAliveMother', 'isAliveSpouse'], axis=1)"
   ]
  },
  {
   "cell_type": "code",
   "execution_count": 21,
   "metadata": {},
   "outputs": [
    {
     "data": {
      "text/plain": [
       "book3                   0.006693\n",
       "inHouseOfWarLead        0.029822\n",
       "book5                   0.032846\n",
       "isNoble                 0.042211\n",
       "isMarried               0.050037\n",
       "houseSworeAllegiance    0.052159\n",
       "isACommander            0.057968\n",
       "book2                   0.067200\n",
       "Name: isAlive, dtype: float64"
      ]
     },
     "execution_count": 21,
     "metadata": {},
     "output_type": "execute_result"
    }
   ],
   "source": [
    "# Selecting features with coefficient greater than 0.1\n",
    "num_features = new.select_dtypes(['int', 'float'])\n",
    "corr_mat = num_features.corr()['isAlive'].abs().sort_values()\n",
    "corr_less = corr_mat[corr_mat < 0.1]\n",
    "corr_less"
   ]
  },
  {
   "cell_type": "code",
   "execution_count": 22,
   "metadata": {},
   "outputs": [],
   "source": [
    "new = new.drop(corr_less.index, axis=1)"
   ]
  },
  {
   "cell_type": "code",
   "execution_count": 23,
   "metadata": {},
   "outputs": [],
   "source": [
    "# List of categorical variable\n",
    "nominal_features = ['title', 'culture', 'mother', 'father', 'heir', 'spouse']\n",
    "\n",
    "# Counting unique values in each column\n",
    "unique_count = new[nominal_features].apply(lambda x: len(x.value_counts())).sort_values()"
   ]
  },
  {
   "cell_type": "code",
   "execution_count": 24,
   "metadata": {},
   "outputs": [],
   "source": [
    "# Arbitrary cutoff of 25 unique count\n",
    "unique_count = unique_count[unique_count > 25].index\n",
    "# Dropping \n",
    "new = new.drop(unique_count, axis=1)"
   ]
  },
  {
   "cell_type": "code",
   "execution_count": 25,
   "metadata": {},
   "outputs": [],
   "source": [
    "# Converting the remaining text column to categorical type\n",
    "txt_col = new.select_dtypes(include=['object'])\n",
    "for col in txt_col:\n",
    "    new[col] = new[col].astype('category')\n",
    "    \n",
    "# Creating dummy columns from txt columns and add back to dataframe\n",
    "new = pd.concat([\n",
    "    new, pd.get_dummies(new.select_dtypes(include=['category']))\n",
    "], axis=1).drop(txt_col, axis=1)"
   ]
  },
  {
   "cell_type": "code",
   "execution_count": 26,
   "metadata": {},
   "outputs": [
    {
     "data": {
      "text/html": [
       "<div>\n",
       "<style scoped>\n",
       "    .dataframe tbody tr th:only-of-type {\n",
       "        vertical-align: middle;\n",
       "    }\n",
       "\n",
       "    .dataframe tbody tr th {\n",
       "        vertical-align: top;\n",
       "    }\n",
       "\n",
       "    .dataframe thead th {\n",
       "        text-align: right;\n",
       "    }\n",
       "</style>\n",
       "<table border=\"1\" class=\"dataframe\">\n",
       "  <thead>\n",
       "    <tr style=\"text-align: right;\">\n",
       "      <th></th>\n",
       "      <th>male</th>\n",
       "      <th>book1</th>\n",
       "      <th>book4</th>\n",
       "      <th>isAliveHeir</th>\n",
       "      <th>age</th>\n",
       "      <th>numDeadRelations</th>\n",
       "      <th>boolDeadRelations</th>\n",
       "      <th>isPopular</th>\n",
       "      <th>popularity</th>\n",
       "      <th>isAlive</th>\n",
       "      <th>inHouseOfAllegnc</th>\n",
       "      <th>mother_Alicent Hightower</th>\n",
       "      <th>mother_Alyssa Targaryen</th>\n",
       "      <th>mother_Alyssa Velaryon</th>\n",
       "      <th>mother_Betha Blackwood</th>\n",
       "      <th>mother_Cassana Estermont</th>\n",
       "      <th>mother_Catelyn Stark</th>\n",
       "      <th>mother_Cersei Lannister</th>\n",
       "      <th>mother_Daenaera Velaryon</th>\n",
       "      <th>mother_Dyanna Dayne</th>\n",
       "      <th>mother_Lady of House Sunderly</th>\n",
       "      <th>mother_Mariah Martell</th>\n",
       "      <th>mother_Naerys Targaryen</th>\n",
       "      <th>mother_Rhaenyra Targaryen</th>\n",
       "      <th>mother_Rhaenys Targaryen</th>\n",
       "      <th>...</th>\n",
       "      <th>father_Viserys I Targaryen</th>\n",
       "      <th>father_unknown</th>\n",
       "      <th>heir_Aegon IV Targaryen</th>\n",
       "      <th>heir_Aegon Targaryen</th>\n",
       "      <th>heir_Aemon Targaryen</th>\n",
       "      <th>heir_Aenys Targaryen</th>\n",
       "      <th>heir_Aerys II Targaryen</th>\n",
       "      <th>heir_Arlan V Durrandon</th>\n",
       "      <th>heir_Baelor 'Breakspear' Targaryen</th>\n",
       "      <th>heir_Baelor I Targaryen</th>\n",
       "      <th>heir_Bran Stark</th>\n",
       "      <th>heir_Daeron I Targaryen</th>\n",
       "      <th>heir_Daeron II Targaryen</th>\n",
       "      <th>heir_Duncan Targaryen</th>\n",
       "      <th>heir_Durran the Devout</th>\n",
       "      <th>heir_Halleck Hoare</th>\n",
       "      <th>heir_Jaehaerys Targaryen</th>\n",
       "      <th>heir_Myrcella Baratheon</th>\n",
       "      <th>heir_Rhaegar Targaryen</th>\n",
       "      <th>heir_Rhaegel Targaryen</th>\n",
       "      <th>heir_Rhaenyra Targaryen</th>\n",
       "      <th>heir_Shireen Baratheon</th>\n",
       "      <th>heir_Theon Greyjoy</th>\n",
       "      <th>heir_Tommen Baratheon</th>\n",
       "      <th>heir_unknown</th>\n",
       "    </tr>\n",
       "  </thead>\n",
       "  <tbody>\n",
       "    <tr>\n",
       "      <th>0</th>\n",
       "      <td>1</td>\n",
       "      <td>0</td>\n",
       "      <td>0</td>\n",
       "      <td>0.0</td>\n",
       "      <td>37.0</td>\n",
       "      <td>11</td>\n",
       "      <td>1</td>\n",
       "      <td>1</td>\n",
       "      <td>0.605351</td>\n",
       "      <td>0</td>\n",
       "      <td>0</td>\n",
       "      <td>0</td>\n",
       "      <td>0</td>\n",
       "      <td>0</td>\n",
       "      <td>0</td>\n",
       "      <td>0</td>\n",
       "      <td>0</td>\n",
       "      <td>0</td>\n",
       "      <td>0</td>\n",
       "      <td>0</td>\n",
       "      <td>0</td>\n",
       "      <td>0</td>\n",
       "      <td>0</td>\n",
       "      <td>1</td>\n",
       "      <td>0</td>\n",
       "      <td>...</td>\n",
       "      <td>0</td>\n",
       "      <td>0</td>\n",
       "      <td>1</td>\n",
       "      <td>0</td>\n",
       "      <td>0</td>\n",
       "      <td>0</td>\n",
       "      <td>0</td>\n",
       "      <td>0</td>\n",
       "      <td>0</td>\n",
       "      <td>0</td>\n",
       "      <td>0</td>\n",
       "      <td>0</td>\n",
       "      <td>0</td>\n",
       "      <td>0</td>\n",
       "      <td>0</td>\n",
       "      <td>0</td>\n",
       "      <td>0</td>\n",
       "      <td>0</td>\n",
       "      <td>0</td>\n",
       "      <td>0</td>\n",
       "      <td>0</td>\n",
       "      <td>0</td>\n",
       "      <td>0</td>\n",
       "      <td>0</td>\n",
       "      <td>0</td>\n",
       "    </tr>\n",
       "    <tr>\n",
       "      <th>1</th>\n",
       "      <td>1</td>\n",
       "      <td>1</td>\n",
       "      <td>1</td>\n",
       "      <td>-1.0</td>\n",
       "      <td>97.0</td>\n",
       "      <td>1</td>\n",
       "      <td>1</td>\n",
       "      <td>1</td>\n",
       "      <td>0.896321</td>\n",
       "      <td>1</td>\n",
       "      <td>0</td>\n",
       "      <td>0</td>\n",
       "      <td>0</td>\n",
       "      <td>0</td>\n",
       "      <td>0</td>\n",
       "      <td>0</td>\n",
       "      <td>0</td>\n",
       "      <td>0</td>\n",
       "      <td>0</td>\n",
       "      <td>0</td>\n",
       "      <td>0</td>\n",
       "      <td>0</td>\n",
       "      <td>0</td>\n",
       "      <td>0</td>\n",
       "      <td>0</td>\n",
       "      <td>...</td>\n",
       "      <td>0</td>\n",
       "      <td>1</td>\n",
       "      <td>0</td>\n",
       "      <td>0</td>\n",
       "      <td>0</td>\n",
       "      <td>0</td>\n",
       "      <td>0</td>\n",
       "      <td>0</td>\n",
       "      <td>0</td>\n",
       "      <td>0</td>\n",
       "      <td>0</td>\n",
       "      <td>0</td>\n",
       "      <td>0</td>\n",
       "      <td>0</td>\n",
       "      <td>0</td>\n",
       "      <td>0</td>\n",
       "      <td>0</td>\n",
       "      <td>0</td>\n",
       "      <td>0</td>\n",
       "      <td>0</td>\n",
       "      <td>0</td>\n",
       "      <td>0</td>\n",
       "      <td>0</td>\n",
       "      <td>0</td>\n",
       "      <td>1</td>\n",
       "    </tr>\n",
       "    <tr>\n",
       "      <th>2</th>\n",
       "      <td>1</td>\n",
       "      <td>0</td>\n",
       "      <td>1</td>\n",
       "      <td>-1.0</td>\n",
       "      <td>37.0</td>\n",
       "      <td>0</td>\n",
       "      <td>0</td>\n",
       "      <td>0</td>\n",
       "      <td>0.267559</td>\n",
       "      <td>1</td>\n",
       "      <td>0</td>\n",
       "      <td>0</td>\n",
       "      <td>0</td>\n",
       "      <td>0</td>\n",
       "      <td>0</td>\n",
       "      <td>0</td>\n",
       "      <td>0</td>\n",
       "      <td>0</td>\n",
       "      <td>0</td>\n",
       "      <td>0</td>\n",
       "      <td>0</td>\n",
       "      <td>0</td>\n",
       "      <td>0</td>\n",
       "      <td>0</td>\n",
       "      <td>0</td>\n",
       "      <td>...</td>\n",
       "      <td>0</td>\n",
       "      <td>1</td>\n",
       "      <td>0</td>\n",
       "      <td>0</td>\n",
       "      <td>0</td>\n",
       "      <td>0</td>\n",
       "      <td>0</td>\n",
       "      <td>0</td>\n",
       "      <td>0</td>\n",
       "      <td>0</td>\n",
       "      <td>0</td>\n",
       "      <td>0</td>\n",
       "      <td>0</td>\n",
       "      <td>0</td>\n",
       "      <td>0</td>\n",
       "      <td>0</td>\n",
       "      <td>0</td>\n",
       "      <td>0</td>\n",
       "      <td>0</td>\n",
       "      <td>0</td>\n",
       "      <td>0</td>\n",
       "      <td>0</td>\n",
       "      <td>0</td>\n",
       "      <td>0</td>\n",
       "      <td>1</td>\n",
       "    </tr>\n",
       "    <tr>\n",
       "      <th>3</th>\n",
       "      <td>0</td>\n",
       "      <td>0</td>\n",
       "      <td>0</td>\n",
       "      <td>-1.0</td>\n",
       "      <td>23.0</td>\n",
       "      <td>0</td>\n",
       "      <td>0</td>\n",
       "      <td>0</td>\n",
       "      <td>0.183946</td>\n",
       "      <td>0</td>\n",
       "      <td>1</td>\n",
       "      <td>0</td>\n",
       "      <td>0</td>\n",
       "      <td>0</td>\n",
       "      <td>0</td>\n",
       "      <td>0</td>\n",
       "      <td>0</td>\n",
       "      <td>0</td>\n",
       "      <td>0</td>\n",
       "      <td>0</td>\n",
       "      <td>0</td>\n",
       "      <td>0</td>\n",
       "      <td>0</td>\n",
       "      <td>0</td>\n",
       "      <td>0</td>\n",
       "      <td>...</td>\n",
       "      <td>0</td>\n",
       "      <td>1</td>\n",
       "      <td>0</td>\n",
       "      <td>0</td>\n",
       "      <td>0</td>\n",
       "      <td>0</td>\n",
       "      <td>0</td>\n",
       "      <td>0</td>\n",
       "      <td>0</td>\n",
       "      <td>0</td>\n",
       "      <td>0</td>\n",
       "      <td>0</td>\n",
       "      <td>0</td>\n",
       "      <td>0</td>\n",
       "      <td>0</td>\n",
       "      <td>0</td>\n",
       "      <td>0</td>\n",
       "      <td>0</td>\n",
       "      <td>0</td>\n",
       "      <td>0</td>\n",
       "      <td>0</td>\n",
       "      <td>0</td>\n",
       "      <td>0</td>\n",
       "      <td>0</td>\n",
       "      <td>1</td>\n",
       "    </tr>\n",
       "    <tr>\n",
       "      <th>4</th>\n",
       "      <td>0</td>\n",
       "      <td>0</td>\n",
       "      <td>1</td>\n",
       "      <td>-1.0</td>\n",
       "      <td>29.0</td>\n",
       "      <td>0</td>\n",
       "      <td>0</td>\n",
       "      <td>0</td>\n",
       "      <td>0.043478</td>\n",
       "      <td>1</td>\n",
       "      <td>0</td>\n",
       "      <td>0</td>\n",
       "      <td>0</td>\n",
       "      <td>0</td>\n",
       "      <td>0</td>\n",
       "      <td>0</td>\n",
       "      <td>0</td>\n",
       "      <td>0</td>\n",
       "      <td>0</td>\n",
       "      <td>0</td>\n",
       "      <td>0</td>\n",
       "      <td>0</td>\n",
       "      <td>0</td>\n",
       "      <td>0</td>\n",
       "      <td>0</td>\n",
       "      <td>...</td>\n",
       "      <td>0</td>\n",
       "      <td>1</td>\n",
       "      <td>0</td>\n",
       "      <td>0</td>\n",
       "      <td>0</td>\n",
       "      <td>0</td>\n",
       "      <td>0</td>\n",
       "      <td>0</td>\n",
       "      <td>0</td>\n",
       "      <td>0</td>\n",
       "      <td>0</td>\n",
       "      <td>0</td>\n",
       "      <td>0</td>\n",
       "      <td>0</td>\n",
       "      <td>0</td>\n",
       "      <td>0</td>\n",
       "      <td>0</td>\n",
       "      <td>0</td>\n",
       "      <td>0</td>\n",
       "      <td>0</td>\n",
       "      <td>0</td>\n",
       "      <td>0</td>\n",
       "      <td>0</td>\n",
       "      <td>0</td>\n",
       "      <td>1</td>\n",
       "    </tr>\n",
       "    <tr>\n",
       "      <th>...</th>\n",
       "      <td>...</td>\n",
       "      <td>...</td>\n",
       "      <td>...</td>\n",
       "      <td>...</td>\n",
       "      <td>...</td>\n",
       "      <td>...</td>\n",
       "      <td>...</td>\n",
       "      <td>...</td>\n",
       "      <td>...</td>\n",
       "      <td>...</td>\n",
       "      <td>...</td>\n",
       "      <td>...</td>\n",
       "      <td>...</td>\n",
       "      <td>...</td>\n",
       "      <td>...</td>\n",
       "      <td>...</td>\n",
       "      <td>...</td>\n",
       "      <td>...</td>\n",
       "      <td>...</td>\n",
       "      <td>...</td>\n",
       "      <td>...</td>\n",
       "      <td>...</td>\n",
       "      <td>...</td>\n",
       "      <td>...</td>\n",
       "      <td>...</td>\n",
       "      <td>...</td>\n",
       "      <td>...</td>\n",
       "      <td>...</td>\n",
       "      <td>...</td>\n",
       "      <td>...</td>\n",
       "      <td>...</td>\n",
       "      <td>...</td>\n",
       "      <td>...</td>\n",
       "      <td>...</td>\n",
       "      <td>...</td>\n",
       "      <td>...</td>\n",
       "      <td>...</td>\n",
       "      <td>...</td>\n",
       "      <td>...</td>\n",
       "      <td>...</td>\n",
       "      <td>...</td>\n",
       "      <td>...</td>\n",
       "      <td>...</td>\n",
       "      <td>...</td>\n",
       "      <td>...</td>\n",
       "      <td>...</td>\n",
       "      <td>...</td>\n",
       "      <td>...</td>\n",
       "      <td>...</td>\n",
       "      <td>...</td>\n",
       "      <td>...</td>\n",
       "    </tr>\n",
       "    <tr>\n",
       "      <th>1941</th>\n",
       "      <td>1</td>\n",
       "      <td>1</td>\n",
       "      <td>1</td>\n",
       "      <td>-1.0</td>\n",
       "      <td>37.0</td>\n",
       "      <td>0</td>\n",
       "      <td>0</td>\n",
       "      <td>1</td>\n",
       "      <td>0.351171</td>\n",
       "      <td>0</td>\n",
       "      <td>1</td>\n",
       "      <td>0</td>\n",
       "      <td>0</td>\n",
       "      <td>0</td>\n",
       "      <td>0</td>\n",
       "      <td>0</td>\n",
       "      <td>0</td>\n",
       "      <td>0</td>\n",
       "      <td>0</td>\n",
       "      <td>0</td>\n",
       "      <td>0</td>\n",
       "      <td>0</td>\n",
       "      <td>0</td>\n",
       "      <td>0</td>\n",
       "      <td>0</td>\n",
       "      <td>...</td>\n",
       "      <td>0</td>\n",
       "      <td>1</td>\n",
       "      <td>0</td>\n",
       "      <td>0</td>\n",
       "      <td>0</td>\n",
       "      <td>0</td>\n",
       "      <td>0</td>\n",
       "      <td>0</td>\n",
       "      <td>0</td>\n",
       "      <td>0</td>\n",
       "      <td>0</td>\n",
       "      <td>0</td>\n",
       "      <td>0</td>\n",
       "      <td>0</td>\n",
       "      <td>0</td>\n",
       "      <td>0</td>\n",
       "      <td>0</td>\n",
       "      <td>0</td>\n",
       "      <td>0</td>\n",
       "      <td>0</td>\n",
       "      <td>0</td>\n",
       "      <td>0</td>\n",
       "      <td>0</td>\n",
       "      <td>0</td>\n",
       "      <td>1</td>\n",
       "    </tr>\n",
       "    <tr>\n",
       "      <th>1942</th>\n",
       "      <td>1</td>\n",
       "      <td>0</td>\n",
       "      <td>1</td>\n",
       "      <td>-1.0</td>\n",
       "      <td>37.0</td>\n",
       "      <td>0</td>\n",
       "      <td>0</td>\n",
       "      <td>0</td>\n",
       "      <td>0.096990</td>\n",
       "      <td>0</td>\n",
       "      <td>0</td>\n",
       "      <td>0</td>\n",
       "      <td>0</td>\n",
       "      <td>0</td>\n",
       "      <td>0</td>\n",
       "      <td>0</td>\n",
       "      <td>0</td>\n",
       "      <td>0</td>\n",
       "      <td>0</td>\n",
       "      <td>0</td>\n",
       "      <td>0</td>\n",
       "      <td>0</td>\n",
       "      <td>0</td>\n",
       "      <td>0</td>\n",
       "      <td>0</td>\n",
       "      <td>...</td>\n",
       "      <td>0</td>\n",
       "      <td>1</td>\n",
       "      <td>0</td>\n",
       "      <td>0</td>\n",
       "      <td>0</td>\n",
       "      <td>0</td>\n",
       "      <td>0</td>\n",
       "      <td>0</td>\n",
       "      <td>0</td>\n",
       "      <td>0</td>\n",
       "      <td>0</td>\n",
       "      <td>0</td>\n",
       "      <td>0</td>\n",
       "      <td>0</td>\n",
       "      <td>0</td>\n",
       "      <td>0</td>\n",
       "      <td>0</td>\n",
       "      <td>0</td>\n",
       "      <td>0</td>\n",
       "      <td>0</td>\n",
       "      <td>0</td>\n",
       "      <td>0</td>\n",
       "      <td>0</td>\n",
       "      <td>0</td>\n",
       "      <td>1</td>\n",
       "    </tr>\n",
       "    <tr>\n",
       "      <th>1943</th>\n",
       "      <td>1</td>\n",
       "      <td>1</td>\n",
       "      <td>1</td>\n",
       "      <td>-1.0</td>\n",
       "      <td>37.0</td>\n",
       "      <td>0</td>\n",
       "      <td>0</td>\n",
       "      <td>0</td>\n",
       "      <td>0.030100</td>\n",
       "      <td>1</td>\n",
       "      <td>0</td>\n",
       "      <td>0</td>\n",
       "      <td>0</td>\n",
       "      <td>0</td>\n",
       "      <td>0</td>\n",
       "      <td>0</td>\n",
       "      <td>0</td>\n",
       "      <td>0</td>\n",
       "      <td>0</td>\n",
       "      <td>0</td>\n",
       "      <td>0</td>\n",
       "      <td>0</td>\n",
       "      <td>0</td>\n",
       "      <td>0</td>\n",
       "      <td>0</td>\n",
       "      <td>...</td>\n",
       "      <td>0</td>\n",
       "      <td>1</td>\n",
       "      <td>0</td>\n",
       "      <td>0</td>\n",
       "      <td>0</td>\n",
       "      <td>0</td>\n",
       "      <td>0</td>\n",
       "      <td>0</td>\n",
       "      <td>0</td>\n",
       "      <td>0</td>\n",
       "      <td>0</td>\n",
       "      <td>0</td>\n",
       "      <td>0</td>\n",
       "      <td>0</td>\n",
       "      <td>0</td>\n",
       "      <td>0</td>\n",
       "      <td>0</td>\n",
       "      <td>0</td>\n",
       "      <td>0</td>\n",
       "      <td>0</td>\n",
       "      <td>0</td>\n",
       "      <td>0</td>\n",
       "      <td>0</td>\n",
       "      <td>0</td>\n",
       "      <td>1</td>\n",
       "    </tr>\n",
       "    <tr>\n",
       "      <th>1944</th>\n",
       "      <td>1</td>\n",
       "      <td>0</td>\n",
       "      <td>1</td>\n",
       "      <td>-1.0</td>\n",
       "      <td>37.0</td>\n",
       "      <td>0</td>\n",
       "      <td>0</td>\n",
       "      <td>0</td>\n",
       "      <td>0.130435</td>\n",
       "      <td>1</td>\n",
       "      <td>0</td>\n",
       "      <td>0</td>\n",
       "      <td>0</td>\n",
       "      <td>0</td>\n",
       "      <td>0</td>\n",
       "      <td>0</td>\n",
       "      <td>0</td>\n",
       "      <td>0</td>\n",
       "      <td>0</td>\n",
       "      <td>0</td>\n",
       "      <td>0</td>\n",
       "      <td>0</td>\n",
       "      <td>0</td>\n",
       "      <td>0</td>\n",
       "      <td>0</td>\n",
       "      <td>...</td>\n",
       "      <td>0</td>\n",
       "      <td>1</td>\n",
       "      <td>0</td>\n",
       "      <td>0</td>\n",
       "      <td>0</td>\n",
       "      <td>0</td>\n",
       "      <td>0</td>\n",
       "      <td>0</td>\n",
       "      <td>0</td>\n",
       "      <td>0</td>\n",
       "      <td>0</td>\n",
       "      <td>0</td>\n",
       "      <td>0</td>\n",
       "      <td>0</td>\n",
       "      <td>0</td>\n",
       "      <td>0</td>\n",
       "      <td>0</td>\n",
       "      <td>0</td>\n",
       "      <td>0</td>\n",
       "      <td>0</td>\n",
       "      <td>0</td>\n",
       "      <td>0</td>\n",
       "      <td>0</td>\n",
       "      <td>0</td>\n",
       "      <td>1</td>\n",
       "    </tr>\n",
       "    <tr>\n",
       "      <th>1945</th>\n",
       "      <td>1</td>\n",
       "      <td>0</td>\n",
       "      <td>1</td>\n",
       "      <td>-1.0</td>\n",
       "      <td>47.0</td>\n",
       "      <td>4</td>\n",
       "      <td>1</td>\n",
       "      <td>0</td>\n",
       "      <td>0.210702</td>\n",
       "      <td>0</td>\n",
       "      <td>1</td>\n",
       "      <td>0</td>\n",
       "      <td>0</td>\n",
       "      <td>0</td>\n",
       "      <td>0</td>\n",
       "      <td>0</td>\n",
       "      <td>0</td>\n",
       "      <td>0</td>\n",
       "      <td>0</td>\n",
       "      <td>0</td>\n",
       "      <td>0</td>\n",
       "      <td>0</td>\n",
       "      <td>0</td>\n",
       "      <td>0</td>\n",
       "      <td>0</td>\n",
       "      <td>...</td>\n",
       "      <td>0</td>\n",
       "      <td>1</td>\n",
       "      <td>0</td>\n",
       "      <td>0</td>\n",
       "      <td>0</td>\n",
       "      <td>0</td>\n",
       "      <td>0</td>\n",
       "      <td>0</td>\n",
       "      <td>0</td>\n",
       "      <td>0</td>\n",
       "      <td>0</td>\n",
       "      <td>0</td>\n",
       "      <td>0</td>\n",
       "      <td>0</td>\n",
       "      <td>0</td>\n",
       "      <td>0</td>\n",
       "      <td>0</td>\n",
       "      <td>0</td>\n",
       "      <td>0</td>\n",
       "      <td>0</td>\n",
       "      <td>0</td>\n",
       "      <td>0</td>\n",
       "      <td>0</td>\n",
       "      <td>0</td>\n",
       "      <td>1</td>\n",
       "    </tr>\n",
       "  </tbody>\n",
       "</table>\n",
       "<p>1946 rows × 73 columns</p>\n",
       "</div>"
      ],
      "text/plain": [
       "      male  book1  book4  isAliveHeir   age  numDeadRelations  \\\n",
       "0        1      0      0          0.0  37.0                11   \n",
       "1        1      1      1         -1.0  97.0                 1   \n",
       "2        1      0      1         -1.0  37.0                 0   \n",
       "3        0      0      0         -1.0  23.0                 0   \n",
       "4        0      0      1         -1.0  29.0                 0   \n",
       "...    ...    ...    ...          ...   ...               ...   \n",
       "1941     1      1      1         -1.0  37.0                 0   \n",
       "1942     1      0      1         -1.0  37.0                 0   \n",
       "1943     1      1      1         -1.0  37.0                 0   \n",
       "1944     1      0      1         -1.0  37.0                 0   \n",
       "1945     1      0      1         -1.0  47.0                 4   \n",
       "\n",
       "      boolDeadRelations  isPopular  popularity  isAlive  inHouseOfAllegnc  \\\n",
       "0                     1          1    0.605351        0                 0   \n",
       "1                     1          1    0.896321        1                 0   \n",
       "2                     0          0    0.267559        1                 0   \n",
       "3                     0          0    0.183946        0                 1   \n",
       "4                     0          0    0.043478        1                 0   \n",
       "...                 ...        ...         ...      ...               ...   \n",
       "1941                  0          1    0.351171        0                 1   \n",
       "1942                  0          0    0.096990        0                 0   \n",
       "1943                  0          0    0.030100        1                 0   \n",
       "1944                  0          0    0.130435        1                 0   \n",
       "1945                  1          0    0.210702        0                 1   \n",
       "\n",
       "      mother_Alicent Hightower  mother_Alyssa Targaryen  \\\n",
       "0                            0                        0   \n",
       "1                            0                        0   \n",
       "2                            0                        0   \n",
       "3                            0                        0   \n",
       "4                            0                        0   \n",
       "...                        ...                      ...   \n",
       "1941                         0                        0   \n",
       "1942                         0                        0   \n",
       "1943                         0                        0   \n",
       "1944                         0                        0   \n",
       "1945                         0                        0   \n",
       "\n",
       "      mother_Alyssa Velaryon  mother_Betha Blackwood  \\\n",
       "0                          0                       0   \n",
       "1                          0                       0   \n",
       "2                          0                       0   \n",
       "3                          0                       0   \n",
       "4                          0                       0   \n",
       "...                      ...                     ...   \n",
       "1941                       0                       0   \n",
       "1942                       0                       0   \n",
       "1943                       0                       0   \n",
       "1944                       0                       0   \n",
       "1945                       0                       0   \n",
       "\n",
       "      mother_Cassana Estermont  mother_Catelyn Stark  mother_Cersei Lannister  \\\n",
       "0                            0                     0                        0   \n",
       "1                            0                     0                        0   \n",
       "2                            0                     0                        0   \n",
       "3                            0                     0                        0   \n",
       "4                            0                     0                        0   \n",
       "...                        ...                   ...                      ...   \n",
       "1941                         0                     0                        0   \n",
       "1942                         0                     0                        0   \n",
       "1943                         0                     0                        0   \n",
       "1944                         0                     0                        0   \n",
       "1945                         0                     0                        0   \n",
       "\n",
       "      mother_Daenaera Velaryon  mother_Dyanna Dayne  \\\n",
       "0                            0                    0   \n",
       "1                            0                    0   \n",
       "2                            0                    0   \n",
       "3                            0                    0   \n",
       "4                            0                    0   \n",
       "...                        ...                  ...   \n",
       "1941                         0                    0   \n",
       "1942                         0                    0   \n",
       "1943                         0                    0   \n",
       "1944                         0                    0   \n",
       "1945                         0                    0   \n",
       "\n",
       "      mother_Lady of House Sunderly  mother_Mariah Martell  \\\n",
       "0                                 0                      0   \n",
       "1                                 0                      0   \n",
       "2                                 0                      0   \n",
       "3                                 0                      0   \n",
       "4                                 0                      0   \n",
       "...                             ...                    ...   \n",
       "1941                              0                      0   \n",
       "1942                              0                      0   \n",
       "1943                              0                      0   \n",
       "1944                              0                      0   \n",
       "1945                              0                      0   \n",
       "\n",
       "      mother_Naerys Targaryen  mother_Rhaenyra Targaryen  \\\n",
       "0                           0                          1   \n",
       "1                           0                          0   \n",
       "2                           0                          0   \n",
       "3                           0                          0   \n",
       "4                           0                          0   \n",
       "...                       ...                        ...   \n",
       "1941                        0                          0   \n",
       "1942                        0                          0   \n",
       "1943                        0                          0   \n",
       "1944                        0                          0   \n",
       "1945                        0                          0   \n",
       "\n",
       "      mother_Rhaenys Targaryen  ...  father_Viserys I Targaryen  \\\n",
       "0                            0  ...                           0   \n",
       "1                            0  ...                           0   \n",
       "2                            0  ...                           0   \n",
       "3                            0  ...                           0   \n",
       "4                            0  ...                           0   \n",
       "...                        ...  ...                         ...   \n",
       "1941                         0  ...                           0   \n",
       "1942                         0  ...                           0   \n",
       "1943                         0  ...                           0   \n",
       "1944                         0  ...                           0   \n",
       "1945                         0  ...                           0   \n",
       "\n",
       "      father_unknown  heir_Aegon IV Targaryen  heir_Aegon Targaryen  \\\n",
       "0                  0                        1                     0   \n",
       "1                  1                        0                     0   \n",
       "2                  1                        0                     0   \n",
       "3                  1                        0                     0   \n",
       "4                  1                        0                     0   \n",
       "...              ...                      ...                   ...   \n",
       "1941               1                        0                     0   \n",
       "1942               1                        0                     0   \n",
       "1943               1                        0                     0   \n",
       "1944               1                        0                     0   \n",
       "1945               1                        0                     0   \n",
       "\n",
       "      heir_Aemon Targaryen  heir_Aenys Targaryen  heir_Aerys II Targaryen  \\\n",
       "0                        0                     0                        0   \n",
       "1                        0                     0                        0   \n",
       "2                        0                     0                        0   \n",
       "3                        0                     0                        0   \n",
       "4                        0                     0                        0   \n",
       "...                    ...                   ...                      ...   \n",
       "1941                     0                     0                        0   \n",
       "1942                     0                     0                        0   \n",
       "1943                     0                     0                        0   \n",
       "1944                     0                     0                        0   \n",
       "1945                     0                     0                        0   \n",
       "\n",
       "      heir_Arlan V Durrandon  heir_Baelor 'Breakspear' Targaryen  \\\n",
       "0                          0                                   0   \n",
       "1                          0                                   0   \n",
       "2                          0                                   0   \n",
       "3                          0                                   0   \n",
       "4                          0                                   0   \n",
       "...                      ...                                 ...   \n",
       "1941                       0                                   0   \n",
       "1942                       0                                   0   \n",
       "1943                       0                                   0   \n",
       "1944                       0                                   0   \n",
       "1945                       0                                   0   \n",
       "\n",
       "      heir_Baelor I Targaryen  heir_Bran Stark  heir_Daeron I Targaryen  \\\n",
       "0                           0                0                        0   \n",
       "1                           0                0                        0   \n",
       "2                           0                0                        0   \n",
       "3                           0                0                        0   \n",
       "4                           0                0                        0   \n",
       "...                       ...              ...                      ...   \n",
       "1941                        0                0                        0   \n",
       "1942                        0                0                        0   \n",
       "1943                        0                0                        0   \n",
       "1944                        0                0                        0   \n",
       "1945                        0                0                        0   \n",
       "\n",
       "      heir_Daeron II Targaryen  heir_Duncan Targaryen  heir_Durran the Devout  \\\n",
       "0                            0                      0                       0   \n",
       "1                            0                      0                       0   \n",
       "2                            0                      0                       0   \n",
       "3                            0                      0                       0   \n",
       "4                            0                      0                       0   \n",
       "...                        ...                    ...                     ...   \n",
       "1941                         0                      0                       0   \n",
       "1942                         0                      0                       0   \n",
       "1943                         0                      0                       0   \n",
       "1944                         0                      0                       0   \n",
       "1945                         0                      0                       0   \n",
       "\n",
       "      heir_Halleck Hoare  heir_Jaehaerys Targaryen  heir_Myrcella Baratheon  \\\n",
       "0                      0                         0                        0   \n",
       "1                      0                         0                        0   \n",
       "2                      0                         0                        0   \n",
       "3                      0                         0                        0   \n",
       "4                      0                         0                        0   \n",
       "...                  ...                       ...                      ...   \n",
       "1941                   0                         0                        0   \n",
       "1942                   0                         0                        0   \n",
       "1943                   0                         0                        0   \n",
       "1944                   0                         0                        0   \n",
       "1945                   0                         0                        0   \n",
       "\n",
       "      heir_Rhaegar Targaryen  heir_Rhaegel Targaryen  heir_Rhaenyra Targaryen  \\\n",
       "0                          0                       0                        0   \n",
       "1                          0                       0                        0   \n",
       "2                          0                       0                        0   \n",
       "3                          0                       0                        0   \n",
       "4                          0                       0                        0   \n",
       "...                      ...                     ...                      ...   \n",
       "1941                       0                       0                        0   \n",
       "1942                       0                       0                        0   \n",
       "1943                       0                       0                        0   \n",
       "1944                       0                       0                        0   \n",
       "1945                       0                       0                        0   \n",
       "\n",
       "      heir_Shireen Baratheon  heir_Theon Greyjoy  heir_Tommen Baratheon  \\\n",
       "0                          0                   0                      0   \n",
       "1                          0                   0                      0   \n",
       "2                          0                   0                      0   \n",
       "3                          0                   0                      0   \n",
       "4                          0                   0                      0   \n",
       "...                      ...                 ...                    ...   \n",
       "1941                       0                   0                      0   \n",
       "1942                       0                   0                      0   \n",
       "1943                       0                   0                      0   \n",
       "1944                       0                   0                      0   \n",
       "1945                       0                   0                      0   \n",
       "\n",
       "      heir_unknown  \n",
       "0                0  \n",
       "1                1  \n",
       "2                1  \n",
       "3                1  \n",
       "4                1  \n",
       "...            ...  \n",
       "1941             1  \n",
       "1942             1  \n",
       "1943             1  \n",
       "1944             1  \n",
       "1945             1  \n",
       "\n",
       "[1946 rows x 73 columns]"
      ]
     },
     "execution_count": 26,
     "metadata": {},
     "output_type": "execute_result"
    }
   ],
   "source": [
    "\n",
    "character = char_pred.copy()\n",
    "def transform_data(data):\n",
    "    # Replacing the age\n",
    "    data.loc[1684, 'age'] = 25.0\n",
    "    data.loc[1868, 'age'] = 0.0\n",
    "    \n",
    "    # Replacing missing values\n",
    "    data[\"age\"].fillna(round(data[\"age\"].mean()), inplace=True)\n",
    "    data['dateOfBirth'].fillna(data['dateOfBirth'].median(), inplace=True)\n",
    "    data['DateoFdeath'].fillna(data['DateoFdeath'].median(), inplace=True)\n",
    "    \n",
    "    data.loc[:, \"culture\"] = [get_cult(x) for x in data.culture.fillna(\"\")]\n",
    "    cat = ['title', 'mother', 'father', 'heir', 'house', 'spouse']\n",
    "    for col in cat:\n",
    "        data[col].fillna('unknown', inplace=True)\n",
    "    data.fillna(-1, inplace=True)\n",
    "    \n",
    "    data['isACommander'] = np.where(data['name'].isin(all_commanders), 1, 0)\n",
    "    data['inHouseOfWarLead'] = np.where(data['house'].isin(renam_warlead), 1, 0)\n",
    "    data['houseSworeAllegiance'] = np.where(data['house'].isin(hus_char_with_allegnc), 1, 0)\n",
    "    data['inHouseOfAllegnc'] = np.where(data['house'].isin(renam_husOfAllgnc), 1, 0)\n",
    "    \n",
    "    data = data.drop(['S.No', 'actual', 'pred', 'alive', 'plod', 'name', 'title',\n",
    "                      'dateOfBirth', 'DateoFdeath', 'house'], axis=1)\n",
    "    \n",
    "    return data\n",
    "\n",
    "def select_features(data):\n",
    "    # Heatmap of numerical feature in the training dataset\n",
    "    num_features = data.select_dtypes(['int', 'float'])\n",
    "    corr_mat = num_features.corr()['isAlive'].abs().sort_values()\n",
    "    corr_less = corr_mat[corr_mat < 0.1]\n",
    "    data = data.drop(corr_less.index, axis=1)\n",
    "    \n",
    "    # Dropping columns with colinearity\n",
    "    data = data.drop(['isAliveFather', 'isAliveMother'], axis=1)\n",
    "    \n",
    "    # List of categorical variable\n",
    "    nominal_features = ['culture', 'mother', 'father', 'heir', 'spouse']\n",
    "    # Counting unique values in each column\n",
    "    unique_count = data[nominal_features].apply(lambda x: len(x.value_counts())).sort_values()\n",
    "    unique_count = unique_count[unique_count > 25].index\n",
    "    # Dropping \n",
    "    data = data.drop(unique_count, axis=1)\n",
    "    # Converting the remaining text column to categorical type\n",
    "    txt_col = data.select_dtypes(include=['object'])\n",
    "    for col in txt_col:\n",
    "        data[col] = data[col].astype('category')\n",
    "        \n",
    "    # Creating dummy columns from txt columns and add back to dataframe\n",
    "    data = pd.concat([\n",
    "        data, pd.get_dummies(data.select_dtypes(include=['category']))\n",
    "    ], axis=1).drop(txt_col, axis=1)\n",
    "    \n",
    "    return data\n",
    "    \n",
    "transform_data = transform_data(character)\n",
    "select_features = select_features(transform_data)\n",
    "\n",
    "select_features"
   ]
  },
  {
   "cell_type": "code",
   "execution_count": 27,
   "metadata": {},
   "outputs": [],
   "source": [
    "# select_features.to_csv('cleaned_got_for_ml.csv')"
   ]
  },
  {
   "cell_type": "code",
   "execution_count": 28,
   "metadata": {},
   "outputs": [
    {
     "data": {
      "text/plain": [
       "1    1451\n",
       "0     495\n",
       "Name: isAlive, dtype: int64"
      ]
     },
     "execution_count": 28,
     "metadata": {},
     "output_type": "execute_result"
    }
   ],
   "source": [
    "select_features.isAlive.value_counts()"
   ]
  },
  {
   "attachments": {},
   "cell_type": "markdown",
   "metadata": {},
   "source": [
    "The target variable is imbalance, there are more people alive than dead. To handle this, we will undersample the majority class"
   ]
  },
  {
   "cell_type": "code",
   "execution_count": 29,
   "metadata": {},
   "outputs": [
    {
     "data": {
      "text/plain": [
       "(995, 73)"
      ]
     },
     "execution_count": 29,
     "metadata": {},
     "output_type": "execute_result"
    }
   ],
   "source": [
    "dead = select_features[select_features['isAlive'] == 0]\n",
    "alive = select_features[select_features['isAlive'] == 1].sample(500, random_state=5)\n",
    "und_samp_df = pd.concat([dead, alive])\n",
    "\n",
    "und_samp_df = sklearn.utils.shuffle(und_samp_df, random_state=5)\n",
    "und_samp_df = und_samp_df.reset_index(drop=True)\n",
    "und_samp_df.shape"
   ]
  },
  {
   "cell_type": "code",
   "execution_count": 30,
   "metadata": {},
   "outputs": [
    {
     "data": {
      "text/plain": [
       "1    500\n",
       "0    495\n",
       "Name: isAlive, dtype: int64"
      ]
     },
     "execution_count": 30,
     "metadata": {},
     "output_type": "execute_result"
    }
   ],
   "source": [
    "und_samp_df.isAlive.value_counts()"
   ]
  },
  {
   "cell_type": "code",
   "execution_count": 31,
   "metadata": {},
   "outputs": [],
   "source": [
    "scaler = StandardScaler()\n",
    "norm_df = scaler.fit_transform(und_samp_df)\n",
    "norm_df = pd.DataFrame(norm_df, columns=und_samp_df.columns)\n",
    "norm_df['isAlive'] = und_samp_df['isAlive']"
   ]
  },
  {
   "cell_type": "code",
   "execution_count": 32,
   "metadata": {},
   "outputs": [],
   "source": [
    "x = norm_df.drop(columns='isAlive')\n",
    "y = norm_df['isAlive']\n"
   ]
  },
  {
   "cell_type": "code",
   "execution_count": 33,
   "metadata": {},
   "outputs": [],
   "source": [
    "x_train, x_test, y_train, y_test = train_test_split(x,y, test_size=.2, shuffle=True, random_state=5, stratify=y)"
   ]
  },
  {
   "cell_type": "code",
   "execution_count": 34,
   "metadata": {},
   "outputs": [
    {
     "data": {
      "text/plain": [
       "1    400\n",
       "0    396\n",
       "Name: isAlive, dtype: int64"
      ]
     },
     "execution_count": 34,
     "metadata": {},
     "output_type": "execute_result"
    }
   ],
   "source": [
    "y_train.value_counts()"
   ]
  },
  {
   "cell_type": "code",
   "execution_count": 35,
   "metadata": {},
   "outputs": [],
   "source": [
    "fixed_seed = 5\n",
    "\n",
    "models = [LogisticRegression(random_state=fixed_seed), KNeighborsClassifier(), RandomForestClassifier(random_state=fixed_seed),\n",
    "          DecisionTreeClassifier(random_state=fixed_seed),  XGBC(seed=fixed_seed)]\n",
    "\n",
    "test_score = []\n",
    "train_score = []\n",
    "roc_auc_lst = []\n",
    "\n",
    "for model in models:\n",
    "    model.fit(x_train, y_train)\n",
    "    proba = model.predict_proba(x_test)[:, 1]\n",
    "    test = model.score(x_test, y_test)\n",
    "    train = model.score(x_train, y_train)\n",
    "    roc_auc = roc_auc_score(y_test, proba)\n",
    "    test_score.append(test)\n",
    "    train_score.append(train)\n",
    "    roc_auc_lst.append(roc_auc)"
   ]
  },
  {
   "cell_type": "code",
   "execution_count": 36,
   "metadata": {},
   "outputs": [
    {
     "data": {
      "text/html": [
       "<div>\n",
       "<style scoped>\n",
       "    .dataframe tbody tr th:only-of-type {\n",
       "        vertical-align: middle;\n",
       "    }\n",
       "\n",
       "    .dataframe tbody tr th {\n",
       "        vertical-align: top;\n",
       "    }\n",
       "\n",
       "    .dataframe thead th {\n",
       "        text-align: right;\n",
       "    }\n",
       "</style>\n",
       "<table border=\"1\" class=\"dataframe\">\n",
       "  <thead>\n",
       "    <tr style=\"text-align: right;\">\n",
       "      <th></th>\n",
       "      <th>Train Score</th>\n",
       "      <th>Test_Score</th>\n",
       "      <th>ROC_AUC Score</th>\n",
       "    </tr>\n",
       "  </thead>\n",
       "  <tbody>\n",
       "    <tr>\n",
       "      <th>LogisticRegression</th>\n",
       "      <td>0.673367</td>\n",
       "      <td>0.678392</td>\n",
       "      <td>0.764293</td>\n",
       "    </tr>\n",
       "    <tr>\n",
       "      <th>KNeighborsClassifier</th>\n",
       "      <td>0.773869</td>\n",
       "      <td>0.698492</td>\n",
       "      <td>0.746515</td>\n",
       "    </tr>\n",
       "    <tr>\n",
       "      <th>RandomForestClassifier</th>\n",
       "      <td>0.894472</td>\n",
       "      <td>0.703518</td>\n",
       "      <td>0.757525</td>\n",
       "    </tr>\n",
       "    <tr>\n",
       "      <th>DecisionTreeClassifier</th>\n",
       "      <td>0.894472</td>\n",
       "      <td>0.678392</td>\n",
       "      <td>0.680606</td>\n",
       "    </tr>\n",
       "    <tr>\n",
       "      <th>XGBC</th>\n",
       "      <td>0.858040</td>\n",
       "      <td>0.698492</td>\n",
       "      <td>0.762172</td>\n",
       "    </tr>\n",
       "  </tbody>\n",
       "</table>\n",
       "</div>"
      ],
      "text/plain": [
       "                        Train Score  Test_Score  ROC_AUC Score\n",
       "LogisticRegression         0.673367    0.678392       0.764293\n",
       "KNeighborsClassifier       0.773869    0.698492       0.746515\n",
       "RandomForestClassifier     0.894472    0.703518       0.757525\n",
       "DecisionTreeClassifier     0.894472    0.678392       0.680606\n",
       "XGBC                       0.858040    0.698492       0.762172"
      ]
     },
     "execution_count": 36,
     "metadata": {},
     "output_type": "execute_result"
    }
   ],
   "source": [
    "models_score = {\n",
    "    'Train Score': train_score,\n",
    "    'Test_Score': test_score,\n",
    "    \"ROC_AUC Score\": roc_auc_lst\n",
    "}\n",
    "pd.DataFrame(models_score, index=['LogisticRegression','KNeighborsClassifier', 'RandomForestClassifier', \n",
    "                              'DecisionTreeClassifier', 'XGBC'])"
   ]
  },
  {
   "cell_type": "code",
   "execution_count": 37,
   "metadata": {},
   "outputs": [
    {
     "data": {
      "image/png": "[encoded data removed]",
      "text/plain": [
       "<Figure size 720x720 with 1 Axes>"
      ]
     },
     "metadata": {},
     "output_type": "display_data"
    }
   ],
   "source": [
    "skf = StratifiedKFold(n_splits= 5 , shuffle= True , random_state= fixed_seed ) \n",
    "mean=[]\n",
    "for model in models:\n",
    "    result = cross_val_score(model, x, y, cv=skf, scoring=\"recall\", n_jobs=-1)\n",
    "    mean.append(result)\n",
    "classifiers=['Logistic Regression', 'KNeighborsClassifier', 'RandomForest', 'DescisionTree', 'XGB']\n",
    "\n",
    "plt.figure(figsize=(10, 10))\n",
    "for x in range(len(mean)):\n",
    "    sb.kdeplot(mean[x], shade=True)\n",
    "    \n",
    "plt.title(\"Distribution of each classifier's Recall\", fontsize=15)\n",
    "plt.legend(classifiers)\n",
    "plt.xlabel(\"Recall\", labelpad=20)\n",
    "plt.yticks([])\n",
    "\n",
    "plt.show()"
   ]
  },
  {
   "cell_type": "code",
   "execution_count": 38,
   "metadata": {},
   "outputs": [],
   "source": [
    "\n",
    "sub_models = [LogisticRegression(random_state=fixed_seed), KNeighborsClassifier(), RandomForestClassifier(random_state=fixed_seed), XGBC(seed=fixed_seed)]"
   ]
  },
  {
   "cell_type": "code",
   "execution_count": 39,
   "metadata": {},
   "outputs": [],
   "source": [
    "cm = []\n",
    "for model in sub_models:\n",
    "    model.fit(x_train, y_train)\n",
    "    pred = model.predict(x_test)\n",
    "    model_cm = confusion_matrix(y_test, pred)\n",
    "    cm.append(model_cm)"
   ]
  },
  {
   "cell_type": "code",
   "execution_count": 40,
   "metadata": {},
   "outputs": [],
   "source": [
    "def cm_heatmap(cm, ax, r, c, model):\n",
    "    title = str(sub_models[model]).split('(')[0]\n",
    "    ax[r,c].set_title(f\"{title} Confusion Matrix\", fontsize=15.)\n",
    "    fig = sb.heatmap(cm, square = True, xticklabels = [\"Deceased\", \"Alive\"], annot = True, ax=ax[r,c],\n",
    "                    annot_kws = {\"fontsize\": 13}, yticklabels = [\"Deceased\", \"Alive\"],\n",
    "                    cbar = True, cbar_kws = {\"orientation\": \"vertical\"}, cmap = \"BrBG\").set(\n",
    "        xlabel = \"Predicted Class\", ylabel = \"Actual Class\",)\n",
    "    return fig"
   ]
  },
  {
   "cell_type": "code",
   "execution_count": 41,
   "metadata": {},
   "outputs": [
    {
     "data": {
      "image/png": "[encoded data removed]",
      "text/plain": [
       "<Figure size 1080x1080 with 8 Axes>"
      ]
     },
     "metadata": {},
     "output_type": "display_data"
    }
   ],
   "source": [
    "f, ax = plt.subplots(2, 2, figsize=(15, 15))\n",
    "cm_heatmap(cm[0], ax, 0, 0, 0)\n",
    "cm_heatmap(cm[1], ax, 0, 1, 1)\n",
    "cm_heatmap(cm[2], ax, 1, 0, 2)\n",
    "cm_heatmap(cm[3], ax, 1, 1, 3)\n",
    "plt.show()"
   ]
  },
  {
   "cell_type": "code",
   "execution_count": 42,
   "metadata": {},
   "outputs": [],
   "source": [
    "best_model = [RandomForestClassifier(random_state=fixed_seed), XGBC(seed=fixed_seed)]"
   ]
  },
  {
   "cell_type": "code",
   "execution_count": 43,
   "metadata": {},
   "outputs": [],
   "source": [
    "roc = []\n",
    "for model in best_model:\n",
    "    model.fit(x_train, y_train)\n",
    "    proba = model.predict_proba(x_test)[:, 1]\n",
    "    roc_cur = roc_curve(y_test, proba)\n",
    "    roc.append(roc_cur)"
   ]
  },
  {
   "cell_type": "code",
   "execution_count": 44,
   "metadata": {},
   "outputs": [
    {
     "data": {
      "image/png": "[encoded data removed]",
      "text/plain": [
       "<Figure size 576x576 with 1 Axes>"
      ]
     },
     "metadata": {},
     "output_type": "display_data"
    }
   ],
   "source": [
    "fig = plt.figure(figsize=(8, 8))\n",
    "fpr1, tpr1, thresholds1 = roc[0]\n",
    "fpr2, tpr2, thresholds2 = roc[1]\n",
    "\n",
    "plt.plot([0, 1], [0, 1], 'k--')\n",
    "\n",
    "# Plot tpr against fpr\n",
    "plt.plot(fpr1, tpr1, color='r')\n",
    "plt.plot(fpr2, tpr2, color='g')\n",
    "plt.legend(['RandomForestClassifier', 'XGBC'], loc=\"lower right\")\n",
    "plt.xlabel('False Positive Rate')\n",
    "plt.ylabel('True Positive Rate')\n",
    "plt.title('ROC Curve for Character Death Prediction')\n",
    "plt.show()"
   ]
  },
  {
   "cell_type": "code",
   "execution_count": 45,
   "metadata": {},
   "outputs": [
    {
     "name": "stdout",
     "output_type": "stream",
     "text": [
      "RandomForestClassifier\n",
      "              precision    recall  f1-score   support\n",
      "\n",
      "        Dead       0.71      0.69      0.70        99\n",
      "       Alive       0.70      0.72      0.71       100\n",
      "\n",
      "    accuracy                           0.70       199\n",
      "   macro avg       0.70      0.70      0.70       199\n",
      "weighted avg       0.70      0.70      0.70       199\n",
      "\n",
      "====================\n",
      "XGBClassifier\n",
      "              precision    recall  f1-score   support\n",
      "\n",
      "        Dead       0.69      0.72      0.70        99\n",
      "       Alive       0.71      0.68      0.69       100\n",
      "\n",
      "    accuracy                           0.70       199\n",
      "   macro avg       0.70      0.70      0.70       199\n",
      "weighted avg       0.70      0.70      0.70       199\n",
      "\n",
      "====================\n"
     ]
    }
   ],
   "source": [
    "for model in best_model:\n",
    "    model.fit(x_train, y_train)\n",
    "    pred = model.predict(x_test)\n",
    "    print(str(model).split('(')[0])\n",
    "    cls_rep = classification_report(y_test, pred, target_names=['Dead', 'Alive'])\n",
    "    print(cls_rep)\n",
    "    print('='*40)"
   ]
  },
  {
   "cell_type": "code",
   "execution_count": 46,
   "metadata": {},
   "outputs": [],
   "source": [
    "random_grid = {'bootstrap': [True, False],\n",
    "                'max_depth': [20, 40, 60, 80, 100, None],\n",
    "                'max_features': ['auto', 'sqrt'],\n",
    "                'min_samples_leaf': [1, 2, 4],\n",
    "                'min_samples_split': [2, 5, 10],\n",
    "                'n_estimators': [200, 400, 600, 800, 1000, 1200]}"
   ]
  },
  {
   "cell_type": "code",
   "execution_count": 47,
   "metadata": {},
   "outputs": [
    {
     "name": "stdout",
     "output_type": "stream",
     "text": [
      "Fitting 3 folds for each of 100 candidates, totalling 300 fits\n"
     ]
    },
    {
     "data": {
      "text/plain": [
       "RandomizedSearchCV(cv=3, estimator=RandomForestClassifier(), n_iter=100,\n",
       "                   n_jobs=-1,\n",
       "                   param_distributions={'bootstrap': [True, False],\n",
       "                                        'max_depth': [20, 40, 60, 80, 100,\n",
       "                                                      None],\n",
       "                                        'max_features': ['auto', 'sqrt'],\n",
       "                                        'min_samples_leaf': [1, 2, 4],\n",
       "                                        'min_samples_split': [2, 5, 10],\n",
       "                                        'n_estimators': [200, 400, 600, 800,\n",
       "                                                         1000, 1200]},\n",
       "                   random_state=5, verbose=2)"
      ]
     },
     "execution_count": 47,
     "metadata": {},
     "output_type": "execute_result"
    }
   ],
   "source": [
    "# Use the random grid to search for best hyperparameters\n",
    "# First create the base model to tune\n",
    "rfc = RandomForestClassifier()\n",
    "# Random search of parameters, using 3 fold cross validation, \n",
    "# search across 100 different combinations, and use all available cores\n",
    "rfc_random = RandomizedSearchCV(estimator = rfc, param_distributions = random_grid, n_iter = 100, cv = 3, verbose=2, random_state=fixed_seed, n_jobs = -1)\n",
    "# Fit the random search model\n",
    "rfc_random.fit(x_train, y_train)"
   ]
  },
  {
   "cell_type": "code",
   "execution_count": 48,
   "metadata": {},
   "outputs": [
    {
     "data": {
      "text/plain": [
       "{'n_estimators': 600,\n",
       " 'min_samples_split': 5,\n",
       " 'min_samples_leaf': 4,\n",
       " 'max_features': 'auto',\n",
       " 'max_depth': 80,\n",
       " 'bootstrap': False}"
      ]
     },
     "execution_count": 48,
     "metadata": {},
     "output_type": "execute_result"
    }
   ],
   "source": [
    "rfc_random.best_params_"
   ]
  },
  {
   "cell_type": "code",
   "execution_count": 66,
   "metadata": {},
   "outputs": [],
   "source": [
    "def evaluate(model, test_features, test_labels):\n",
    "    predictions = model.predict(test_features)\n",
    "    errors = abs(predictions - test_labels)\n",
    "    print('Model Performance')\n",
    "    avg_error = 'Average Error: {:0.4f} degrees.'.format(np.mean(errors))\n",
    "    print(avg_error)\n",
    "    \n",
    "    return np.mean(errors)\n"
   ]
  },
  {
   "cell_type": "code",
   "execution_count": 67,
   "metadata": {},
   "outputs": [
    {
     "name": "stdout",
     "output_type": "stream",
     "text": [
      "Model Performance\n",
      "Average Error: 0.2764 degrees.\n"
     ]
    }
   ],
   "source": [
    "base_model = RandomForestClassifier(n_estimators = 10, random_state = fixed_seed)\n",
    "base_model.fit(x_train, y_train)\n",
    "base_accuracy = evaluate(base_model, x_test, y_test)"
   ]
  },
  {
   "cell_type": "code",
   "execution_count": 68,
   "metadata": {},
   "outputs": [
    {
     "name": "stdout",
     "output_type": "stream",
     "text": [
      "Model Performance\n",
      "Average Error: 0.2965 degrees.\n",
      "Improvement of 7.27%.\n"
     ]
    }
   ],
   "source": [
    "best_random = rfc_random.best_estimator_\n",
    "random_accuracy = evaluate(best_random, x_test, y_test)\n",
    "\n",
    "print('Improvement of {:0.2f}%.'.format( 100 * (random_accuracy - base_accuracy) / base_accuracy))"
   ]
  },
  {
   "cell_type": "code",
   "execution_count": 71,
   "metadata": {},
   "outputs": [
    {
     "name": "stdout",
     "output_type": "stream",
     "text": [
      "Fitting 3 folds for each of 288 candidates, totalling 864 fits\n"
     ]
    },
    {
     "data": {
      "text/plain": [
       "GridSearchCV(cv=3, estimator=RandomForestClassifier(), n_jobs=-1,\n",
       "             param_grid={'bootstrap': [False], 'max_depth': [80, 90, 100, 110],\n",
       "                         'max_features': [2, 3], 'min_samples_leaf': [3, 4, 5],\n",
       "                         'min_samples_split': [3, 4, 5],\n",
       "                         'n_estimators': [200, 400, 600, 1000]},\n",
       "             verbose=2)"
      ]
     },
     "execution_count": 71,
     "metadata": {},
     "output_type": "execute_result"
    }
   ],
   "source": [
    "# Create the parameter grid based on the results of random search \n",
    "param_grid = {\n",
    "    'bootstrap': [False],\n",
    "    'max_depth': [80, 90, 100],\n",
    "    'max_features': [2, 3],\n",
    "    'min_samples_leaf': [3, 4, 5],\n",
    "    'min_samples_split': [3, 4, 5],\n",
    "    'n_estimators': [200, 400, 600]\n",
    "}\n",
    "# Create a based model\n",
    "rfc = RandomForestClassifier()\n",
    "# Instantiate the grid search model\n",
    "grid_search = GridSearchCV(estimator = rfc, param_grid = param_grid, \n",
    "                          cv = 3, n_jobs = -1, verbose = 2)\n",
    "grid_search.fit(x_train, y_train)"
   ]
  },
  {
   "cell_type": "code",
   "execution_count": 72,
   "metadata": {},
   "outputs": [
    {
     "data": {
      "text/plain": [
       "{'bootstrap': False,\n",
       " 'max_depth': 110,\n",
       " 'max_features': 3,\n",
       " 'min_samples_leaf': 5,\n",
       " 'min_samples_split': 4,\n",
       " 'n_estimators': 200}"
      ]
     },
     "execution_count": 72,
     "metadata": {},
     "output_type": "execute_result"
    }
   ],
   "source": [
    "grid_search.best_params_"
   ]
  },
  {
   "cell_type": "code",
   "execution_count": null,
   "metadata": {},
   "outputs": [],
   "source": []
  },
  {
   "cell_type": "code",
   "execution_count": null,
   "metadata": {},
   "outputs": [],
   "source": [
    "# Fit the grid search to the data\n",
    "grid_search.fit(train_features, train_labels)\n",
    "grid_search.best_params_\n",
    "{'bootstrap': True,\n",
    " 'max_depth': 80,\n",
    " 'max_features': 3,\n",
    " 'min_samples_leaf': 5,\n",
    " 'min_samples_split': 12,\n",
    " 'n_estimators': 100}\n",
    "best_grid = grid_search.best_estimator_\n",
    "grid_accuracy = evaluate(best_grid, test_features, test_labels)\n",
    "Model Performance\n",
    "Average Error: 3.6561 degrees.\n",
    "Accuracy = 93.83%.\n",
    "print('Improvement of {:0.2f}%.'.format( 100 * (grid_accuracy - base_accuracy) / base_accuracy))\n",
    "Improvement of 0.50%."
   ]
  },
  {
   "cell_type": "code",
   "execution_count": null,
   "metadata": {},
   "outputs": [],
   "source": []
  },
  {
   "cell_type": "code",
   "execution_count": null,
   "metadata": {},
   "outputs": [],
   "source": []
  },
  {
   "cell_type": "code",
   "execution_count": null,
   "metadata": {},
   "outputs": [
    {
     "name": "stdout",
     "output_type": "stream",
     "text": [
      "0.6871859296482412\n",
      "0.6482412060301508\n",
      "[0.74901961 0.72938848 0.64128241 0.65386899 0.60377358]\n",
      "[[58 41]\n",
      " [29 71]]\n",
      "              precision    recall  f1-score   support\n",
      "\n",
      "           0       0.67      0.59      0.62        99\n",
      "           1       0.63      0.71      0.67       100\n",
      "\n",
      "    accuracy                           0.65       199\n",
      "   macro avg       0.65      0.65      0.65       199\n",
      "weighted avg       0.65      0.65      0.65       199\n",
      "\n"
     ]
    }
   ],
   "source": [
    "lgreg = LogisticRegression(random_state=fixed_seed)\n",
    "lgreg.fit(x_train, y_train)\n",
    "lgreg_pred = lgreg.predict(x_test)\n",
    "\n",
    "print(lgreg.score(x_train, y_train))\n",
    "print(lgreg.score(x_test, y_test))\n",
    "\n",
    "scores = cross_val_score(lgreg, x_train, y_train, cv= 5 , scoring= 'f1_macro' ) \n",
    "print(scores) \n",
    "# Accuracy = accuracy_score(y_true=y_test, y_pred=lgreg_pred)\n",
    "# print(Accuracy) \n",
    "cnf_mat = confusion_matrix(y_true=y_test, y_pred=lgreg_pred) \n",
    "print(cnf_mat)\n",
    "print(classification_report(y_test, lgreg_pred))"
   ]
  },
  {
   "cell_type": "code",
   "execution_count": null,
   "metadata": {},
   "outputs": [
    {
     "name": "stdout",
     "output_type": "stream",
     "text": [
      "0.6633165829145728\n",
      "[[64 35]\n",
      " [32 68]]\n",
      "              precision    recall  f1-score   support\n",
      "\n",
      "           0       0.67      0.65      0.66        99\n",
      "           1       0.66      0.68      0.67       100\n",
      "\n",
      "    accuracy                           0.66       199\n",
      "   macro avg       0.66      0.66      0.66       199\n",
      "weighted avg       0.66      0.66      0.66       199\n",
      "\n",
      "0.7051515151515152\n"
     ]
    }
   ],
   "source": [
    "knn = KNeighborsClassifier()\n",
    "\n",
    "# Fit the classifier to the training data\n",
    "knn.fit(x_train, y_train)\n",
    "\n",
    "# Print the accuracy\n",
    "print(knn.score(x_test, y_test))\n",
    "\n",
    "knn_pred = knn.predict(x_test)\n",
    "\n",
    "# Generate the confusion matrix and classification report\n",
    "print(confusion_matrix(y_test, knn_pred))\n",
    "print(classification_report(y_test, knn_pred))\n",
    "\n",
    "knn_pred_probs = knn.predict_proba(x_test)[:, 1]\n",
    "\n",
    "print(roc_auc_score(y_test, knn_pred_probs))"
   ]
  },
  {
   "cell_type": "code",
   "execution_count": null,
   "metadata": {},
   "outputs": [
    {
     "data": {
      "image/png": "[encoded data removed]",
      "text/plain": [
       "<Figure size 432x288 with 1 Axes>"
      ]
     },
     "metadata": {},
     "output_type": "display_data"
    }
   ],
   "source": [
    "# Generate ROC curve values: fpr, tpr, thresholds\n",
    "fpr1, tpr1, thresholds1 = roc_curve(y_test, knn_pred_probs)\n",
    "\n",
    "plt.plot([0, 1], [0, 1], 'k--')\n",
    "\n",
    "# Plot tpr against fpr\n",
    "plt.plot(fpr1, tpr1)\n",
    "plt.xlabel('False Positive Rate')\n",
    "plt.ylabel('True Positive Rate')\n",
    "plt.title('ROC Curve for Character Death Prediction')\n",
    "plt.show()"
   ]
  },
  {
   "cell_type": "code",
   "execution_count": null,
   "metadata": {},
   "outputs": [],
   "source": [
    "# Create neighbors\n",
    "neighbors = np.arange(1, 13)\n",
    "train_accuracies = {}\n",
    "test_accuracies = {}\n",
    "\n",
    "for neighbor in neighbors:\n",
    "    \n",
    "    # Set up a KNN Classifier\n",
    "    knn = KNeighborsClassifier(n_neighbors=neighbor)\n",
    "    \n",
    "    # Fit the model\n",
    "    knn.fit(x_train, y_train)\n",
    "    \n",
    "    # Compute accuracy\n",
    "    train_accuracies[neighbor] = knn.score(x_train, y_train)\n",
    "    test_accuracies[neighbor] = knn.score(x_test, y_test)\n",
    "# print(neighbors, '\\n', train_accuracies, '\\n', test_accuracies)"
   ]
  },
  {
   "cell_type": "code",
   "execution_count": null,
   "metadata": {},
   "outputs": [
    {
     "data": {
      "image/png": "[encoded data removed]",
      "text/plain": [
       "<Figure size 432x288 with 1 Axes>"
      ]
     },
     "metadata": {},
     "output_type": "display_data"
    }
   ],
   "source": [
    "# Add a title\n",
    "plt.title(\"KNN: Varying Number of Neighbors\")\n",
    "\n",
    "# Plot training accuracies\n",
    "plt.plot(neighbors, train_accuracies.values(), label=\"Training Accuracy\")\n",
    "\n",
    "# Plot test accuracies\n",
    "plt.plot(neighbors, test_accuracies.values(), label=\"Testing Accuracy\")\n",
    "\n",
    "plt.legend()\n",
    "plt.xlabel(\"Number of Neighbors\")\n",
    "plt.ylabel(\"Accuracy\")\n",
    "\n",
    "# Display plot\n",
    "plt.show()"
   ]
  },
  {
   "attachments": {},
   "cell_type": "markdown",
   "metadata": {},
   "source": [
    "Predicting probability of character dying"
   ]
  },
  {
   "cell_type": "code",
   "execution_count": null,
   "metadata": {},
   "outputs": [
    {
     "name": "stdout",
     "output_type": "stream",
     "text": [
      "[0.73852967 0.73852967 0.56964008 0.39724901 0.39336005 0.84665876\n",
      " 0.56632353 0.73746379 0.83767797 0.26611935]\n"
     ]
    }
   ],
   "source": [
    "logreg = LogisticRegression(random_state=fixed_seed)\n",
    "\n",
    "# Fit the model\n",
    "logreg.fit(x_train, y_train)\n",
    "\n",
    "# Prediction\n",
    "logreg_pred = logreg.predict(x_test)\n",
    "\n",
    "# Predict probabilities\n",
    "log_pred_probs = logreg.predict_proba(x_test)[:, 1]\n",
    "\n",
    "print(log_pred_probs[:10])"
   ]
  },
  {
   "attachments": {},
   "cell_type": "markdown",
   "metadata": {},
   "source": [
    "ROC Curve"
   ]
  },
  {
   "cell_type": "code",
   "execution_count": null,
   "metadata": {},
   "outputs": [
    {
     "data": {
      "image/png": "[encoded data removed]",
      "text/plain": [
       "<Figure size 432x288 with 1 Axes>"
      ]
     },
     "metadata": {},
     "output_type": "display_data"
    }
   ],
   "source": [
    "# Generate ROC curve values: fpr, tpr, thresholds\n",
    "fpr, tpr, thresholds = roc_curve(y_test, log_pred_probs)\n",
    "\n",
    "plt.plot([0, 1], [0, 1], 'k--')\n",
    "\n",
    "# Plot tpr against fpr\n",
    "plt.plot(fpr, tpr)\n",
    "plt.plot(fpr1, tpr1)\n",
    "plt.xlabel('False Positive Rate')\n",
    "plt.ylabel('True Positive Rate')\n",
    "plt.title('ROC Curve for Character Death Prediction')\n",
    "plt.legend(['KNeighborsClassifier', 'LogisticRegression', ])\n",
    "plt.show()"
   ]
  },
  {
   "cell_type": "code",
   "execution_count": null,
   "metadata": {},
   "outputs": [
    {
     "name": "stdout",
     "output_type": "stream",
     "text": [
      "0.7378787878787879\n",
      "[[58 41]\n",
      " [29 71]]\n",
      "              precision    recall  f1-score   support\n",
      "\n",
      "           0       0.67      0.59      0.62        99\n",
      "           1       0.63      0.71      0.67       100\n",
      "\n",
      "    accuracy                           0.65       199\n",
      "   macro avg       0.65      0.65      0.65       199\n",
      "weighted avg       0.65      0.65      0.65       199\n",
      "\n"
     ]
    }
   ],
   "source": [
    "# Calculate roc_auc_score\n",
    "print(roc_auc_score(y_test, log_pred_probs))\n",
    "\n",
    "# Calculate the confusion matrix\n",
    "print(confusion_matrix(y_test, logreg_pred))\n",
    "\n",
    "# Calculate the classification report\n",
    "print(classification_report(y_test, logreg_pred))"
   ]
  },
  {
   "cell_type": "code",
   "execution_count": null,
   "metadata": {},
   "outputs": [
    {
     "name": "stdout",
     "output_type": "stream",
     "text": [
      "0.7286432160804021\n",
      "[[68 31]\n",
      " [23 77]]\n",
      "              precision    recall  f1-score   support\n",
      "\n",
      "           0       0.75      0.69      0.72        99\n",
      "           1       0.71      0.77      0.74       100\n",
      "\n",
      "    accuracy                           0.73       199\n",
      "   macro avg       0.73      0.73      0.73       199\n",
      "weighted avg       0.73      0.73      0.73       199\n",
      "\n",
      "0.7514141414141414\n"
     ]
    }
   ],
   "source": [
    "rdfrst = RandomForestClassifier(random_state=5)\n",
    "\n",
    "# Fit the classifier to the training data\n",
    "rdfrst.fit(x_train, y_train)\n",
    "\n",
    "# Print the accuracy\n",
    "print(rdfrst.score(x_test, y_test))\n",
    "\n",
    "rdfrst_pred = rdfrst.predict(x_test)\n",
    "\n",
    "# Generate the confusion matrix and classification report\n",
    "print(confusion_matrix(y_test, rdfrst_pred))\n",
    "print(classification_report(y_test, rdfrst_pred))\n",
    "\n",
    "y_pred_probs = rdfrst.predict_proba(x_test)[:, 1]\n",
    "\n",
    "print(roc_auc_score(y_test, y_pred_probs))"
   ]
  },
  {
   "cell_type": "code",
   "execution_count": null,
   "metadata": {},
   "outputs": [
    {
     "name": "stdout",
     "output_type": "stream",
     "text": [
      "0.7437185929648241\n",
      "[[73 26]\n",
      " [25 75]]\n",
      "              precision    recall  f1-score   support\n",
      "\n",
      "           0       0.74      0.74      0.74        99\n",
      "           1       0.74      0.75      0.75       100\n",
      "\n",
      "    accuracy                           0.74       199\n",
      "   macro avg       0.74      0.74      0.74       199\n",
      "weighted avg       0.74      0.74      0.74       199\n",
      "\n",
      "0.7499999999999999\n"
     ]
    }
   ],
   "source": [
    "dectre = DecisionTreeClassifier(random_state=5)\n",
    "\n",
    "# Fit the classifier to the training data\n",
    "dectre.fit(x_train, y_train)\n",
    "\n",
    "# Print the accuracy\n",
    "print(dectre.score(x_test, y_test))\n",
    "\n",
    "dectre_pred = dectre.predict(x_test)\n",
    "\n",
    "# Generate the confusion matrix and classification report\n",
    "print(confusion_matrix(y_test, dectre_pred))\n",
    "print(classification_report(y_test, dectre_pred))\n",
    "\n",
    "y_pred_probs = dectre.predict_proba(x_test)[:, 1]\n",
    "\n",
    "print(roc_auc_score(y_test, y_pred_probs))"
   ]
  },
  {
   "cell_type": "code",
   "execution_count": null,
   "metadata": {},
   "outputs": [
    {
     "data": {
      "text/plain": [
       "array([[0.73737374, 0.26262626],\n",
       "       [0.25      , 0.75      ]])"
      ]
     },
     "execution_count": 59,
     "metadata": {},
     "output_type": "execute_result"
    }
   ],
   "source": [
    "cm1 = confusion_matrix(y_test, dectre_pred)\n",
    "cm = cm1.astype('float') / cm1.sum(axis = 1)[:, np.newaxis]\n",
    "cm"
   ]
  },
  {
   "cell_type": "code",
   "execution_count": null,
   "metadata": {},
   "outputs": [
    {
     "data": {
      "text/plain": [
       "[Text(0.5, 80.23200000000004, 'Predicted Class'),\n",
       " Text(124.29600000000002, 0.5, 'Actual Class')]"
      ]
     },
     "execution_count": 60,
     "metadata": {},
     "output_type": "execute_result"
    },
    {
     "data": {
      "image/png": "[encoded data removed]",
      "text/plain": [
       "<Figure size 432x288 with 2 Axes>"
      ]
     },
     "metadata": {},
     "output_type": "display_data"
    }
   ],
   "source": [
    "sb.heatmap(cm1, square = True, xticklabels = [\"Deceased\", \"Alive\"], annot = True,\n",
    "                    annot_kws = {\"fontsize\": 13}, yticklabels = [\"Deceased\", \"Alive\"],\n",
    "                    cbar = True, cbar_kws = {\"orientation\": \"horizontal\"}, cmap = \"Blues\").set(\n",
    "        xlabel = \"Predicted Class\", ylabel = \"Actual Class\",)"
   ]
  },
  {
   "cell_type": "code",
   "execution_count": null,
   "metadata": {},
   "outputs": [
    {
     "data": {
      "image/png": "[encoded data removed]",
      "text/plain": [
       "<Figure size 1080x576 with 3 Axes>"
      ]
     },
     "metadata": {},
     "output_type": "display_data"
    }
   ],
   "source": [
    "f, ax = plt.subplots(1, 2, figsize = (15, 8))\n",
    "f.suptitle(\"Normalized Confusion Matrices\", fontsize = 18.)\n",
    "def make_cm(p, t, axis):\n",
    "    cm = confusion_matrix(y_test, dectre_pred)\n",
    "    cm = cm.astype('float') / cm.sum(axis = 1)[:, np.newaxis]\n",
    "    _ = sb.heatmap(cm, square = True, xticklabels = [\"Deceased\", \"Alive\"], annot = True,\n",
    "                    annot_kws = {\"fontsize\": 13}, yticklabels = [\"Deceased\", \"Alive\"],\n",
    "                    cbar = True, cbar_kws = {\"orientation\": \"horizontal\"}, ax = ax[axis], cmap = \"Blues\").set(\n",
    "        xlabel = \"Predicted Class\", ylabel = \"Actual Class\", title = t)\n",
    "make_cm(y_pred_probs, \"XGB Classifier\", 0)\n",
    "# make_cm(preds_lr, \"Logistic Regression\", 1)"
   ]
  },
  {
   "cell_type": "code",
   "execution_count": null,
   "metadata": {},
   "outputs": [
    {
     "ename": "SyntaxError",
     "evalue": "cannot assign to function call (4147808215.py, line 1)",
     "output_type": "error",
     "traceback": [
      "\u001b[1;36m  Input \u001b[1;32mIn [62]\u001b[1;36m\u001b[0m\n\u001b[1;33m    _ = plt.figure(figsize = (8, 8)), plt.plot(*roc_curve(y_test, knn_pred_probs)), plt.plot(*roc_curve(y_test, log_pred_probs)), c = sb.color_palette()[1]), plt.legend([\"XGB Classifier\", \"Logistic Regression\"], loc = \"upper left\")\u001b[0m\n\u001b[1;37m        ^\u001b[0m\n\u001b[1;31mSyntaxError\u001b[0m\u001b[1;31m:\u001b[0m cannot assign to function call\n"
     ]
    }
   ],
   "source": [
    "_ = plt.figure(figsize = (8, 8)), plt.plot(*roc_curve(y_test, knn_pred_probs)), plt.plot(*roc_curve(y_test, log_pred_probs)), c = sb.color_palette()[1]), plt.legend([\"XGB Classifier\", \"Logistic Regression\"], loc = \"upper left\")\n",
    "_ = plt.plot((0., 1.), (0., 1.), \"--k\", alpha = .7), \n",
    "plt.xlabel(\"False Positive Rate\"), \n",
    "plt.ylabel(\"True Positive Rate\"), \n",
    "plt.title(\"ROC Curves\", fontsize = 16.)"
   ]
  },
  {
   "cell_type": "code",
   "execution_count": null,
   "metadata": {},
   "outputs": [],
   "source": []
  },
  {
   "cell_type": "code",
   "execution_count": null,
   "metadata": {},
   "outputs": [],
   "source": []
  },
  {
   "cell_type": "code",
   "execution_count": null,
   "metadata": {},
   "outputs": [
    {
     "name": "stdout",
     "output_type": "stream",
     "text": [
      "0.6588628762541806\n",
      "[[108  47]\n",
      " [ 55  89]]\n",
      "0.6723535457348406 \n",
      " {'logreg__C': 0.05357894736842105}\n"
     ]
    }
   ],
   "source": [
    "X = und_samp_df.drop(\"isAlive\", axis=1).values\n",
    "y = und_samp_df[\"isAlive\"].values\n",
    "\n",
    "X_train, X_test, y_train, y_test = train_test_split(X, y, test_size=0.3, random_state=42)\n",
    "# Import StandardScaler\n",
    "from sklearn.preprocessing import StandardScaler\n",
    "\n",
    "# Create pipeline steps\n",
    "steps = [(\"scaler\", StandardScaler()),\n",
    "         (\"logreg\", LogisticRegression())]\n",
    "\n",
    "# Create the parameter space\n",
    "parameters = {\"logreg__C\": np.linspace(0.001, 1.0, 20)}\n",
    "\n",
    "# Instantiate the pipeline\n",
    "pipeline = Pipeline(steps)\n",
    "pipeline.fit(X_train, y_train)\n",
    "\n",
    "# Make predictions on the test set\n",
    "y_pred = pipeline.predict(X_test)\n",
    "\n",
    "# Calculate and print R-squared\n",
    "print(pipeline.score(X_test, y_test))\n",
    "\n",
    "# Print the confusion matrix\n",
    "print(confusion_matrix(y_test, y_pred))\n",
    "\n",
    "# Instantiate the grid search object\n",
    "cv = GridSearchCV(pipeline, param_grid=parameters, scoring='accuracy')\n",
    "\n",
    "# Fit to the training data\n",
    "cv.fit(X_train, y_train)\n",
    "print(cv.best_score_, \"\\n\", cv.best_params_)"
   ]
  },
  {
   "cell_type": "code",
   "execution_count": null,
   "metadata": {},
   "outputs": [
    {
     "name": "stdout",
     "output_type": "stream",
     "text": [
      "0.6889632107023411\n",
      "[[108  47]\n",
      " [ 46  98]]\n",
      "0.7054881808838643 \n",
      " {'knn__n_neighbors': 8}\n"
     ]
    },
    {
     "name": "stderr",
     "output_type": "stream",
     "text": [
      "c:\\Users\\okoro\\anaconda3\\lib\\site-packages\\sklearn\\model_selection\\_validation.py:372: FitFailedWarning: \n",
      "5 fits failed out of a total of 50.\n",
      "The score on these train-test partitions for these parameters will be set to nan.\n",
      "If these failures are not expected, you can try to debug them by setting error_score='raise'.\n",
      "\n",
      "Below are more details about the failures:\n",
      "--------------------------------------------------------------------------------\n",
      "5 fits failed with the following error:\n",
      "Traceback (most recent call last):\n",
      "  File \"c:\\Users\\okoro\\anaconda3\\lib\\site-packages\\sklearn\\model_selection\\_validation.py\", line 680, in _fit_and_score\n",
      "    estimator.fit(X_train, y_train, **fit_params)\n",
      "  File \"c:\\Users\\okoro\\anaconda3\\lib\\site-packages\\sklearn\\pipeline.py\", line 394, in fit\n",
      "    self._final_estimator.fit(Xt, y, **fit_params_last_step)\n",
      "  File \"c:\\Users\\okoro\\anaconda3\\lib\\site-packages\\sklearn\\neighbors\\_classification.py\", line 198, in fit\n",
      "    return self._fit(X, y)\n",
      "  File \"c:\\Users\\okoro\\anaconda3\\lib\\site-packages\\sklearn\\neighbors\\_base.py\", line 569, in _fit\n",
      "    raise ValueError(\"Expected n_neighbors > 0. Got %d\" % self.n_neighbors)\n",
      "ValueError: Expected n_neighbors > 0. Got 0\n",
      "\n",
      "  warnings.warn(some_fits_failed_message, FitFailedWarning)\n",
      "c:\\Users\\okoro\\anaconda3\\lib\\site-packages\\sklearn\\model_selection\\_search.py:969: UserWarning: One or more of the test scores are non-finite: [       nan 0.63796506 0.62789311 0.66959918 0.65231244 0.6753443\n",
      " 0.6695889  0.68682425 0.70548818 0.6925591 ]\n",
      "  warnings.warn(\n"
     ]
    }
   ],
   "source": [
    "X = und_samp_df.drop(\"isAlive\", axis=1).values\n",
    "y = und_samp_df[\"isAlive\"].values\n",
    "\n",
    "X_train, X_test, y_train, y_test = train_test_split(X, y, test_size=0.3, random_state=42)\n",
    "# Import StandardScaler\n",
    "from sklearn.preprocessing import StandardScaler\n",
    "\n",
    "# Create pipeline steps\n",
    "steps = [(\"scaler\", StandardScaler()),\n",
    "         (\"knn\", KNeighborsClassifier())]\n",
    "\n",
    "# Create the parameter space\n",
    "parameters = {\"knn__n_neighbors\": np.arange(10)}\n",
    "\n",
    "# Instantiate the pipeline\n",
    "pipeline = Pipeline(steps)\n",
    "pipeline.fit(X_train, y_train)\n",
    "\n",
    "# Make predictions on the test set\n",
    "y_pred = pipeline.predict(X_test)\n",
    "\n",
    "# Calculate and print R-squared\n",
    "print(pipeline.score(X_test, y_test))\n",
    "\n",
    "# Print the confusion matrix\n",
    "print(confusion_matrix(y_test, y_pred))\n",
    "\n",
    "# Instantiate the grid search object\n",
    "cv = GridSearchCV(pipeline, param_grid=parameters)\n",
    "\n",
    "# Fit to the training data\n",
    "cv.fit(X_train, y_train)\n",
    "print(cv.best_score_, \"\\n\", cv.best_params_)"
   ]
  },
  {
   "cell_type": "code",
   "execution_count": null,
   "metadata": {},
   "outputs": [
    {
     "name": "stdout",
     "output_type": "stream",
     "text": [
      "0.6889632107023411\n",
      "[[104  51]\n",
      " [ 42 102]]\n"
     ]
    }
   ],
   "source": [
    "X = und_samp_df.drop(\"isAlive\", axis=1).values\n",
    "y = und_samp_df[\"isAlive\"].values\n",
    "\n",
    "X_train, X_test, y_train, y_test = train_test_split(X, y, test_size=0.3, random_state=42)\n",
    "# Import StandardScaler\n",
    "from sklearn.preprocessing import StandardScaler\n",
    "\n",
    "# Create pipeline steps\n",
    "steps = [(\"scaler\", StandardScaler()),\n",
    "         (\"rdfrst\", RandomForestClassifier())]\n",
    "\n",
    "# Create the parameter space\n",
    "# parameters = {\"knn__n_neighbors\": np.arange(10)}\n",
    "\n",
    "# Instantiate the pipeline\n",
    "pipeline = Pipeline(steps)\n",
    "pipeline.fit(X_train, y_train)\n",
    "\n",
    "# Make predictions on the test set\n",
    "y_pred = pipeline.predict(X_test)\n",
    "\n",
    "# Calculate and print R-squared\n",
    "print(pipeline.score(X_test, y_test))\n",
    "\n",
    "# Print the confusion matrix\n",
    "print(confusion_matrix(y_test, y_pred))\n",
    "\n",
    "# Instantiate the grid search object\n",
    "# cv = GridSearchCV(pipeline, param_grid=parameters)\n",
    "\n",
    "# # Fit to the training data\n",
    "# cv.fit(X_train, y_train)\n",
    "# print(cv.best_score_, \"\\n\", cv.best_params_)"
   ]
  },
  {
   "cell_type": "code",
   "execution_count": null,
   "metadata": {},
   "outputs": [],
   "source": []
  },
  {
   "cell_type": "code",
   "execution_count": null,
   "metadata": {},
   "outputs": [],
   "source": []
  },
  {
   "cell_type": "code",
   "execution_count": null,
   "metadata": {},
   "outputs": [
    {
     "data": {
      "text/plain": [
       "0.8935389133627019"
      ]
     },
     "execution_count": 45,
     "metadata": {},
     "output_type": "execute_result"
    }
   ],
   "source": [
    "data1 = de.copy()\n",
    "train1 = data1[:1362]\n",
    "test1 = data1[1362:]\n",
    "\n",
    "features = train1.columns.tolist()\n",
    "features.remove('isAlive')\n",
    "\n",
    "rdf = RandomForestClassifier(random_state=42)\n",
    "rdf.fit(train1[features], train1['isAlive'])\n",
    "predrdf = rdf.predict(test1[features])\n",
    "rdf.score(train1[features], train1['isAlive'])"
   ]
  },
  {
   "cell_type": "code",
   "execution_count": null,
   "metadata": {},
   "outputs": [
    {
     "data": {
      "text/plain": [
       "0.9016152716593245"
      ]
     },
     "execution_count": 46,
     "metadata": {},
     "output_type": "execute_result"
    }
   ],
   "source": [
    "data1 = new.copy()\n",
    "train1 = data1[:1362]\n",
    "test1 = data1[1362:]\n",
    "\n",
    "features = train1.columns.tolist()\n",
    "features.remove('isAlive')\n",
    "\n",
    "rdf = RandomForestClassifier(random_state=42)\n",
    "rdf.fit(train1[features], train1['isAlive'])\n",
    "predrdf = rdf.predict(test1[features])\n",
    "rdf.score(train1[features], train1['isAlive'])"
   ]
  },
  {
   "cell_type": "code",
   "execution_count": null,
   "metadata": {},
   "outputs": [
    {
     "data": {
      "text/plain": [
       "0.702054794520548"
      ]
     },
     "execution_count": 47,
     "metadata": {},
     "output_type": "execute_result"
    }
   ],
   "source": [
    "rdf.score(test1[features], test1['isAlive'])"
   ]
  },
  {
   "cell_type": "code",
   "execution_count": null,
   "metadata": {},
   "outputs": [
    {
     "data": {
      "text/plain": [
       "0.9016152716593245"
      ]
     },
     "execution_count": 48,
     "metadata": {},
     "output_type": "execute_result"
    }
   ],
   "source": [
    "data1 = new.copy()\n",
    "train1 = data1[:1362]\n",
    "test1 = data1[1362:]\n",
    "\n",
    "features = train1.columns.tolist()\n",
    "features.remove('isAlive')\n",
    "\n",
    "dt = DecisionTreeClassifier(random_state=42)\n",
    "dt.fit(train1[features], train1['isAlive'])\n",
    "pred_dt = dt.predict(test1[features])\n",
    "dt.score(train1[features], train1['isAlive'])"
   ]
  },
  {
   "cell_type": "code",
   "execution_count": null,
   "metadata": {},
   "outputs": [
    {
     "data": {
      "text/plain": [
       "0.6815068493150684"
      ]
     },
     "execution_count": 49,
     "metadata": {},
     "output_type": "execute_result"
    }
   ],
   "source": [
    "dt.score(test1[features], test1['isAlive'])"
   ]
  },
  {
   "cell_type": "code",
   "execution_count": null,
   "metadata": {},
   "outputs": [
    {
     "data": {
      "text/plain": [
       "array([0, 1, 1, ..., 1, 1, 0], dtype=int64)"
      ]
     },
     "execution_count": 50,
     "metadata": {},
     "output_type": "execute_result"
    }
   ],
   "source": [
    "# Separate our labels from our features\n",
    "x = new[new.columns.drop('isAlive')].values\n",
    "\n",
    "y = new['isAlive'].values\n",
    "y\n"
   ]
  },
  {
   "cell_type": "code",
   "execution_count": null,
   "metadata": {},
   "outputs": [],
   "source": [
    "seed = 42\n",
    "np.random.seed(seed)"
   ]
  },
  {
   "cell_type": "code",
   "execution_count": null,
   "metadata": {},
   "outputs": [],
   "source": [
    "# Split data into 5 equal groups for validation\n",
    "kfold = KFold(n_splits=5, shuffle=True, random_state=seed)"
   ]
  },
  {
   "cell_type": "code",
   "execution_count": null,
   "metadata": {},
   "outputs": [],
   "source": [
    "# Let's build different models to train with our data\n",
    "models = [LogisticRegression(max_iter=500, solver='liblinear'), RandomForestClassifier(n_estimators=400, random_state=seed), \n",
    "          DecisionTreeClassifier(random_state=seed), KNeighborsClassifier(n_neighbors=5)]"
   ]
  },
  {
   "cell_type": "code",
   "execution_count": null,
   "metadata": {},
   "outputs": [],
   "source": [
    "# Validate each model using K-fold cross validation\n",
    "mean=[]\n",
    "std=[]\n",
    "for model in models:\n",
    "    result = cross_val_score(model, x, y, cv=kfold, scoring=\"accuracy\", n_jobs=-1)\n",
    "    mean.append(result)"
   ]
  },
  {
   "cell_type": "code",
   "execution_count": null,
   "metadata": {},
   "outputs": [
    {
     "data": {
      "image/png": "[encoded data removed]",
      "text/plain": [
       "<Figure size 720x720 with 1 Axes>"
      ]
     },
     "metadata": {},
     "output_type": "display_data"
    }
   ],
   "source": [
    "classifiers=['Logistic Regression', 'Random Forest', 'Decision Tree', 'SVM', 'KNN']\n",
    "\n",
    "plt.figure(figsize=(10, 10))\n",
    "for x in range(len(mean)):\n",
    "    sb.kdeplot(mean[x], shade=True)\n",
    "    \n",
    "plt.title(\"Distribution of each classifier's Accuracy\", fontsize=15)\n",
    "plt.legend(classifiers)\n",
    "plt.xlabel(\"Accuracy\", labelpad=20)\n",
    "plt.yticks([])\n",
    "\n",
    "plt.show()"
   ]
  }
 ],
 "metadata": {
  "kernelspec": {
   "display_name": "base",
   "language": "python",
   "name": "python3"
  },
  "language_info": {
   "codemirror_mode": {
    "name": "ipython",
    "version": 3
   },
   "file_extension": ".py",
   "mimetype": "text/x-python",
   "name": "python",
   "nbconvert_exporter": "python",
   "pygments_lexer": "ipython3",
   "version": "3.9.12"
  },
  "orig_nbformat": 4,
  "vscode": {
   "interpreter": {
    "hash": "b68a3c467d07aa8b20c71071b0b7606f948be72d30c76b97a14d11803ebfb6c4"
   }
  }
 },
 "nbformat": 4,
 "nbformat_minor": 2
}
